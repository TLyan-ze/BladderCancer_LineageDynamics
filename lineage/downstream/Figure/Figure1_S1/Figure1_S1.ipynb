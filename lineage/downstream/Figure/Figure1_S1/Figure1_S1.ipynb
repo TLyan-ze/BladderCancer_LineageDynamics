{
 "cells": [
  {
   "cell_type": "markdown",
   "metadata": {},
   "source": [
    "# Figure 1 & S1\n",
    "\n",
    "This notebook provides code for reproducing Figures 1 and S1 from Yang\\*, Jones\\* et al, _bioRxiv_ 2021."
   ]
  },
  {
   "cell_type": "code",
   "execution_count": 2,
   "metadata": {},
   "outputs": [],
   "source": [
    "import os\n",
    "import sys\n",
    "\n",
    "import matplotlib as mpl\n",
    "import matplotlib.pyplot as plt \n",
    "import numpy as np\n",
    "import pandas as pd \n",
    "import seaborn as sns\n",
    "#\n",
    "# \n",
    "#from cassiopeia.TreeSolver.Node import Node\n",
    "#sys.path.append(\"/WorkDir4/yanzeqin/220823_A00403_0863_AHMNGLDSX3/Script/KPTracer-release-main/cassiopeia-kp/cassiopeia\") \n",
    "\n",
    "sys.path.append(\"/WorkDir4/yanzeqin/220823_A00403_0863_AHMNGLDSX3/Script/KPTracer-release-main/cassiopeia-kp/cassiopeia/ProcessingPipeline/process\")\n",
    "sys.path.append(\"/WorkDir4/yanzeqin/soft/Cassiopeia/cassiopeia/preprocess\")\n",
    "sys.path.append(\"/WorkDir4/yanzeqin/soft/Cassiopeia\")\n",
    "#import cassiopeia.preprocess.lineage_utils as lg_util\n",
    "sys.path.append(\"/WorkDir4/yanzeqin/220823_A00403_0863_AHMNGLDSX3/Script/KPTracer-release-main/cassiopeia-kp\")\n",
    "#import cassiopeia.ProcessingPipeline.process.lineageGroup as lg_util\n",
    "\n",
    "\n",
    "from tqdm import tqdm_notebook"
   ]
  },
  {
   "cell_type": "code",
   "execution_count": 3,
   "metadata": {},
   "outputs": [],
   "source": [
    "\n",
    "sys.path.append(\"/WorkDir4/yanzeqin/220823_A00403_0863_AHMNGLDSX3/Script/KPTracer-release-main/cassiopeia-kp/\")\n",
    "import cassiopeia.TreeSolver.utilities as util"
   ]
  },
  {
   "cell_type": "code",
   "execution_count": 4,
   "metadata": {},
   "outputs": [],
   "source": [
    "sys.path.append(\"/WorkDir4/yanzeqin/220823_A00403_0863_AHMNGLDSX3/Script/KPTracer-release-main/cassiopeia-kp\")\n",
    "import cassiopeia.ProcessingPipeline.process.lineageGroup as lg_util"
   ]
  },
  {
   "cell_type": "markdown",
   "metadata": {},
   "source": [
    "## Process unfiltered allele table & identify consensus intBCs\n",
    "\n",
    "Here we will demonstrate how to convert allele tables into character matrices, filter out \"normal\" cells identified from a lack of Cas9 activity, and subset the full set of intBCs to a small \"consensus\" set observed consistently across tumors from the same clone."
   ]
  },
  {
   "cell_type": "code",
   "execution_count": 5,
   "metadata": {},
   "outputs": [],
   "source": [
    "# 获取当前脚本所在目录\n",
    "script_dir = os.path.dirname(os.path.abspath(__file__))\n",
    "\n",
    "# 将当前工作目录设置为脚本所在目录\n",
    "os.chdir(script_dir)\n",
    "\n",
    "data_directory = script_dir\n",
    "data_directory = \"/WorkDir4/yanzeqin/220823_A00403_0863_AHMNGLDSX3/Script/AP-data/\""
   ]
  },
  {
   "cell_type": "code",
   "execution_count": 6,
   "metadata": {},
   "outputs": [],
   "source": [
    "allele_table_unfiltered = pd.read_csv(f\"{data_directory}/allele/AP.alleleTable.unfiltered.txt2\", sep='\\t')\n",
    "trcr_master = pd.read_csv(f\"{data_directory}/allele/trce.txt\", sep='\\t')\n",
    "meta = pd.read_csv(f\"{data_directory}/allele/mete.csv\", sep=',', index_col = 0)\n",
    "tumor_list = pd.read_csv(f\"{data_directory}/allele/tumor_list.txt\", sep='\\t')\n",
    "meta.index.name = None"
   ]
  },
  {
   "cell_type": "code",
   "execution_count": 7,
   "metadata": {},
   "outputs": [
    {
     "data": {
      "text/html": [
       "<div>\n",
       "<style scoped>\n",
       "    .dataframe tbody tr th:only-of-type {\n",
       "        vertical-align: middle;\n",
       "    }\n",
       "\n",
       "    .dataframe tbody tr th {\n",
       "        vertical-align: top;\n",
       "    }\n",
       "\n",
       "    .dataframe thead th {\n",
       "        text-align: right;\n",
       "    }\n",
       "</style>\n",
       "<table border=\"1\" class=\"dataframe\">\n",
       "  <thead>\n",
       "    <tr style=\"text-align: right;\">\n",
       "      <th></th>\n",
       "      <th>Tumor</th>\n",
       "      <th>sampleID</th>\n",
       "      <th>cellBC</th>\n",
       "      <th>intBC</th>\n",
       "      <th>allele</th>\n",
       "      <th>r1</th>\n",
       "      <th>r2</th>\n",
       "      <th>r3</th>\n",
       "      <th>lineageGrp</th>\n",
       "      <th>UMI</th>\n",
       "      <th>readCount</th>\n",
       "      <th>Cell_Clone</th>\n",
       "    </tr>\n",
       "  </thead>\n",
       "  <tbody>\n",
       "    <tr>\n",
       "      <th>0</th>\n",
       "      <td>CTR_MGH_0</td>\n",
       "      <td>CTR_MGH</td>\n",
       "      <td>CTR_MGH.CGGAATTAGTCATCGT</td>\n",
       "      <td>GTCAAGATAGGCCA</td>\n",
       "      <td>CCGAA[None]AAATGGATAT[None]CTCTGATTCG[None]CGGAG</td>\n",
       "      <td>CCGAA[None]AAATG</td>\n",
       "      <td>GATAT[None]CTCTG</td>\n",
       "      <td>ATTCG[None]CGGAG</td>\n",
       "      <td>0</td>\n",
       "      <td>4</td>\n",
       "      <td>1961</td>\n",
       "      <td>C1</td>\n",
       "    </tr>\n",
       "    <tr>\n",
       "      <th>1</th>\n",
       "      <td>CTR_MGH_0</td>\n",
       "      <td>CTR_MGH</td>\n",
       "      <td>CTR_MGH.GACGCTGAGCGCCTAC</td>\n",
       "      <td>ATGCACAGTGCTCA</td>\n",
       "      <td>CCGAA[None]AAATGGATAT[None]CTCTGATTCG[None]CGGAG</td>\n",
       "      <td>CCGAA[None]AAATG</td>\n",
       "      <td>GATAT[None]CTCTG</td>\n",
       "      <td>ATTCG[None]CGGAG</td>\n",
       "      <td>0</td>\n",
       "      <td>1</td>\n",
       "      <td>361</td>\n",
       "      <td>C1</td>\n",
       "    </tr>\n",
       "    <tr>\n",
       "      <th>2</th>\n",
       "      <td>CTR_MGH_0</td>\n",
       "      <td>CTR_MGH</td>\n",
       "      <td>CTR_MGH.TGCAGATGTGTCATGT</td>\n",
       "      <td>GCGTGCCTTCATTT</td>\n",
       "      <td>CCGAA[None]AAATGGATAT[None]CTCTGATTCG[None]CGGAG</td>\n",
       "      <td>CCGAA[None]AAATG</td>\n",
       "      <td>GATAT[None]CTCTG</td>\n",
       "      <td>ATTCG[None]CGGAG</td>\n",
       "      <td>0</td>\n",
       "      <td>1</td>\n",
       "      <td>488</td>\n",
       "      <td>C1</td>\n",
       "    </tr>\n",
       "    <tr>\n",
       "      <th>3</th>\n",
       "      <td>CTR_MGH_0</td>\n",
       "      <td>CTR_MGH</td>\n",
       "      <td>CTR_MGH.AACCTGATCTAGGCCG</td>\n",
       "      <td>ATTAGTGCCTCGAA</td>\n",
       "      <td>CCGAA[None]AAATGGATAT[None]GACATATTCG[None]CGGAG</td>\n",
       "      <td>CCGAA[None]AAATG</td>\n",
       "      <td>GATAT[None]GACAT</td>\n",
       "      <td>ATTCG[None]CGGAG</td>\n",
       "      <td>0</td>\n",
       "      <td>4</td>\n",
       "      <td>1322</td>\n",
       "      <td>C1</td>\n",
       "    </tr>\n",
       "    <tr>\n",
       "      <th>4</th>\n",
       "      <td>CTR_MGH_0</td>\n",
       "      <td>CTR_MGH</td>\n",
       "      <td>CTR_MGH.CGGAATTAGTCATCGT</td>\n",
       "      <td>GCTTGTTCATGTGT</td>\n",
       "      <td>CCGAA[None]AAATGGATAT[None]CTCTGATTCG[None]CGGAG</td>\n",
       "      <td>CCGAA[None]AAATG</td>\n",
       "      <td>GATAT[None]CTCTG</td>\n",
       "      <td>ATTCG[None]CGGAG</td>\n",
       "      <td>0</td>\n",
       "      <td>5</td>\n",
       "      <td>2157</td>\n",
       "      <td>C1</td>\n",
       "    </tr>\n",
       "    <tr>\n",
       "      <th>...</th>\n",
       "      <td>...</td>\n",
       "      <td>...</td>\n",
       "      <td>...</td>\n",
       "      <td>...</td>\n",
       "      <td>...</td>\n",
       "      <td>...</td>\n",
       "      <td>...</td>\n",
       "      <td>...</td>\n",
       "      <td>...</td>\n",
       "      <td>...</td>\n",
       "      <td>...</td>\n",
       "      <td>...</td>\n",
       "    </tr>\n",
       "    <tr>\n",
       "      <th>236512</th>\n",
       "      <td>NMI_MGH_6</td>\n",
       "      <td>NMI_MGH</td>\n",
       "      <td>NMI_MGH.GATTCGACAATACCTG</td>\n",
       "      <td>CTGTAGGATTTTCG</td>\n",
       "      <td>CCGAA[None]AAATGGATAT[None]CTCTGATTCG[None]CGGAG</td>\n",
       "      <td>CCGAA[None]AAATG</td>\n",
       "      <td>GATAT[None]CTCTG</td>\n",
       "      <td>ATTCG[None]CGGAG</td>\n",
       "      <td>6</td>\n",
       "      <td>1</td>\n",
       "      <td>446</td>\n",
       "      <td>C1</td>\n",
       "    </tr>\n",
       "    <tr>\n",
       "      <th>236513</th>\n",
       "      <td>NMI_MGH_6</td>\n",
       "      <td>NMI_MGH</td>\n",
       "      <td>NMI_MGH.CACAACAGTTAGGGTG</td>\n",
       "      <td>GTCTGCGGAGCCCC</td>\n",
       "      <td>CCGAA[None]AAATGGATAT[None]CTCTGATTCG[None]CGGAG</td>\n",
       "      <td>CCGAA[None]AAATG</td>\n",
       "      <td>GATAT[None]CTCTG</td>\n",
       "      <td>ATTCG[None]CGGAG</td>\n",
       "      <td>6</td>\n",
       "      <td>18</td>\n",
       "      <td>6500</td>\n",
       "      <td>C1</td>\n",
       "    </tr>\n",
       "    <tr>\n",
       "      <th>236514</th>\n",
       "      <td>NMI_MGH_6</td>\n",
       "      <td>NMI_MGH</td>\n",
       "      <td>NMI_MGH.GATGAGGCAAGTATAG</td>\n",
       "      <td>ACGAAGGTAATAAC</td>\n",
       "      <td>CCGAA[None]AAATGGATAT[168:5D]GTTCAATTCG[None]C...</td>\n",
       "      <td>CCGAA[None]AAATG</td>\n",
       "      <td>GATAT[168:5D]GTTCA</td>\n",
       "      <td>ATTCG[None]CGGAG</td>\n",
       "      <td>6</td>\n",
       "      <td>3</td>\n",
       "      <td>1362</td>\n",
       "      <td>C1</td>\n",
       "    </tr>\n",
       "    <tr>\n",
       "      <th>236515</th>\n",
       "      <td>NMI_MGH_6</td>\n",
       "      <td>NMI_MGH</td>\n",
       "      <td>NMI_MGH.CACAACAGTTAGGGTG</td>\n",
       "      <td>GGATCCATTCAACT</td>\n",
       "      <td>CCGAA[None]AAATGGATAT[None]CTCTGATTCG[None]CGGAG</td>\n",
       "      <td>CCGAA[None]AAATG</td>\n",
       "      <td>GATAT[None]CTCTG</td>\n",
       "      <td>ATTCG[None]CGGAG</td>\n",
       "      <td>6</td>\n",
       "      <td>22</td>\n",
       "      <td>8765</td>\n",
       "      <td>C1</td>\n",
       "    </tr>\n",
       "    <tr>\n",
       "      <th>236516</th>\n",
       "      <td>NMI_MGH_6</td>\n",
       "      <td>NMI_MGH</td>\n",
       "      <td>NMI_MGH.CTATCCGCAAGGTCTT</td>\n",
       "      <td>ACGAAGGTAATAAC</td>\n",
       "      <td>CCGAA[None]AAATGGATAT[168:5D]GTTCAATTCG[None]C...</td>\n",
       "      <td>CCGAA[None]AAATG</td>\n",
       "      <td>GATAT[168:5D]GTTCA</td>\n",
       "      <td>ATTCG[None]CGGAG</td>\n",
       "      <td>6</td>\n",
       "      <td>4</td>\n",
       "      <td>1470</td>\n",
       "      <td>C1</td>\n",
       "    </tr>\n",
       "  </tbody>\n",
       "</table>\n",
       "<p>236517 rows × 12 columns</p>\n",
       "</div>"
      ],
      "text/plain": [
       "            Tumor sampleID                    cellBC           intBC  \\\n",
       "0       CTR_MGH_0  CTR_MGH  CTR_MGH.CGGAATTAGTCATCGT  GTCAAGATAGGCCA   \n",
       "1       CTR_MGH_0  CTR_MGH  CTR_MGH.GACGCTGAGCGCCTAC  ATGCACAGTGCTCA   \n",
       "2       CTR_MGH_0  CTR_MGH  CTR_MGH.TGCAGATGTGTCATGT  GCGTGCCTTCATTT   \n",
       "3       CTR_MGH_0  CTR_MGH  CTR_MGH.AACCTGATCTAGGCCG  ATTAGTGCCTCGAA   \n",
       "4       CTR_MGH_0  CTR_MGH  CTR_MGH.CGGAATTAGTCATCGT  GCTTGTTCATGTGT   \n",
       "...           ...      ...                       ...             ...   \n",
       "236512  NMI_MGH_6  NMI_MGH  NMI_MGH.GATTCGACAATACCTG  CTGTAGGATTTTCG   \n",
       "236513  NMI_MGH_6  NMI_MGH  NMI_MGH.CACAACAGTTAGGGTG  GTCTGCGGAGCCCC   \n",
       "236514  NMI_MGH_6  NMI_MGH  NMI_MGH.GATGAGGCAAGTATAG  ACGAAGGTAATAAC   \n",
       "236515  NMI_MGH_6  NMI_MGH  NMI_MGH.CACAACAGTTAGGGTG  GGATCCATTCAACT   \n",
       "236516  NMI_MGH_6  NMI_MGH  NMI_MGH.CTATCCGCAAGGTCTT  ACGAAGGTAATAAC   \n",
       "\n",
       "                                                   allele                r1  \\\n",
       "0        CCGAA[None]AAATGGATAT[None]CTCTGATTCG[None]CGGAG  CCGAA[None]AAATG   \n",
       "1        CCGAA[None]AAATGGATAT[None]CTCTGATTCG[None]CGGAG  CCGAA[None]AAATG   \n",
       "2        CCGAA[None]AAATGGATAT[None]CTCTGATTCG[None]CGGAG  CCGAA[None]AAATG   \n",
       "3        CCGAA[None]AAATGGATAT[None]GACATATTCG[None]CGGAG  CCGAA[None]AAATG   \n",
       "4        CCGAA[None]AAATGGATAT[None]CTCTGATTCG[None]CGGAG  CCGAA[None]AAATG   \n",
       "...                                                   ...               ...   \n",
       "236512   CCGAA[None]AAATGGATAT[None]CTCTGATTCG[None]CGGAG  CCGAA[None]AAATG   \n",
       "236513   CCGAA[None]AAATGGATAT[None]CTCTGATTCG[None]CGGAG  CCGAA[None]AAATG   \n",
       "236514  CCGAA[None]AAATGGATAT[168:5D]GTTCAATTCG[None]C...  CCGAA[None]AAATG   \n",
       "236515   CCGAA[None]AAATGGATAT[None]CTCTGATTCG[None]CGGAG  CCGAA[None]AAATG   \n",
       "236516  CCGAA[None]AAATGGATAT[168:5D]GTTCAATTCG[None]C...  CCGAA[None]AAATG   \n",
       "\n",
       "                        r2                r3  lineageGrp  UMI  readCount  \\\n",
       "0         GATAT[None]CTCTG  ATTCG[None]CGGAG           0    4       1961   \n",
       "1         GATAT[None]CTCTG  ATTCG[None]CGGAG           0    1        361   \n",
       "2         GATAT[None]CTCTG  ATTCG[None]CGGAG           0    1        488   \n",
       "3         GATAT[None]GACAT  ATTCG[None]CGGAG           0    4       1322   \n",
       "4         GATAT[None]CTCTG  ATTCG[None]CGGAG           0    5       2157   \n",
       "...                    ...               ...         ...  ...        ...   \n",
       "236512    GATAT[None]CTCTG  ATTCG[None]CGGAG           6    1        446   \n",
       "236513    GATAT[None]CTCTG  ATTCG[None]CGGAG           6   18       6500   \n",
       "236514  GATAT[168:5D]GTTCA  ATTCG[None]CGGAG           6    3       1362   \n",
       "236515    GATAT[None]CTCTG  ATTCG[None]CGGAG           6   22       8765   \n",
       "236516  GATAT[168:5D]GTTCA  ATTCG[None]CGGAG           6    4       1470   \n",
       "\n",
       "       Cell_Clone  \n",
       "0              C1  \n",
       "1              C1  \n",
       "2              C1  \n",
       "3              C1  \n",
       "4              C1  \n",
       "...           ...  \n",
       "236512         C1  \n",
       "236513         C1  \n",
       "236514         C1  \n",
       "236515         C1  \n",
       "236516         C1  \n",
       "\n",
       "[236517 rows x 12 columns]"
      ]
     },
     "execution_count": 7,
     "metadata": {},
     "output_type": "execute_result"
    }
   ],
   "source": [
    "allele_table_unfiltered"
   ]
  },
  {
   "cell_type": "code",
   "execution_count": 8,
   "metadata": {},
   "outputs": [],
   "source": [
    "def compute_perc_indels(cm):\n",
    "\n",
    "    all_vals = cm.values.ravel()\n",
    "    num_not_missing = len([n for n in all_vals if n != '-'])\n",
    "    num_uncut = len([n for n in all_vals if n == '0'])\n",
    "\n",
    "    return 1.0 - (num_uncut / num_not_missing)\n",
    "\n",
    "def percent_uncut(x):\n",
    "    uncut = 0\n",
    "    for i in x:\n",
    "        if i == '0':\n",
    "            uncut += 1\n",
    "    return uncut / max(1, len([i for i in x if i != '-']))\n",
    "\n",
    "def drop_exhausted_targets(cm, p = 0.98):\n",
    "    \n",
    "    to_drop = []\n",
    "    for col in cm.columns:\n",
    "        states = cm[col].values\n",
    "        uniq_vals = [val for val in states if val != '0' and val != '-']\n",
    "        total_nonmissing = len([val for val in states if val != '-'])\n",
    "        \n",
    "        unique, counts = np.unique(uniq_vals, return_counts=True)\n",
    "        \n",
    "        counts = np.array(counts) / total_nonmissing\n",
    "        \n",
    "        if np.max(counts) >= p:\n",
    "            to_drop.append(col)\n",
    "            \n",
    "    return to_drop"
   ]
  },
  {
   "cell_type": "code",
   "execution_count": null,
   "metadata": {},
   "outputs": [],
   "source": []
  },
  {
   "cell_type": "code",
   "execution_count": 9,
   "metadata": {},
   "outputs": [
    {
     "data": {
      "text/html": [
       "<div>\n",
       "<style scoped>\n",
       "    .dataframe tbody tr th:only-of-type {\n",
       "        vertical-align: middle;\n",
       "    }\n",
       "\n",
       "    .dataframe tbody tr th {\n",
       "        vertical-align: top;\n",
       "    }\n",
       "\n",
       "    .dataframe thead th {\n",
       "        text-align: right;\n",
       "    }\n",
       "</style>\n",
       "<table border=\"1\" class=\"dataframe\">\n",
       "  <thead>\n",
       "    <tr style=\"text-align: right;\">\n",
       "      <th></th>\n",
       "      <th>X10x_Lane</th>\n",
       "      <th>Tumor</th>\n",
       "      <th>Cell_Clone</th>\n",
       "      <th>Genotype</th>\n",
       "      <th>MouseID</th>\n",
       "      <th>Aging_Month</th>\n",
       "      <th>Batch_Library</th>\n",
       "      <th>Batch_Harvest</th>\n",
       "      <th>Aging_day</th>\n",
       "    </tr>\n",
       "  </thead>\n",
       "  <tbody>\n",
       "    <tr>\n",
       "      <th>CTR_MGH.TGGAACTGTATGCGTT</th>\n",
       "      <td>L2</td>\n",
       "      <td>CTR_MGH_0</td>\n",
       "      <td>C1</td>\n",
       "      <td>NMIBC</td>\n",
       "      <td>M-3</td>\n",
       "      <td>2</td>\n",
       "      <td>NaN</td>\n",
       "      <td>NaN</td>\n",
       "      <td>60</td>\n",
       "    </tr>\n",
       "    <tr>\n",
       "      <th>CTR_MGH.GATGGAGCAAGCAGGT</th>\n",
       "      <td>L2</td>\n",
       "      <td>CTR_MGH_0</td>\n",
       "      <td>C1</td>\n",
       "      <td>NMIBC</td>\n",
       "      <td>M-3</td>\n",
       "      <td>2</td>\n",
       "      <td>NaN</td>\n",
       "      <td>NaN</td>\n",
       "      <td>60</td>\n",
       "    </tr>\n",
       "    <tr>\n",
       "      <th>CTR_MGH.GATCCCTCAAGAGTTA</th>\n",
       "      <td>L2</td>\n",
       "      <td>CTR_MGH_0</td>\n",
       "      <td>C1</td>\n",
       "      <td>NMIBC</td>\n",
       "      <td>M-3</td>\n",
       "      <td>2</td>\n",
       "      <td>NaN</td>\n",
       "      <td>NaN</td>\n",
       "      <td>60</td>\n",
       "    </tr>\n",
       "    <tr>\n",
       "      <th>CTR_MGH.GTTCATTGTGAATTGA</th>\n",
       "      <td>L2</td>\n",
       "      <td>CTR_MGH_0</td>\n",
       "      <td>C1</td>\n",
       "      <td>NMIBC</td>\n",
       "      <td>M-3</td>\n",
       "      <td>2</td>\n",
       "      <td>NaN</td>\n",
       "      <td>NaN</td>\n",
       "      <td>60</td>\n",
       "    </tr>\n",
       "    <tr>\n",
       "      <th>CTR_MGH.TTTCGATTCCGCTTAC</th>\n",
       "      <td>L2</td>\n",
       "      <td>CTR_MGH_0</td>\n",
       "      <td>C1</td>\n",
       "      <td>NMIBC</td>\n",
       "      <td>M-3</td>\n",
       "      <td>2</td>\n",
       "      <td>NaN</td>\n",
       "      <td>NaN</td>\n",
       "      <td>60</td>\n",
       "    </tr>\n",
       "    <tr>\n",
       "      <th>...</th>\n",
       "      <td>...</td>\n",
       "      <td>...</td>\n",
       "      <td>...</td>\n",
       "      <td>...</td>\n",
       "      <td>...</td>\n",
       "      <td>...</td>\n",
       "      <td>...</td>\n",
       "      <td>...</td>\n",
       "      <td>...</td>\n",
       "    </tr>\n",
       "    <tr>\n",
       "      <th>NMI_MGH.CTTCTAACACTTTAGG</th>\n",
       "      <td>L3</td>\n",
       "      <td>NMI_MGH_6</td>\n",
       "      <td>C1</td>\n",
       "      <td>NMIBC</td>\n",
       "      <td>M-12</td>\n",
       "      <td>3</td>\n",
       "      <td>NaN</td>\n",
       "      <td>NaN</td>\n",
       "      <td>98</td>\n",
       "    </tr>\n",
       "    <tr>\n",
       "      <th>NMI_MGH.GTGAGCCAGAAGCTCG</th>\n",
       "      <td>L3</td>\n",
       "      <td>NMI_MGH_6</td>\n",
       "      <td>C1</td>\n",
       "      <td>NMIBC</td>\n",
       "      <td>M-12</td>\n",
       "      <td>3</td>\n",
       "      <td>NaN</td>\n",
       "      <td>NaN</td>\n",
       "      <td>98</td>\n",
       "    </tr>\n",
       "    <tr>\n",
       "      <th>NMI_MGH.TGTGCGGTCTCTGGTC</th>\n",
       "      <td>L3</td>\n",
       "      <td>NMI_MGH_6</td>\n",
       "      <td>C1</td>\n",
       "      <td>NMIBC</td>\n",
       "      <td>M-12</td>\n",
       "      <td>3</td>\n",
       "      <td>NaN</td>\n",
       "      <td>NaN</td>\n",
       "      <td>98</td>\n",
       "    </tr>\n",
       "    <tr>\n",
       "      <th>NMI_MGH.GATGAGGCAAGTATAG</th>\n",
       "      <td>L3</td>\n",
       "      <td>NMI_MGH_6</td>\n",
       "      <td>C1</td>\n",
       "      <td>NMIBC</td>\n",
       "      <td>M-12</td>\n",
       "      <td>3</td>\n",
       "      <td>NaN</td>\n",
       "      <td>NaN</td>\n",
       "      <td>98</td>\n",
       "    </tr>\n",
       "    <tr>\n",
       "      <th>NMI_MGH.GGGAGATGTTCTATCT</th>\n",
       "      <td>L3</td>\n",
       "      <td>NMI_MGH_6</td>\n",
       "      <td>C1</td>\n",
       "      <td>NMIBC</td>\n",
       "      <td>M-12</td>\n",
       "      <td>3</td>\n",
       "      <td>NaN</td>\n",
       "      <td>NaN</td>\n",
       "      <td>98</td>\n",
       "    </tr>\n",
       "  </tbody>\n",
       "</table>\n",
       "<p>27085 rows × 9 columns</p>\n",
       "</div>"
      ],
      "text/plain": [
       "                         X10x_Lane      Tumor Cell_Clone Genotype MouseID  \\\n",
       "CTR_MGH.TGGAACTGTATGCGTT        L2  CTR_MGH_0         C1    NMIBC     M-3   \n",
       "CTR_MGH.GATGGAGCAAGCAGGT        L2  CTR_MGH_0         C1    NMIBC     M-3   \n",
       "CTR_MGH.GATCCCTCAAGAGTTA        L2  CTR_MGH_0         C1    NMIBC     M-3   \n",
       "CTR_MGH.GTTCATTGTGAATTGA        L2  CTR_MGH_0         C1    NMIBC     M-3   \n",
       "CTR_MGH.TTTCGATTCCGCTTAC        L2  CTR_MGH_0         C1    NMIBC     M-3   \n",
       "...                            ...        ...        ...      ...     ...   \n",
       "NMI_MGH.CTTCTAACACTTTAGG        L3  NMI_MGH_6         C1    NMIBC    M-12   \n",
       "NMI_MGH.GTGAGCCAGAAGCTCG        L3  NMI_MGH_6         C1    NMIBC    M-12   \n",
       "NMI_MGH.TGTGCGGTCTCTGGTC        L3  NMI_MGH_6         C1    NMIBC    M-12   \n",
       "NMI_MGH.GATGAGGCAAGTATAG        L3  NMI_MGH_6         C1    NMIBC    M-12   \n",
       "NMI_MGH.GGGAGATGTTCTATCT        L3  NMI_MGH_6         C1    NMIBC    M-12   \n",
       "\n",
       "                          Aging_Month  Batch_Library  Batch_Harvest  Aging_day  \n",
       "CTR_MGH.TGGAACTGTATGCGTT            2            NaN            NaN         60  \n",
       "CTR_MGH.GATGGAGCAAGCAGGT            2            NaN            NaN         60  \n",
       "CTR_MGH.GATCCCTCAAGAGTTA            2            NaN            NaN         60  \n",
       "CTR_MGH.GTTCATTGTGAATTGA            2            NaN            NaN         60  \n",
       "CTR_MGH.TTTCGATTCCGCTTAC            2            NaN            NaN         60  \n",
       "...                               ...            ...            ...        ...  \n",
       "NMI_MGH.CTTCTAACACTTTAGG            3            NaN            NaN         98  \n",
       "NMI_MGH.GTGAGCCAGAAGCTCG            3            NaN            NaN         98  \n",
       "NMI_MGH.TGTGCGGTCTCTGGTC            3            NaN            NaN         98  \n",
       "NMI_MGH.GATGAGGCAAGTATAG            3            NaN            NaN         98  \n",
       "NMI_MGH.GGGAGATGTTCTATCT            3            NaN            NaN         98  \n",
       "\n",
       "[27085 rows x 9 columns]"
      ]
     },
     "execution_count": 9,
     "metadata": {},
     "output_type": "execute_result"
    }
   ],
   "source": [
    "meta"
   ]
  },
  {
   "cell_type": "code",
   "execution_count": 10,
   "metadata": {
    "collapsed": true,
    "jupyter": {
     "outputs_hidden": true
    }
   },
   "outputs": [
    {
     "name": "stderr",
     "output_type": "stream",
     "text": [
      "100%|██████████| 1/1 [00:00<00:00, 123.84it/s]\n"
     ]
    },
    {
     "name": "stdout",
     "output_type": "stream",
     "text": [
      "Dropping the following intBCs due to lack of diversity with threshold 0.98: ['GTCAAGATAGGCCA_r1', 'GTCAAGATAGGCCA_r2', 'GTCAAGATAGGCCA_r3', 'GCTTGTTCATGTGT_r1', 'GCTTGTTCATGTGT_r2', 'GCTTGTTCATGTGT_r3', 'GGATGGTCTAGTCA_r1', 'GGATGGTCTAGTCA_r2', 'GGATGGTCTAGTCA_r3', 'CCCCGCTTCATTGC_r1', 'CCCCGCTTCATTGC_r2', 'CCCCGCTTCATTGC_r3', 'GATAGTATGGTGTG_r2', 'GATAGTATGGTGTG_r3', 'TATCTTAGCTACAT_r1', 'TATCTTAGCTACAT_r2', 'TATCTTAGCTACAT_r3', 'ATGCGCCGTTCTAC_r1', 'ATGCGCCGTTCTAC_r2', 'ATGCGCCGTTCTAC_r3', 'CGCCGGGGTGGGGT_r1', 'CGCCGGGGTGGGGT_r2', 'CGCCGGGGTGGGGT_r3', 'ATGCACAGTGCTCA_r1', 'ATGCACAGTGCTCA_r2', 'ATGCACAGTGCTCA_r3', 'CATTGTTCTAAATA_r1', 'CATTGTTCTAAATA_r2', 'CATTGTTCTAAATA_r3', 'AGCTGATTCTTCAC_r1', 'AGCTGATTCTTCAC_r2', 'AGCTGATTCTTCAC_r3', 'TCAACTCCAGAGTT_r1', 'TCAACTCCAGAGTT_r2', 'TCAACTCCAGAGTT_r3', 'TCAAGAGTGCCCTT_r1', 'TCAAGAGTGCCCTT_r2', 'TCAAGAGTGCCCTT_r3', 'AATTTAAATGCGGC_r1', 'AATTTAAATGCGGC_r2', 'AATTTAAATGCGGC_r3', 'GTGAGACGGAAGGA_r1', 'GTGAGACGGAAGGA_r2', 'GTGAGACGGAAGGA_r3', 'TGATGTCACAACTG_r1', 'TGATGTCACAACTG_r2', 'TGATGTCACAACTG_r3', 'GCGTGCCTTCATTT_r1', 'GCGTGCCTTCATTT_r2', 'GCGTGCCTTCATTT_r3', 'GATATCGGTGACAG_r1', 'GATATCGGTGACAG_r2', 'GATATCGGTGACAG_r3', 'CCATGGTTGAGCAT_r1', 'CCATGGTTGAGCAT_r3', 'GACAGGGTATCAGT_r3', 'TACAGCGCCTGTAT_r3', 'GCTTCTGTCCTGCA_r3', 'AGGCCAATGGATGA_r1', 'ATCTGTCTATTAAC_r1', 'ATCTGTCTATTAAC_r2', 'ATCTGTCTATTAAC_r3']\n"
     ]
    },
    {
     "name": "stderr",
     "output_type": "stream",
     "text": [
      "Processing characters: 100%|██████████| 22/22 [00:00<00:00, 19959.92it/s]\n",
      "100%|██████████| 1/1 [00:00<00:00, 87.54it/s]\n"
     ]
    },
    {
     "name": "stdout",
     "output_type": "stream",
     "text": [
      "Dropping the following intBCs due to lack of diversity with threshold 0.98: ['GTCTGAGTCCTTAG_r1', 'GTCTGAGTCCTTAG_r2', 'TGAGTGGATATGGG_r1', 'TGAGTGGATATGGG_r2', 'TGAGTGGATATGGG_r3', 'TTATGCCATGGCGA_r2', 'TTATGCCATGGCGA_r3']\n"
     ]
    },
    {
     "name": "stderr",
     "output_type": "stream",
     "text": [
      "Processing characters: 100%|██████████| 14/14 [00:00<00:00, 529.22it/s]\n",
      "100%|██████████| 1/1 [00:00<00:00, 250.53it/s]\n"
     ]
    },
    {
     "name": "stdout",
     "output_type": "stream",
     "text": [
      "Dropping the following intBCs due to lack of diversity with threshold 0.98: ['ATGTGTCGCATCTG_r2', 'ATGTGTCGCATCTG_r3', 'CACGCTCTCTGGAC_r2', 'CACGCTCTCTGGAC_r3', 'CCGTGTGGCGAGCA_r1']\n"
     ]
    },
    {
     "name": "stderr",
     "output_type": "stream",
     "text": [
      "Processing characters: 100%|██████████| 7/7 [00:00<00:00, 29898.30it/s]\n",
      "100%|██████████| 1/1 [00:00<00:00, 209.79it/s]\n"
     ]
    },
    {
     "name": "stdout",
     "output_type": "stream",
     "text": [
      "Dropping the following intBCs due to lack of diversity with threshold 0.98: ['TACATCCCTGCAAA_r2', 'TACATCCCTGCAAA_r3', 'CGCTCTCCTTCATT_r1', 'AACTAGAATCATCT_r2']\n"
     ]
    },
    {
     "name": "stderr",
     "output_type": "stream",
     "text": [
      "Processing characters: 100%|██████████| 11/11 [00:00<00:00, 38067.12it/s]\n",
      "100%|██████████| 1/1 [00:00<00:00, 181.83it/s]\n"
     ]
    },
    {
     "name": "stdout",
     "output_type": "stream",
     "text": [
      "Dropping the following intBCs due to lack of diversity with threshold 0.98: ['CGGCTTTGAGGTTT_r1', 'ATTATTCTAAAGGG_r3', 'AGAGTTTACTTTGT_r1', 'CGGCGCAGGAGTTG_r1', 'CGGCGCAGGAGTTG_r2', 'CGGCGCAGGAGTTG_r3']\n"
     ]
    },
    {
     "name": "stderr",
     "output_type": "stream",
     "text": [
      "Processing characters: 100%|██████████| 12/12 [00:00<00:00, 45714.49it/s]\n",
      "100%|██████████| 1/1 [00:00<00:00, 41.36it/s]\n"
     ]
    },
    {
     "name": "stdout",
     "output_type": "stream",
     "text": [
      "Dropping the following intBCs due to lack of diversity with threshold 0.98: ['TGTTGTGGCTCTGA_r3', 'TCATGAAGTCCATC_r1', 'TAGTGCGCCTTCTT_r1', 'TAGTGCGCCTTCTT_r2', 'TAGTGCGCCTTCTT_r3', 'TGCCGCCCTCCTCC_r1', 'TGCCGCCCTCCTCC_r2', 'TGCCGCCCTCCTCC_r3', 'TCATGATGCACTTT_r1', 'TCATGATGCACTTT_r2', 'TCATGATGCACTTT_r3', 'TTATGTTTCGACGA_r1', 'TTATGTTTCGACGA_r2', 'GAGCGCTTTGTTAT_r1', 'GGAAGTGTCACGCT_r1', 'GGAAGTGTCACGCT_r3', 'GGCAGCTCTGGATC_r2', 'TTCCGATTCCTCTT_r2', 'TTCCGATTCCTCTT_r3', 'CTTAGTCACGCGGT_r1', 'CTTAGTCACGCGGT_r2', 'CTTAGTCACGCGGT_r3', 'ACTACTACCTAGTT_r1', 'CTCTGAGCGGGACA_r2', 'CTCTGAGCGGGACA_r3', 'GAACGTTCCGGGGT_r1', 'GAACGTTCCGGGGT_r2', 'GAACGTTCCGGGGT_r3', 'CATATTTCCCACTT_r1', 'AACTTATTCGCACC_r2', 'AACTTATTCGCACC_r3']\n"
     ]
    },
    {
     "name": "stderr",
     "output_type": "stream",
     "text": [
      "Processing characters: 100%|██████████| 29/29 [00:00<00:00, 895.98it/s]\n",
      "100%|██████████| 1/1 [00:00<00:00, 179.79it/s]\n"
     ]
    },
    {
     "name": "stdout",
     "output_type": "stream",
     "text": [
      "Dropping the following intBCs due to lack of diversity with threshold 0.98: ['AAGGTTACTCAACT_r2', 'AAGGTTACTCAACT_r3', 'GCCTAGTACTCCTC_r2', 'GCCTAGTACTCCTC_r3', 'TGGGAATCAGATTC_r1', 'TGGGAATCAGATTC_r2', 'TGGGAATCAGATTC_r3']\n"
     ]
    },
    {
     "name": "stderr",
     "output_type": "stream",
     "text": [
      "Processing characters: 100%|██████████| 11/11 [00:00<00:00, 3927.59it/s]\n",
      "100%|██████████| 1/1 [00:00<00:00, 169.51it/s]\n"
     ]
    },
    {
     "name": "stdout",
     "output_type": "stream",
     "text": [
      "Dropping the following intBCs due to lack of diversity with threshold 0.98: ['AACGCTCTTGTTTA_r1', 'AACGCTCTTGTTTA_r2', 'AACGCTCTTGTTTA_r3', 'GCAATGGCAGGGAC_r2', 'GCAATGGCAGGGAC_r3', 'TTTCAGACCCTCCG_r1', 'TTTCAGACCCTCCG_r2', 'GTTTGTGAGTAGAG_r1', 'GTTTGTGAGTAGAG_r2', 'GTTTGTGAGTAGAG_r3', 'GTGCGTTTTCATCG_r3', 'GGCCCCGGACTGTA_r2', 'GCTTATCACCGAGA_r1', 'GCTTATCACCGAGA_r2']\n"
     ]
    },
    {
     "name": "stderr",
     "output_type": "stream",
     "text": [
      "Processing characters: 100%|██████████| 13/13 [00:00<00:00, 5403.42it/s]\n",
      "100%|██████████| 1/1 [00:00<00:00, 101.21it/s]\n"
     ]
    },
    {
     "name": "stdout",
     "output_type": "stream",
     "text": [
      "Dropping the following intBCs due to lack of diversity with threshold 0.98: ['TTTCCGTCATTGTG_r2', 'TTTCCGTCATTGTG_r3', 'TGACCTCTGGTCTC_r1', 'TGACCTCTGGTCTC_r3', 'TTCTGTGACATGAA_r1', 'TTCTGTGACATGAA_r3', 'TGAGCCCATTAGCA_r1', 'TGAGCCCATTAGCA_r3', 'TCTTGTTCTTGCTC_r1', 'TCTTGTTCTTGCTC_r3', 'TGCCTTGGTTACTT_r2', 'TGCCTTGGTTACTT_r3', 'GTTCGGCGTGCCCT_r1', 'GTTCGGCGTGCCCT_r3', 'TCGGTGGGCGAATA_r3', 'TCTCGATGTAATAT_r1', 'TTTCGCGGAGTTCA_r1', 'TAATCAGTTTGTTT_r1', 'TAATCAGTTTGTTT_r2', 'GTTCAAAGTTCTGG_r3', 'GTCCGCTTCGTTTC_r1', 'GCAGTGATACACTG_r1', 'GCGTGGTGCGTTAC_r1', 'GCGTGGTGCGTTAC_r3', 'GCCCGTGTGTGTCA_r3', 'GATCGATTGGGCCC_r1', 'GCCCGTCCTTGTTC_r1', 'GCCCGTCCTTGTTC_r3', 'GAGTGTAGGGGATG_r1', 'GAGTGTAGGGGATG_r3', 'GACCGTATGCGCGG_r2', 'GACCGTATGCGCGG_r3', 'GACACTTTTCGGCA_r1', 'CGAAAATCGGCCAG_r1', 'CGAAAATCGGCCAG_r2', 'CGAAAATCGGCCAG_r3', 'CGCGGACCGGGCTC_r1', 'CGCGGACCGGGCTC_r3', 'CCTCCATTATGACC_r1', 'CCTAGTCCTTAGTA_r1', 'CCTAGTCCTTAGTA_r3', 'CCGTGTATATTCAA_r1', 'CCGTGTATATTCAA_r2', 'CCGTGTATATTCAA_r3']\n"
     ]
    },
    {
     "name": "stderr",
     "output_type": "stream",
     "text": [
      "Processing characters: 100%|██████████| 34/34 [00:00<00:00, 15914.11it/s]\n",
      "100%|██████████| 1/1 [00:00<00:00, 92.52it/s]\n"
     ]
    },
    {
     "name": "stdout",
     "output_type": "stream",
     "text": [
      "Dropping the following intBCs due to lack of diversity with threshold 0.98: ['GCCCGCTCGTTGAT_r1', 'GCCCGCTCGTTGAT_r2', 'GCCCGCTCGTTGAT_r3', 'CTTTGTATAGTTAG_r1', 'CTTTGTATAGTTAG_r2', 'CTTTGTATAGTTAG_r3', 'CTCGGGTTTGTCAG_r1', 'CTCGGGTTTGTCAG_r2', 'CTCGGGTTTGTCAG_r3', 'GTTCGTAAGGATGA_r1', 'GTTCGTAAGGATGA_r2', 'GTTCGTAAGGATGA_r3', 'ATAGGTTAAAATCC_r1', 'ATAGGTTAAAATCC_r2', 'ATAGGTTAAAATCC_r3', 'CAGAGTAGAACGTT_r1', 'CAGAGTAGAACGTT_r2', 'CAGAGTAGAACGTT_r3', 'ATCTTTGCCTGATG_r1', 'ATCTTTGCCTGATG_r2', 'ATCTTTGCCTGATG_r3', 'TTTAGGTACGATAC_r1', 'TTTAGGTACGATAC_r2', 'TTTAGGTACGATAC_r3', 'GTGCCCTGTCCCTA_r1', 'GTGCCCTGTCCCTA_r2', 'GTGCCCTGTCCCTA_r3', 'GCACGGGGTGATGC_r1', 'GCACGGGGTGATGC_r2', 'GCACGGGGTGATGC_r3', 'GTTGTTGATGCTGG_r1', 'GTTGTTGATGCTGG_r2', 'GTTGTTGATGCTGG_r3', 'ATCAGTACCTTTTT_r1', 'ATCAGTACCTTTTT_r2', 'ATCAGTACCTTTTT_r3', 'ATCGTCCGGGATGT_r1', 'ATCGTCCGGGATGT_r2', 'ATCGTCCGGGATGT_r3', 'GTGTGACAGCTCTA_r1', 'GTGTGACAGCTCTA_r2', 'GTGTGACAGCTCTA_r3', 'TCTCGACAGCCCTT_r1', 'TCTCGACAGCCCTT_r2', 'TCTCGACAGCCCTT_r3']\n"
     ]
    },
    {
     "name": "stderr",
     "output_type": "stream",
     "text": [
      "Processing characters: 100%|██████████| 3/3 [00:00<00:00, 9619.96it/s]\n",
      "100%|██████████| 1/1 [00:00<00:00, 150.61it/s]\n"
     ]
    },
    {
     "name": "stdout",
     "output_type": "stream",
     "text": [
      "Dropping the following intBCs due to lack of diversity with threshold 0.98: ['TGACGAGTAGGCCC_r1', 'TGACGAGTAGGCCC_r2', 'TTGCGTGACCACGG_r1', 'TTGCGTGACCACGG_r2', 'TTTCGTATTCGATA_r1', 'TTTCGTATTCGATA_r2', 'GAAATTGTTCGGCC_r1', 'GAAATTGTTCGGCC_r2', 'CTTATAGTCGCGAC_r1', 'CTTATAGTCGCGAC_r2', 'GGCTAGTTAAGGAC_r1', 'GGCTAGTTAAGGAC_r2', 'CGCCATGCTTGAAA_r1', 'CGCCATGCTTGAAA_r2', 'CGCCATGCTTGAAA_r3', 'ATTTCGGTAGGTTC_r1', 'ATTTCGGTAGGTTC_r2', 'ATTTCGGTAGGTTC_r3', 'GCGCGGTTTCAACT_r1', 'GCGCGGTTTCAACT_r2', 'TGGGGGAAGATAGG_r1', 'TGGGGGAAGATAGG_r2', 'GCAAGTTATTACTC_r1', 'GCAAGTTATTACTC_r2', 'GCAAGTTATTACTC_r3', 'GGCACTAAAAAGCA_r1', 'GGCACTAAAAAGCA_r2', 'TGACGCGGGGAAAT_r1', 'TGACGCGGGGAAAT_r2', 'TGACGCGGGGAAAT_r3', 'CCTTGGTCAGTCAC_r1', 'CCTTGGTCAGTCAC_r2']\n"
     ]
    },
    {
     "name": "stderr",
     "output_type": "stream",
     "text": [
      "Processing characters: 100%|██████████| 10/10 [00:00<00:00, 9339.35it/s]\n",
      "100%|██████████| 1/1 [00:00<00:00, 192.58it/s]\n"
     ]
    },
    {
     "name": "stdout",
     "output_type": "stream",
     "text": [
      "Dropping the following intBCs due to lack of diversity with threshold 0.98: ['ACAAAGTCGACTCT_r1', 'ACAAAGTCGACTCT_r2', 'ACAAAGTCGACTCT_r3', 'TTTGTCGTCATCAC_r1', 'TTTGTCGTCATCAC_r2', 'TTTGTCGTCATCAC_r3', 'TTTCGAGGAGTGCT_r1', 'TTTCGAGGAGTGCT_r2', 'TTTCGAGGAGTGCT_r3', 'GCGTCAGGAGTCGA_r1', 'GCGTCAGGAGTCGA_r2', 'GCGTCAGGAGTCGA_r3', 'GTTTGCGTAGCTGC_r1', 'GTTTGCGTAGCTGC_r2', 'GTTTGCGTAGCTGC_r3', 'GTGAGTACTTATCC_r1', 'GTGAGTACTTATCC_r2', 'GTGAGTACTTATCC_r3', 'GGTCCTGCACTAGG_r2', 'GGTCCTGCACTAGG_r3']\n"
     ]
    },
    {
     "name": "stderr",
     "output_type": "stream",
     "text": [
      "Processing characters: 100%|██████████| 16/16 [00:00<00:00, 14327.26it/s]\n",
      "100%|██████████| 1/1 [00:00<00:00, 194.23it/s]\n"
     ]
    },
    {
     "name": "stdout",
     "output_type": "stream",
     "text": [
      "Dropping the following intBCs due to lack of diversity with threshold 0.98: ['ATTGGCTTGGCCAT_r1', 'ATTGGCTTGGCCAT_r2', 'TCCTATTCCGGTTA_r1', 'TCCTATTCCGGTTA_r2', 'TCCTATTCCGGTTA_r3', 'GCTGGGAAACAATG_r1', 'GCTGGGAAACAATG_r2', 'GCTGGGAAACAATG_r3', 'CGTGATTGACCGGG_r1', 'CGTGATTGACCGGG_r2', 'CGTGATTGACCGGG_r3', 'CCGCGCGGACGGCT_r1', 'TGGGCGGATGGCGT_r1', 'TGGGCGGATGGCGT_r2', 'TGGGCGGATGGCGT_r3', 'TTATGCGGCGTTCA_r2', 'TTATGCGGCGTTCA_r3']\n"
     ]
    },
    {
     "name": "stderr",
     "output_type": "stream",
     "text": [
      "Processing characters: 100%|██████████| 7/7 [00:00<00:00, 11206.16it/s]\n",
      "100%|██████████| 1/1 [00:00<00:00, 262.28it/s]\n"
     ]
    },
    {
     "name": "stdout",
     "output_type": "stream",
     "text": [
      "Dropping the following intBCs due to lack of diversity with threshold 0.98: []\n"
     ]
    },
    {
     "name": "stderr",
     "output_type": "stream",
     "text": [
      "Processing characters: 100%|██████████| 3/3 [00:00<00:00, 4951.95it/s]\n",
      "100%|██████████| 1/1 [00:00<00:00, 40.43it/s]\n"
     ]
    },
    {
     "name": "stdout",
     "output_type": "stream",
     "text": [
      "Dropping the following intBCs due to lack of diversity with threshold 0.98: ['CCGTGTCAGGTCCG_r1', 'CCGTGTCAGGTCCG_r2', 'CCGTGTCAGGTCCG_r3', 'GTCTAATGTTTCTT_r1', 'GTCTAATGTTTCTT_r2', 'GTCTAATGTTTCTT_r3', 'TCATCCCTCTTGAA_r1', 'TCATCCCTCTTGAA_r2', 'TCATCCCTCTTGAA_r3', 'TCCGGTGGCTCTTC_r1', 'TCCGGTGGCTCTTC_r2', 'TCCGGTGGCTCTTC_r3', 'TTCCGAGTTCGCTC_r1', 'TTCCGAGTTCGCTC_r2', 'TTCCGAGTTCGCTC_r3']\n"
     ]
    },
    {
     "name": "stderr",
     "output_type": "stream",
     "text": [
      "Processing characters: 100%|██████████| 12/12 [00:00<00:00, 658.41it/s]\n",
      "100%|██████████| 1/1 [00:00<00:00, 204.66it/s]\n"
     ]
    },
    {
     "name": "stdout",
     "output_type": "stream",
     "text": [
      "Dropping the following intBCs due to lack of diversity with threshold 0.98: ['ATTCGTAGGGCCTC_r1', 'ATTCGTAGGGCCTC_r2', 'ATTCGTAGGGCCTC_r3', 'GTCTGTCCCGTTTT_r1', 'GTCTGTCCCGTTTT_r2', 'GTCTGTCCCGTTTT_r3', 'TGCGGTTGGTCGGG_r1', 'TGCGGTTGGTCGGG_r2', 'TGCGGTTGGTCGGG_r3', 'GTAGAGAGGGGGTG_r1', 'GTAGAGAGGGGGTG_r2', 'GTAGAGAGGGGGTG_r3', 'CAACGTTGAGCGTT_r1', 'CAACGTTGAGCGTT_r2', 'CAACGTTGAGCGTT_r3', 'TAAGCAGTTGCGCT_r1', 'TAAGCAGTTGCGCT_r2', 'TAAGCAGTTGCGCT_r3', 'GTACGCTCCCACCT_r1', 'GTACGCTCCCACCT_r2', 'GTACGCTCCCACCT_r3', 'GGTCGACGAGTTAG_r1', 'GGTCGACGAGTTAG_r2', 'GGTCGACGAGTTAG_r3']\n"
     ]
    },
    {
     "name": "stderr",
     "output_type": "stream",
     "text": [
      "Processing characters: 0it [00:00, ?it/s]\n"
     ]
    },
    {
     "name": "stdout",
     "output_type": "stream",
     "text": [
      "Dropping the following intBCs due to lack of diversity with threshold 1.0: []\n"
     ]
    },
    {
     "name": "stderr",
     "output_type": "stream",
     "text": [
      "Processing characters: 100%|██████████| 24/24 [00:00<00:00, 46218.23it/s]\n",
      "100%|██████████| 1/1 [00:00<00:00, 194.42it/s]\n"
     ]
    },
    {
     "name": "stdout",
     "output_type": "stream",
     "text": [
      "Dropping the following intBCs due to lack of diversity with threshold 0.98: ['GCACAAGGAGAATC_r1', 'GCACAAGGAGAATC_r2', 'GCACAAGGAGAATC_r3', 'ACTCGGTCCGGCTT_r1', 'ACTCGGTCCGGCTT_r2', 'ACTCGGTCCGGCTT_r3', 'GCGAGTTGTTCCGC_r1', 'GCGAGTTGTTCCGC_r2', 'GCGAGTTGTTCCGC_r3', 'GTCTACAGTGGTCT_r1', 'GTCTACAGTGGTCT_r2', 'GTCTACAGTGGTCT_r3', 'TGGTGTTAACTATC_r1', 'TGGTGTTAACTATC_r2', 'TGGTGTTAACTATC_r3', 'GGTGGGTGTACTCA_r1', 'GGTGGGTGTACTCA_r2', 'GGTGGGTGTACTCA_r3']\n"
     ]
    },
    {
     "name": "stderr",
     "output_type": "stream",
     "text": [
      "Processing characters: 0it [00:00, ?it/s]\n"
     ]
    },
    {
     "name": "stdout",
     "output_type": "stream",
     "text": [
      "Dropping the following intBCs due to lack of diversity with threshold 1.0: []\n"
     ]
    },
    {
     "name": "stderr",
     "output_type": "stream",
     "text": [
      "Processing characters: 100%|██████████| 18/18 [00:00<00:00, 12328.13it/s]\n",
      "100%|██████████| 1/1 [00:00<00:00, 222.98it/s]\n"
     ]
    },
    {
     "name": "stdout",
     "output_type": "stream",
     "text": [
      "Dropping the following intBCs due to lack of diversity with threshold 0.98: ['GGGCAGTGGATAGG_r1', 'GGGCAGTGGATAGG_r2', 'GGGCAGTGGATAGG_r3', 'TTTTGTTTTCTTTC_r1', 'TTTTGTTTTCTTTC_r2', 'TTTTGTTTTCTTTC_r3']\n"
     ]
    },
    {
     "name": "stderr",
     "output_type": "stream",
     "text": [
      "Processing characters: 0it [00:00, ?it/s]\n"
     ]
    },
    {
     "name": "stdout",
     "output_type": "stream",
     "text": [
      "Dropping the following intBCs due to lack of diversity with threshold 1.0: []\n"
     ]
    },
    {
     "name": "stderr",
     "output_type": "stream",
     "text": [
      "Processing characters: 100%|██████████| 6/6 [00:00<00:00, 36419.43it/s]\n",
      "100%|██████████| 1/1 [00:00<00:00, 240.20it/s]\n"
     ]
    },
    {
     "name": "stdout",
     "output_type": "stream",
     "text": [
      "Dropping the following intBCs due to lack of diversity with threshold 0.98: ['CTCACAATTGGAGT_r1', 'CTCACAATTGGAGT_r2', 'CTCACAATTGGAGT_r3', 'CACTATCGTACCTT_r1', 'CACTATCGTACCTT_r2', 'CACTATCGTACCTT_r3', 'CATCATTGGTGCTC_r1', 'CATCATTGGTGCTC_r2', 'CATCATTGGTGCTC_r3']\n"
     ]
    },
    {
     "name": "stderr",
     "output_type": "stream",
     "text": [
      "Processing characters: 0it [00:00, ?it/s]\n"
     ]
    },
    {
     "name": "stdout",
     "output_type": "stream",
     "text": [
      "Dropping the following intBCs due to lack of diversity with threshold 1.0: []\n"
     ]
    },
    {
     "name": "stderr",
     "output_type": "stream",
     "text": [
      "Processing characters: 100%|██████████| 9/9 [00:00<00:00, 41031.23it/s]\n",
      "100%|██████████| 1/1 [00:00<00:00, 228.20it/s]\n"
     ]
    },
    {
     "name": "stdout",
     "output_type": "stream",
     "text": [
      "Dropping the following intBCs due to lack of diversity with threshold 0.98: ['CATACTGAAGATGG_r1', 'CATACTGAAGATGG_r2', 'CATACTGAAGATGG_r3', 'GTCGGCGCATGCTC_r1', 'GTCGGCGCATGCTC_r2', 'GTCGGCGCATGCTC_r3', 'AATAGATACCGTTG_r1', 'AATAGATACCGTTG_r2', 'AATAGATACCGTTG_r3']\n"
     ]
    },
    {
     "name": "stderr",
     "output_type": "stream",
     "text": [
      "Processing characters: 0it [00:00, ?it/s]\n"
     ]
    },
    {
     "name": "stdout",
     "output_type": "stream",
     "text": [
      "Dropping the following intBCs due to lack of diversity with threshold 1.0: []\n"
     ]
    },
    {
     "name": "stderr",
     "output_type": "stream",
     "text": [
      "Processing characters: 100%|██████████| 9/9 [00:00<00:00, 42319.21it/s]\n",
      "100%|██████████| 1/1 [00:00<00:00, 223.33it/s]\n"
     ]
    },
    {
     "name": "stdout",
     "output_type": "stream",
     "text": [
      "Dropping the following intBCs due to lack of diversity with threshold 0.98: ['CGAACATGTCATGG_r1', 'CGAACATGTCATGG_r2', 'TCCGGTTTCGCATC_r2', 'TCCGGTTTCGCATC_r3']\n"
     ]
    },
    {
     "name": "stderr",
     "output_type": "stream",
     "text": [
      "Processing characters: 100%|██████████| 5/5 [00:00<00:00, 27999.36it/s]\n",
      "100%|██████████| 1/1 [00:00<00:00, 212.00it/s]\n"
     ]
    },
    {
     "name": "stdout",
     "output_type": "stream",
     "text": [
      "Dropping the following intBCs due to lack of diversity with threshold 0.98: []\n"
     ]
    },
    {
     "name": "stderr",
     "output_type": "stream",
     "text": [
      "Processing characters: 100%|██████████| 9/9 [00:00<00:00, 30615.36it/s]\n",
      "100%|██████████| 1/1 [00:00<00:00, 246.19it/s]\n"
     ]
    },
    {
     "name": "stdout",
     "output_type": "stream",
     "text": [
      "Dropping the following intBCs due to lack of diversity with threshold 0.98: ['ATCTGGCTCGACTT_r1', 'ATCTGGCTCGACTT_r2']\n"
     ]
    },
    {
     "name": "stderr",
     "output_type": "stream",
     "text": [
      "Processing characters: 100%|██████████| 4/4 [00:00<00:00, 29330.80it/s]\n",
      "100%|██████████| 1/1 [00:00<00:00, 255.42it/s]\n"
     ]
    },
    {
     "name": "stdout",
     "output_type": "stream",
     "text": [
      "Dropping the following intBCs due to lack of diversity with threshold 0.98: ['ACGCGGCATACATC_r1', 'ACGCGGCATACATC_r2', 'ACGCGGCATACATC_r3', 'CCGAGCCGATTGAC_r1', 'CCGAGCCGATTGAC_r2', 'CCGAGCCGATTGAC_r3']\n"
     ]
    },
    {
     "name": "stderr",
     "output_type": "stream",
     "text": [
      "Processing characters: 0it [00:00, ?it/s]\n"
     ]
    },
    {
     "name": "stdout",
     "output_type": "stream",
     "text": [
      "Dropping the following intBCs due to lack of diversity with threshold 1.0: []\n"
     ]
    },
    {
     "name": "stderr",
     "output_type": "stream",
     "text": [
      "Processing characters: 100%|██████████| 6/6 [00:00<00:00, 43240.25it/s]\n",
      "100%|██████████| 1/1 [00:00<00:00, 243.68it/s]\n"
     ]
    },
    {
     "name": "stdout",
     "output_type": "stream",
     "text": [
      "Dropping the following intBCs due to lack of diversity with threshold 0.98: ['CAATGTTTCATCAT_r1', 'CAATGTTTCATCAT_r2', 'CAATGTTTCATCAT_r3', 'AGCCGTTCCCCCGT_r1', 'AGCCGTTCCCCCGT_r2', 'AGCCGTTCCCCCGT_r3', 'TCCTCAAGACCCTC_r1', 'TCCTCAAGACCCTC_r2', 'TCCTCAAGACCCTC_r3']\n"
     ]
    },
    {
     "name": "stderr",
     "output_type": "stream",
     "text": [
      "Processing characters: 0it [00:00, ?it/s]\n"
     ]
    },
    {
     "name": "stdout",
     "output_type": "stream",
     "text": [
      "Dropping the following intBCs due to lack of diversity with threshold 1.0: []\n"
     ]
    },
    {
     "name": "stderr",
     "output_type": "stream",
     "text": [
      "Processing characters: 100%|██████████| 9/9 [00:00<00:00, 54236.69it/s]\n",
      "100%|██████████| 1/1 [00:00<00:00, 265.70it/s]\n"
     ]
    },
    {
     "name": "stdout",
     "output_type": "stream",
     "text": [
      "Dropping the following intBCs due to lack of diversity with threshold 0.98: ['ATGGGTGTCCCTTA_r2']\n"
     ]
    },
    {
     "name": "stderr",
     "output_type": "stream",
     "text": [
      "Processing characters: 100%|██████████| 2/2 [00:00<00:00, 25115.59it/s]\n",
      "100%|██████████| 1/1 [00:00<00:00, 262.70it/s]\n"
     ]
    },
    {
     "name": "stdout",
     "output_type": "stream",
     "text": [
      "Dropping the following intBCs due to lack of diversity with threshold 0.98: ['GTTCCTGGCTCAAT_r1', 'GTTCCTGGCTCAAT_r3']\n"
     ]
    },
    {
     "name": "stderr",
     "output_type": "stream",
     "text": [
      "Processing characters: 100%|██████████| 1/1 [00:00<00:00, 12748.64it/s]\n",
      "100%|██████████| 1/1 [00:00<00:00, 236.19it/s]\n"
     ]
    },
    {
     "name": "stdout",
     "output_type": "stream",
     "text": [
      "Dropping the following intBCs due to lack of diversity with threshold 0.98: ['CCGGGCTTAATCTT_r1', 'CCGGGCTTAATCTT_r2', 'CCGGGCTTAATCTT_r3', 'CCAAGCTCTGCCAA_r1', 'CCAAGCTCTGCCAA_r2', 'CCAAGCTCTGCCAA_r3']\n"
     ]
    },
    {
     "name": "stderr",
     "output_type": "stream",
     "text": [
      "Processing characters: 0it [00:00, ?it/s]\n"
     ]
    },
    {
     "name": "stdout",
     "output_type": "stream",
     "text": [
      "Dropping the following intBCs due to lack of diversity with threshold 1.0: []\n"
     ]
    },
    {
     "name": "stderr",
     "output_type": "stream",
     "text": [
      "Processing characters: 100%|██████████| 6/6 [00:00<00:00, 19815.61it/s]\n",
      "100%|██████████| 1/1 [00:00<00:00, 244.24it/s]\n"
     ]
    },
    {
     "name": "stdout",
     "output_type": "stream",
     "text": [
      "Dropping the following intBCs due to lack of diversity with threshold 0.98: ['GTCTGTCGCGTTTC_r1', 'GTCTGTCGCGTTTC_r2', 'GTCTGTCGCGTTTC_r3']\n"
     ]
    },
    {
     "name": "stderr",
     "output_type": "stream",
     "text": [
      "Processing characters: 100%|██████████| 3/3 [00:00<00:00, 25997.75it/s]\n",
      "100%|██████████| 1/1 [00:00<00:00, 228.81it/s]\n"
     ]
    },
    {
     "name": "stdout",
     "output_type": "stream",
     "text": [
      "Dropping the following intBCs due to lack of diversity with threshold 0.98: ['CGTTGCTTAGACGG_r1', 'CGTTGCTTAGACGG_r2', 'CGTTGCTTAGACGG_r3', 'TAGGACAAGCATAG_r1', 'TAGGACAAGCATAG_r2', 'TAGGACAAGCATAG_r3']\n"
     ]
    },
    {
     "name": "stderr",
     "output_type": "stream",
     "text": [
      "Processing characters: 0it [00:00, ?it/s]\n"
     ]
    },
    {
     "name": "stdout",
     "output_type": "stream",
     "text": [
      "Dropping the following intBCs due to lack of diversity with threshold 1.0: []\n"
     ]
    },
    {
     "name": "stderr",
     "output_type": "stream",
     "text": [
      "Processing characters: 100%|██████████| 6/6 [00:00<00:00, 18950.17it/s]\n",
      "100%|██████████| 1/1 [00:00<00:00, 216.41it/s]\n"
     ]
    },
    {
     "name": "stdout",
     "output_type": "stream",
     "text": [
      "Dropping the following intBCs due to lack of diversity with threshold 0.98: ['TCTGTTTTATGATT_r1', 'TCTGTTTTATGATT_r2', 'TCTGTTTTATGATT_r3', 'GTCTCCGGACACTT_r1', 'GTCTCCGGACACTT_r2', 'GTCTCCGGACACTT_r3', 'TGACAATTTGCGCA_r1', 'TGACAATTTGCGCA_r2', 'TGACAATTTGCGCA_r3', 'TGGGCTTTGCTTTA_r1', 'TGGGCTTTGCTTTA_r2', 'TGGGCTTTGCTTTA_r3', 'AATTCACCTTAGTT_r1', 'AATTCACCTTAGTT_r2', 'AATTCACCTTAGTT_r3']\n"
     ]
    },
    {
     "name": "stderr",
     "output_type": "stream",
     "text": [
      "Processing characters: 0it [00:00, ?it/s]\n"
     ]
    },
    {
     "name": "stdout",
     "output_type": "stream",
     "text": [
      "Dropping the following intBCs due to lack of diversity with threshold 1.0: []\n"
     ]
    },
    {
     "name": "stderr",
     "output_type": "stream",
     "text": [
      "Processing characters: 100%|██████████| 15/15 [00:00<00:00, 24413.88it/s]\n",
      "100%|██████████| 1/1 [00:00<00:00, 196.20it/s]\n"
     ]
    },
    {
     "name": "stdout",
     "output_type": "stream",
     "text": [
      "Dropping the following intBCs due to lack of diversity with threshold 0.98: ['ATCGGGCTCGGACC_r1', 'ATCGGGCTCGGACC_r2', 'ATCGGGCTCGGACC_r3', 'ATGCGTTAACCGTC_r1', 'ATGCGTTAACCGTC_r2', 'ATGCGTTAACCGTC_r3', 'GCTCGTCACGTTCT_r1']\n"
     ]
    },
    {
     "name": "stderr",
     "output_type": "stream",
     "text": [
      "Processing characters: 100%|██████████| 5/5 [00:00<00:00, 24272.59it/s]\n",
      "100%|██████████| 1/1 [00:00<00:00, 268.97it/s]\n"
     ]
    },
    {
     "name": "stdout",
     "output_type": "stream",
     "text": [
      "Dropping the following intBCs due to lack of diversity with threshold 0.98: ['CAGAGGCTTGGTGC_r1', 'CAGAGGCTTGGTGC_r2', 'CAGAGGCTTGGTGC_r3', 'GGGACAGCTGGGGG_r1', 'GGGACAGCTGGGGG_r3', 'TTAAAGGGTGGTCT_r1', 'TTAAAGGGTGGTCT_r2', 'TTAAAGGGTGGTCT_r3']\n"
     ]
    },
    {
     "name": "stderr",
     "output_type": "stream",
     "text": [
      "Processing characters: 100%|██████████| 1/1 [00:00<00:00, 7219.11it/s]\n",
      "100%|██████████| 1/1 [00:00<00:00, 266.37it/s]\n"
     ]
    },
    {
     "name": "stdout",
     "output_type": "stream",
     "text": [
      "Dropping the following intBCs due to lack of diversity with threshold 0.98: []\n"
     ]
    },
    {
     "name": "stderr",
     "output_type": "stream",
     "text": [
      "Processing characters: 100%|██████████| 6/6 [00:00<00:00, 15807.68it/s]\n",
      "100%|██████████| 1/1 [00:00<00:00, 235.34it/s]\n"
     ]
    },
    {
     "name": "stdout",
     "output_type": "stream",
     "text": [
      "Dropping the following intBCs due to lack of diversity with threshold 0.98: ['TTTCTAGAATGTAA_r1', 'TTTCTAGAATGTAA_r2', 'TTTCTAGAATGTAA_r3', 'GAGTATTTTCTGTC_r1', 'GAGTATTTTCTGTC_r2', 'GAGTATTTTCTGTC_r3', 'TCCTACCGAGTGGT_r1', 'TCCTACCGAGTGGT_r2', 'TCCTACCGAGTGGT_r3']\n"
     ]
    },
    {
     "name": "stderr",
     "output_type": "stream",
     "text": [
      "Processing characters: 0it [00:00, ?it/s]\n"
     ]
    },
    {
     "name": "stdout",
     "output_type": "stream",
     "text": [
      "Dropping the following intBCs due to lack of diversity with threshold 1.0: []\n"
     ]
    },
    {
     "name": "stderr",
     "output_type": "stream",
     "text": [
      "Processing characters: 100%|██████████| 9/9 [00:00<00:00, 29983.11it/s]\n",
      "100%|██████████| 1/1 [00:00<00:00, 233.56it/s]\n"
     ]
    },
    {
     "name": "stdout",
     "output_type": "stream",
     "text": [
      "Dropping the following intBCs due to lack of diversity with threshold 0.98: ['GTGAGCAGCTAGCG_r1', 'GTGAGCAGCTAGCG_r2', 'GTGAGCAGCTAGCG_r3', 'CGCTTTCCATCTAT_r1', 'CGCTTTCCATCTAT_r2', 'CGCTTTCCATCTAT_r3']\n"
     ]
    },
    {
     "name": "stderr",
     "output_type": "stream",
     "text": [
      "Processing characters: 0it [00:00, ?it/s]\n"
     ]
    },
    {
     "name": "stdout",
     "output_type": "stream",
     "text": [
      "Dropping the following intBCs due to lack of diversity with threshold 1.0: []\n"
     ]
    },
    {
     "name": "stderr",
     "output_type": "stream",
     "text": [
      "Processing characters: 100%|██████████| 6/6 [00:00<00:00, 28500.37it/s]\n",
      "100%|██████████| 1/1 [00:00<00:00, 108.09it/s]\n"
     ]
    },
    {
     "name": "stdout",
     "output_type": "stream",
     "text": [
      "Dropping the following intBCs due to lack of diversity with threshold 0.98: ['GTCAGTGGATCCTC_r1', 'TTTACCGGGGGGCG_r1', 'TTTACCGGGGGGCG_r2', 'CCCCAGTCTAGTCT_r1', 'CCCCAGTCTAGTCT_r2', 'CCCCAGTCTAGTCT_r3', 'GATGACTGACTATG_r2', 'GATGACTGACTATG_r3', 'GGCCAAAAAAACTA_r1', 'GGCCAAAAAAACTA_r2', 'GGCCAAAAAAACTA_r3', 'GTATGCCAACTTCT_r1', 'GTATGCCAACTTCT_r2', 'GTATGCCAACTTCT_r3', 'TTTATCCAAGGCGG_r1', 'TTTATCCAAGGCGG_r2', 'TTTATCCAAGGCGG_r3', 'CATGGTGGTGTATA_r1', 'CAATGATCATTAGG_r3', 'AACCGGATATCATA_r2', 'GGCCAAAAAAAACT_r1', 'GGCCAAAAAAAACT_r2', 'GGCCAAAAAAAACT_r3']\n"
     ]
    },
    {
     "name": "stderr",
     "output_type": "stream",
     "text": [
      "Processing characters: 100%|██████████| 13/13 [00:00<00:00, 44186.35it/s]\n",
      "100%|██████████| 1/1 [00:00<00:00, 17.01it/s]\n"
     ]
    },
    {
     "name": "stdout",
     "output_type": "stream",
     "text": [
      "Dropping the following intBCs due to lack of diversity with threshold 0.98: ['AACGCCCTGCTTGC_r1', 'AACGCCCTGCTTGC_r2', 'AACGCCCTGCTTGC_r3', 'ACCATCGGGCCGTT_r1', 'ACCATCGGGCCGTT_r2', 'ACCATCGGGCCGTT_r3', 'AGTGGCGTTCAAGA_r1', 'AGTGGCGTTCAAGA_r2', 'AGTGGCGTTCAAGA_r3', 'ATGTAGATTATGGA_r1', 'ATGTAGATTATGGA_r2', 'ATGTAGATTATGGA_r3', 'GAATGGGCTGATGC_r1', 'GAATGGGCTGATGC_r2', 'GAATGGGCTGATGC_r3', 'GCGGTTTTTTGTGT_r1', 'GCGGTTTTTTGTGT_r2', 'GCGGTTTTTTGTGT_r3', 'GGACGGGGGTATCT_r1', 'GGACGGGGGTATCT_r2', 'GGACGGGGGTATCT_r3', 'GTAAATACAGCGTG_r1', 'GTAAATACAGCGTG_r2', 'GTAAATACAGCGTG_r3', 'AGCTCGGCCTTCAC_r1', 'CCCACCCATGAGTG_r1', 'CCCGTACTACACAC_r2', 'CCCGTACTACACAC_r3', 'CTCCTCTGCGCGAT_r1', 'CTCCTCTGCGCGAT_r3', 'GGCCGTTCCTTTTT_r1', 'GGCCGTTCCTTTTT_r2', 'GGCCGTTCCTTTTT_r3', 'GGTTGGAACACTGG_r1', 'TCCAGCTAATCTCT_r1', 'TCCAGCTAATCTCT_r3', 'TTATGTTTCTAACT_r1', 'TTATGTTTCTAACT_r2', 'TTTAATAGCCCGCG_r1', 'TTTAATAGCCCGCG_r2', 'TTTAATAGCCCGCG_r3', 'TTTACAGGCGTGGA_r1', 'TTTACAGGCGTGGA_r3', 'GGTGGGGCTCGAGC_r1', 'GGTGGGGCTCGAGC_r2', 'GGTGGGGCTCGAGC_r3', 'TTTACAGTGTCTAA_r1', 'TTTACAGTGTCTAA_r3']\n"
     ]
    },
    {
     "name": "stderr",
     "output_type": "stream",
     "text": [
      "Processing characters: 100%|██████████| 12/12 [00:00<00:00, 250.27it/s]\n",
      "100%|██████████| 1/1 [00:00<00:00, 134.67it/s]\n"
     ]
    },
    {
     "name": "stdout",
     "output_type": "stream",
     "text": [
      "Dropping the following intBCs due to lack of diversity with threshold 0.98: ['CTTATCAATGATGA_r1', 'CTTATCAATGATGA_r2', 'CTTGTATTGATTAT_r2', 'CTTGTATTGATTAT_r3', 'GCTTGCCTGCTTTG_r3', 'CAGTGCTTTGGTAT_r2', 'CAGTGCTTTGGTAT_r3', 'GCGTCAGCATCCAA_r2', 'GCGTCAGCATCCAA_r3', 'TTTTGCGACTCTAT_r1']\n"
     ]
    },
    {
     "name": "stderr",
     "output_type": "stream",
     "text": [
      "Processing characters: 100%|██████████| 29/29 [00:00<00:00, 14039.11it/s]\n",
      "100%|██████████| 1/1 [00:00<00:00, 177.20it/s]\n"
     ]
    },
    {
     "name": "stdout",
     "output_type": "stream",
     "text": [
      "Dropping the following intBCs due to lack of diversity with threshold 0.98: ['GATCAAAATGGGTA_r1', 'GATCAAAATGGGTA_r2', 'GATCAAAATGGGTA_r3', 'ACCTGCGACAGGCA_r1', 'ACCTGCGACAGGCA_r2', 'ACCTGCGACAGGCA_r3', 'GGTGGTAGGGCCGC_r1', 'GGTGGTAGGGCCGC_r3']\n"
     ]
    },
    {
     "name": "stderr",
     "output_type": "stream",
     "text": [
      "Processing characters: 100%|██████████| 1/1 [00:00<00:00, 16008.79it/s]\n",
      "100%|██████████| 1/1 [00:00<00:00, 146.13it/s]\n"
     ]
    },
    {
     "name": "stdout",
     "output_type": "stream",
     "text": [
      "Dropping the following intBCs due to lack of diversity with threshold 0.98: ['GTGCGGCTGGGCTC_r1', 'GTGCGGCTGGGCTC_r2', 'GTGCGGCTGGGCTC_r3', 'CGTCTCGACCTCAG_r2', 'CGTCTCGACCTCAG_r3', 'GGTTGCAGTTGGCC_r1', 'GGTTGCAGTTGGCC_r2', 'GGTTGCAGTTGGCC_r3', 'CTTTGCTCAACTCT_r2', 'ACGTCCGTGTATAT_r2', 'ACGTCCGTGTATAT_r3', 'AGGGCTTTACTCTG_r1', 'AGGGCTTTACTCTG_r2', 'CGCGGCATGACCAT_r2', 'CGCGGCATGACCAT_r3', 'GTTTCTGCGAGTAT_r2', 'GTTTCTGCGAGTAT_r3', 'TAGTGGATTAGAAG_r2', 'TAGTGGATTAGAAG_r3', 'TTCTGAAGAGGGAA_r2', 'TTCTGAAGAGGGAA_r3', 'TTGGGCTTTACTTT_r1', 'GCGCCACGCGCTGT_r1', 'GTCTTCGTTATCAC_r1', 'GTCTTCGTTATCAC_r3', 'CTTCCGCTCCTGAG_r1', 'CTTCCGCTCCTGAG_r2', 'GAATCATCTGAGTT_r1', 'CGACCTATTCATTC_r1', 'CGACCTATTCATTC_r2', 'GCATTATGGGCATT_r2', 'GCATTATGGGCATT_r3', 'ATGAGGTTGGACTA_r2', 'AACCGTATAACTCA_r1']\n"
     ]
    },
    {
     "name": "stderr",
     "output_type": "stream",
     "text": [
      "Processing characters: 100%|██████████| 32/32 [00:00<00:00, 125203.10it/s]\n",
      "100%|██████████| 1/1 [00:00<00:00, 42.50it/s]\n"
     ]
    },
    {
     "name": "stdout",
     "output_type": "stream",
     "text": [
      "Dropping the following intBCs due to lack of diversity with threshold 0.98: ['AGTGGCGTTCAAGA_r1', 'AGTGGCGTTCAAGA_r2', 'AGTGGCGTTCAAGA_r3', 'ATGTAGATTATGGA_r1', 'ATGTAGATTATGGA_r2', 'ATGTAGATTATGGA_r3', 'GAGACTATCGAGAT_r1', 'GAGACTATCGAGAT_r2', 'GAGACTATCGAGAT_r3', 'GCGGTTTTTTGTGT_r1', 'GCGGTTTTTTGTGT_r2', 'GCGGTTTTTTGTGT_r3', 'GGACGGGGGTATCT_r1', 'GGACGGGGGTATCT_r2', 'GGACGGGGGTATCT_r3', 'AACGCCCTGCTTGC_r1', 'AACGCCCTGCTTGC_r2', 'AACGCCCTGCTTGC_r3', 'ACCATCGGGCCGTT_r1', 'ACCATCGGGCCGTT_r2', 'ACCATCGGGCCGTT_r3', 'AGTTACAAGTAGCT_r1', 'AGTTACAAGTAGCT_r2', 'AGTTACAAGTAGCT_r3', 'CATGGCCTTTGAGT_r1', 'CATGGCCTTTGAGT_r2', 'CATGGCCTTTGAGT_r3', 'GAATGGGCTGATGC_r1', 'GAATGGGCTGATGC_r2', 'GAATGGGCTGATGC_r3', 'GTAAATACAGCGTG_r1', 'GTAAATACAGCGTG_r2', 'GTAAATACAGCGTG_r3', 'GCGGTTTTTTTGTG_r1', 'GCGGTTTTTTTGTG_r2', 'GCGGTTTTTTTGTG_r3']\n"
     ]
    },
    {
     "name": "stderr",
     "output_type": "stream",
     "text": [
      "Processing characters: 0it [00:00, ?it/s]\n"
     ]
    },
    {
     "name": "stdout",
     "output_type": "stream",
     "text": [
      "Dropping the following intBCs due to lack of diversity with threshold 1.0: []\n"
     ]
    },
    {
     "name": "stderr",
     "output_type": "stream",
     "text": [
      "Processing characters: 100%|██████████| 36/36 [00:00<00:00, 653.98it/s]\n",
      "100%|██████████| 1/1 [00:00<00:00, 126.13it/s]\n"
     ]
    },
    {
     "name": "stdout",
     "output_type": "stream",
     "text": [
      "Dropping the following intBCs due to lack of diversity with threshold 0.98: ['TTTACAGGCGTGGA_r1', 'TTTACAGGCGTGGA_r3', 'CCCACCCATGAGTG_r1', 'CCCACCCATGAGTG_r3', 'CCCGTACTACACAC_r1', 'CCCGTACTACACAC_r2', 'CCCGTACTACACAC_r3', 'CTCCTCTGCGCGAT_r1', 'CTCCTCTGCGCGAT_r2', 'CTCCTCTGCGCGAT_r3', 'GGCCGTTCCTTTTT_r1', 'GGCCGTTCCTTTTT_r2', 'GGCCGTTCCTTTTT_r3', 'GGTTGGAACACTGG_r1', 'AGCTCGGCCTTCAC_r1', 'AGCTCGGCCTTCAC_r2', 'AGCTCGGCCTTCAC_r3', 'TCCAGCTAATCTCT_r1', 'TCCAGCTAATCTCT_r3', 'TTTAATAGCCCGCG_r1', 'TTTAATAGCCCGCG_r2', 'TTTAATAGCCCGCG_r3', 'TTTACAGTGTCTAA_r1', 'TTTACAGTGTCTAA_r2', 'TTTACAGTGTCTAA_r3', 'TTATGTTTCTAACT_r1', 'A_r1']\n"
     ]
    },
    {
     "name": "stderr",
     "output_type": "stream",
     "text": [
      "Processing characters: 100%|██████████| 9/9 [00:00<00:00, 7629.09it/s]\n",
      "100%|██████████| 1/1 [00:00<00:00, 260.42it/s]\n"
     ]
    },
    {
     "name": "stdout",
     "output_type": "stream",
     "text": [
      "Dropping the following intBCs due to lack of diversity with threshold 0.98: ['GATCAAAATGGGTA_r1', 'GATCAAAATGGGTA_r2', 'GATCAAAATGGGTA_r3', 'ACCTGCGACAGGCA_r1', 'ACCTGCGACAGGCA_r2', 'ACCTGCGACAGGCA_r3', 'GGTGGTAGGGCCGC_r1', 'GGTGGTAGGGCCGC_r3']\n"
     ]
    },
    {
     "name": "stderr",
     "output_type": "stream",
     "text": [
      "Processing characters: 100%|██████████| 1/1 [00:00<00:00, 19152.07it/s]\n",
      "100%|██████████| 1/1 [00:00<00:00, 124.56it/s]\n"
     ]
    },
    {
     "name": "stdout",
     "output_type": "stream",
     "text": [
      "Dropping the following intBCs due to lack of diversity with threshold 0.98: ['TGGACGAATTTTAG_r1', 'TTGTGCTGGCAGGG_r3', 'CCCTGTGCACGATA_r1', 'CCCTGTGCACGATA_r2', 'CCCTGTGCACGATA_r3', 'CTAAGTAAAGGAAA_r1', 'CTAAGTAAAGGAAA_r2', 'CTAAGTAAAGGAAA_r3', 'CTATGGGTATTCCG_r3', 'CTTCGCATTTCCTC_r1', 'CTTCGCATTTCCTC_r2', 'CTTCGCATTTCCTC_r3', 'GCACCATATGTTAG_r3', 'TAAACCAGTTTATT_r1', 'TAAACCAGTTTATT_r2', 'CCACGATCTCTGTG_r1', 'CCACGATCTCTGTG_r2', 'ATGTGTCCCTCTTT_r1', 'AGTTAACAGTGACA_r1', 'AGTTAACAGTGACA_r2', 'AGTTAACAGTGACA_r3', 'CCAAGATACCCTTC_r1', 'CCAAGATACCCTTC_r2', 'CCAAGATACCCTTC_r3', 'GAAGGCCAGTCTCT_r1', 'GAAGGCCAGTCTCT_r3', 'TAAGGCATTGTGCA_r1', 'TAAGGCATTGTGCA_r2', 'TAAGGCATTGTGCA_r3']\n"
     ]
    },
    {
     "name": "stderr",
     "output_type": "stream",
     "text": [
      "Processing characters: 100%|██████████| 16/16 [00:00<00:00, 159403.48it/s]\n",
      "100%|██████████| 1/1 [00:00<00:00, 140.38it/s]\n"
     ]
    },
    {
     "name": "stdout",
     "output_type": "stream",
     "text": [
      "Dropping the following intBCs due to lack of diversity with threshold 0.98: ['TTCAGTTTTTTCTC_r1', 'TTCAGTTTTTTCTC_r2', 'TTCAGTTTTTTCTC_r3', 'TCCAGAAGTGCCAG_r1', 'TCCAGAAGTGCCAG_r2', 'TCCAGAAGTGCCAG_r3', 'GTTTGTGGCGAGTG_r2', 'GTTTGTGGCGAGTG_r3', 'GTGATTGGGGTTCA_r1', 'GTGATTGGGGTTCA_r3', 'GTCGACGGGAACGC_r1', 'GTCGACGGGAACGC_r2', 'GTCGACGGGAACGC_r3', 'CACCGGTAAGGCGA_r1', 'CACCGGTAAGGCGA_r2', 'CACCGGTAAGGCGA_r3', 'CTTGCTAGATACGG_r1', 'CTTGCTAGATACGG_r2', 'CTTGCTAGATACGG_r3', 'GACTTTCCTATTAT_r1', 'GGTTCTAAGGTGAC_r1', 'GGTTCTAAGGTGAC_r2', 'GGTTCTAAGGTGAC_r3', 'GGTTGTCTAAATGT_r1', 'GGTTGTCTAAATGT_r2', 'GGTTGTCTAAATGT_r3', 'ACACGATAAGCAAC_r1', 'ACACGATAAGCAAC_r2', 'ACACGATAAGCAAC_r3', 'AGCTCATAATGTCT_r1', 'AGCTCATAATGTCT_r3', 'GTTAGGTTCATCGC_r2', 'GTTAGGTTCATCGC_r3', 'TCCATTCGGGGGCA_r2', 'GGCTGGCCTTATAT_r2', 'GGCTGGCCTTATAT_r3', 'GGACGTTTCGCGCA_r3', 'TTCAGCCTATATGA_r1', 'AGTGACCTGCAGGG_r2', 'ATGGGCCTACAAGT_r3', 'CAAAAAATGGTGCG_r1', 'CAAAAAATGGTGCG_r2']\n"
     ]
    },
    {
     "name": "stderr",
     "output_type": "stream",
     "text": [
      "Processing characters: 100%|██████████| 30/30 [00:00<00:00, 31903.94it/s]\n",
      "100%|██████████| 1/1 [00:00<00:00, 185.18it/s]\n"
     ]
    },
    {
     "name": "stdout",
     "output_type": "stream",
     "text": [
      "Dropping the following intBCs due to lack of diversity with threshold 0.98: ['CATTATTACAGTAA_r1', 'CATTATTACAGTAA_r2', 'CATTATTACAGTAA_r3', 'AGTACTCAGGCGAA_r2', 'AGTACTCAGGCGAA_r3', 'ATCCAATCCGAATT_r2', 'ATCCAATCCGAATT_r3', 'GTATTTAAACCAGA_r2', 'CCTCGTTTGGTTCT_r1', 'CCTCGTTTGGTTCT_r2', 'CCTCGTTTGGTTCT_r3']\n"
     ]
    },
    {
     "name": "stderr",
     "output_type": "stream",
     "text": [
      "Processing characters: 100%|██████████| 7/7 [00:00<00:00, 67963.26it/s]\n",
      "100%|██████████| 1/1 [00:00<00:00, 144.06it/s]\n"
     ]
    },
    {
     "name": "stdout",
     "output_type": "stream",
     "text": [
      "Dropping the following intBCs due to lack of diversity with threshold 0.98: ['TCCCGGTGTTAATA_r2', 'CTTAGAACTCCGGC_r2', 'CTTAGAACTCCGGC_r3']\n"
     ]
    },
    {
     "name": "stderr",
     "output_type": "stream",
     "text": [
      "Processing characters: 100%|██████████| 36/36 [00:00<00:00, 44111.87it/s]\n",
      "100%|██████████| 1/1 [00:00<00:00, 181.71it/s]\n"
     ]
    },
    {
     "name": "stdout",
     "output_type": "stream",
     "text": [
      "Dropping the following intBCs due to lack of diversity with threshold 0.98: ['ACGTGATTGGCGCC_r2', 'CGTGCGTGATTTGT_r1', 'CGTGCGTGATTTGT_r3', 'CTATTTGGCTTTGC_r1', 'CTATTTGGCTTTGC_r2', 'CTATTTGGCTTTGC_r3', 'GGCCTCTCGGCGGC_r1', 'GGCCTCTCGGCGGC_r2', 'GGCCTCTCGGCGGC_r3', 'GGCCTGGACTGCTT_r1', 'GGCCTGGACTGCTT_r3', 'CCATTCGTTAGCCT_r2']\n"
     ]
    },
    {
     "name": "stderr",
     "output_type": "stream",
     "text": [
      "Processing characters: 100%|██████████| 9/9 [00:00<00:00, 24900.22it/s]\n",
      "100%|██████████| 1/1 [00:00<00:00, 128.77it/s]\n"
     ]
    },
    {
     "name": "stdout",
     "output_type": "stream",
     "text": [
      "Dropping the following intBCs due to lack of diversity with threshold 0.98: ['TAACGATTTGATCT_r1', 'TAACGATTTGATCT_r3', 'TTCCGTGTCCACAA_r1', 'TTCCGTGTCCACAA_r2', 'TTCCGTGTCCACAA_r3', 'GGATCCATTCAACT_r1', 'GGATCCATTCAACT_r2', 'GGATCCATTCAACT_r3', 'GTCTGCGGAGCCCC_r2', 'GTCTGCGGAGCCCC_r3', 'CAGTATTTCTCCTG_r1', 'CAGTATTTCTCCTG_r2', 'CAGTATTTCTCCTG_r3', 'ACGAAGGTAATAAC_r1', 'ACGAAGGTAATAAC_r2', 'ACGAAGGTAATAAC_r3', 'CGTCTCGTACTATT_r1', 'CTGTAGGATTTTCG_r1', 'CTGTAGGATTTTCG_r2', 'CTGTAGGATTTTCG_r3', 'GCATTATGGGCATT_r2', 'GCATTATGGGCATT_r3', 'TAGTGGATTAGAAG_r2', 'TAGTGGATTAGAAG_r3', 'GTTTCTGCGAGTAT_r2', 'GTTTCTGCGAGTAT_r3']\n"
     ]
    },
    {
     "name": "stderr",
     "output_type": "stream",
     "text": [
      "Processing characters: 100%|██████████| 7/7 [00:00<00:00, 53970.82it/s]\n"
     ]
    }
   ],
   "source": [
    "keep_cellbcs = []\n",
    "error_tumors = []\n",
    "\n",
    "for tumor, tumor_at in allele_table_unfiltered.groupby('Tumor'):\n",
    "    clone = meta.loc[meta['Tumor'] == tumor, 'Cell_Clone'].iloc[0]\n",
    "\n",
    "    #if type(clone) != str:\n",
    "    #    continue\n",
    "\n",
    "    #if 'All' in tumor or 'Met' in tumor or \"Fam\" in tumor:\n",
    "    #    continue\n",
    "\n",
    "    #if 'Normal' in tumor or 'Imm' in tumor:\n",
    "    #    continue\n",
    "\n",
    "    lg = lg_util.collectAlleles(tumor_at, thresh=0.2)[0]\n",
    "    \n",
    "    try:\n",
    "        cm2, priors, state2indel = util.alleletable_to_character_matrix(lg, write=False, mutation_map = None, allele_rep_thresh = 0.98)\n",
    "    except:\n",
    "        cm2, priors, state2indel = util.alleletable_to_character_matrix(lg, write=False, mutation_map = None, allele_rep_thresh = 1.0)\n",
    "        \n",
    "    pu = cm2.apply(lambda x: percent_uncut(x.values), axis=1)\n",
    "\n",
    "    cmf = cm2[pu < 0.8]\n",
    "    \n",
    "    cellbcs = cmf.index.values\n",
    "    \n",
    "    #meta.loc[dict(zip(pu.index, pu.values)), 'percent_uncut'] = pu.values\n",
    "\n",
    "    keep_cellbcs += list(cellbcs)"
   ]
  },
  {
   "cell_type": "code",
   "execution_count": 11,
   "metadata": {},
   "outputs": [
    {
     "data": {
      "text/html": [
       "<div>\n",
       "<style scoped>\n",
       "    .dataframe tbody tr th:only-of-type {\n",
       "        vertical-align: middle;\n",
       "    }\n",
       "\n",
       "    .dataframe tbody tr th {\n",
       "        vertical-align: top;\n",
       "    }\n",
       "\n",
       "    .dataframe thead th {\n",
       "        text-align: right;\n",
       "    }\n",
       "</style>\n",
       "<table border=\"1\" class=\"dataframe\">\n",
       "  <thead>\n",
       "    <tr style=\"text-align: right;\">\n",
       "      <th></th>\n",
       "      <th>X10x_Lane</th>\n",
       "      <th>Tumor</th>\n",
       "      <th>Cell_Clone</th>\n",
       "      <th>Genotype</th>\n",
       "      <th>MouseID</th>\n",
       "      <th>Aging_Month</th>\n",
       "      <th>Batch_Library</th>\n",
       "      <th>Batch_Harvest</th>\n",
       "      <th>Aging_day</th>\n",
       "    </tr>\n",
       "  </thead>\n",
       "  <tbody>\n",
       "    <tr>\n",
       "      <th>CTR_MGH.TGGAACTGTATGCGTT</th>\n",
       "      <td>L2</td>\n",
       "      <td>CTR_MGH_0</td>\n",
       "      <td>C1</td>\n",
       "      <td>NMIBC</td>\n",
       "      <td>M-3</td>\n",
       "      <td>2</td>\n",
       "      <td>NaN</td>\n",
       "      <td>NaN</td>\n",
       "      <td>60</td>\n",
       "    </tr>\n",
       "    <tr>\n",
       "      <th>CTR_MGH.GATGGAGCAAGCAGGT</th>\n",
       "      <td>L2</td>\n",
       "      <td>CTR_MGH_0</td>\n",
       "      <td>C1</td>\n",
       "      <td>NMIBC</td>\n",
       "      <td>M-3</td>\n",
       "      <td>2</td>\n",
       "      <td>NaN</td>\n",
       "      <td>NaN</td>\n",
       "      <td>60</td>\n",
       "    </tr>\n",
       "    <tr>\n",
       "      <th>CTR_MGH.GATCCCTCAAGAGTTA</th>\n",
       "      <td>L2</td>\n",
       "      <td>CTR_MGH_0</td>\n",
       "      <td>C1</td>\n",
       "      <td>NMIBC</td>\n",
       "      <td>M-3</td>\n",
       "      <td>2</td>\n",
       "      <td>NaN</td>\n",
       "      <td>NaN</td>\n",
       "      <td>60</td>\n",
       "    </tr>\n",
       "    <tr>\n",
       "      <th>CTR_MGH.GTTCATTGTGAATTGA</th>\n",
       "      <td>L2</td>\n",
       "      <td>CTR_MGH_0</td>\n",
       "      <td>C1</td>\n",
       "      <td>NMIBC</td>\n",
       "      <td>M-3</td>\n",
       "      <td>2</td>\n",
       "      <td>NaN</td>\n",
       "      <td>NaN</td>\n",
       "      <td>60</td>\n",
       "    </tr>\n",
       "    <tr>\n",
       "      <th>CTR_MGH.TTTCGATTCCGCTTAC</th>\n",
       "      <td>L2</td>\n",
       "      <td>CTR_MGH_0</td>\n",
       "      <td>C1</td>\n",
       "      <td>NMIBC</td>\n",
       "      <td>M-3</td>\n",
       "      <td>2</td>\n",
       "      <td>NaN</td>\n",
       "      <td>NaN</td>\n",
       "      <td>60</td>\n",
       "    </tr>\n",
       "    <tr>\n",
       "      <th>...</th>\n",
       "      <td>...</td>\n",
       "      <td>...</td>\n",
       "      <td>...</td>\n",
       "      <td>...</td>\n",
       "      <td>...</td>\n",
       "      <td>...</td>\n",
       "      <td>...</td>\n",
       "      <td>...</td>\n",
       "      <td>...</td>\n",
       "    </tr>\n",
       "    <tr>\n",
       "      <th>NMI_MGH.CTTCTAACACTTTAGG</th>\n",
       "      <td>L3</td>\n",
       "      <td>NMI_MGH_6</td>\n",
       "      <td>C1</td>\n",
       "      <td>NMIBC</td>\n",
       "      <td>M-12</td>\n",
       "      <td>3</td>\n",
       "      <td>NaN</td>\n",
       "      <td>NaN</td>\n",
       "      <td>98</td>\n",
       "    </tr>\n",
       "    <tr>\n",
       "      <th>NMI_MGH.GTGAGCCAGAAGCTCG</th>\n",
       "      <td>L3</td>\n",
       "      <td>NMI_MGH_6</td>\n",
       "      <td>C1</td>\n",
       "      <td>NMIBC</td>\n",
       "      <td>M-12</td>\n",
       "      <td>3</td>\n",
       "      <td>NaN</td>\n",
       "      <td>NaN</td>\n",
       "      <td>98</td>\n",
       "    </tr>\n",
       "    <tr>\n",
       "      <th>NMI_MGH.TGTGCGGTCTCTGGTC</th>\n",
       "      <td>L3</td>\n",
       "      <td>NMI_MGH_6</td>\n",
       "      <td>C1</td>\n",
       "      <td>NMIBC</td>\n",
       "      <td>M-12</td>\n",
       "      <td>3</td>\n",
       "      <td>NaN</td>\n",
       "      <td>NaN</td>\n",
       "      <td>98</td>\n",
       "    </tr>\n",
       "    <tr>\n",
       "      <th>NMI_MGH.GATGAGGCAAGTATAG</th>\n",
       "      <td>L3</td>\n",
       "      <td>NMI_MGH_6</td>\n",
       "      <td>C1</td>\n",
       "      <td>NMIBC</td>\n",
       "      <td>M-12</td>\n",
       "      <td>3</td>\n",
       "      <td>NaN</td>\n",
       "      <td>NaN</td>\n",
       "      <td>98</td>\n",
       "    </tr>\n",
       "    <tr>\n",
       "      <th>NMI_MGH.GGGAGATGTTCTATCT</th>\n",
       "      <td>L3</td>\n",
       "      <td>NMI_MGH_6</td>\n",
       "      <td>C1</td>\n",
       "      <td>NMIBC</td>\n",
       "      <td>M-12</td>\n",
       "      <td>3</td>\n",
       "      <td>NaN</td>\n",
       "      <td>NaN</td>\n",
       "      <td>98</td>\n",
       "    </tr>\n",
       "  </tbody>\n",
       "</table>\n",
       "<p>27085 rows × 9 columns</p>\n",
       "</div>"
      ],
      "text/plain": [
       "                         X10x_Lane      Tumor Cell_Clone Genotype MouseID  \\\n",
       "CTR_MGH.TGGAACTGTATGCGTT        L2  CTR_MGH_0         C1    NMIBC     M-3   \n",
       "CTR_MGH.GATGGAGCAAGCAGGT        L2  CTR_MGH_0         C1    NMIBC     M-3   \n",
       "CTR_MGH.GATCCCTCAAGAGTTA        L2  CTR_MGH_0         C1    NMIBC     M-3   \n",
       "CTR_MGH.GTTCATTGTGAATTGA        L2  CTR_MGH_0         C1    NMIBC     M-3   \n",
       "CTR_MGH.TTTCGATTCCGCTTAC        L2  CTR_MGH_0         C1    NMIBC     M-3   \n",
       "...                            ...        ...        ...      ...     ...   \n",
       "NMI_MGH.CTTCTAACACTTTAGG        L3  NMI_MGH_6         C1    NMIBC    M-12   \n",
       "NMI_MGH.GTGAGCCAGAAGCTCG        L3  NMI_MGH_6         C1    NMIBC    M-12   \n",
       "NMI_MGH.TGTGCGGTCTCTGGTC        L3  NMI_MGH_6         C1    NMIBC    M-12   \n",
       "NMI_MGH.GATGAGGCAAGTATAG        L3  NMI_MGH_6         C1    NMIBC    M-12   \n",
       "NMI_MGH.GGGAGATGTTCTATCT        L3  NMI_MGH_6         C1    NMIBC    M-12   \n",
       "\n",
       "                          Aging_Month  Batch_Library  Batch_Harvest  Aging_day  \n",
       "CTR_MGH.TGGAACTGTATGCGTT            2            NaN            NaN         60  \n",
       "CTR_MGH.GATGGAGCAAGCAGGT            2            NaN            NaN         60  \n",
       "CTR_MGH.GATCCCTCAAGAGTTA            2            NaN            NaN         60  \n",
       "CTR_MGH.GTTCATTGTGAATTGA            2            NaN            NaN         60  \n",
       "CTR_MGH.TTTCGATTCCGCTTAC            2            NaN            NaN         60  \n",
       "...                               ...            ...            ...        ...  \n",
       "NMI_MGH.CTTCTAACACTTTAGG            3            NaN            NaN         98  \n",
       "NMI_MGH.GTGAGCCAGAAGCTCG            3            NaN            NaN         98  \n",
       "NMI_MGH.TGTGCGGTCTCTGGTC            3            NaN            NaN         98  \n",
       "NMI_MGH.GATGAGGCAAGTATAG            3            NaN            NaN         98  \n",
       "NMI_MGH.GGGAGATGTTCTATCT            3            NaN            NaN         98  \n",
       "\n",
       "[27085 rows x 9 columns]"
      ]
     },
     "execution_count": 11,
     "metadata": {},
     "output_type": "execute_result"
    }
   ],
   "source": [
    "meta"
   ]
  },
  {
   "cell_type": "code",
   "execution_count": 12,
   "metadata": {},
   "outputs": [
    {
     "name": "stdout",
     "output_type": "stream",
     "text": [
      "Filtered to 12159 from 27085\n"
     ]
    }
   ],
   "source": [
    "filt = allele_table_unfiltered['cellBC'].isin(keep_cellbcs)\n",
    "allele_table_filtered = allele_table_unfiltered[filt].copy()\n",
    "\n",
    "print(f\"Filtered to {allele_table_filtered['cellBC'].nunique()} from {allele_table_unfiltered['cellBC'].nunique()}\")"
   ]
  },
  {
   "cell_type": "code",
   "execution_count": 13,
   "metadata": {},
   "outputs": [],
   "source": [
    "allele_table_filtered.to_csv(data_directory + \"/allele/AP.alleleTable.unfiltered.txt3\",sep='\\t',index= False ,header=True)"
   ]
  },
  {
   "cell_type": "code",
   "execution_count": 14,
   "metadata": {},
   "outputs": [
    {
     "data": {
      "text/html": [
       "<div>\n",
       "<style scoped>\n",
       "    .dataframe tbody tr th:only-of-type {\n",
       "        vertical-align: middle;\n",
       "    }\n",
       "\n",
       "    .dataframe tbody tr th {\n",
       "        vertical-align: top;\n",
       "    }\n",
       "\n",
       "    .dataframe thead th {\n",
       "        text-align: right;\n",
       "    }\n",
       "</style>\n",
       "<table border=\"1\" class=\"dataframe\">\n",
       "  <thead>\n",
       "    <tr style=\"text-align: right;\">\n",
       "      <th></th>\n",
       "      <th>Tumor</th>\n",
       "      <th>sampleID</th>\n",
       "      <th>cellBC</th>\n",
       "      <th>intBC</th>\n",
       "      <th>allele</th>\n",
       "      <th>r1</th>\n",
       "      <th>r2</th>\n",
       "      <th>r3</th>\n",
       "      <th>lineageGrp</th>\n",
       "      <th>UMI</th>\n",
       "      <th>readCount</th>\n",
       "      <th>Cell_Clone</th>\n",
       "    </tr>\n",
       "  </thead>\n",
       "  <tbody>\n",
       "    <tr>\n",
       "      <th>3</th>\n",
       "      <td>CTR_MGH_0</td>\n",
       "      <td>CTR_MGH</td>\n",
       "      <td>CTR_MGH.AACCTGATCTAGGCCG</td>\n",
       "      <td>ATTAGTGCCTCGAA</td>\n",
       "      <td>CCGAA[None]AAATGGATAT[None]GACATATTCG[None]CGGAG</td>\n",
       "      <td>CCGAA[None]AAATG</td>\n",
       "      <td>GATAT[None]GACAT</td>\n",
       "      <td>ATTCG[None]CGGAG</td>\n",
       "      <td>0</td>\n",
       "      <td>4</td>\n",
       "      <td>1322</td>\n",
       "      <td>C1</td>\n",
       "    </tr>\n",
       "    <tr>\n",
       "      <th>5</th>\n",
       "      <td>CTR_MGH_0</td>\n",
       "      <td>CTR_MGH</td>\n",
       "      <td>CTR_MGH.AACGTCAGTATACAGA</td>\n",
       "      <td>TCAAGAGTGCCCTT</td>\n",
       "      <td>CCGAA[None]AAATGGATAT[None]CTCTGATTCG[None]CGGAG</td>\n",
       "      <td>CCGAA[None]AAATG</td>\n",
       "      <td>GATAT[None]CTCTG</td>\n",
       "      <td>ATTCG[None]CGGAG</td>\n",
       "      <td>0</td>\n",
       "      <td>1</td>\n",
       "      <td>525</td>\n",
       "      <td>C1</td>\n",
       "    </tr>\n",
       "    <tr>\n",
       "      <th>11</th>\n",
       "      <td>CTR_MGH_0</td>\n",
       "      <td>CTR_MGH</td>\n",
       "      <td>CTR_MGH.GAGAGGTTCTAGAACC</td>\n",
       "      <td>TACAGCGCCTGTAT</td>\n",
       "      <td>CCGAA[None]AAATGGATAT[None]CTCTGATTCG[None]CGGAG</td>\n",
       "      <td>CCGAA[None]AAATG</td>\n",
       "      <td>GATAT[None]CTCTG</td>\n",
       "      <td>ATTCG[None]CGGAG</td>\n",
       "      <td>0</td>\n",
       "      <td>5</td>\n",
       "      <td>1306</td>\n",
       "      <td>C1</td>\n",
       "    </tr>\n",
       "    <tr>\n",
       "      <th>16</th>\n",
       "      <td>CTR_MGH_0</td>\n",
       "      <td>CTR_MGH</td>\n",
       "      <td>CTR_MGH.CCATCACAGGGAACAA</td>\n",
       "      <td>CCATGGTTGAGCAT</td>\n",
       "      <td>CGTCG[90:66D]TCATACGTCG[90:66D]TCATAATTCG[None...</td>\n",
       "      <td>CGTCG[90:66D]TCATA</td>\n",
       "      <td>CGTCG[90:66D]TCATA</td>\n",
       "      <td>ATTCG[None]CGGAG</td>\n",
       "      <td>0</td>\n",
       "      <td>13</td>\n",
       "      <td>5404</td>\n",
       "      <td>C1</td>\n",
       "    </tr>\n",
       "    <tr>\n",
       "      <th>21</th>\n",
       "      <td>CTR_MGH_0</td>\n",
       "      <td>CTR_MGH</td>\n",
       "      <td>CTR_MGH.TAGTGCAGTTAGGAGC</td>\n",
       "      <td>AGGCCAATGGATGA</td>\n",
       "      <td>TGTAC[108:21D]TAAGCGATAT[None]CTCTGATTCG[None]...</td>\n",
       "      <td>TGTAC[108:21D]TAAGC</td>\n",
       "      <td>GATAT[None]CTCTG</td>\n",
       "      <td>ATTCG[None]CGGAG</td>\n",
       "      <td>0</td>\n",
       "      <td>12</td>\n",
       "      <td>4838</td>\n",
       "      <td>C1</td>\n",
       "    </tr>\n",
       "    <tr>\n",
       "      <th>...</th>\n",
       "      <td>...</td>\n",
       "      <td>...</td>\n",
       "      <td>...</td>\n",
       "      <td>...</td>\n",
       "      <td>...</td>\n",
       "      <td>...</td>\n",
       "      <td>...</td>\n",
       "      <td>...</td>\n",
       "      <td>...</td>\n",
       "      <td>...</td>\n",
       "      <td>...</td>\n",
       "      <td>...</td>\n",
       "    </tr>\n",
       "    <tr>\n",
       "      <th>236505</th>\n",
       "      <td>NMI_MGH_6</td>\n",
       "      <td>NMI_MGH</td>\n",
       "      <td>NMI_MGH.GATTCGACAATACCTG</td>\n",
       "      <td>CAGTATTTCTCCTG</td>\n",
       "      <td>CCGAA[None]AAATGGATAT[None]CTCTGATTCG[None]CGGAG</td>\n",
       "      <td>CCGAA[None]AAATG</td>\n",
       "      <td>GATAT[None]CTCTG</td>\n",
       "      <td>ATTCG[None]CGGAG</td>\n",
       "      <td>6</td>\n",
       "      <td>2</td>\n",
       "      <td>424</td>\n",
       "      <td>C1</td>\n",
       "    </tr>\n",
       "    <tr>\n",
       "      <th>236506</th>\n",
       "      <td>NMI_MGH_6</td>\n",
       "      <td>NMI_MGH</td>\n",
       "      <td>NMI_MGH.GATTCGACAATACCTG</td>\n",
       "      <td>CGTCTCGTACTATT</td>\n",
       "      <td>CCGAA[None]AAATGGATAT[None]CTCTGATTCG[None]CGGAG</td>\n",
       "      <td>CCGAA[None]AAATG</td>\n",
       "      <td>GATAT[None]CTCTG</td>\n",
       "      <td>ATTCG[None]CGGAG</td>\n",
       "      <td>6</td>\n",
       "      <td>4</td>\n",
       "      <td>1027</td>\n",
       "      <td>C1</td>\n",
       "    </tr>\n",
       "    <tr>\n",
       "      <th>236508</th>\n",
       "      <td>NMI_MGH_6</td>\n",
       "      <td>NMI_MGH</td>\n",
       "      <td>NMI_MGH.GATTCGACAATACCTG</td>\n",
       "      <td>ACGAAGGTAATAAC</td>\n",
       "      <td>CCGAA[None]AAATGGATAT[168:5D]GTTCAATTCG[None]C...</td>\n",
       "      <td>CCGAA[None]AAATG</td>\n",
       "      <td>GATAT[168:5D]GTTCA</td>\n",
       "      <td>ATTCG[None]CGGAG</td>\n",
       "      <td>6</td>\n",
       "      <td>5</td>\n",
       "      <td>1655</td>\n",
       "      <td>C1</td>\n",
       "    </tr>\n",
       "    <tr>\n",
       "      <th>236509</th>\n",
       "      <td>NMI_MGH_6</td>\n",
       "      <td>NMI_MGH</td>\n",
       "      <td>NMI_MGH.GATTCGACAATACCTG</td>\n",
       "      <td>GACTGTTTATGACC</td>\n",
       "      <td>CCGAA[None]AAATGGATAT[None]CTCTGATTCG[None]CGGAG</td>\n",
       "      <td>CCGAA[None]AAATG</td>\n",
       "      <td>GATAT[None]CTCTG</td>\n",
       "      <td>ATTCG[None]CGGAG</td>\n",
       "      <td>6</td>\n",
       "      <td>1</td>\n",
       "      <td>291</td>\n",
       "      <td>C1</td>\n",
       "    </tr>\n",
       "    <tr>\n",
       "      <th>236512</th>\n",
       "      <td>NMI_MGH_6</td>\n",
       "      <td>NMI_MGH</td>\n",
       "      <td>NMI_MGH.GATTCGACAATACCTG</td>\n",
       "      <td>CTGTAGGATTTTCG</td>\n",
       "      <td>CCGAA[None]AAATGGATAT[None]CTCTGATTCG[None]CGGAG</td>\n",
       "      <td>CCGAA[None]AAATG</td>\n",
       "      <td>GATAT[None]CTCTG</td>\n",
       "      <td>ATTCG[None]CGGAG</td>\n",
       "      <td>6</td>\n",
       "      <td>1</td>\n",
       "      <td>446</td>\n",
       "      <td>C1</td>\n",
       "    </tr>\n",
       "  </tbody>\n",
       "</table>\n",
       "<p>97754 rows × 12 columns</p>\n",
       "</div>"
      ],
      "text/plain": [
       "            Tumor sampleID                    cellBC           intBC  \\\n",
       "3       CTR_MGH_0  CTR_MGH  CTR_MGH.AACCTGATCTAGGCCG  ATTAGTGCCTCGAA   \n",
       "5       CTR_MGH_0  CTR_MGH  CTR_MGH.AACGTCAGTATACAGA  TCAAGAGTGCCCTT   \n",
       "11      CTR_MGH_0  CTR_MGH  CTR_MGH.GAGAGGTTCTAGAACC  TACAGCGCCTGTAT   \n",
       "16      CTR_MGH_0  CTR_MGH  CTR_MGH.CCATCACAGGGAACAA  CCATGGTTGAGCAT   \n",
       "21      CTR_MGH_0  CTR_MGH  CTR_MGH.TAGTGCAGTTAGGAGC  AGGCCAATGGATGA   \n",
       "...           ...      ...                       ...             ...   \n",
       "236505  NMI_MGH_6  NMI_MGH  NMI_MGH.GATTCGACAATACCTG  CAGTATTTCTCCTG   \n",
       "236506  NMI_MGH_6  NMI_MGH  NMI_MGH.GATTCGACAATACCTG  CGTCTCGTACTATT   \n",
       "236508  NMI_MGH_6  NMI_MGH  NMI_MGH.GATTCGACAATACCTG  ACGAAGGTAATAAC   \n",
       "236509  NMI_MGH_6  NMI_MGH  NMI_MGH.GATTCGACAATACCTG  GACTGTTTATGACC   \n",
       "236512  NMI_MGH_6  NMI_MGH  NMI_MGH.GATTCGACAATACCTG  CTGTAGGATTTTCG   \n",
       "\n",
       "                                                   allele  \\\n",
       "3        CCGAA[None]AAATGGATAT[None]GACATATTCG[None]CGGAG   \n",
       "5        CCGAA[None]AAATGGATAT[None]CTCTGATTCG[None]CGGAG   \n",
       "11       CCGAA[None]AAATGGATAT[None]CTCTGATTCG[None]CGGAG   \n",
       "16      CGTCG[90:66D]TCATACGTCG[90:66D]TCATAATTCG[None...   \n",
       "21      TGTAC[108:21D]TAAGCGATAT[None]CTCTGATTCG[None]...   \n",
       "...                                                   ...   \n",
       "236505   CCGAA[None]AAATGGATAT[None]CTCTGATTCG[None]CGGAG   \n",
       "236506   CCGAA[None]AAATGGATAT[None]CTCTGATTCG[None]CGGAG   \n",
       "236508  CCGAA[None]AAATGGATAT[168:5D]GTTCAATTCG[None]C...   \n",
       "236509   CCGAA[None]AAATGGATAT[None]CTCTGATTCG[None]CGGAG   \n",
       "236512   CCGAA[None]AAATGGATAT[None]CTCTGATTCG[None]CGGAG   \n",
       "\n",
       "                         r1                  r2                r3  lineageGrp  \\\n",
       "3          CCGAA[None]AAATG    GATAT[None]GACAT  ATTCG[None]CGGAG           0   \n",
       "5          CCGAA[None]AAATG    GATAT[None]CTCTG  ATTCG[None]CGGAG           0   \n",
       "11         CCGAA[None]AAATG    GATAT[None]CTCTG  ATTCG[None]CGGAG           0   \n",
       "16       CGTCG[90:66D]TCATA  CGTCG[90:66D]TCATA  ATTCG[None]CGGAG           0   \n",
       "21      TGTAC[108:21D]TAAGC    GATAT[None]CTCTG  ATTCG[None]CGGAG           0   \n",
       "...                     ...                 ...               ...         ...   \n",
       "236505     CCGAA[None]AAATG    GATAT[None]CTCTG  ATTCG[None]CGGAG           6   \n",
       "236506     CCGAA[None]AAATG    GATAT[None]CTCTG  ATTCG[None]CGGAG           6   \n",
       "236508     CCGAA[None]AAATG  GATAT[168:5D]GTTCA  ATTCG[None]CGGAG           6   \n",
       "236509     CCGAA[None]AAATG    GATAT[None]CTCTG  ATTCG[None]CGGAG           6   \n",
       "236512     CCGAA[None]AAATG    GATAT[None]CTCTG  ATTCG[None]CGGAG           6   \n",
       "\n",
       "        UMI  readCount Cell_Clone  \n",
       "3         4       1322         C1  \n",
       "5         1        525         C1  \n",
       "11        5       1306         C1  \n",
       "16       13       5404         C1  \n",
       "21       12       4838         C1  \n",
       "...     ...        ...        ...  \n",
       "236505    2        424         C1  \n",
       "236506    4       1027         C1  \n",
       "236508    5       1655         C1  \n",
       "236509    1        291         C1  \n",
       "236512    1        446         C1  \n",
       "\n",
       "[97754 rows x 12 columns]"
      ]
     },
     "execution_count": 14,
     "metadata": {},
     "output_type": "execute_result"
    }
   ],
   "source": [
    "allele_table_filtered"
   ]
  },
  {
   "cell_type": "code",
   "execution_count": 15,
   "metadata": {},
   "outputs": [
    {
     "data": {
      "text/html": [
       "<div>\n",
       "<style scoped>\n",
       "    .dataframe tbody tr th:only-of-type {\n",
       "        vertical-align: middle;\n",
       "    }\n",
       "\n",
       "    .dataframe tbody tr th {\n",
       "        vertical-align: top;\n",
       "    }\n",
       "\n",
       "    .dataframe thead th {\n",
       "        text-align: right;\n",
       "    }\n",
       "</style>\n",
       "<table border=\"1\" class=\"dataframe\">\n",
       "  <thead>\n",
       "    <tr style=\"text-align: right;\">\n",
       "      <th></th>\n",
       "      <th>Tumor</th>\n",
       "      <th>sampleID</th>\n",
       "      <th>cellBC</th>\n",
       "      <th>intBC</th>\n",
       "      <th>allele</th>\n",
       "      <th>r1</th>\n",
       "      <th>r2</th>\n",
       "      <th>r3</th>\n",
       "      <th>lineageGrp</th>\n",
       "      <th>UMI</th>\n",
       "      <th>readCount</th>\n",
       "      <th>Cell_Clone</th>\n",
       "    </tr>\n",
       "  </thead>\n",
       "  <tbody>\n",
       "    <tr>\n",
       "      <th>3</th>\n",
       "      <td>CTR_MGH_0</td>\n",
       "      <td>CTR_MGH</td>\n",
       "      <td>CTR_MGH.AACCTGATCTAGGCCG</td>\n",
       "      <td>ATTAGTGCCTCGAA</td>\n",
       "      <td>CCGAA[None]AAATGGATAT[None]GACATATTCG[None]CGGAG</td>\n",
       "      <td>CCGAA[None]AAATG</td>\n",
       "      <td>GATAT[None]GACAT</td>\n",
       "      <td>ATTCG[None]CGGAG</td>\n",
       "      <td>0</td>\n",
       "      <td>4</td>\n",
       "      <td>1322</td>\n",
       "      <td>C1</td>\n",
       "    </tr>\n",
       "    <tr>\n",
       "      <th>5</th>\n",
       "      <td>CTR_MGH_0</td>\n",
       "      <td>CTR_MGH</td>\n",
       "      <td>CTR_MGH.AACGTCAGTATACAGA</td>\n",
       "      <td>TCAAGAGTGCCCTT</td>\n",
       "      <td>CCGAA[None]AAATGGATAT[None]CTCTGATTCG[None]CGGAG</td>\n",
       "      <td>CCGAA[None]AAATG</td>\n",
       "      <td>GATAT[None]CTCTG</td>\n",
       "      <td>ATTCG[None]CGGAG</td>\n",
       "      <td>0</td>\n",
       "      <td>1</td>\n",
       "      <td>525</td>\n",
       "      <td>C1</td>\n",
       "    </tr>\n",
       "    <tr>\n",
       "      <th>11</th>\n",
       "      <td>CTR_MGH_0</td>\n",
       "      <td>CTR_MGH</td>\n",
       "      <td>CTR_MGH.GAGAGGTTCTAGAACC</td>\n",
       "      <td>TACAGCGCCTGTAT</td>\n",
       "      <td>CCGAA[None]AAATGGATAT[None]CTCTGATTCG[None]CGGAG</td>\n",
       "      <td>CCGAA[None]AAATG</td>\n",
       "      <td>GATAT[None]CTCTG</td>\n",
       "      <td>ATTCG[None]CGGAG</td>\n",
       "      <td>0</td>\n",
       "      <td>5</td>\n",
       "      <td>1306</td>\n",
       "      <td>C1</td>\n",
       "    </tr>\n",
       "    <tr>\n",
       "      <th>16</th>\n",
       "      <td>CTR_MGH_0</td>\n",
       "      <td>CTR_MGH</td>\n",
       "      <td>CTR_MGH.CCATCACAGGGAACAA</td>\n",
       "      <td>CCATGGTTGAGCAT</td>\n",
       "      <td>CGTCG[90:66D]TCATACGTCG[90:66D]TCATAATTCG[None...</td>\n",
       "      <td>CGTCG[90:66D]TCATA</td>\n",
       "      <td>CGTCG[90:66D]TCATA</td>\n",
       "      <td>ATTCG[None]CGGAG</td>\n",
       "      <td>0</td>\n",
       "      <td>13</td>\n",
       "      <td>5404</td>\n",
       "      <td>C1</td>\n",
       "    </tr>\n",
       "    <tr>\n",
       "      <th>21</th>\n",
       "      <td>CTR_MGH_0</td>\n",
       "      <td>CTR_MGH</td>\n",
       "      <td>CTR_MGH.TAGTGCAGTTAGGAGC</td>\n",
       "      <td>AGGCCAATGGATGA</td>\n",
       "      <td>TGTAC[108:21D]TAAGCGATAT[None]CTCTGATTCG[None]...</td>\n",
       "      <td>TGTAC[108:21D]TAAGC</td>\n",
       "      <td>GATAT[None]CTCTG</td>\n",
       "      <td>ATTCG[None]CGGAG</td>\n",
       "      <td>0</td>\n",
       "      <td>12</td>\n",
       "      <td>4838</td>\n",
       "      <td>C1</td>\n",
       "    </tr>\n",
       "    <tr>\n",
       "      <th>...</th>\n",
       "      <td>...</td>\n",
       "      <td>...</td>\n",
       "      <td>...</td>\n",
       "      <td>...</td>\n",
       "      <td>...</td>\n",
       "      <td>...</td>\n",
       "      <td>...</td>\n",
       "      <td>...</td>\n",
       "      <td>...</td>\n",
       "      <td>...</td>\n",
       "      <td>...</td>\n",
       "      <td>...</td>\n",
       "    </tr>\n",
       "    <tr>\n",
       "      <th>236505</th>\n",
       "      <td>NMI_MGH_6</td>\n",
       "      <td>NMI_MGH</td>\n",
       "      <td>NMI_MGH.GATTCGACAATACCTG</td>\n",
       "      <td>CAGTATTTCTCCTG</td>\n",
       "      <td>CCGAA[None]AAATGGATAT[None]CTCTGATTCG[None]CGGAG</td>\n",
       "      <td>CCGAA[None]AAATG</td>\n",
       "      <td>GATAT[None]CTCTG</td>\n",
       "      <td>ATTCG[None]CGGAG</td>\n",
       "      <td>6</td>\n",
       "      <td>2</td>\n",
       "      <td>424</td>\n",
       "      <td>C1</td>\n",
       "    </tr>\n",
       "    <tr>\n",
       "      <th>236506</th>\n",
       "      <td>NMI_MGH_6</td>\n",
       "      <td>NMI_MGH</td>\n",
       "      <td>NMI_MGH.GATTCGACAATACCTG</td>\n",
       "      <td>CGTCTCGTACTATT</td>\n",
       "      <td>CCGAA[None]AAATGGATAT[None]CTCTGATTCG[None]CGGAG</td>\n",
       "      <td>CCGAA[None]AAATG</td>\n",
       "      <td>GATAT[None]CTCTG</td>\n",
       "      <td>ATTCG[None]CGGAG</td>\n",
       "      <td>6</td>\n",
       "      <td>4</td>\n",
       "      <td>1027</td>\n",
       "      <td>C1</td>\n",
       "    </tr>\n",
       "    <tr>\n",
       "      <th>236508</th>\n",
       "      <td>NMI_MGH_6</td>\n",
       "      <td>NMI_MGH</td>\n",
       "      <td>NMI_MGH.GATTCGACAATACCTG</td>\n",
       "      <td>ACGAAGGTAATAAC</td>\n",
       "      <td>CCGAA[None]AAATGGATAT[168:5D]GTTCAATTCG[None]C...</td>\n",
       "      <td>CCGAA[None]AAATG</td>\n",
       "      <td>GATAT[168:5D]GTTCA</td>\n",
       "      <td>ATTCG[None]CGGAG</td>\n",
       "      <td>6</td>\n",
       "      <td>5</td>\n",
       "      <td>1655</td>\n",
       "      <td>C1</td>\n",
       "    </tr>\n",
       "    <tr>\n",
       "      <th>236509</th>\n",
       "      <td>NMI_MGH_6</td>\n",
       "      <td>NMI_MGH</td>\n",
       "      <td>NMI_MGH.GATTCGACAATACCTG</td>\n",
       "      <td>GACTGTTTATGACC</td>\n",
       "      <td>CCGAA[None]AAATGGATAT[None]CTCTGATTCG[None]CGGAG</td>\n",
       "      <td>CCGAA[None]AAATG</td>\n",
       "      <td>GATAT[None]CTCTG</td>\n",
       "      <td>ATTCG[None]CGGAG</td>\n",
       "      <td>6</td>\n",
       "      <td>1</td>\n",
       "      <td>291</td>\n",
       "      <td>C1</td>\n",
       "    </tr>\n",
       "    <tr>\n",
       "      <th>236512</th>\n",
       "      <td>NMI_MGH_6</td>\n",
       "      <td>NMI_MGH</td>\n",
       "      <td>NMI_MGH.GATTCGACAATACCTG</td>\n",
       "      <td>CTGTAGGATTTTCG</td>\n",
       "      <td>CCGAA[None]AAATGGATAT[None]CTCTGATTCG[None]CGGAG</td>\n",
       "      <td>CCGAA[None]AAATG</td>\n",
       "      <td>GATAT[None]CTCTG</td>\n",
       "      <td>ATTCG[None]CGGAG</td>\n",
       "      <td>6</td>\n",
       "      <td>1</td>\n",
       "      <td>446</td>\n",
       "      <td>C1</td>\n",
       "    </tr>\n",
       "  </tbody>\n",
       "</table>\n",
       "<p>97754 rows × 12 columns</p>\n",
       "</div>"
      ],
      "text/plain": [
       "            Tumor sampleID                    cellBC           intBC  \\\n",
       "3       CTR_MGH_0  CTR_MGH  CTR_MGH.AACCTGATCTAGGCCG  ATTAGTGCCTCGAA   \n",
       "5       CTR_MGH_0  CTR_MGH  CTR_MGH.AACGTCAGTATACAGA  TCAAGAGTGCCCTT   \n",
       "11      CTR_MGH_0  CTR_MGH  CTR_MGH.GAGAGGTTCTAGAACC  TACAGCGCCTGTAT   \n",
       "16      CTR_MGH_0  CTR_MGH  CTR_MGH.CCATCACAGGGAACAA  CCATGGTTGAGCAT   \n",
       "21      CTR_MGH_0  CTR_MGH  CTR_MGH.TAGTGCAGTTAGGAGC  AGGCCAATGGATGA   \n",
       "...           ...      ...                       ...             ...   \n",
       "236505  NMI_MGH_6  NMI_MGH  NMI_MGH.GATTCGACAATACCTG  CAGTATTTCTCCTG   \n",
       "236506  NMI_MGH_6  NMI_MGH  NMI_MGH.GATTCGACAATACCTG  CGTCTCGTACTATT   \n",
       "236508  NMI_MGH_6  NMI_MGH  NMI_MGH.GATTCGACAATACCTG  ACGAAGGTAATAAC   \n",
       "236509  NMI_MGH_6  NMI_MGH  NMI_MGH.GATTCGACAATACCTG  GACTGTTTATGACC   \n",
       "236512  NMI_MGH_6  NMI_MGH  NMI_MGH.GATTCGACAATACCTG  CTGTAGGATTTTCG   \n",
       "\n",
       "                                                   allele  \\\n",
       "3        CCGAA[None]AAATGGATAT[None]GACATATTCG[None]CGGAG   \n",
       "5        CCGAA[None]AAATGGATAT[None]CTCTGATTCG[None]CGGAG   \n",
       "11       CCGAA[None]AAATGGATAT[None]CTCTGATTCG[None]CGGAG   \n",
       "16      CGTCG[90:66D]TCATACGTCG[90:66D]TCATAATTCG[None...   \n",
       "21      TGTAC[108:21D]TAAGCGATAT[None]CTCTGATTCG[None]...   \n",
       "...                                                   ...   \n",
       "236505   CCGAA[None]AAATGGATAT[None]CTCTGATTCG[None]CGGAG   \n",
       "236506   CCGAA[None]AAATGGATAT[None]CTCTGATTCG[None]CGGAG   \n",
       "236508  CCGAA[None]AAATGGATAT[168:5D]GTTCAATTCG[None]C...   \n",
       "236509   CCGAA[None]AAATGGATAT[None]CTCTGATTCG[None]CGGAG   \n",
       "236512   CCGAA[None]AAATGGATAT[None]CTCTGATTCG[None]CGGAG   \n",
       "\n",
       "                         r1                  r2                r3  lineageGrp  \\\n",
       "3          CCGAA[None]AAATG    GATAT[None]GACAT  ATTCG[None]CGGAG           0   \n",
       "5          CCGAA[None]AAATG    GATAT[None]CTCTG  ATTCG[None]CGGAG           0   \n",
       "11         CCGAA[None]AAATG    GATAT[None]CTCTG  ATTCG[None]CGGAG           0   \n",
       "16       CGTCG[90:66D]TCATA  CGTCG[90:66D]TCATA  ATTCG[None]CGGAG           0   \n",
       "21      TGTAC[108:21D]TAAGC    GATAT[None]CTCTG  ATTCG[None]CGGAG           0   \n",
       "...                     ...                 ...               ...         ...   \n",
       "236505     CCGAA[None]AAATG    GATAT[None]CTCTG  ATTCG[None]CGGAG           6   \n",
       "236506     CCGAA[None]AAATG    GATAT[None]CTCTG  ATTCG[None]CGGAG           6   \n",
       "236508     CCGAA[None]AAATG  GATAT[168:5D]GTTCA  ATTCG[None]CGGAG           6   \n",
       "236509     CCGAA[None]AAATG    GATAT[None]CTCTG  ATTCG[None]CGGAG           6   \n",
       "236512     CCGAA[None]AAATG    GATAT[None]CTCTG  ATTCG[None]CGGAG           6   \n",
       "\n",
       "        UMI  readCount Cell_Clone  \n",
       "3         4       1322         C1  \n",
       "5         1        525         C1  \n",
       "11        5       1306         C1  \n",
       "16       13       5404         C1  \n",
       "21       12       4838         C1  \n",
       "...     ...        ...        ...  \n",
       "236505    2        424         C1  \n",
       "236506    4       1027         C1  \n",
       "236508    5       1655         C1  \n",
       "236509    1        291         C1  \n",
       "236512    1        446         C1  \n",
       "\n",
       "[97754 rows x 12 columns]"
      ]
     },
     "execution_count": 15,
     "metadata": {},
     "output_type": "execute_result"
    }
   ],
   "source": [
    "allele_table_filtered"
   ]
  },
  {
   "cell_type": "code",
   "execution_count": 16,
   "metadata": {},
   "outputs": [
    {
     "data": {
      "text/html": [
       "<div>\n",
       "<style scoped>\n",
       "    .dataframe tbody tr th:only-of-type {\n",
       "        vertical-align: middle;\n",
       "    }\n",
       "\n",
       "    .dataframe tbody tr th {\n",
       "        vertical-align: top;\n",
       "    }\n",
       "\n",
       "    .dataframe thead th {\n",
       "        text-align: right;\n",
       "    }\n",
       "</style>\n",
       "<table border=\"1\" class=\"dataframe\">\n",
       "  <thead>\n",
       "    <tr style=\"text-align: right;\">\n",
       "      <th></th>\n",
       "      <th>Data_Inject</th>\n",
       "      <th>Date_Sac</th>\n",
       "      <th>Aging_day</th>\n",
       "      <th>Cell_Clone</th>\n",
       "      <th>Genotype</th>\n",
       "      <th>MouseID</th>\n",
       "      <th>Aging_Month</th>\n",
       "      <th>Batch_Library</th>\n",
       "      <th>Batch_Harvest</th>\n",
       "      <th>Tumor_Name</th>\n",
       "      <th>Sample_Name</th>\n",
       "      <th>Tumor</th>\n",
       "      <th>Multi_BC</th>\n",
       "      <th>X10x_Lane</th>\n",
       "    </tr>\n",
       "  </thead>\n",
       "  <tbody>\n",
       "    <tr>\n",
       "      <th>0</th>\n",
       "      <td>3/8/22</td>\n",
       "      <td>5/7/22</td>\n",
       "      <td>60</td>\n",
       "      <td>C1</td>\n",
       "      <td>NMIBC</td>\n",
       "      <td>M-3</td>\n",
       "      <td>2</td>\n",
       "      <td>NaN</td>\n",
       "      <td>NaN</td>\n",
       "      <td>MC</td>\n",
       "      <td>CTR_M</td>\n",
       "      <td>CTR_MGH_1</td>\n",
       "      <td>TCGTAGTG</td>\n",
       "      <td>L2</td>\n",
       "    </tr>\n",
       "    <tr>\n",
       "      <th>1</th>\n",
       "      <td>3/8/22</td>\n",
       "      <td>5/7/22</td>\n",
       "      <td>60</td>\n",
       "      <td>C1</td>\n",
       "      <td>NMIBC</td>\n",
       "      <td>M-3</td>\n",
       "      <td>2</td>\n",
       "      <td>NaN</td>\n",
       "      <td>NaN</td>\n",
       "      <td>MC</td>\n",
       "      <td>CTR_M</td>\n",
       "      <td>CTR_MGH_3</td>\n",
       "      <td>TCGTAGTG</td>\n",
       "      <td>L2</td>\n",
       "    </tr>\n",
       "    <tr>\n",
       "      <th>2</th>\n",
       "      <td>3/8/22</td>\n",
       "      <td>5/7/22</td>\n",
       "      <td>60</td>\n",
       "      <td>C1</td>\n",
       "      <td>NMIBC</td>\n",
       "      <td>M-3</td>\n",
       "      <td>2</td>\n",
       "      <td>NaN</td>\n",
       "      <td>NaN</td>\n",
       "      <td>MC</td>\n",
       "      <td>CTR_M</td>\n",
       "      <td>CTR_MGH_4</td>\n",
       "      <td>TCGTAGTG</td>\n",
       "      <td>L2</td>\n",
       "    </tr>\n",
       "    <tr>\n",
       "      <th>3</th>\n",
       "      <td>3/8/22</td>\n",
       "      <td>5/7/22</td>\n",
       "      <td>60</td>\n",
       "      <td>C1</td>\n",
       "      <td>NMIBC</td>\n",
       "      <td>M-3</td>\n",
       "      <td>2</td>\n",
       "      <td>NaN</td>\n",
       "      <td>NaN</td>\n",
       "      <td>MC</td>\n",
       "      <td>CTR_M</td>\n",
       "      <td>CTR_MGH_6</td>\n",
       "      <td>TCGTAGTG</td>\n",
       "      <td>L2</td>\n",
       "    </tr>\n",
       "    <tr>\n",
       "      <th>4</th>\n",
       "      <td>3/8/22</td>\n",
       "      <td>5/7/22</td>\n",
       "      <td>60</td>\n",
       "      <td>C1</td>\n",
       "      <td>NMIBC</td>\n",
       "      <td>M-3</td>\n",
       "      <td>2</td>\n",
       "      <td>NaN</td>\n",
       "      <td>NaN</td>\n",
       "      <td>MC</td>\n",
       "      <td>CTR_M</td>\n",
       "      <td>CTR_MGH_2</td>\n",
       "      <td>TCGTAGTG</td>\n",
       "      <td>L2</td>\n",
       "    </tr>\n",
       "    <tr>\n",
       "      <th>5</th>\n",
       "      <td>3/8/22</td>\n",
       "      <td>5/7/22</td>\n",
       "      <td>60</td>\n",
       "      <td>C1</td>\n",
       "      <td>NMIBC</td>\n",
       "      <td>M-3</td>\n",
       "      <td>2</td>\n",
       "      <td>NaN</td>\n",
       "      <td>NaN</td>\n",
       "      <td>MC</td>\n",
       "      <td>CTR_M</td>\n",
       "      <td>CTR_MGH_8</td>\n",
       "      <td>TCGTAGTG</td>\n",
       "      <td>L2</td>\n",
       "    </tr>\n",
       "    <tr>\n",
       "      <th>6</th>\n",
       "      <td>3/8/22</td>\n",
       "      <td>5/7/22</td>\n",
       "      <td>60</td>\n",
       "      <td>C1</td>\n",
       "      <td>NMIBC</td>\n",
       "      <td>M-3</td>\n",
       "      <td>2</td>\n",
       "      <td>NaN</td>\n",
       "      <td>NaN</td>\n",
       "      <td>MC</td>\n",
       "      <td>CTR_M</td>\n",
       "      <td>CTR_MGH_5</td>\n",
       "      <td>TCGTAGTG</td>\n",
       "      <td>L2</td>\n",
       "    </tr>\n",
       "    <tr>\n",
       "      <th>7</th>\n",
       "      <td>3/8/22</td>\n",
       "      <td>5/7/22</td>\n",
       "      <td>60</td>\n",
       "      <td>C1</td>\n",
       "      <td>NMIBC</td>\n",
       "      <td>M-3</td>\n",
       "      <td>2</td>\n",
       "      <td>NaN</td>\n",
       "      <td>NaN</td>\n",
       "      <td>MC</td>\n",
       "      <td>CTR_M</td>\n",
       "      <td>CTR_MGH_9</td>\n",
       "      <td>TCGTAGTG</td>\n",
       "      <td>L2</td>\n",
       "    </tr>\n",
       "    <tr>\n",
       "      <th>8</th>\n",
       "      <td>3/8/22</td>\n",
       "      <td>5/7/22</td>\n",
       "      <td>60</td>\n",
       "      <td>C1</td>\n",
       "      <td>NMIBC</td>\n",
       "      <td>M-3</td>\n",
       "      <td>2</td>\n",
       "      <td>NaN</td>\n",
       "      <td>NaN</td>\n",
       "      <td>MC</td>\n",
       "      <td>CTR_M</td>\n",
       "      <td>CTR_MGH_0</td>\n",
       "      <td>TCGTAGTG</td>\n",
       "      <td>L2</td>\n",
       "    </tr>\n",
       "    <tr>\n",
       "      <th>9</th>\n",
       "      <td>3/8/22</td>\n",
       "      <td>5/7/22</td>\n",
       "      <td>60</td>\n",
       "      <td>C1</td>\n",
       "      <td>NMIBC</td>\n",
       "      <td>M-3</td>\n",
       "      <td>2</td>\n",
       "      <td>NaN</td>\n",
       "      <td>NaN</td>\n",
       "      <td>MC</td>\n",
       "      <td>CTR_M</td>\n",
       "      <td>CTR_MGH_12</td>\n",
       "      <td>TCGTAGTG</td>\n",
       "      <td>L2</td>\n",
       "    </tr>\n",
       "    <tr>\n",
       "      <th>10</th>\n",
       "      <td>3/8/22</td>\n",
       "      <td>5/7/22</td>\n",
       "      <td>60</td>\n",
       "      <td>C1</td>\n",
       "      <td>NMIBC</td>\n",
       "      <td>M-3</td>\n",
       "      <td>2</td>\n",
       "      <td>NaN</td>\n",
       "      <td>NaN</td>\n",
       "      <td>MC</td>\n",
       "      <td>CTR_M</td>\n",
       "      <td>CTR_MGH_7</td>\n",
       "      <td>TCGTAGTG</td>\n",
       "      <td>L2</td>\n",
       "    </tr>\n",
       "    <tr>\n",
       "      <th>11</th>\n",
       "      <td>3/8/22</td>\n",
       "      <td>5/7/22</td>\n",
       "      <td>60</td>\n",
       "      <td>C1</td>\n",
       "      <td>NMIBC</td>\n",
       "      <td>M-3</td>\n",
       "      <td>2</td>\n",
       "      <td>NaN</td>\n",
       "      <td>NaN</td>\n",
       "      <td>MC</td>\n",
       "      <td>CTR_M</td>\n",
       "      <td>CTR_MGH_10</td>\n",
       "      <td>TCGTAGTG</td>\n",
       "      <td>L2</td>\n",
       "    </tr>\n",
       "    <tr>\n",
       "      <th>12</th>\n",
       "      <td>3/8/22</td>\n",
       "      <td>5/7/22</td>\n",
       "      <td>60</td>\n",
       "      <td>C1</td>\n",
       "      <td>NMIBC</td>\n",
       "      <td>M-3</td>\n",
       "      <td>2</td>\n",
       "      <td>NaN</td>\n",
       "      <td>NaN</td>\n",
       "      <td>MC</td>\n",
       "      <td>CTR_M</td>\n",
       "      <td>CTR_MGH_11</td>\n",
       "      <td>TCGTAGTG</td>\n",
       "      <td>L2</td>\n",
       "    </tr>\n",
       "    <tr>\n",
       "      <th>13</th>\n",
       "      <td>3/16/22</td>\n",
       "      <td>5/18/22</td>\n",
       "      <td>63</td>\n",
       "      <td>C2</td>\n",
       "      <td>NMIBC</td>\n",
       "      <td>R-1</td>\n",
       "      <td>2</td>\n",
       "      <td>NaN</td>\n",
       "      <td>NaN</td>\n",
       "      <td>RC</td>\n",
       "      <td>CTR_RT</td>\n",
       "      <td>CTR_RT_1</td>\n",
       "      <td>CATGTTAC</td>\n",
       "      <td>L4</td>\n",
       "    </tr>\n",
       "    <tr>\n",
       "      <th>14</th>\n",
       "      <td>3/16/22</td>\n",
       "      <td>5/18/22</td>\n",
       "      <td>63</td>\n",
       "      <td>C2</td>\n",
       "      <td>NMIBC</td>\n",
       "      <td>R-1</td>\n",
       "      <td>2</td>\n",
       "      <td>NaN</td>\n",
       "      <td>NaN</td>\n",
       "      <td>RC</td>\n",
       "      <td>CTR_RT</td>\n",
       "      <td>CTR_RT_0</td>\n",
       "      <td>CATGTTAC</td>\n",
       "      <td>L4</td>\n",
       "    </tr>\n",
       "    <tr>\n",
       "      <th>15</th>\n",
       "      <td>3/16/22</td>\n",
       "      <td>6/21/22</td>\n",
       "      <td>97</td>\n",
       "      <td>C2</td>\n",
       "      <td>NMIBC</td>\n",
       "      <td>R-10</td>\n",
       "      <td>3</td>\n",
       "      <td>NaN</td>\n",
       "      <td>NaN</td>\n",
       "      <td>RTG</td>\n",
       "      <td>NMI_RT</td>\n",
       "      <td>GEM_RT_6</td>\n",
       "      <td>TGATCCAC</td>\n",
       "      <td>L4</td>\n",
       "    </tr>\n",
       "    <tr>\n",
       "      <th>16</th>\n",
       "      <td>3/16/22</td>\n",
       "      <td>6/21/22</td>\n",
       "      <td>97</td>\n",
       "      <td>C2</td>\n",
       "      <td>NMIBC</td>\n",
       "      <td>R-10</td>\n",
       "      <td>3</td>\n",
       "      <td>NaN</td>\n",
       "      <td>NaN</td>\n",
       "      <td>RTG</td>\n",
       "      <td>NMI_RT</td>\n",
       "      <td>GEM_RT_12</td>\n",
       "      <td>TGATCCAC</td>\n",
       "      <td>L4</td>\n",
       "    </tr>\n",
       "    <tr>\n",
       "      <th>17</th>\n",
       "      <td>3/16/22</td>\n",
       "      <td>6/21/22</td>\n",
       "      <td>97</td>\n",
       "      <td>C2</td>\n",
       "      <td>NMIBC</td>\n",
       "      <td>R-10</td>\n",
       "      <td>3</td>\n",
       "      <td>NaN</td>\n",
       "      <td>NaN</td>\n",
       "      <td>RTG</td>\n",
       "      <td>NMI_RT</td>\n",
       "      <td>GEM_RT_4</td>\n",
       "      <td>TGATCCAC</td>\n",
       "      <td>L4</td>\n",
       "    </tr>\n",
       "    <tr>\n",
       "      <th>18</th>\n",
       "      <td>3/16/22</td>\n",
       "      <td>6/21/22</td>\n",
       "      <td>97</td>\n",
       "      <td>C2</td>\n",
       "      <td>NMIBC</td>\n",
       "      <td>R-10</td>\n",
       "      <td>3</td>\n",
       "      <td>NaN</td>\n",
       "      <td>NaN</td>\n",
       "      <td>RTG</td>\n",
       "      <td>NMI_RT</td>\n",
       "      <td>GEM_RT_9</td>\n",
       "      <td>TGATCCAC</td>\n",
       "      <td>L4</td>\n",
       "    </tr>\n",
       "    <tr>\n",
       "      <th>19</th>\n",
       "      <td>3/16/22</td>\n",
       "      <td>6/21/22</td>\n",
       "      <td>97</td>\n",
       "      <td>C2</td>\n",
       "      <td>NMIBC</td>\n",
       "      <td>R-10</td>\n",
       "      <td>3</td>\n",
       "      <td>NaN</td>\n",
       "      <td>NaN</td>\n",
       "      <td>RTG</td>\n",
       "      <td>NMI_RT</td>\n",
       "      <td>GEM_RT_14</td>\n",
       "      <td>TGATCCAC</td>\n",
       "      <td>L4</td>\n",
       "    </tr>\n",
       "    <tr>\n",
       "      <th>20</th>\n",
       "      <td>3/16/22</td>\n",
       "      <td>6/21/22</td>\n",
       "      <td>97</td>\n",
       "      <td>C2</td>\n",
       "      <td>NMIBC</td>\n",
       "      <td>R-10</td>\n",
       "      <td>3</td>\n",
       "      <td>NaN</td>\n",
       "      <td>NaN</td>\n",
       "      <td>RTG</td>\n",
       "      <td>NMI_RT</td>\n",
       "      <td>GEM_RT_1</td>\n",
       "      <td>TGATCCAC</td>\n",
       "      <td>L4</td>\n",
       "    </tr>\n",
       "    <tr>\n",
       "      <th>21</th>\n",
       "      <td>3/16/22</td>\n",
       "      <td>6/21/22</td>\n",
       "      <td>97</td>\n",
       "      <td>C2</td>\n",
       "      <td>NMIBC</td>\n",
       "      <td>R-10</td>\n",
       "      <td>3</td>\n",
       "      <td>NaN</td>\n",
       "      <td>NaN</td>\n",
       "      <td>RTG</td>\n",
       "      <td>NMI_RT</td>\n",
       "      <td>GEM_RT_16</td>\n",
       "      <td>TGATCCAC</td>\n",
       "      <td>L4</td>\n",
       "    </tr>\n",
       "    <tr>\n",
       "      <th>22</th>\n",
       "      <td>3/16/22</td>\n",
       "      <td>6/21/22</td>\n",
       "      <td>97</td>\n",
       "      <td>C2</td>\n",
       "      <td>NMIBC</td>\n",
       "      <td>R-10</td>\n",
       "      <td>3</td>\n",
       "      <td>NaN</td>\n",
       "      <td>NaN</td>\n",
       "      <td>RTG</td>\n",
       "      <td>NMI_RT</td>\n",
       "      <td>GEM_RT_8</td>\n",
       "      <td>TGATCCAC</td>\n",
       "      <td>L4</td>\n",
       "    </tr>\n",
       "    <tr>\n",
       "      <th>23</th>\n",
       "      <td>3/16/22</td>\n",
       "      <td>6/21/22</td>\n",
       "      <td>97</td>\n",
       "      <td>C2</td>\n",
       "      <td>NMIBC</td>\n",
       "      <td>R-10</td>\n",
       "      <td>3</td>\n",
       "      <td>NaN</td>\n",
       "      <td>NaN</td>\n",
       "      <td>RTG</td>\n",
       "      <td>NMI_RT</td>\n",
       "      <td>GEM_RT_5</td>\n",
       "      <td>TGATCCAC</td>\n",
       "      <td>L4</td>\n",
       "    </tr>\n",
       "    <tr>\n",
       "      <th>24</th>\n",
       "      <td>3/16/22</td>\n",
       "      <td>6/21/22</td>\n",
       "      <td>97</td>\n",
       "      <td>C2</td>\n",
       "      <td>NMIBC</td>\n",
       "      <td>R-10</td>\n",
       "      <td>3</td>\n",
       "      <td>NaN</td>\n",
       "      <td>NaN</td>\n",
       "      <td>RTG</td>\n",
       "      <td>NMI_RT</td>\n",
       "      <td>GEM_RT_11</td>\n",
       "      <td>TGATCCAC</td>\n",
       "      <td>L4</td>\n",
       "    </tr>\n",
       "    <tr>\n",
       "      <th>25</th>\n",
       "      <td>3/16/22</td>\n",
       "      <td>6/21/22</td>\n",
       "      <td>97</td>\n",
       "      <td>C2</td>\n",
       "      <td>NMIBC</td>\n",
       "      <td>R-10</td>\n",
       "      <td>3</td>\n",
       "      <td>NaN</td>\n",
       "      <td>NaN</td>\n",
       "      <td>RTG</td>\n",
       "      <td>NMI_RT</td>\n",
       "      <td>GEM_RT_2</td>\n",
       "      <td>TGATCCAC</td>\n",
       "      <td>L4</td>\n",
       "    </tr>\n",
       "    <tr>\n",
       "      <th>26</th>\n",
       "      <td>3/16/22</td>\n",
       "      <td>6/21/22</td>\n",
       "      <td>97</td>\n",
       "      <td>C2</td>\n",
       "      <td>NMIBC</td>\n",
       "      <td>R-10</td>\n",
       "      <td>3</td>\n",
       "      <td>NaN</td>\n",
       "      <td>NaN</td>\n",
       "      <td>RTG</td>\n",
       "      <td>NMI_RT</td>\n",
       "      <td>GEM_RT_3</td>\n",
       "      <td>TGATCCAC</td>\n",
       "      <td>L4</td>\n",
       "    </tr>\n",
       "    <tr>\n",
       "      <th>27</th>\n",
       "      <td>3/16/22</td>\n",
       "      <td>6/21/22</td>\n",
       "      <td>97</td>\n",
       "      <td>C2</td>\n",
       "      <td>NMIBC</td>\n",
       "      <td>R-10</td>\n",
       "      <td>3</td>\n",
       "      <td>NaN</td>\n",
       "      <td>NaN</td>\n",
       "      <td>RTG</td>\n",
       "      <td>NMI_RT</td>\n",
       "      <td>GEM_RT_0</td>\n",
       "      <td>TGATCCAC</td>\n",
       "      <td>L4</td>\n",
       "    </tr>\n",
       "    <tr>\n",
       "      <th>28</th>\n",
       "      <td>3/16/22</td>\n",
       "      <td>6/21/22</td>\n",
       "      <td>97</td>\n",
       "      <td>C2</td>\n",
       "      <td>NMIBC</td>\n",
       "      <td>R-10</td>\n",
       "      <td>3</td>\n",
       "      <td>NaN</td>\n",
       "      <td>NaN</td>\n",
       "      <td>RTG</td>\n",
       "      <td>NMI_RT</td>\n",
       "      <td>GEM_RT_20</td>\n",
       "      <td>TGATCCAC</td>\n",
       "      <td>L4</td>\n",
       "    </tr>\n",
       "    <tr>\n",
       "      <th>29</th>\n",
       "      <td>3/16/22</td>\n",
       "      <td>6/21/22</td>\n",
       "      <td>97</td>\n",
       "      <td>C2</td>\n",
       "      <td>NMIBC</td>\n",
       "      <td>R-10</td>\n",
       "      <td>3</td>\n",
       "      <td>NaN</td>\n",
       "      <td>NaN</td>\n",
       "      <td>RTG</td>\n",
       "      <td>NMI_RT</td>\n",
       "      <td>GEM_RT_13</td>\n",
       "      <td>TGATCCAC</td>\n",
       "      <td>L4</td>\n",
       "    </tr>\n",
       "    <tr>\n",
       "      <th>30</th>\n",
       "      <td>3/16/22</td>\n",
       "      <td>6/21/22</td>\n",
       "      <td>97</td>\n",
       "      <td>C2</td>\n",
       "      <td>NMIBC</td>\n",
       "      <td>R-10</td>\n",
       "      <td>3</td>\n",
       "      <td>NaN</td>\n",
       "      <td>NaN</td>\n",
       "      <td>RTG</td>\n",
       "      <td>NMI_RT</td>\n",
       "      <td>GEM_RT_7</td>\n",
       "      <td>TGATCCAC</td>\n",
       "      <td>L4</td>\n",
       "    </tr>\n",
       "    <tr>\n",
       "      <th>31</th>\n",
       "      <td>3/16/22</td>\n",
       "      <td>6/21/22</td>\n",
       "      <td>97</td>\n",
       "      <td>C2</td>\n",
       "      <td>NMIBC</td>\n",
       "      <td>R-10</td>\n",
       "      <td>3</td>\n",
       "      <td>NaN</td>\n",
       "      <td>NaN</td>\n",
       "      <td>RTG</td>\n",
       "      <td>NMI_RT</td>\n",
       "      <td>GEM_RT_19</td>\n",
       "      <td>TGATCCAC</td>\n",
       "      <td>L4</td>\n",
       "    </tr>\n",
       "    <tr>\n",
       "      <th>32</th>\n",
       "      <td>3/16/22</td>\n",
       "      <td>6/21/22</td>\n",
       "      <td>97</td>\n",
       "      <td>C2</td>\n",
       "      <td>NMIBC</td>\n",
       "      <td>R-10</td>\n",
       "      <td>3</td>\n",
       "      <td>NaN</td>\n",
       "      <td>NaN</td>\n",
       "      <td>RTG</td>\n",
       "      <td>NMI_RT</td>\n",
       "      <td>GEM_RT_15</td>\n",
       "      <td>TGATCCAC</td>\n",
       "      <td>L4</td>\n",
       "    </tr>\n",
       "    <tr>\n",
       "      <th>33</th>\n",
       "      <td>3/16/22</td>\n",
       "      <td>6/21/22</td>\n",
       "      <td>97</td>\n",
       "      <td>C2</td>\n",
       "      <td>NMIBC</td>\n",
       "      <td>R-10</td>\n",
       "      <td>3</td>\n",
       "      <td>NaN</td>\n",
       "      <td>NaN</td>\n",
       "      <td>RTG</td>\n",
       "      <td>NMI_RT</td>\n",
       "      <td>GEM_RT_17</td>\n",
       "      <td>TGATCCAC</td>\n",
       "      <td>L4</td>\n",
       "    </tr>\n",
       "    <tr>\n",
       "      <th>34</th>\n",
       "      <td>3/16/22</td>\n",
       "      <td>6/21/22</td>\n",
       "      <td>97</td>\n",
       "      <td>C2</td>\n",
       "      <td>NMIBC</td>\n",
       "      <td>R-10</td>\n",
       "      <td>3</td>\n",
       "      <td>NaN</td>\n",
       "      <td>NaN</td>\n",
       "      <td>RTG</td>\n",
       "      <td>NMI_RT</td>\n",
       "      <td>GEM_RT_10</td>\n",
       "      <td>TGATCCAC</td>\n",
       "      <td>L4</td>\n",
       "    </tr>\n",
       "    <tr>\n",
       "      <th>35</th>\n",
       "      <td>3/16/22</td>\n",
       "      <td>6/21/22</td>\n",
       "      <td>97</td>\n",
       "      <td>C2</td>\n",
       "      <td>NMIBC</td>\n",
       "      <td>R-10</td>\n",
       "      <td>3</td>\n",
       "      <td>NaN</td>\n",
       "      <td>NaN</td>\n",
       "      <td>RTG</td>\n",
       "      <td>NMI_RT</td>\n",
       "      <td>GEM_RT_18</td>\n",
       "      <td>TGATCCAC</td>\n",
       "      <td>L4</td>\n",
       "    </tr>\n",
       "    <tr>\n",
       "      <th>36</th>\n",
       "      <td>3/8/22</td>\n",
       "      <td>6/14/22</td>\n",
       "      <td>98</td>\n",
       "      <td>C1</td>\n",
       "      <td>Met</td>\n",
       "      <td>M-1</td>\n",
       "      <td>3</td>\n",
       "      <td>NaN</td>\n",
       "      <td>NaN</td>\n",
       "      <td>Met</td>\n",
       "      <td>Met_M</td>\n",
       "      <td>Met_MGH_1</td>\n",
       "      <td>ACGCGTTA</td>\n",
       "      <td>L3</td>\n",
       "    </tr>\n",
       "    <tr>\n",
       "      <th>37</th>\n",
       "      <td>3/8/22</td>\n",
       "      <td>6/14/22</td>\n",
       "      <td>98</td>\n",
       "      <td>C1</td>\n",
       "      <td>Met</td>\n",
       "      <td>M-1</td>\n",
       "      <td>3</td>\n",
       "      <td>NaN</td>\n",
       "      <td>NaN</td>\n",
       "      <td>Met</td>\n",
       "      <td>Met_M</td>\n",
       "      <td>Met_MGH_2</td>\n",
       "      <td>ACGCGTTA</td>\n",
       "      <td>L3</td>\n",
       "    </tr>\n",
       "    <tr>\n",
       "      <th>38</th>\n",
       "      <td>3/8/22</td>\n",
       "      <td>6/14/22</td>\n",
       "      <td>98</td>\n",
       "      <td>C1</td>\n",
       "      <td>Met</td>\n",
       "      <td>M-1</td>\n",
       "      <td>3</td>\n",
       "      <td>NaN</td>\n",
       "      <td>NaN</td>\n",
       "      <td>Met</td>\n",
       "      <td>Met_M</td>\n",
       "      <td>Met_MGH_0</td>\n",
       "      <td>ACGCGTTA</td>\n",
       "      <td>L3</td>\n",
       "    </tr>\n",
       "    <tr>\n",
       "      <th>39</th>\n",
       "      <td>3/8/22</td>\n",
       "      <td>6/14/22</td>\n",
       "      <td>98</td>\n",
       "      <td>C1</td>\n",
       "      <td>Met</td>\n",
       "      <td>M-1</td>\n",
       "      <td>3</td>\n",
       "      <td>NaN</td>\n",
       "      <td>NaN</td>\n",
       "      <td>Met</td>\n",
       "      <td>Met_M</td>\n",
       "      <td>Met_MGH_3</td>\n",
       "      <td>ACGCGTTA</td>\n",
       "      <td>L3</td>\n",
       "    </tr>\n",
       "    <tr>\n",
       "      <th>40</th>\n",
       "      <td>3/8/22</td>\n",
       "      <td>6/14/22</td>\n",
       "      <td>98</td>\n",
       "      <td>C1</td>\n",
       "      <td>MIBC</td>\n",
       "      <td>M-1</td>\n",
       "      <td>3</td>\n",
       "      <td>NaN</td>\n",
       "      <td>NaN</td>\n",
       "      <td>MI</td>\n",
       "      <td>MI_M</td>\n",
       "      <td>MI_MGH_1</td>\n",
       "      <td>CGCTAGAG</td>\n",
       "      <td>L1</td>\n",
       "    </tr>\n",
       "    <tr>\n",
       "      <th>41</th>\n",
       "      <td>3/8/22</td>\n",
       "      <td>6/14/22</td>\n",
       "      <td>98</td>\n",
       "      <td>C1</td>\n",
       "      <td>MIBC</td>\n",
       "      <td>M-1</td>\n",
       "      <td>3</td>\n",
       "      <td>NaN</td>\n",
       "      <td>NaN</td>\n",
       "      <td>MI</td>\n",
       "      <td>MI_M</td>\n",
       "      <td>MI_MGH_2</td>\n",
       "      <td>CGCTAGAG</td>\n",
       "      <td>L1</td>\n",
       "    </tr>\n",
       "    <tr>\n",
       "      <th>42</th>\n",
       "      <td>3/8/22</td>\n",
       "      <td>6/14/22</td>\n",
       "      <td>98</td>\n",
       "      <td>C1</td>\n",
       "      <td>MIBC</td>\n",
       "      <td>M-1</td>\n",
       "      <td>3</td>\n",
       "      <td>NaN</td>\n",
       "      <td>NaN</td>\n",
       "      <td>MI</td>\n",
       "      <td>MI_M</td>\n",
       "      <td>MI_MGH_0</td>\n",
       "      <td>CGCTAGAG</td>\n",
       "      <td>L1</td>\n",
       "    </tr>\n",
       "    <tr>\n",
       "      <th>43</th>\n",
       "      <td>3/8/22</td>\n",
       "      <td>6/14/22</td>\n",
       "      <td>98</td>\n",
       "      <td>C1</td>\n",
       "      <td>MIBC</td>\n",
       "      <td>M-1</td>\n",
       "      <td>3</td>\n",
       "      <td>NaN</td>\n",
       "      <td>NaN</td>\n",
       "      <td>MI</td>\n",
       "      <td>MI_M</td>\n",
       "      <td>MI_MGH_3</td>\n",
       "      <td>CGCTAGAG</td>\n",
       "      <td>L1</td>\n",
       "    </tr>\n",
       "    <tr>\n",
       "      <th>44</th>\n",
       "      <td>3/8/22</td>\n",
       "      <td>6/14/22</td>\n",
       "      <td>98</td>\n",
       "      <td>C1</td>\n",
       "      <td>NMIBC</td>\n",
       "      <td>M-12</td>\n",
       "      <td>3</td>\n",
       "      <td>NaN</td>\n",
       "      <td>NaN</td>\n",
       "      <td>NMI</td>\n",
       "      <td>NMI_M</td>\n",
       "      <td>NMI_MGH_5</td>\n",
       "      <td>AGGGCTAC</td>\n",
       "      <td>L3</td>\n",
       "    </tr>\n",
       "    <tr>\n",
       "      <th>45</th>\n",
       "      <td>3/8/22</td>\n",
       "      <td>6/14/22</td>\n",
       "      <td>98</td>\n",
       "      <td>C1</td>\n",
       "      <td>NMIBC</td>\n",
       "      <td>M-12</td>\n",
       "      <td>3</td>\n",
       "      <td>NaN</td>\n",
       "      <td>NaN</td>\n",
       "      <td>NMI</td>\n",
       "      <td>NMI_M</td>\n",
       "      <td>NMI_MGH_2</td>\n",
       "      <td>AGGGCTAC</td>\n",
       "      <td>L3</td>\n",
       "    </tr>\n",
       "    <tr>\n",
       "      <th>46</th>\n",
       "      <td>3/8/22</td>\n",
       "      <td>6/14/22</td>\n",
       "      <td>98</td>\n",
       "      <td>C1</td>\n",
       "      <td>NMIBC</td>\n",
       "      <td>M-12</td>\n",
       "      <td>3</td>\n",
       "      <td>NaN</td>\n",
       "      <td>NaN</td>\n",
       "      <td>NMI</td>\n",
       "      <td>NMI_M</td>\n",
       "      <td>NMI_MGH_3</td>\n",
       "      <td>AGGGCTAC</td>\n",
       "      <td>L3</td>\n",
       "    </tr>\n",
       "    <tr>\n",
       "      <th>47</th>\n",
       "      <td>3/8/22</td>\n",
       "      <td>6/14/22</td>\n",
       "      <td>98</td>\n",
       "      <td>C1</td>\n",
       "      <td>NMIBC</td>\n",
       "      <td>M-12</td>\n",
       "      <td>3</td>\n",
       "      <td>NaN</td>\n",
       "      <td>NaN</td>\n",
       "      <td>NMI</td>\n",
       "      <td>NMI_M</td>\n",
       "      <td>NMI_MGH_4</td>\n",
       "      <td>AGGGCTAC</td>\n",
       "      <td>L3</td>\n",
       "    </tr>\n",
       "    <tr>\n",
       "      <th>48</th>\n",
       "      <td>3/8/22</td>\n",
       "      <td>6/14/22</td>\n",
       "      <td>98</td>\n",
       "      <td>C1</td>\n",
       "      <td>NMIBC</td>\n",
       "      <td>M-12</td>\n",
       "      <td>3</td>\n",
       "      <td>NaN</td>\n",
       "      <td>NaN</td>\n",
       "      <td>NMI</td>\n",
       "      <td>NMI_M</td>\n",
       "      <td>NMI_MGH_6</td>\n",
       "      <td>AGGGCTAC</td>\n",
       "      <td>L3</td>\n",
       "    </tr>\n",
       "    <tr>\n",
       "      <th>49</th>\n",
       "      <td>3/8/22</td>\n",
       "      <td>6/14/22</td>\n",
       "      <td>98</td>\n",
       "      <td>C1</td>\n",
       "      <td>NMIBC</td>\n",
       "      <td>M-12</td>\n",
       "      <td>3</td>\n",
       "      <td>NaN</td>\n",
       "      <td>NaN</td>\n",
       "      <td>NMI</td>\n",
       "      <td>NMI_M</td>\n",
       "      <td>NMI_MGH_0</td>\n",
       "      <td>AGGGCTAC</td>\n",
       "      <td>L3</td>\n",
       "    </tr>\n",
       "  </tbody>\n",
       "</table>\n",
       "</div>"
      ],
      "text/plain": [
       "   Data_Inject Date_Sac  Aging_day Cell_Clone Genotype MouseID  Aging_Month  \\\n",
       "0       3/8/22   5/7/22         60         C1    NMIBC     M-3            2   \n",
       "1       3/8/22   5/7/22         60         C1    NMIBC     M-3            2   \n",
       "2       3/8/22   5/7/22         60         C1    NMIBC     M-3            2   \n",
       "3       3/8/22   5/7/22         60         C1    NMIBC     M-3            2   \n",
       "4       3/8/22   5/7/22         60         C1    NMIBC     M-3            2   \n",
       "5       3/8/22   5/7/22         60         C1    NMIBC     M-3            2   \n",
       "6       3/8/22   5/7/22         60         C1    NMIBC     M-3            2   \n",
       "7       3/8/22   5/7/22         60         C1    NMIBC     M-3            2   \n",
       "8       3/8/22   5/7/22         60         C1    NMIBC     M-3            2   \n",
       "9       3/8/22   5/7/22         60         C1    NMIBC     M-3            2   \n",
       "10      3/8/22   5/7/22         60         C1    NMIBC     M-3            2   \n",
       "11      3/8/22   5/7/22         60         C1    NMIBC     M-3            2   \n",
       "12      3/8/22   5/7/22         60         C1    NMIBC     M-3            2   \n",
       "13     3/16/22  5/18/22         63         C2    NMIBC     R-1            2   \n",
       "14     3/16/22  5/18/22         63         C2    NMIBC     R-1            2   \n",
       "15     3/16/22  6/21/22         97         C2    NMIBC    R-10            3   \n",
       "16     3/16/22  6/21/22         97         C2    NMIBC    R-10            3   \n",
       "17     3/16/22  6/21/22         97         C2    NMIBC    R-10            3   \n",
       "18     3/16/22  6/21/22         97         C2    NMIBC    R-10            3   \n",
       "19     3/16/22  6/21/22         97         C2    NMIBC    R-10            3   \n",
       "20     3/16/22  6/21/22         97         C2    NMIBC    R-10            3   \n",
       "21     3/16/22  6/21/22         97         C2    NMIBC    R-10            3   \n",
       "22     3/16/22  6/21/22         97         C2    NMIBC    R-10            3   \n",
       "23     3/16/22  6/21/22         97         C2    NMIBC    R-10            3   \n",
       "24     3/16/22  6/21/22         97         C2    NMIBC    R-10            3   \n",
       "25     3/16/22  6/21/22         97         C2    NMIBC    R-10            3   \n",
       "26     3/16/22  6/21/22         97         C2    NMIBC    R-10            3   \n",
       "27     3/16/22  6/21/22         97         C2    NMIBC    R-10            3   \n",
       "28     3/16/22  6/21/22         97         C2    NMIBC    R-10            3   \n",
       "29     3/16/22  6/21/22         97         C2    NMIBC    R-10            3   \n",
       "30     3/16/22  6/21/22         97         C2    NMIBC    R-10            3   \n",
       "31     3/16/22  6/21/22         97         C2    NMIBC    R-10            3   \n",
       "32     3/16/22  6/21/22         97         C2    NMIBC    R-10            3   \n",
       "33     3/16/22  6/21/22         97         C2    NMIBC    R-10            3   \n",
       "34     3/16/22  6/21/22         97         C2    NMIBC    R-10            3   \n",
       "35     3/16/22  6/21/22         97         C2    NMIBC    R-10            3   \n",
       "36      3/8/22  6/14/22         98         C1      Met     M-1            3   \n",
       "37      3/8/22  6/14/22         98         C1      Met     M-1            3   \n",
       "38      3/8/22  6/14/22         98         C1      Met     M-1            3   \n",
       "39      3/8/22  6/14/22         98         C1      Met     M-1            3   \n",
       "40      3/8/22  6/14/22         98         C1     MIBC     M-1            3   \n",
       "41      3/8/22  6/14/22         98         C1     MIBC     M-1            3   \n",
       "42      3/8/22  6/14/22         98         C1     MIBC     M-1            3   \n",
       "43      3/8/22  6/14/22         98         C1     MIBC     M-1            3   \n",
       "44      3/8/22  6/14/22         98         C1    NMIBC    M-12            3   \n",
       "45      3/8/22  6/14/22         98         C1    NMIBC    M-12            3   \n",
       "46      3/8/22  6/14/22         98         C1    NMIBC    M-12            3   \n",
       "47      3/8/22  6/14/22         98         C1    NMIBC    M-12            3   \n",
       "48      3/8/22  6/14/22         98         C1    NMIBC    M-12            3   \n",
       "49      3/8/22  6/14/22         98         C1    NMIBC    M-12            3   \n",
       "\n",
       "    Batch_Library  Batch_Harvest Tumor_Name Sample_Name       Tumor  Multi_BC  \\\n",
       "0             NaN            NaN         MC       CTR_M   CTR_MGH_1  TCGTAGTG   \n",
       "1             NaN            NaN         MC       CTR_M   CTR_MGH_3  TCGTAGTG   \n",
       "2             NaN            NaN         MC       CTR_M   CTR_MGH_4  TCGTAGTG   \n",
       "3             NaN            NaN         MC       CTR_M   CTR_MGH_6  TCGTAGTG   \n",
       "4             NaN            NaN         MC       CTR_M   CTR_MGH_2  TCGTAGTG   \n",
       "5             NaN            NaN         MC       CTR_M   CTR_MGH_8  TCGTAGTG   \n",
       "6             NaN            NaN         MC       CTR_M   CTR_MGH_5  TCGTAGTG   \n",
       "7             NaN            NaN         MC       CTR_M   CTR_MGH_9  TCGTAGTG   \n",
       "8             NaN            NaN         MC       CTR_M   CTR_MGH_0  TCGTAGTG   \n",
       "9             NaN            NaN         MC       CTR_M  CTR_MGH_12  TCGTAGTG   \n",
       "10            NaN            NaN         MC       CTR_M   CTR_MGH_7  TCGTAGTG   \n",
       "11            NaN            NaN         MC       CTR_M  CTR_MGH_10  TCGTAGTG   \n",
       "12            NaN            NaN         MC       CTR_M  CTR_MGH_11  TCGTAGTG   \n",
       "13            NaN            NaN         RC      CTR_RT    CTR_RT_1  CATGTTAC   \n",
       "14            NaN            NaN         RC      CTR_RT    CTR_RT_0  CATGTTAC   \n",
       "15            NaN            NaN        RTG      NMI_RT    GEM_RT_6  TGATCCAC   \n",
       "16            NaN            NaN        RTG      NMI_RT   GEM_RT_12  TGATCCAC   \n",
       "17            NaN            NaN        RTG      NMI_RT    GEM_RT_4  TGATCCAC   \n",
       "18            NaN            NaN        RTG      NMI_RT    GEM_RT_9  TGATCCAC   \n",
       "19            NaN            NaN        RTG      NMI_RT   GEM_RT_14  TGATCCAC   \n",
       "20            NaN            NaN        RTG      NMI_RT    GEM_RT_1  TGATCCAC   \n",
       "21            NaN            NaN        RTG      NMI_RT   GEM_RT_16  TGATCCAC   \n",
       "22            NaN            NaN        RTG      NMI_RT    GEM_RT_8  TGATCCAC   \n",
       "23            NaN            NaN        RTG      NMI_RT    GEM_RT_5  TGATCCAC   \n",
       "24            NaN            NaN        RTG      NMI_RT   GEM_RT_11  TGATCCAC   \n",
       "25            NaN            NaN        RTG      NMI_RT    GEM_RT_2  TGATCCAC   \n",
       "26            NaN            NaN        RTG      NMI_RT    GEM_RT_3  TGATCCAC   \n",
       "27            NaN            NaN        RTG      NMI_RT    GEM_RT_0  TGATCCAC   \n",
       "28            NaN            NaN        RTG      NMI_RT   GEM_RT_20  TGATCCAC   \n",
       "29            NaN            NaN        RTG      NMI_RT   GEM_RT_13  TGATCCAC   \n",
       "30            NaN            NaN        RTG      NMI_RT    GEM_RT_7  TGATCCAC   \n",
       "31            NaN            NaN        RTG      NMI_RT   GEM_RT_19  TGATCCAC   \n",
       "32            NaN            NaN        RTG      NMI_RT   GEM_RT_15  TGATCCAC   \n",
       "33            NaN            NaN        RTG      NMI_RT   GEM_RT_17  TGATCCAC   \n",
       "34            NaN            NaN        RTG      NMI_RT   GEM_RT_10  TGATCCAC   \n",
       "35            NaN            NaN        RTG      NMI_RT   GEM_RT_18  TGATCCAC   \n",
       "36            NaN            NaN        Met       Met_M   Met_MGH_1  ACGCGTTA   \n",
       "37            NaN            NaN        Met       Met_M   Met_MGH_2  ACGCGTTA   \n",
       "38            NaN            NaN        Met       Met_M   Met_MGH_0  ACGCGTTA   \n",
       "39            NaN            NaN        Met       Met_M   Met_MGH_3  ACGCGTTA   \n",
       "40            NaN            NaN         MI        MI_M    MI_MGH_1  CGCTAGAG   \n",
       "41            NaN            NaN         MI        MI_M    MI_MGH_2  CGCTAGAG   \n",
       "42            NaN            NaN         MI        MI_M    MI_MGH_0  CGCTAGAG   \n",
       "43            NaN            NaN         MI        MI_M    MI_MGH_3  CGCTAGAG   \n",
       "44            NaN            NaN        NMI       NMI_M   NMI_MGH_5  AGGGCTAC   \n",
       "45            NaN            NaN        NMI       NMI_M   NMI_MGH_2  AGGGCTAC   \n",
       "46            NaN            NaN        NMI       NMI_M   NMI_MGH_3  AGGGCTAC   \n",
       "47            NaN            NaN        NMI       NMI_M   NMI_MGH_4  AGGGCTAC   \n",
       "48            NaN            NaN        NMI       NMI_M   NMI_MGH_6  AGGGCTAC   \n",
       "49            NaN            NaN        NMI       NMI_M   NMI_MGH_0  AGGGCTAC   \n",
       "\n",
       "   X10x_Lane  \n",
       "0         L2  \n",
       "1         L2  \n",
       "2         L2  \n",
       "3         L2  \n",
       "4         L2  \n",
       "5         L2  \n",
       "6         L2  \n",
       "7         L2  \n",
       "8         L2  \n",
       "9         L2  \n",
       "10        L2  \n",
       "11        L2  \n",
       "12        L2  \n",
       "13        L4  \n",
       "14        L4  \n",
       "15        L4  \n",
       "16        L4  \n",
       "17        L4  \n",
       "18        L4  \n",
       "19        L4  \n",
       "20        L4  \n",
       "21        L4  \n",
       "22        L4  \n",
       "23        L4  \n",
       "24        L4  \n",
       "25        L4  \n",
       "26        L4  \n",
       "27        L4  \n",
       "28        L4  \n",
       "29        L4  \n",
       "30        L4  \n",
       "31        L4  \n",
       "32        L4  \n",
       "33        L4  \n",
       "34        L4  \n",
       "35        L4  \n",
       "36        L3  \n",
       "37        L3  \n",
       "38        L3  \n",
       "39        L3  \n",
       "40        L1  \n",
       "41        L1  \n",
       "42        L1  \n",
       "43        L1  \n",
       "44        L3  \n",
       "45        L3  \n",
       "46        L3  \n",
       "47        L3  \n",
       "48        L3  \n",
       "49        L3  "
      ]
     },
     "execution_count": 16,
     "metadata": {},
     "output_type": "execute_result"
    }
   ],
   "source": [
    "trcr_master"
   ]
  },
  {
   "cell_type": "code",
   "execution_count": 17,
   "metadata": {},
   "outputs": [
    {
     "data": {
      "text/html": [
       "<div>\n",
       "<style scoped>\n",
       "    .dataframe tbody tr th:only-of-type {\n",
       "        vertical-align: middle;\n",
       "    }\n",
       "\n",
       "    .dataframe tbody tr th {\n",
       "        vertical-align: top;\n",
       "    }\n",
       "\n",
       "    .dataframe thead th {\n",
       "        text-align: right;\n",
       "    }\n",
       "</style>\n",
       "<table border=\"1\" class=\"dataframe\">\n",
       "  <thead>\n",
       "    <tr style=\"text-align: right;\">\n",
       "      <th></th>\n",
       "      <th>Tumor</th>\n",
       "      <th>sampleID</th>\n",
       "      <th>cellBC</th>\n",
       "      <th>intBC</th>\n",
       "      <th>allele</th>\n",
       "      <th>r1</th>\n",
       "      <th>r2</th>\n",
       "      <th>r3</th>\n",
       "      <th>lineageGrp</th>\n",
       "      <th>UMI</th>\n",
       "      <th>readCount</th>\n",
       "      <th>Cell_Clone</th>\n",
       "    </tr>\n",
       "  </thead>\n",
       "  <tbody>\n",
       "    <tr>\n",
       "      <th>3</th>\n",
       "      <td>CTR_MGH_0</td>\n",
       "      <td>CTR_MGH</td>\n",
       "      <td>CTR_MGH.AACCTGATCTAGGCCG</td>\n",
       "      <td>ATTAGTGCCTCGAA</td>\n",
       "      <td>CCGAA[None]AAATGGATAT[None]GACATATTCG[None]CGGAG</td>\n",
       "      <td>CCGAA[None]AAATG</td>\n",
       "      <td>GATAT[None]GACAT</td>\n",
       "      <td>ATTCG[None]CGGAG</td>\n",
       "      <td>0</td>\n",
       "      <td>4</td>\n",
       "      <td>1322</td>\n",
       "      <td>C1</td>\n",
       "    </tr>\n",
       "    <tr>\n",
       "      <th>5</th>\n",
       "      <td>CTR_MGH_0</td>\n",
       "      <td>CTR_MGH</td>\n",
       "      <td>CTR_MGH.AACGTCAGTATACAGA</td>\n",
       "      <td>TCAAGAGTGCCCTT</td>\n",
       "      <td>CCGAA[None]AAATGGATAT[None]CTCTGATTCG[None]CGGAG</td>\n",
       "      <td>CCGAA[None]AAATG</td>\n",
       "      <td>GATAT[None]CTCTG</td>\n",
       "      <td>ATTCG[None]CGGAG</td>\n",
       "      <td>0</td>\n",
       "      <td>1</td>\n",
       "      <td>525</td>\n",
       "      <td>C1</td>\n",
       "    </tr>\n",
       "    <tr>\n",
       "      <th>11</th>\n",
       "      <td>CTR_MGH_0</td>\n",
       "      <td>CTR_MGH</td>\n",
       "      <td>CTR_MGH.GAGAGGTTCTAGAACC</td>\n",
       "      <td>TACAGCGCCTGTAT</td>\n",
       "      <td>CCGAA[None]AAATGGATAT[None]CTCTGATTCG[None]CGGAG</td>\n",
       "      <td>CCGAA[None]AAATG</td>\n",
       "      <td>GATAT[None]CTCTG</td>\n",
       "      <td>ATTCG[None]CGGAG</td>\n",
       "      <td>0</td>\n",
       "      <td>5</td>\n",
       "      <td>1306</td>\n",
       "      <td>C1</td>\n",
       "    </tr>\n",
       "    <tr>\n",
       "      <th>16</th>\n",
       "      <td>CTR_MGH_0</td>\n",
       "      <td>CTR_MGH</td>\n",
       "      <td>CTR_MGH.CCATCACAGGGAACAA</td>\n",
       "      <td>CCATGGTTGAGCAT</td>\n",
       "      <td>CGTCG[90:66D]TCATACGTCG[90:66D]TCATAATTCG[None...</td>\n",
       "      <td>CGTCG[90:66D]TCATA</td>\n",
       "      <td>CGTCG[90:66D]TCATA</td>\n",
       "      <td>ATTCG[None]CGGAG</td>\n",
       "      <td>0</td>\n",
       "      <td>13</td>\n",
       "      <td>5404</td>\n",
       "      <td>C1</td>\n",
       "    </tr>\n",
       "    <tr>\n",
       "      <th>21</th>\n",
       "      <td>CTR_MGH_0</td>\n",
       "      <td>CTR_MGH</td>\n",
       "      <td>CTR_MGH.TAGTGCAGTTAGGAGC</td>\n",
       "      <td>AGGCCAATGGATGA</td>\n",
       "      <td>TGTAC[108:21D]TAAGCGATAT[None]CTCTGATTCG[None]...</td>\n",
       "      <td>TGTAC[108:21D]TAAGC</td>\n",
       "      <td>GATAT[None]CTCTG</td>\n",
       "      <td>ATTCG[None]CGGAG</td>\n",
       "      <td>0</td>\n",
       "      <td>12</td>\n",
       "      <td>4838</td>\n",
       "      <td>C1</td>\n",
       "    </tr>\n",
       "    <tr>\n",
       "      <th>...</th>\n",
       "      <td>...</td>\n",
       "      <td>...</td>\n",
       "      <td>...</td>\n",
       "      <td>...</td>\n",
       "      <td>...</td>\n",
       "      <td>...</td>\n",
       "      <td>...</td>\n",
       "      <td>...</td>\n",
       "      <td>...</td>\n",
       "      <td>...</td>\n",
       "      <td>...</td>\n",
       "      <td>...</td>\n",
       "    </tr>\n",
       "    <tr>\n",
       "      <th>236505</th>\n",
       "      <td>NMI_MGH_6</td>\n",
       "      <td>NMI_MGH</td>\n",
       "      <td>NMI_MGH.GATTCGACAATACCTG</td>\n",
       "      <td>CAGTATTTCTCCTG</td>\n",
       "      <td>CCGAA[None]AAATGGATAT[None]CTCTGATTCG[None]CGGAG</td>\n",
       "      <td>CCGAA[None]AAATG</td>\n",
       "      <td>GATAT[None]CTCTG</td>\n",
       "      <td>ATTCG[None]CGGAG</td>\n",
       "      <td>6</td>\n",
       "      <td>2</td>\n",
       "      <td>424</td>\n",
       "      <td>C1</td>\n",
       "    </tr>\n",
       "    <tr>\n",
       "      <th>236506</th>\n",
       "      <td>NMI_MGH_6</td>\n",
       "      <td>NMI_MGH</td>\n",
       "      <td>NMI_MGH.GATTCGACAATACCTG</td>\n",
       "      <td>CGTCTCGTACTATT</td>\n",
       "      <td>CCGAA[None]AAATGGATAT[None]CTCTGATTCG[None]CGGAG</td>\n",
       "      <td>CCGAA[None]AAATG</td>\n",
       "      <td>GATAT[None]CTCTG</td>\n",
       "      <td>ATTCG[None]CGGAG</td>\n",
       "      <td>6</td>\n",
       "      <td>4</td>\n",
       "      <td>1027</td>\n",
       "      <td>C1</td>\n",
       "    </tr>\n",
       "    <tr>\n",
       "      <th>236508</th>\n",
       "      <td>NMI_MGH_6</td>\n",
       "      <td>NMI_MGH</td>\n",
       "      <td>NMI_MGH.GATTCGACAATACCTG</td>\n",
       "      <td>ACGAAGGTAATAAC</td>\n",
       "      <td>CCGAA[None]AAATGGATAT[168:5D]GTTCAATTCG[None]C...</td>\n",
       "      <td>CCGAA[None]AAATG</td>\n",
       "      <td>GATAT[168:5D]GTTCA</td>\n",
       "      <td>ATTCG[None]CGGAG</td>\n",
       "      <td>6</td>\n",
       "      <td>5</td>\n",
       "      <td>1655</td>\n",
       "      <td>C1</td>\n",
       "    </tr>\n",
       "    <tr>\n",
       "      <th>236509</th>\n",
       "      <td>NMI_MGH_6</td>\n",
       "      <td>NMI_MGH</td>\n",
       "      <td>NMI_MGH.GATTCGACAATACCTG</td>\n",
       "      <td>GACTGTTTATGACC</td>\n",
       "      <td>CCGAA[None]AAATGGATAT[None]CTCTGATTCG[None]CGGAG</td>\n",
       "      <td>CCGAA[None]AAATG</td>\n",
       "      <td>GATAT[None]CTCTG</td>\n",
       "      <td>ATTCG[None]CGGAG</td>\n",
       "      <td>6</td>\n",
       "      <td>1</td>\n",
       "      <td>291</td>\n",
       "      <td>C1</td>\n",
       "    </tr>\n",
       "    <tr>\n",
       "      <th>236512</th>\n",
       "      <td>NMI_MGH_6</td>\n",
       "      <td>NMI_MGH</td>\n",
       "      <td>NMI_MGH.GATTCGACAATACCTG</td>\n",
       "      <td>CTGTAGGATTTTCG</td>\n",
       "      <td>CCGAA[None]AAATGGATAT[None]CTCTGATTCG[None]CGGAG</td>\n",
       "      <td>CCGAA[None]AAATG</td>\n",
       "      <td>GATAT[None]CTCTG</td>\n",
       "      <td>ATTCG[None]CGGAG</td>\n",
       "      <td>6</td>\n",
       "      <td>1</td>\n",
       "      <td>446</td>\n",
       "      <td>C1</td>\n",
       "    </tr>\n",
       "  </tbody>\n",
       "</table>\n",
       "<p>97754 rows × 12 columns</p>\n",
       "</div>"
      ],
      "text/plain": [
       "            Tumor sampleID                    cellBC           intBC  \\\n",
       "3       CTR_MGH_0  CTR_MGH  CTR_MGH.AACCTGATCTAGGCCG  ATTAGTGCCTCGAA   \n",
       "5       CTR_MGH_0  CTR_MGH  CTR_MGH.AACGTCAGTATACAGA  TCAAGAGTGCCCTT   \n",
       "11      CTR_MGH_0  CTR_MGH  CTR_MGH.GAGAGGTTCTAGAACC  TACAGCGCCTGTAT   \n",
       "16      CTR_MGH_0  CTR_MGH  CTR_MGH.CCATCACAGGGAACAA  CCATGGTTGAGCAT   \n",
       "21      CTR_MGH_0  CTR_MGH  CTR_MGH.TAGTGCAGTTAGGAGC  AGGCCAATGGATGA   \n",
       "...           ...      ...                       ...             ...   \n",
       "236505  NMI_MGH_6  NMI_MGH  NMI_MGH.GATTCGACAATACCTG  CAGTATTTCTCCTG   \n",
       "236506  NMI_MGH_6  NMI_MGH  NMI_MGH.GATTCGACAATACCTG  CGTCTCGTACTATT   \n",
       "236508  NMI_MGH_6  NMI_MGH  NMI_MGH.GATTCGACAATACCTG  ACGAAGGTAATAAC   \n",
       "236509  NMI_MGH_6  NMI_MGH  NMI_MGH.GATTCGACAATACCTG  GACTGTTTATGACC   \n",
       "236512  NMI_MGH_6  NMI_MGH  NMI_MGH.GATTCGACAATACCTG  CTGTAGGATTTTCG   \n",
       "\n",
       "                                                   allele  \\\n",
       "3        CCGAA[None]AAATGGATAT[None]GACATATTCG[None]CGGAG   \n",
       "5        CCGAA[None]AAATGGATAT[None]CTCTGATTCG[None]CGGAG   \n",
       "11       CCGAA[None]AAATGGATAT[None]CTCTGATTCG[None]CGGAG   \n",
       "16      CGTCG[90:66D]TCATACGTCG[90:66D]TCATAATTCG[None...   \n",
       "21      TGTAC[108:21D]TAAGCGATAT[None]CTCTGATTCG[None]...   \n",
       "...                                                   ...   \n",
       "236505   CCGAA[None]AAATGGATAT[None]CTCTGATTCG[None]CGGAG   \n",
       "236506   CCGAA[None]AAATGGATAT[None]CTCTGATTCG[None]CGGAG   \n",
       "236508  CCGAA[None]AAATGGATAT[168:5D]GTTCAATTCG[None]C...   \n",
       "236509   CCGAA[None]AAATGGATAT[None]CTCTGATTCG[None]CGGAG   \n",
       "236512   CCGAA[None]AAATGGATAT[None]CTCTGATTCG[None]CGGAG   \n",
       "\n",
       "                         r1                  r2                r3  lineageGrp  \\\n",
       "3          CCGAA[None]AAATG    GATAT[None]GACAT  ATTCG[None]CGGAG           0   \n",
       "5          CCGAA[None]AAATG    GATAT[None]CTCTG  ATTCG[None]CGGAG           0   \n",
       "11         CCGAA[None]AAATG    GATAT[None]CTCTG  ATTCG[None]CGGAG           0   \n",
       "16       CGTCG[90:66D]TCATA  CGTCG[90:66D]TCATA  ATTCG[None]CGGAG           0   \n",
       "21      TGTAC[108:21D]TAAGC    GATAT[None]CTCTG  ATTCG[None]CGGAG           0   \n",
       "...                     ...                 ...               ...         ...   \n",
       "236505     CCGAA[None]AAATG    GATAT[None]CTCTG  ATTCG[None]CGGAG           6   \n",
       "236506     CCGAA[None]AAATG    GATAT[None]CTCTG  ATTCG[None]CGGAG           6   \n",
       "236508     CCGAA[None]AAATG  GATAT[168:5D]GTTCA  ATTCG[None]CGGAG           6   \n",
       "236509     CCGAA[None]AAATG    GATAT[None]CTCTG  ATTCG[None]CGGAG           6   \n",
       "236512     CCGAA[None]AAATG    GATAT[None]CTCTG  ATTCG[None]CGGAG           6   \n",
       "\n",
       "        UMI  readCount Cell_Clone  \n",
       "3         4       1322         C1  \n",
       "5         1        525         C1  \n",
       "11        5       1306         C1  \n",
       "16       13       5404         C1  \n",
       "21       12       4838         C1  \n",
       "...     ...        ...        ...  \n",
       "236505    2        424         C1  \n",
       "236506    4       1027         C1  \n",
       "236508    5       1655         C1  \n",
       "236509    1        291         C1  \n",
       "236512    1        446         C1  \n",
       "\n",
       "[97754 rows x 12 columns]"
      ]
     },
     "execution_count": 17,
     "metadata": {},
     "output_type": "execute_result"
    }
   ],
   "source": [
    "allele_table_filtered"
   ]
  },
  {
   "cell_type": "code",
   "execution_count": 18,
   "metadata": {},
   "outputs": [
    {
     "name": "stderr",
     "output_type": "stream",
     "text": [
      "/home/yanzeqin/miniconda3/envs/KP/lib/python3.7/site-packages/ipykernel_launcher.py:4: TqdmDeprecationWarning: This function will be removed in tqdm==5.0.0\n",
      "Please use `tqdm.notebook.tqdm` instead of `tqdm.tqdm_notebook`\n",
      "  after removing the cwd from sys.path.\n"
     ]
    },
    {
     "data": {
      "application/vnd.jupyter.widget-view+json": {
       "model_id": "da028289bb694b90ac902012721826ad",
       "version_major": 2,
       "version_minor": 0
      },
      "text/plain": [
       "  0%|          | 0/2 [00:00<?, ?it/s]"
      ]
     },
     "metadata": {},
     "output_type": "display_data"
    }
   ],
   "source": [
    "es_clones = trcr_master['Cell_Clone'].unique()\n",
    "es_to_props = {}\n",
    "\n",
    "for esc in tqdm_notebook(es_clones):\n",
    "    \n",
    "    if type(esc) != str:\n",
    "        continue\n",
    "    \n",
    "    at_es = allele_table_filtered[allele_table_filtered['Cell_Clone'] == esc]\n",
    "    \n",
    "    if at_es.shape[0] == 0:\n",
    "        continue\n",
    "    \n",
    "    es_piv = pd.pivot_table(at_es, index=\"Tumor\", columns=\"intBC\", values=\"UMI\", aggfunc=\"sum\")\n",
    "    es_piv.fillna(value = 0, inplace=True)\n",
    "    es_piv[es_piv > 0] = 1\n",
    "    \n",
    "    props = es_piv.apply(lambda x: np.sum(x) / len(x)).to_frame().reset_index()\n",
    "    props.columns = ['intBC', 'prop']\n",
    "    \n",
    "    props = props.sort_values(by = 'prop', ascending=False)\n",
    "    props = props[(props['intBC'] != 'NC')]\n",
    "    \n",
    "    props.index = props.intBC\n",
    "    \n",
    "    es_to_props[esc] = props"
   ]
  },
  {
   "cell_type": "code",
   "execution_count": 19,
   "metadata": {},
   "outputs": [
    {
     "data": {
      "text/plain": [
       "<function tqdm.tqdm_notebook(*args, **kwargs)>"
      ]
     },
     "execution_count": 19,
     "metadata": {},
     "output_type": "execute_result"
    }
   ],
   "source": [
    "tqdm_notebook"
   ]
  },
  {
   "cell_type": "code",
   "execution_count": 20,
   "metadata": {},
   "outputs": [
    {
     "name": "stderr",
     "output_type": "stream",
     "text": [
      "/home/yanzeqin/miniconda3/envs/KP/lib/python3.7/site-packages/ipykernel_launcher.py:7: TqdmDeprecationWarning: This function will be removed in tqdm==5.0.0\n",
      "Please use `tqdm.notebook.tqdm` instead of `tqdm.tqdm_notebook`\n",
      "  import sys\n"
     ]
    },
    {
     "data": {
      "application/vnd.jupyter.widget-view+json": {
       "model_id": "a403be7e444147049e272c89740a53d3",
       "version_major": 2,
       "version_minor": 0
      },
      "text/plain": [
       "  0%|          | 0/2 [00:00<?, ?it/s]"
      ]
     },
     "metadata": {},
     "output_type": "display_data"
    }
   ],
   "source": [
    "\n",
    "at_piv = pd.pivot_table(allele_table_filtered, index=\"cellBC\", columns=\"intBC\", values=\"UMI\", aggfunc=\"sum\")\n",
    "at_piv.fillna(value = 0, inplace=True)\n",
    "at_piv[at_piv > 0] = 1\n",
    "\n",
    "es_rep_dfs = {}\n",
    "\n",
    "for esc in tqdm_notebook(es_clones):\n",
    "\n",
    "    tumors = allele_table_filtered.loc[allele_table_filtered['Cell_Clone'] == esc, 'Tumor'].unique()\n",
    "    tumor_dict = {}\n",
    "    \n",
    "    for tumor in tumors:\n",
    "    \n",
    "        cells = allele_table_filtered.loc[allele_table_filtered['Tumor'] == tumor, 'cellBC'].unique()\n",
    "        tumor_piv = at_piv.loc[cells]\n",
    "            \n",
    "        tumor_piv = tumor_piv.loc[:, tumor_piv.sum(axis=0) > 0]\n",
    "            \n",
    "        props = tumor_piv.apply(lambda x: np.sum(x>0) / len(x)).to_frame().reset_index()\n",
    "        props.columns = ['intBC', 'prop']\n",
    "\n",
    "        props = props.sort_values(by = 'prop', ascending=False)\n",
    "        props = props[(props['intBC'] != 'NC')]\n",
    "\n",
    "        props.index = props.intBC\n",
    "\n",
    "        tumor_dict[tumor] = props['prop'].to_dict()\n",
    "    \n",
    "    tumor_df = pd.DataFrame.from_dict(tumor_dict, orient='index')\n",
    "    tumor_df.fillna(value = 0, inplace=True)\n",
    "    es_rep_dfs[esc] = tumor_df"
   ]
  },
  {
   "cell_type": "markdown",
   "metadata": {},
   "source": [
    "### Figure S1F: Consensus barcodes"
   ]
  },
  {
   "cell_type": "code",
   "execution_count": 21,
   "metadata": {},
   "outputs": [
    {
     "data": {
      "text/plain": [
       "{'C1':             ATCTGTCTATTAAC  ACTTGCACCGACAG  GGTCACGGAGATAC  AGGCCAATGGATGA  \\\n",
       " CTR_MGH_0         0.523256             0.5        0.488372        0.476744   \n",
       " CTR_MGH_1         0.000000             0.0        0.000000        0.000000   \n",
       " CTR_MGH_12        0.000000             0.0        0.000000        0.000000   \n",
       " CTR_MGH_2         0.000000             0.0        0.000000        0.000000   \n",
       " CTR_MGH_4         0.000000             0.0        0.000000        0.000000   \n",
       " CTR_MGH_5         0.000000             0.0        0.000000        0.000000   \n",
       " CTR_MGH_7         0.000000             0.0        0.000000        0.000000   \n",
       " CTR_MGH_10        0.000000             0.0        0.000000        0.000000   \n",
       " CTR_MGH_11        0.000000             0.0        0.000000        0.000000   \n",
       " CTR_MGH_3         0.000000             0.0        0.000000        0.000000   \n",
       " CTR_MGH_6         0.000000             0.0        0.000000        0.000000   \n",
       " NMI_MGH_6         0.000000             0.0        0.000000        0.000000   \n",
       " CTR_MGH_8         0.000000             0.0        0.000000        0.000000   \n",
       " CTR_MGH_9         0.000000             0.0        0.000000        0.000000   \n",
       " Met_MGH_0         0.000000             0.0        0.000000        0.000000   \n",
       " NMI_MGH_5         0.000000             0.0        0.000000        0.000000   \n",
       " NMI_MGH_2         0.000000             0.0        0.000000        0.000000   \n",
       " NMI_MGH_4         0.000000             0.0        0.000000        0.000000   \n",
       " NMI_MGH_0         0.000000             0.0        0.000000        0.000000   \n",
       " NMI_MGH_3         0.000000             0.0        0.000000        0.000000   \n",
       " Met_MGH_2         0.000000             0.0        0.000000        0.000000   \n",
       " MI_MGH_0          0.000000             0.0        0.000000        0.000000   \n",
       " MI_MGH_1          0.000000             0.0        0.000000        0.000000   \n",
       " MI_MGH_2          0.000000             0.0        0.000000        0.000000   \n",
       " MI_MGH_3          0.000000             0.0        0.000000        0.000000   \n",
       " Met_MGH_3         0.000000             0.0        0.000000        0.000000   \n",
       " \n",
       "             CCATGGTTGAGCAT  GCTTCTGTCCTGCA  TCGTGGAGTTCTAA  ATTAGTGCCTCGAA  \\\n",
       " CTR_MGH_0         0.372093        0.372093        0.360465        0.360465   \n",
       " CTR_MGH_1         0.000000        0.000000        0.000000        0.000000   \n",
       " CTR_MGH_12        0.000000        0.000000        0.000000        0.000000   \n",
       " CTR_MGH_2         0.000000        0.000000        0.000000        0.000000   \n",
       " CTR_MGH_4         0.000000        0.000000        0.000000        0.000000   \n",
       " CTR_MGH_5         0.000000        0.000000        0.000000        0.000000   \n",
       " CTR_MGH_7         0.000000        0.000000        0.000000        0.000000   \n",
       " CTR_MGH_10        0.000000        0.000000        0.000000        0.000000   \n",
       " CTR_MGH_11        0.000000        0.000000        0.000000        0.000000   \n",
       " CTR_MGH_3         0.000000        0.000000        0.000000        0.000000   \n",
       " CTR_MGH_6         0.000000        0.000000        0.000000        0.000000   \n",
       " NMI_MGH_6         0.000000        0.000000        0.000000        0.000000   \n",
       " CTR_MGH_8         0.000000        0.000000        0.000000        0.000000   \n",
       " CTR_MGH_9         0.000000        0.000000        0.000000        0.000000   \n",
       " Met_MGH_0         0.000000        0.000000        0.000000        0.000000   \n",
       " NMI_MGH_5         0.000000        0.000000        0.000000        0.000000   \n",
       " NMI_MGH_2         0.000000        0.000000        0.000000        0.000000   \n",
       " NMI_MGH_4         0.000000        0.000000        0.000000        0.000000   \n",
       " NMI_MGH_0         0.000000        0.000000        0.000000        0.000000   \n",
       " NMI_MGH_3         0.000000        0.000000        0.000000        0.000000   \n",
       " Met_MGH_2         0.000000        0.000000        0.000000        0.000000   \n",
       " MI_MGH_0          0.000000        0.000000        0.000000        0.000000   \n",
       " MI_MGH_1          0.000000        0.000000        0.000000        0.000000   \n",
       " MI_MGH_2          0.000000        0.000000        0.000000        0.000000   \n",
       " MI_MGH_3          0.000000        0.000000        0.000000        0.000000   \n",
       " Met_MGH_3         0.000000        0.000000        0.000000        0.000000   \n",
       " \n",
       "             TACAGCGCCTGTAT  GACAGGGTATCAGT  ...  GGCCTCTCGGCGGC  \\\n",
       " CTR_MGH_0         0.360465        0.360465  ...         0.00000   \n",
       " CTR_MGH_1         0.000000        0.000000  ...         0.00000   \n",
       " CTR_MGH_12        0.000000        0.000000  ...         0.00000   \n",
       " CTR_MGH_2         0.000000        0.000000  ...         0.00000   \n",
       " CTR_MGH_4         0.000000        0.000000  ...         0.00000   \n",
       " CTR_MGH_5         0.000000        0.000000  ...         0.00000   \n",
       " CTR_MGH_7         0.000000        0.000000  ...         0.00000   \n",
       " CTR_MGH_10        0.000000        0.000000  ...         0.00000   \n",
       " CTR_MGH_11        0.000000        0.000000  ...         0.00000   \n",
       " CTR_MGH_3         0.000000        0.000000  ...         0.00000   \n",
       " CTR_MGH_6         0.000000        0.000000  ...         0.00000   \n",
       " NMI_MGH_6         0.000000        0.000000  ...         0.00000   \n",
       " CTR_MGH_8         0.000000        0.000000  ...         0.00000   \n",
       " CTR_MGH_9         0.000000        0.000000  ...         0.00000   \n",
       " Met_MGH_0         0.000000        0.000000  ...         0.00000   \n",
       " NMI_MGH_5         0.000000        0.000000  ...         0.42029   \n",
       " NMI_MGH_2         0.000000        0.000000  ...         0.00000   \n",
       " NMI_MGH_4         0.000000        0.000000  ...         0.00000   \n",
       " NMI_MGH_0         0.000000        0.000000  ...         0.00000   \n",
       " NMI_MGH_3         0.000000        0.000000  ...         0.00000   \n",
       " Met_MGH_2         0.000000        0.000000  ...         0.00000   \n",
       " MI_MGH_0          0.000000        0.000000  ...         0.00000   \n",
       " MI_MGH_1          0.000000        0.000000  ...         0.00000   \n",
       " MI_MGH_2          0.000000        0.000000  ...         0.00000   \n",
       " MI_MGH_3          0.000000        0.000000  ...         0.00000   \n",
       " Met_MGH_3         0.000000        0.000000  ...         0.00000   \n",
       " \n",
       "             GGCTGCGTGACCGA  ACGAAGGTAATAAC  CGTCTCGTACTATT  CTGTAGGATTTTCG  \\\n",
       " CTR_MGH_0         0.000000             0.0             0.0             0.0   \n",
       " CTR_MGH_1         0.000000             0.0             0.0             0.0   \n",
       " CTR_MGH_12        0.000000             0.0             0.0             0.0   \n",
       " CTR_MGH_2         0.000000             0.0             0.0             0.0   \n",
       " CTR_MGH_4         0.000000             0.0             0.0             0.0   \n",
       " CTR_MGH_5         0.000000             0.0             0.0             0.0   \n",
       " CTR_MGH_7         0.000000             0.0             0.0             0.0   \n",
       " CTR_MGH_10        0.000000             0.0             0.0             0.0   \n",
       " CTR_MGH_11        0.000000             0.0             0.0             0.0   \n",
       " CTR_MGH_3         0.000000             0.0             0.0             0.0   \n",
       " CTR_MGH_6         0.000000             0.0             0.0             0.0   \n",
       " NMI_MGH_6         0.000000             1.0             1.0             1.0   \n",
       " CTR_MGH_8         0.000000             0.0             0.0             0.0   \n",
       " CTR_MGH_9         0.000000             0.0             0.0             0.0   \n",
       " Met_MGH_0         0.000000             0.0             0.0             0.0   \n",
       " NMI_MGH_5         0.057971             0.0             0.0             0.0   \n",
       " NMI_MGH_2         0.000000             0.0             0.0             0.0   \n",
       " NMI_MGH_4         0.000000             0.0             0.0             0.0   \n",
       " NMI_MGH_0         0.000000             0.0             0.0             0.0   \n",
       " NMI_MGH_3         0.000000             0.0             0.0             0.0   \n",
       " Met_MGH_2         0.000000             0.0             0.0             0.0   \n",
       " MI_MGH_0          0.000000             0.0             0.0             0.0   \n",
       " MI_MGH_1          0.000000             0.0             0.0             0.0   \n",
       " MI_MGH_2          0.000000             0.0             0.0             0.0   \n",
       " MI_MGH_3          0.000000             0.0             0.0             0.0   \n",
       " Met_MGH_3         0.000000             0.0             0.0             0.0   \n",
       " \n",
       "             CAGTATTTCTCCTG  GTCTGCGGAGCCCC  TTCCGTGTCCACAA  TAACGATTTGATCT  \\\n",
       " CTR_MGH_0              0.0             0.0            0.00            0.00   \n",
       " CTR_MGH_1              0.0             0.0            0.00            0.00   \n",
       " CTR_MGH_12             0.0             0.0            0.00            0.00   \n",
       " CTR_MGH_2              0.0             0.0            0.00            0.00   \n",
       " CTR_MGH_4              0.0             0.0            0.00            0.00   \n",
       " CTR_MGH_5              0.0             0.0            0.00            0.00   \n",
       " CTR_MGH_7              0.0             0.0            0.00            0.00   \n",
       " CTR_MGH_10             0.0             0.0            0.00            0.00   \n",
       " CTR_MGH_11             0.0             0.0            0.00            0.00   \n",
       " CTR_MGH_3              0.0             0.0            0.00            0.00   \n",
       " CTR_MGH_6              0.0             0.0            0.00            0.00   \n",
       " NMI_MGH_6              1.0             1.0            0.75            0.25   \n",
       " CTR_MGH_8              0.0             0.0            0.00            0.00   \n",
       " CTR_MGH_9              0.0             0.0            0.00            0.00   \n",
       " Met_MGH_0              0.0             0.0            0.00            0.00   \n",
       " NMI_MGH_5              0.0             0.0            0.00            0.00   \n",
       " NMI_MGH_2              0.0             0.0            0.00            0.00   \n",
       " NMI_MGH_4              0.0             0.0            0.00            0.00   \n",
       " NMI_MGH_0              0.0             0.0            0.00            0.00   \n",
       " NMI_MGH_3              0.0             0.0            0.00            0.00   \n",
       " Met_MGH_2              0.0             0.0            0.00            0.00   \n",
       " MI_MGH_0               0.0             0.0            0.00            0.00   \n",
       " MI_MGH_1               0.0             0.0            0.00            0.00   \n",
       " MI_MGH_2               0.0             0.0            0.00            0.00   \n",
       " MI_MGH_3               0.0             0.0            0.00            0.00   \n",
       " Met_MGH_3              0.0             0.0            0.00            0.00   \n",
       " \n",
       "             GACTGTTTATGACC  \n",
       " CTR_MGH_0             0.00  \n",
       " CTR_MGH_1             0.00  \n",
       " CTR_MGH_12            0.00  \n",
       " CTR_MGH_2             0.00  \n",
       " CTR_MGH_4             0.00  \n",
       " CTR_MGH_5             0.00  \n",
       " CTR_MGH_7             0.00  \n",
       " CTR_MGH_10            0.00  \n",
       " CTR_MGH_11            0.00  \n",
       " CTR_MGH_3             0.00  \n",
       " CTR_MGH_6             0.00  \n",
       " NMI_MGH_6             0.25  \n",
       " CTR_MGH_8             0.00  \n",
       " CTR_MGH_9             0.00  \n",
       " Met_MGH_0             0.00  \n",
       " NMI_MGH_5             0.00  \n",
       " NMI_MGH_2             0.00  \n",
       " NMI_MGH_4             0.00  \n",
       " NMI_MGH_0             0.00  \n",
       " NMI_MGH_3             0.00  \n",
       " Met_MGH_2             0.00  \n",
       " MI_MGH_0              0.00  \n",
       " MI_MGH_1              0.00  \n",
       " MI_MGH_2              0.00  \n",
       " MI_MGH_3              0.00  \n",
       " Met_MGH_3             0.00  \n",
       " \n",
       " [26 rows x 370 columns],\n",
       " 'C2':            CTTATTACGTTAGA  CCGTGTCAGGTCCG  TCCGGTGGCTCTTC  TTCCGAGTTCGCTC  \\\n",
       " CTR_RT_0              1.0         0.00000        0.000000        0.000000   \n",
       " CTR_RT_1              0.0         0.55299        0.550341        0.520818   \n",
       " GEM_RT_5              0.0         0.00000        0.000000        0.000000   \n",
       " GEM_RT_13             0.0         0.00000        0.000000        0.000000   \n",
       " GEM_RT_14             0.0         0.00000        0.000000        0.000000   \n",
       " GEM_RT_15             0.0         0.00000        0.000000        0.000000   \n",
       " GEM_RT_18             0.0         0.00000        0.000000        0.000000   \n",
       " GEM_RT_19             0.0         0.00000        0.000000        0.000000   \n",
       " GEM_RT_20             0.0         0.00000        0.000000        0.000000   \n",
       " GEM_RT_6              0.0         0.00000        0.000000        0.000000   \n",
       " GEM_RT_7              0.0         0.00000        0.000000        0.000000   \n",
       " \n",
       "            GTCTAATGTTTCTT  GTGTGCCGCACTCC  GTGTGATTACTTGC  GTTCGGTGTTTTAT  \\\n",
       " CTR_RT_0         0.000000        0.000000        0.000000        0.000000   \n",
       " CTR_RT_1         0.378123        0.346707        0.320969        0.296366   \n",
       " GEM_RT_5         0.000000        0.000000        0.000000        0.000000   \n",
       " GEM_RT_13        0.000000        0.000000        0.000000        0.000000   \n",
       " GEM_RT_14        0.000000        0.000000        0.000000        0.000000   \n",
       " GEM_RT_15        0.000000        0.000000        0.000000        0.000000   \n",
       " GEM_RT_18        0.000000        0.000000        0.000000        0.000000   \n",
       " GEM_RT_19        0.000000        0.000000        0.000000        0.000000   \n",
       " GEM_RT_20        0.000000        0.000000        0.000000        0.000000   \n",
       " GEM_RT_6         0.000000        0.000000        0.000000        0.000000   \n",
       " GEM_RT_7         0.000000        0.000000        0.000000        0.000000   \n",
       " \n",
       "            CTTCTTCCCTCACT  AAAGGCATAAGAGC  ...  GCTCGTCACGTTCT  \\\n",
       " CTR_RT_0         0.000000        0.000000  ...           0.000   \n",
       " CTR_RT_1         0.253217        0.138531  ...           0.000   \n",
       " GEM_RT_5         0.000000        0.000000  ...           0.875   \n",
       " GEM_RT_13        0.000000        0.000000  ...           0.000   \n",
       " GEM_RT_14        0.000000        0.000000  ...           0.000   \n",
       " GEM_RT_15        0.000000        0.000000  ...           0.000   \n",
       " GEM_RT_18        0.000000        0.000000  ...           0.000   \n",
       " GEM_RT_19        0.000000        0.000000  ...           0.000   \n",
       " GEM_RT_20        0.000000        0.000000  ...           0.000   \n",
       " GEM_RT_6         0.000000        0.000000  ...           0.000   \n",
       " GEM_RT_7         0.000000        0.000000  ...           0.000   \n",
       " \n",
       "            AACTCTATTTCCTA  AAGGTAGCGTCCCT  CTACCTCAAAGTTT  GTGTGGTCTTACTT  \\\n",
       " CTR_RT_0            0.000           0.000           0.000           0.000   \n",
       " CTR_RT_1            0.000           0.000           0.000           0.000   \n",
       " GEM_RT_5            0.125           0.125           0.125           0.125   \n",
       " GEM_RT_13           0.000           0.000           0.000           0.000   \n",
       " GEM_RT_14           0.000           0.000           0.000           0.000   \n",
       " GEM_RT_15           0.000           0.000           0.000           0.000   \n",
       " GEM_RT_18           0.000           0.000           0.000           0.000   \n",
       " GEM_RT_19           0.000           0.000           0.000           0.000   \n",
       " GEM_RT_20           0.000           0.000           0.000           0.000   \n",
       " GEM_RT_6            0.000           0.000           0.000           0.000   \n",
       " GEM_RT_7            0.000           0.000           0.000           0.000   \n",
       " \n",
       "            CAGAGGCTTGGTGC  GGGACAGCTGGGGG  TTAAAGGGTGGTCT  CGCGCGGCAGGGGC  \\\n",
       " CTR_RT_0              0.0             0.0             0.0             0.0   \n",
       " CTR_RT_1              0.0             0.0             0.0             0.0   \n",
       " GEM_RT_5              0.0             0.0             0.0             0.0   \n",
       " GEM_RT_13             0.0             0.0             0.0             0.0   \n",
       " GEM_RT_14             0.0             0.0             0.0             0.0   \n",
       " GEM_RT_15             0.0             0.0             0.0             0.0   \n",
       " GEM_RT_18             0.0             0.0             0.0             0.0   \n",
       " GEM_RT_19             0.0             0.0             0.0             0.0   \n",
       " GEM_RT_20             0.0             0.0             0.0             0.0   \n",
       " GEM_RT_6              1.0             1.0             1.0             0.0   \n",
       " GEM_RT_7              0.0             0.0             0.0             1.0   \n",
       " \n",
       "            TGGCTTGAAGGAAT  \n",
       " CTR_RT_0         0.000000  \n",
       " CTR_RT_1         0.000000  \n",
       " GEM_RT_5         0.000000  \n",
       " GEM_RT_13        0.000000  \n",
       " GEM_RT_14        0.000000  \n",
       " GEM_RT_15        0.000000  \n",
       " GEM_RT_18        0.000000  \n",
       " GEM_RT_19        0.000000  \n",
       " GEM_RT_20        0.000000  \n",
       " GEM_RT_6         0.000000  \n",
       " GEM_RT_7         0.991228  \n",
       " \n",
       " [11 rows x 61 columns]}"
      ]
     },
     "execution_count": 21,
     "metadata": {},
     "output_type": "execute_result"
    }
   ],
   "source": [
    "es_rep_dfs"
   ]
  },
  {
   "cell_type": "code",
   "execution_count": 22,
   "metadata": {},
   "outputs": [
    {
     "data": {
      "image/png": "[encoded data removed]",
      "text/plain": [
       "<Figure size 640x480 with 1 Axes>"
      ]
     },
     "metadata": {},
     "output_type": "display_data"
    }
   ],
   "source": [
    "clone = 'C1'\n",
    "consensus_filter_bound = 0.4\n",
    "\n",
    "props = es_rep_dfs[clone].copy()\n",
    "props[props >= 0.1] = 1\n",
    "props[props < 0.1] = 0\n",
    "\n",
    "props2 = props.apply(lambda x: np.sum(x>0) / len(x)).to_frame().reset_index()\n",
    "props2.columns = ['intBC', 'prop']\n",
    "props2 = props2.loc[props2['prop'] > 0]\n",
    "\n",
    "props2.index = props2.intBC\n",
    "props2 = props2.sort_values(by = 'prop', ascending=False)\n",
    "\n",
    "ibcs = props2[props2['prop'] > consensus_filter_bound].index  \n",
    "\n",
    "plt.close()\n",
    "props2[props2['prop'] > 0.05]['prop'].plot(kind = 'bar')\n",
    "plt.axhline(y = consensus_filter_bound, color='red')\n",
    "plt.ylabel('Representation across tumors')\n",
    "plt.title('intBC Representation, ' + clone)\n",
    "plt.tight_layout()\n",
    "plt.show()"
   ]
  },
  {
   "cell_type": "markdown",
   "metadata": {},
   "source": [
    "## Figures with filtered allele table\n",
    "\n",
    "The plots below are made with a completely filtered allele table - after filtering out \"normal\" cells with few cut intBCs and subsetting intBCs to only those identified as consensus intBCs."
   ]
  },
  {
   "cell_type": "code",
   "execution_count": 23,
   "metadata": {},
   "outputs": [],
   "source": [
    "allele_table_final = pd.read_csv(f\"{data_directory}/allele/AP.alleleTable.unfiltered.txt2\", sep='\\t', converters={\"Cell_Clone\": str})"
   ]
  },
  {
   "cell_type": "code",
   "execution_count": 24,
   "metadata": {},
   "outputs": [
    {
     "name": "stderr",
     "output_type": "stream",
     "text": [
      "/home/yanzeqin/miniconda3/envs/KP/lib/python3.7/site-packages/ipykernel_launcher.py:7: TqdmDeprecationWarning: This function will be removed in tqdm==5.0.0\n",
      "Please use `tqdm.notebook.tqdm` instead of `tqdm.tqdm_notebook`\n",
      "  import sys\n"
     ]
    },
    {
     "data": {
      "application/vnd.jupyter.widget-view+json": {
       "model_id": "d89fd37eca7944188b9d989ab6ab9092",
       "version_major": 2,
       "version_minor": 0
      },
      "text/plain": [
       "  0%|          | 0/2 [00:00<?, ?it/s]"
      ]
     },
     "metadata": {},
     "output_type": "display_data"
    }
   ],
   "source": [
    "at_piv = pd.pivot_table(allele_table_final, index=\"cellBC\", columns=\"intBC\", values=\"UMI\", aggfunc=\"sum\")\n",
    "at_piv.fillna(value = 0, inplace=True)\n",
    "at_piv[at_piv > 0] = 1\n",
    "\n",
    "es_rep_dfs = {}\n",
    "\n",
    "for esc in tqdm_notebook(es_clones):\n",
    "    \n",
    "    if type(esc) != str:\n",
    "        continue\n",
    "    \n",
    "    tumors = allele_table_final.loc[allele_table_final['Cell_Clone'] == esc, 'Tumor'].unique()\n",
    "    tumor_dict = {}\n",
    "    \n",
    "    for tumor in tumors:\n",
    "    \n",
    "        cells = allele_table_final.loc[allele_table_final['Tumor'] == tumor, 'cellBC'].unique()\n",
    "        tumor_piv = at_piv.loc[cells]\n",
    "        \n",
    "        if tumor_piv.shape[0] == 0:\n",
    "            continue\n",
    "            \n",
    "        tumor_piv = tumor_piv.loc[:, tumor_piv.sum(axis=0) > 0]\n",
    "            \n",
    "        props = tumor_piv.apply(lambda x: np.sum(x>0) / len(x)).to_frame().reset_index()\n",
    "        props.columns = ['intBC', 'prop']\n",
    "\n",
    "        props = props.sort_values(by = 'prop', ascending=False)\n",
    "        props = props[(props['intBC'] != 'NC')]\n",
    "\n",
    "        props.index = props.intBC\n",
    "\n",
    "        tumor_dict[tumor] = props['prop'].to_dict()\n",
    "    \n",
    "    if len(tumor_dict) > 0:\n",
    "        tumor_df = pd.DataFrame.from_dict(tumor_dict, orient='index')\n",
    "        tumor_df.fillna(value = 0, inplace=True)\n",
    "        es_rep_dfs[esc] = tumor_df"
   ]
  },
  {
   "cell_type": "markdown",
   "metadata": {},
   "source": [
    "### Figure 1D: intBC expression"
   ]
  },
  {
   "cell_type": "code",
   "execution_count": 25,
   "metadata": {},
   "outputs": [
    {
     "data": {
      "image/png": "[encoded data removed]",
      "text/plain": [
       "<Figure size 1200x600 with 1 Axes>"
      ]
     },
     "metadata": {},
     "output_type": "display_data"
    }
   ],
   "source": [
    "clone = 'C1'\n",
    "ibcs = allele_table_final.loc[allele_table_final['Cell_Clone'] == clone, 'intBC'].unique()\n",
    "ibcs = es_rep_dfs[clone][ibcs].mean(axis=0).sort_values(ascending=False).index.values\n",
    "\n",
    "melted = pd.melt(es_rep_dfs[clone][ibcs])\n",
    "h = plt.figure(figsize=(12, 6))\n",
    "ax = sns.violinplot(x=\"variable\", y=\"value\",\n",
    "            data=melted, palette=\"muted\", inner='point', cut=0, scale='count')\n",
    "plt.xticks(rotation = 90)\n",
    "plt.xlabel('intBC (Loose Consensus)')\n",
    "plt.ylabel('Frequency in tumor')\n",
    "plt.title('intBC Expression by tumor, ES ' +  clone)\n",
    "\n",
    "plt.tight_layout()"
   ]
  },
  {
   "cell_type": "markdown",
   "metadata": {},
   "source": [
    "### Figure S1G: intBC / cellBC pivot"
   ]
  },
  {
   "cell_type": "code",
   "execution_count": 26,
   "metadata": {},
   "outputs": [
    {
     "name": "stderr",
     "output_type": "stream",
     "text": [
      "/home/yanzeqin/miniconda3/envs/KP/lib/python3.7/site-packages/ipykernel_launcher.py:7: TqdmDeprecationWarning: This function will be removed in tqdm==5.0.0\n",
      "Please use `tqdm.notebook.tqdm` instead of `tqdm.tqdm_notebook`\n",
      "  import sys\n"
     ]
    },
    {
     "data": {
      "application/vnd.jupyter.widget-view+json": {
       "model_id": "7fd3442ead9042a8b6be271b79f05a28",
       "version_major": 2,
       "version_minor": 0
      },
      "text/plain": [
       "  0%|          | 0/2 [00:00<?, ?it/s]"
      ]
     },
     "metadata": {},
     "output_type": "display_data"
    }
   ],
   "source": [
    "clone_sizes = allele_table_final.groupby('Cell_Clone').agg({'cellBC': 'nunique'}).sort_values(by = 'cellBC')\n",
    "\n",
    "# order tumors by ES clone ident\n",
    "cell_ordering = []\n",
    "es_annotation = []\n",
    "es_to_intbcs = {}\n",
    "for es in tqdm_notebook(clone_sizes.index):\n",
    "    all_tumors = allele_table_final.loc[allele_table_final['Cell_Clone'] == es, 'Tumor'].unique()\n",
    "    \n",
    "    intBCs = allele_table_final.loc[allele_table_final['Cell_Clone'] == es, 'intBC'].value_counts().sort_values(ascending=False).index\n",
    "    es_to_intbcs[es] = intBCs\n",
    "    \n",
    "    tumors = []\n",
    "    for tumor in all_tumors:\n",
    "        if tumor in tumor_list['Tumor'].tolist():\n",
    "            tumors.append(tumor)\n",
    "\n",
    "    for tumor in tumors:\n",
    "        cells = allele_table_final.loc[allele_table_final['Tumor'] == tumor, 'cellBC'].unique()\n",
    "        cell_ordering += list(cells)\n",
    "        es_annotation += [es]*len(cells)\n",
    "\n",
    "at_piv = pd.pivot_table(allele_table_final, columns='intBC', index='cellBC', values='UMI')\n",
    "at_piv[at_piv > 0] = 1\n",
    "\n",
    "at_piv = at_piv.loc[cell_ordering]"
   ]
  },
  {
   "cell_type": "code",
   "execution_count": 27,
   "metadata": {},
   "outputs": [
    {
     "data": {
      "image/png": "[encoded data removed]",
      "text/plain": [
       "<Figure size 700x700 with 2 Axes>"
      ]
     },
     "metadata": {},
     "output_type": "display_data"
    }
   ],
   "source": [
    "all_consensus_ibcs = []\n",
    "for es_clone in clone_sizes.index[::-1]:\n",
    "    if es_clone in es_annotation:\n",
    "        all_consensus_ibcs += list(es_to_intbcs[es_clone])\n",
    "\n",
    "colors = list(plt.get_cmap('tab10').colors)\n",
    "module_colors = {j: colors[(i-1) % len(colors)] for i, j in zip(range(len(np.unique(es_annotation))), np.unique(es_annotation))}\n",
    "\n",
    "row_colors = pd.Series([module_colors[i] for i in es_annotation], index = at_piv.index)\n",
    "cbar_mat = np.zeros((len(row_colors), 1, 3))\n",
    "for r in range(len(row_colors)):\n",
    "    cbar_mat[r, 0, :] = row_colors.iloc[r][0], row_colors.iloc[r][1], row_colors.iloc[r][2]\n",
    "\n",
    "h2 = plt.figure(2,figsize=(7,7))\n",
    "axmat2 = h2.add_axes([0.3,0.1,0.6,0.8])\n",
    "im2 = axmat2.matshow(at_piv[all_consensus_ibcs], aspect='auto', origin='upper')\n",
    "axmat2.set_yticks([])\n",
    "axmat2.set_xticks([])\n",
    "\n",
    "cbar = h2.add_axes([0.2, 0.1, 0.05, 0.8])\n",
    "im3 = cbar.imshow(cbar_mat, aspect='auto', origin='upper', interpolation=\"none\")\n",
    "\n",
    "plt.title('Consensus intBC pivot table')\n",
    "plt.show()"
   ]
  },
  {
   "cell_type": "markdown",
   "metadata": {},
   "source": [
    "### Figure S1H: Tumor Quality-Control"
   ]
  },
  {
   "cell_type": "code",
   "execution_count": 28,
   "metadata": {
    "collapsed": true,
    "jupyter": {
     "outputs_hidden": true
    }
   },
   "outputs": [
    {
     "name": "stdout",
     "output_type": "stream",
     "text": [
      "CTR_MGH_0\n"
     ]
    },
    {
     "name": "stderr",
     "output_type": "stream",
     "text": [
      "100%|██████████| 1/1 [00:00<00:00, 120.98it/s]\n"
     ]
    },
    {
     "name": "stdout",
     "output_type": "stream",
     "text": [
      "Dropping the following intBCs due to lack of diversity with threshold 0.98: ['GTCAAGATAGGCCA_r1', 'GTCAAGATAGGCCA_r2', 'GTCAAGATAGGCCA_r3', 'GCTTGTTCATGTGT_r1', 'GCTTGTTCATGTGT_r2', 'GCTTGTTCATGTGT_r3', 'GGATGGTCTAGTCA_r1', 'GGATGGTCTAGTCA_r2', 'GGATGGTCTAGTCA_r3', 'CCCCGCTTCATTGC_r1', 'CCCCGCTTCATTGC_r2', 'CCCCGCTTCATTGC_r3', 'GATAGTATGGTGTG_r2', 'GATAGTATGGTGTG_r3', 'TATCTTAGCTACAT_r1', 'TATCTTAGCTACAT_r2', 'TATCTTAGCTACAT_r3', 'ATGCGCCGTTCTAC_r1', 'ATGCGCCGTTCTAC_r2', 'ATGCGCCGTTCTAC_r3', 'CGCCGGGGTGGGGT_r1', 'CGCCGGGGTGGGGT_r2', 'CGCCGGGGTGGGGT_r3', 'ATGCACAGTGCTCA_r1', 'ATGCACAGTGCTCA_r2', 'ATGCACAGTGCTCA_r3', 'CATTGTTCTAAATA_r1', 'CATTGTTCTAAATA_r2', 'CATTGTTCTAAATA_r3', 'AGCTGATTCTTCAC_r1', 'AGCTGATTCTTCAC_r2', 'AGCTGATTCTTCAC_r3', 'TCAACTCCAGAGTT_r1', 'TCAACTCCAGAGTT_r2', 'TCAACTCCAGAGTT_r3', 'TCAAGAGTGCCCTT_r1', 'TCAAGAGTGCCCTT_r2', 'TCAAGAGTGCCCTT_r3', 'AATTTAAATGCGGC_r1', 'AATTTAAATGCGGC_r2', 'AATTTAAATGCGGC_r3', 'GTGAGACGGAAGGA_r1', 'GTGAGACGGAAGGA_r2', 'GTGAGACGGAAGGA_r3', 'TGATGTCACAACTG_r1', 'TGATGTCACAACTG_r2', 'TGATGTCACAACTG_r3', 'GCGTGCCTTCATTT_r1', 'GCGTGCCTTCATTT_r2', 'GCGTGCCTTCATTT_r3', 'GATATCGGTGACAG_r1', 'GATATCGGTGACAG_r2', 'GATATCGGTGACAG_r3', 'CCATGGTTGAGCAT_r1', 'CCATGGTTGAGCAT_r3', 'GACAGGGTATCAGT_r3', 'TACAGCGCCTGTAT_r3', 'GCTTCTGTCCTGCA_r3', 'AGGCCAATGGATGA_r1', 'ATCTGTCTATTAAC_r1', 'ATCTGTCTATTAAC_r2', 'ATCTGTCTATTAAC_r3']\n"
     ]
    },
    {
     "name": "stderr",
     "output_type": "stream",
     "text": [
      "Processing characters: 100%|██████████| 22/22 [00:00<00:00, 17341.61it/s]\n"
     ]
    },
    {
     "name": "stdout",
     "output_type": "stream",
     "text": [
      "97\n",
      "CTR_MGH_1\n"
     ]
    },
    {
     "name": "stderr",
     "output_type": "stream",
     "text": [
      "100%|██████████| 1/1 [00:00<00:00, 80.10it/s]\n"
     ]
    },
    {
     "name": "stdout",
     "output_type": "stream",
     "text": [
      "Dropping the following intBCs due to lack of diversity with threshold 0.98: ['GTCTGAGTCCTTAG_r1', 'GTCTGAGTCCTTAG_r2', 'TGAGTGGATATGGG_r1', 'TGAGTGGATATGGG_r2', 'TGAGTGGATATGGG_r3', 'TTATGCCATGGCGA_r2', 'TTATGCCATGGCGA_r3']\n"
     ]
    },
    {
     "name": "stderr",
     "output_type": "stream",
     "text": [
      "Processing characters: 100%|██████████| 14/14 [00:00<00:00, 575.23it/s]\n"
     ]
    },
    {
     "name": "stdout",
     "output_type": "stream",
     "text": [
      "3228\n",
      "CTR_MGH_10\n"
     ]
    },
    {
     "name": "stderr",
     "output_type": "stream",
     "text": [
      "100%|██████████| 1/1 [00:00<00:00, 217.93it/s]\n"
     ]
    },
    {
     "name": "stdout",
     "output_type": "stream",
     "text": [
      "Dropping the following intBCs due to lack of diversity with threshold 0.98: ['ATGTGTCGCATCTG_r2', 'ATGTGTCGCATCTG_r3', 'CACGCTCTCTGGAC_r2', 'CACGCTCTCTGGAC_r3', 'CCGTGTGGCGAGCA_r1']\n"
     ]
    },
    {
     "name": "stderr",
     "output_type": "stream",
     "text": [
      "Processing characters: 100%|██████████| 7/7 [00:00<00:00, 31843.96it/s]\n"
     ]
    },
    {
     "name": "stdout",
     "output_type": "stream",
     "text": [
      "64\n",
      "CTR_MGH_11\n"
     ]
    },
    {
     "name": "stderr",
     "output_type": "stream",
     "text": [
      "100%|██████████| 1/1 [00:00<00:00, 214.38it/s]\n"
     ]
    },
    {
     "name": "stdout",
     "output_type": "stream",
     "text": [
      "Dropping the following intBCs due to lack of diversity with threshold 0.98: ['TACATCCCTGCAAA_r2', 'TACATCCCTGCAAA_r3', 'CGCTCTCCTTCATT_r1', 'AACTAGAATCATCT_r2']\n"
     ]
    },
    {
     "name": "stderr",
     "output_type": "stream",
     "text": [
      "Processing characters: 100%|██████████| 11/11 [00:00<00:00, 38161.57it/s]"
     ]
    },
    {
     "name": "stdout",
     "output_type": "stream",
     "text": [
      "40\n",
      "CTR_MGH_12\n"
     ]
    },
    {
     "name": "stderr",
     "output_type": "stream",
     "text": [
      "\n",
      "100%|██████████| 1/1 [00:00<00:00, 197.81it/s]\n"
     ]
    },
    {
     "name": "stdout",
     "output_type": "stream",
     "text": [
      "Dropping the following intBCs due to lack of diversity with threshold 0.98: ['CGGCTTTGAGGTTT_r1', 'ATTATTCTAAAGGG_r3', 'AGAGTTTACTTTGT_r1', 'CGGCGCAGGAGTTG_r1', 'CGGCGCAGGAGTTG_r2', 'CGGCGCAGGAGTTG_r3']\n"
     ]
    },
    {
     "name": "stderr",
     "output_type": "stream",
     "text": [
      "Processing characters: 100%|██████████| 12/12 [00:00<00:00, 48118.21it/s]\n"
     ]
    },
    {
     "name": "stdout",
     "output_type": "stream",
     "text": [
      "38\n",
      "CTR_MGH_2\n"
     ]
    },
    {
     "name": "stderr",
     "output_type": "stream",
     "text": [
      "100%|██████████| 1/1 [00:00<00:00, 39.41it/s]\n"
     ]
    },
    {
     "name": "stdout",
     "output_type": "stream",
     "text": [
      "Dropping the following intBCs due to lack of diversity with threshold 0.98: ['TGTTGTGGCTCTGA_r3', 'TCATGAAGTCCATC_r1', 'TAGTGCGCCTTCTT_r1', 'TAGTGCGCCTTCTT_r2', 'TAGTGCGCCTTCTT_r3', 'TGCCGCCCTCCTCC_r1', 'TGCCGCCCTCCTCC_r2', 'TGCCGCCCTCCTCC_r3', 'TCATGATGCACTTT_r1', 'TCATGATGCACTTT_r2', 'TCATGATGCACTTT_r3', 'TTATGTTTCGACGA_r1', 'TTATGTTTCGACGA_r2', 'GAGCGCTTTGTTAT_r1', 'GGAAGTGTCACGCT_r1', 'GGAAGTGTCACGCT_r3', 'GGCAGCTCTGGATC_r2', 'TTCCGATTCCTCTT_r2', 'TTCCGATTCCTCTT_r3', 'CTTAGTCACGCGGT_r1', 'CTTAGTCACGCGGT_r2', 'CTTAGTCACGCGGT_r3', 'ACTACTACCTAGTT_r1', 'CTCTGAGCGGGACA_r2', 'CTCTGAGCGGGACA_r3', 'GAACGTTCCGGGGT_r1', 'GAACGTTCCGGGGT_r2', 'GAACGTTCCGGGGT_r3', 'CATATTTCCCACTT_r1', 'AACTTATTCGCACC_r2', 'AACTTATTCGCACC_r3']\n"
     ]
    },
    {
     "name": "stderr",
     "output_type": "stream",
     "text": [
      "Processing characters: 100%|██████████| 29/29 [00:00<00:00, 947.19it/s]\n"
     ]
    },
    {
     "name": "stdout",
     "output_type": "stream",
     "text": [
      "1934\n",
      "CTR_MGH_3\n"
     ]
    },
    {
     "name": "stderr",
     "output_type": "stream",
     "text": [
      "100%|██████████| 1/1 [00:00<00:00, 172.39it/s]\n"
     ]
    },
    {
     "name": "stdout",
     "output_type": "stream",
     "text": [
      "Dropping the following intBCs due to lack of diversity with threshold 0.98: ['AAGGTTACTCAACT_r2', 'AAGGTTACTCAACT_r3', 'GCCTAGTACTCCTC_r2', 'GCCTAGTACTCCTC_r3', 'TGGGAATCAGATTC_r1', 'TGGGAATCAGATTC_r2', 'TGGGAATCAGATTC_r3']\n"
     ]
    },
    {
     "name": "stderr",
     "output_type": "stream",
     "text": [
      "Processing characters: 100%|██████████| 11/11 [00:00<00:00, 4347.25it/s]\n"
     ]
    },
    {
     "name": "stdout",
     "output_type": "stream",
     "text": [
      "423\n",
      "CTR_MGH_4\n"
     ]
    },
    {
     "name": "stderr",
     "output_type": "stream",
     "text": [
      "100%|██████████| 1/1 [00:00<00:00, 159.78it/s]\n"
     ]
    },
    {
     "name": "stdout",
     "output_type": "stream",
     "text": [
      "Dropping the following intBCs due to lack of diversity with threshold 0.98: ['AACGCTCTTGTTTA_r1', 'AACGCTCTTGTTTA_r2', 'AACGCTCTTGTTTA_r3', 'GCAATGGCAGGGAC_r2', 'GCAATGGCAGGGAC_r3', 'TTTCAGACCCTCCG_r1', 'TTTCAGACCCTCCG_r2', 'GTTTGTGAGTAGAG_r1', 'GTTTGTGAGTAGAG_r2', 'GTTTGTGAGTAGAG_r3', 'GTGCGTTTTCATCG_r3', 'GGCCCCGGACTGTA_r2', 'GCTTATCACCGAGA_r1', 'GCTTATCACCGAGA_r2']\n"
     ]
    },
    {
     "name": "stderr",
     "output_type": "stream",
     "text": [
      "Processing characters: 100%|██████████| 13/13 [00:00<00:00, 5864.27it/s]\n"
     ]
    },
    {
     "name": "stdout",
     "output_type": "stream",
     "text": [
      "406\n",
      "CTR_MGH_5\n"
     ]
    },
    {
     "name": "stderr",
     "output_type": "stream",
     "text": [
      "100%|██████████| 1/1 [00:00<00:00, 102.64it/s]\n"
     ]
    },
    {
     "name": "stdout",
     "output_type": "stream",
     "text": [
      "Dropping the following intBCs due to lack of diversity with threshold 0.98: ['TTTCCGTCATTGTG_r2', 'TTTCCGTCATTGTG_r3', 'TGACCTCTGGTCTC_r1', 'TGACCTCTGGTCTC_r3', 'TTCTGTGACATGAA_r1', 'TTCTGTGACATGAA_r3', 'TGAGCCCATTAGCA_r1', 'TGAGCCCATTAGCA_r3', 'TCTTGTTCTTGCTC_r1', 'TCTTGTTCTTGCTC_r3', 'TGCCTTGGTTACTT_r2', 'TGCCTTGGTTACTT_r3', 'GTTCGGCGTGCCCT_r1', 'GTTCGGCGTGCCCT_r3', 'TCGGTGGGCGAATA_r3', 'TCTCGATGTAATAT_r1', 'TTTCGCGGAGTTCA_r1', 'TAATCAGTTTGTTT_r1', 'TAATCAGTTTGTTT_r2', 'GTTCAAAGTTCTGG_r3', 'GTCCGCTTCGTTTC_r1', 'GCAGTGATACACTG_r1', 'GCGTGGTGCGTTAC_r1', 'GCGTGGTGCGTTAC_r3', 'GCCCGTGTGTGTCA_r3', 'GATCGATTGGGCCC_r1', 'GCCCGTCCTTGTTC_r1', 'GCCCGTCCTTGTTC_r3', 'GAGTGTAGGGGATG_r1', 'GAGTGTAGGGGATG_r3', 'GACCGTATGCGCGG_r2', 'GACCGTATGCGCGG_r3', 'GACACTTTTCGGCA_r1', 'CGAAAATCGGCCAG_r1', 'CGAAAATCGGCCAG_r2', 'CGAAAATCGGCCAG_r3', 'CGCGGACCGGGCTC_r1', 'CGCGGACCGGGCTC_r3', 'CCTCCATTATGACC_r1', 'CCTAGTCCTTAGTA_r1', 'CCTAGTCCTTAGTA_r3', 'CCGTGTATATTCAA_r1', 'CCGTGTATATTCAA_r2', 'CCGTGTATATTCAA_r3']\n"
     ]
    },
    {
     "name": "stderr",
     "output_type": "stream",
     "text": [
      "Processing characters: 100%|██████████| 34/34 [00:00<00:00, 17482.69it/s]\n"
     ]
    },
    {
     "name": "stdout",
     "output_type": "stream",
     "text": [
      "104\n",
      "CTR_MGH_6\n"
     ]
    },
    {
     "name": "stderr",
     "output_type": "stream",
     "text": [
      "100%|██████████| 1/1 [00:00<00:00, 87.33it/s]\n"
     ]
    },
    {
     "name": "stdout",
     "output_type": "stream",
     "text": [
      "Dropping the following intBCs due to lack of diversity with threshold 0.98: ['GCCCGCTCGTTGAT_r1', 'GCCCGCTCGTTGAT_r2', 'GCCCGCTCGTTGAT_r3', 'CTTTGTATAGTTAG_r1', 'CTTTGTATAGTTAG_r2', 'CTTTGTATAGTTAG_r3', 'CTCGGGTTTGTCAG_r1', 'CTCGGGTTTGTCAG_r2', 'CTCGGGTTTGTCAG_r3', 'GTTCGTAAGGATGA_r1', 'GTTCGTAAGGATGA_r2', 'GTTCGTAAGGATGA_r3', 'ATAGGTTAAAATCC_r1', 'ATAGGTTAAAATCC_r2', 'ATAGGTTAAAATCC_r3', 'CAGAGTAGAACGTT_r1', 'CAGAGTAGAACGTT_r2', 'CAGAGTAGAACGTT_r3', 'ATCTTTGCCTGATG_r1', 'ATCTTTGCCTGATG_r2', 'ATCTTTGCCTGATG_r3', 'TTTAGGTACGATAC_r1', 'TTTAGGTACGATAC_r2', 'TTTAGGTACGATAC_r3', 'GTGCCCTGTCCCTA_r1', 'GTGCCCTGTCCCTA_r2', 'GTGCCCTGTCCCTA_r3', 'GCACGGGGTGATGC_r1', 'GCACGGGGTGATGC_r2', 'GCACGGGGTGATGC_r3', 'GTTGTTGATGCTGG_r1', 'GTTGTTGATGCTGG_r2', 'GTTGTTGATGCTGG_r3', 'ATCAGTACCTTTTT_r1', 'ATCAGTACCTTTTT_r2', 'ATCAGTACCTTTTT_r3', 'ATCGTCCGGGATGT_r1', 'ATCGTCCGGGATGT_r2', 'ATCGTCCGGGATGT_r3', 'GTGTGACAGCTCTA_r1', 'GTGTGACAGCTCTA_r2', 'GTGTGACAGCTCTA_r3', 'TCTCGACAGCCCTT_r1', 'TCTCGACAGCCCTT_r2', 'TCTCGACAGCCCTT_r3']\n"
     ]
    },
    {
     "name": "stderr",
     "output_type": "stream",
     "text": [
      "Processing characters: 100%|██████████| 3/3 [00:00<00:00, 10791.52it/s]"
     ]
    },
    {
     "name": "stdout",
     "output_type": "stream",
     "text": [
      "70\n",
      "CTR_MGH_7\n"
     ]
    },
    {
     "name": "stderr",
     "output_type": "stream",
     "text": [
      "\n",
      "100%|██████████| 1/1 [00:00<00:00, 151.74it/s]\n"
     ]
    },
    {
     "name": "stdout",
     "output_type": "stream",
     "text": [
      "Dropping the following intBCs due to lack of diversity with threshold 0.98: ['TGACGAGTAGGCCC_r1', 'TGACGAGTAGGCCC_r2', 'TTGCGTGACCACGG_r1', 'TTGCGTGACCACGG_r2', 'TTTCGTATTCGATA_r1', 'TTTCGTATTCGATA_r2', 'GAAATTGTTCGGCC_r1', 'GAAATTGTTCGGCC_r2', 'CTTATAGTCGCGAC_r1', 'CTTATAGTCGCGAC_r2', 'GGCTAGTTAAGGAC_r1', 'GGCTAGTTAAGGAC_r2', 'CGCCATGCTTGAAA_r1', 'CGCCATGCTTGAAA_r2', 'CGCCATGCTTGAAA_r3', 'ATTTCGGTAGGTTC_r1', 'ATTTCGGTAGGTTC_r2', 'ATTTCGGTAGGTTC_r3', 'GCGCGGTTTCAACT_r1', 'GCGCGGTTTCAACT_r2', 'TGGGGGAAGATAGG_r1', 'TGGGGGAAGATAGG_r2', 'GCAAGTTATTACTC_r1', 'GCAAGTTATTACTC_r2', 'GCAAGTTATTACTC_r3', 'GGCACTAAAAAGCA_r1', 'GGCACTAAAAAGCA_r2', 'TGACGCGGGGAAAT_r1', 'TGACGCGGGGAAAT_r2', 'TGACGCGGGGAAAT_r3', 'CCTTGGTCAGTCAC_r1', 'CCTTGGTCAGTCAC_r2']\n"
     ]
    },
    {
     "name": "stderr",
     "output_type": "stream",
     "text": [
      "Processing characters: 100%|██████████| 10/10 [00:00<00:00, 10106.76it/s]\n"
     ]
    },
    {
     "name": "stdout",
     "output_type": "stream",
     "text": [
      "187\n",
      "CTR_MGH_8\n"
     ]
    },
    {
     "name": "stderr",
     "output_type": "stream",
     "text": [
      "100%|██████████| 1/1 [00:00<00:00, 163.06it/s]\n"
     ]
    },
    {
     "name": "stdout",
     "output_type": "stream",
     "text": [
      "Dropping the following intBCs due to lack of diversity with threshold 0.98: ['ACAAAGTCGACTCT_r1', 'ACAAAGTCGACTCT_r2', 'ACAAAGTCGACTCT_r3', 'TTTGTCGTCATCAC_r1', 'TTTGTCGTCATCAC_r2', 'TTTGTCGTCATCAC_r3', 'TTTCGAGGAGTGCT_r1', 'TTTCGAGGAGTGCT_r2', 'TTTCGAGGAGTGCT_r3', 'GCGTCAGGAGTCGA_r1', 'GCGTCAGGAGTCGA_r2', 'GCGTCAGGAGTCGA_r3', 'GTTTGCGTAGCTGC_r1', 'GTTTGCGTAGCTGC_r2', 'GTTTGCGTAGCTGC_r3', 'GTGAGTACTTATCC_r1', 'GTGAGTACTTATCC_r2', 'GTGAGTACTTATCC_r3', 'GGTCCTGCACTAGG_r2', 'GGTCCTGCACTAGG_r3']\n"
     ]
    },
    {
     "name": "stderr",
     "output_type": "stream",
     "text": [
      "Processing characters: 100%|██████████| 16/16 [00:00<00:00, 15650.39it/s]\n"
     ]
    },
    {
     "name": "stdout",
     "output_type": "stream",
     "text": [
      "118\n",
      "CTR_MGH_9\n"
     ]
    },
    {
     "name": "stderr",
     "output_type": "stream",
     "text": [
      "100%|██████████| 1/1 [00:00<00:00, 184.50it/s]\n"
     ]
    },
    {
     "name": "stdout",
     "output_type": "stream",
     "text": [
      "Dropping the following intBCs due to lack of diversity with threshold 0.98: ['ATTGGCTTGGCCAT_r1', 'ATTGGCTTGGCCAT_r2', 'TCCTATTCCGGTTA_r1', 'TCCTATTCCGGTTA_r2', 'TCCTATTCCGGTTA_r3', 'GCTGGGAAACAATG_r1', 'GCTGGGAAACAATG_r2', 'GCTGGGAAACAATG_r3', 'CGTGATTGACCGGG_r1', 'CGTGATTGACCGGG_r2', 'CGTGATTGACCGGG_r3', 'CCGCGCGGACGGCT_r1', 'TGGGCGGATGGCGT_r1', 'TGGGCGGATGGCGT_r2', 'TGGGCGGATGGCGT_r3', 'TTATGCGGCGTTCA_r2', 'TTATGCGGCGTTCA_r3']\n"
     ]
    },
    {
     "name": "stderr",
     "output_type": "stream",
     "text": [
      "Processing characters: 100%|██████████| 7/7 [00:00<00:00, 11531.86it/s]\n"
     ]
    },
    {
     "name": "stdout",
     "output_type": "stream",
     "text": [
      "139\n",
      "CTR_RT_0\n"
     ]
    },
    {
     "name": "stderr",
     "output_type": "stream",
     "text": [
      "100%|██████████| 1/1 [00:00<00:00, 287.87it/s]\n"
     ]
    },
    {
     "name": "stdout",
     "output_type": "stream",
     "text": [
      "Dropping the following intBCs due to lack of diversity with threshold 0.98: []\n"
     ]
    },
    {
     "name": "stderr",
     "output_type": "stream",
     "text": [
      "Processing characters: 100%|██████████| 3/3 [00:00<00:00, 31378.83it/s]"
     ]
    },
    {
     "name": "stdout",
     "output_type": "stream",
     "text": [
      "22\n",
      "CTR_RT_1\n"
     ]
    },
    {
     "name": "stderr",
     "output_type": "stream",
     "text": [
      "\n",
      "100%|██████████| 1/1 [00:00<00:00, 41.88it/s]\n"
     ]
    },
    {
     "name": "stdout",
     "output_type": "stream",
     "text": [
      "Dropping the following intBCs due to lack of diversity with threshold 0.98: ['CCGTGTCAGGTCCG_r1', 'CCGTGTCAGGTCCG_r2', 'CCGTGTCAGGTCCG_r3', 'GTCTAATGTTTCTT_r1', 'GTCTAATGTTTCTT_r2', 'GTCTAATGTTTCTT_r3', 'TCATCCCTCTTGAA_r1', 'TCATCCCTCTTGAA_r2', 'TCATCCCTCTTGAA_r3', 'TCCGGTGGCTCTTC_r1', 'TCCGGTGGCTCTTC_r2', 'TCCGGTGGCTCTTC_r3', 'TTCCGAGTTCGCTC_r1', 'TTCCGAGTTCGCTC_r2', 'TTCCGAGTTCGCTC_r3']\n"
     ]
    },
    {
     "name": "stderr",
     "output_type": "stream",
     "text": [
      "Processing characters: 100%|██████████| 12/12 [00:00<00:00, 752.26it/s]\n"
     ]
    },
    {
     "name": "stdout",
     "output_type": "stream",
     "text": [
      "3368\n",
      "GEM_RT_0\n"
     ]
    },
    {
     "name": "stderr",
     "output_type": "stream",
     "text": [
      "100%|██████████| 1/1 [00:00<00:00, 192.24it/s]\n"
     ]
    },
    {
     "name": "stdout",
     "output_type": "stream",
     "text": [
      "Dropping the following intBCs due to lack of diversity with threshold 0.98: ['ATTCGTAGGGCCTC_r1', 'ATTCGTAGGGCCTC_r2', 'ATTCGTAGGGCCTC_r3', 'GTCTGTCCCGTTTT_r1', 'GTCTGTCCCGTTTT_r2', 'GTCTGTCCCGTTTT_r3', 'TGCGGTTGGTCGGG_r1', 'TGCGGTTGGTCGGG_r2', 'TGCGGTTGGTCGGG_r3', 'GTAGAGAGGGGGTG_r1', 'GTAGAGAGGGGGTG_r2', 'GTAGAGAGGGGGTG_r3', 'CAACGTTGAGCGTT_r1', 'CAACGTTGAGCGTT_r2', 'CAACGTTGAGCGTT_r3', 'TAAGCAGTTGCGCT_r1', 'TAAGCAGTTGCGCT_r2', 'TAAGCAGTTGCGCT_r3', 'GTACGCTCCCACCT_r1', 'GTACGCTCCCACCT_r2', 'GTACGCTCCCACCT_r3', 'GGTCGACGAGTTAG_r1', 'GGTCGACGAGTTAG_r2', 'GGTCGACGAGTTAG_r3']\n"
     ]
    },
    {
     "name": "stderr",
     "output_type": "stream",
     "text": [
      "Processing characters: 0it [00:00, ?it/s]\n"
     ]
    },
    {
     "name": "stdout",
     "output_type": "stream",
     "text": [
      "Dropping the following intBCs due to lack of diversity with threshold 1.0: []\n"
     ]
    },
    {
     "name": "stderr",
     "output_type": "stream",
     "text": [
      "Processing characters: 100%|██████████| 24/24 [00:00<00:00, 47304.18it/s]\n"
     ]
    },
    {
     "name": "stdout",
     "output_type": "stream",
     "text": [
      "0\n",
      "GEM_RT_1\n"
     ]
    },
    {
     "name": "stderr",
     "output_type": "stream",
     "text": [
      "100%|██████████| 1/1 [00:00<00:00, 189.41it/s]\n"
     ]
    },
    {
     "name": "stdout",
     "output_type": "stream",
     "text": [
      "Dropping the following intBCs due to lack of diversity with threshold 0.98: ['GCACAAGGAGAATC_r1', 'GCACAAGGAGAATC_r2', 'GCACAAGGAGAATC_r3', 'ACTCGGTCCGGCTT_r1', 'ACTCGGTCCGGCTT_r2', 'ACTCGGTCCGGCTT_r3', 'GCGAGTTGTTCCGC_r1', 'GCGAGTTGTTCCGC_r2', 'GCGAGTTGTTCCGC_r3', 'GTCTACAGTGGTCT_r1', 'GTCTACAGTGGTCT_r2', 'GTCTACAGTGGTCT_r3', 'TGGTGTTAACTATC_r1', 'TGGTGTTAACTATC_r2', 'TGGTGTTAACTATC_r3', 'GGTGGGTGTACTCA_r1', 'GGTGGGTGTACTCA_r2', 'GGTGGGTGTACTCA_r3']\n"
     ]
    },
    {
     "name": "stderr",
     "output_type": "stream",
     "text": [
      "Processing characters: 0it [00:00, ?it/s]\n"
     ]
    },
    {
     "name": "stdout",
     "output_type": "stream",
     "text": [
      "Dropping the following intBCs due to lack of diversity with threshold 1.0: []\n"
     ]
    },
    {
     "name": "stderr",
     "output_type": "stream",
     "text": [
      "Processing characters: 100%|██████████| 18/18 [00:00<00:00, 13706.88it/s]\n"
     ]
    },
    {
     "name": "stdout",
     "output_type": "stream",
     "text": [
      "0\n",
      "GEM_RT_10\n"
     ]
    },
    {
     "name": "stderr",
     "output_type": "stream",
     "text": [
      "100%|██████████| 1/1 [00:00<00:00, 246.48it/s]\n"
     ]
    },
    {
     "name": "stdout",
     "output_type": "stream",
     "text": [
      "Dropping the following intBCs due to lack of diversity with threshold 0.98: ['GGGCAGTGGATAGG_r1', 'GGGCAGTGGATAGG_r2', 'GGGCAGTGGATAGG_r3', 'TTTTGTTTTCTTTC_r1', 'TTTTGTTTTCTTTC_r2', 'TTTTGTTTTCTTTC_r3']\n"
     ]
    },
    {
     "name": "stderr",
     "output_type": "stream",
     "text": [
      "Processing characters: 0it [00:00, ?it/s]\n"
     ]
    },
    {
     "name": "stdout",
     "output_type": "stream",
     "text": [
      "Dropping the following intBCs due to lack of diversity with threshold 1.0: []\n"
     ]
    },
    {
     "name": "stderr",
     "output_type": "stream",
     "text": [
      "Processing characters: 100%|██████████| 6/6 [00:00<00:00, 37282.70it/s]\n"
     ]
    },
    {
     "name": "stdout",
     "output_type": "stream",
     "text": [
      "0\n",
      "GEM_RT_11\n"
     ]
    },
    {
     "name": "stderr",
     "output_type": "stream",
     "text": [
      "100%|██████████| 1/1 [00:00<00:00, 230.14it/s]\n"
     ]
    },
    {
     "name": "stdout",
     "output_type": "stream",
     "text": [
      "Dropping the following intBCs due to lack of diversity with threshold 0.98: ['CTCACAATTGGAGT_r1', 'CTCACAATTGGAGT_r2', 'CTCACAATTGGAGT_r3', 'CACTATCGTACCTT_r1', 'CACTATCGTACCTT_r2', 'CACTATCGTACCTT_r3', 'CATCATTGGTGCTC_r1', 'CATCATTGGTGCTC_r2', 'CATCATTGGTGCTC_r3']\n"
     ]
    },
    {
     "name": "stderr",
     "output_type": "stream",
     "text": [
      "Processing characters: 0it [00:00, ?it/s]\n"
     ]
    },
    {
     "name": "stdout",
     "output_type": "stream",
     "text": [
      "Dropping the following intBCs due to lack of diversity with threshold 1.0: []\n"
     ]
    },
    {
     "name": "stderr",
     "output_type": "stream",
     "text": [
      "Processing characters: 100%|██████████| 9/9 [00:00<00:00, 42799.02it/s]\n"
     ]
    },
    {
     "name": "stdout",
     "output_type": "stream",
     "text": [
      "0\n",
      "GEM_RT_12\n"
     ]
    },
    {
     "name": "stderr",
     "output_type": "stream",
     "text": [
      "100%|██████████| 1/1 [00:00<00:00, 261.80it/s]\n"
     ]
    },
    {
     "name": "stdout",
     "output_type": "stream",
     "text": [
      "Dropping the following intBCs due to lack of diversity with threshold 0.98: ['CATACTGAAGATGG_r1', 'CATACTGAAGATGG_r2', 'CATACTGAAGATGG_r3', 'GTCGGCGCATGCTC_r1', 'GTCGGCGCATGCTC_r2', 'GTCGGCGCATGCTC_r3', 'AATAGATACCGTTG_r1', 'AATAGATACCGTTG_r2', 'AATAGATACCGTTG_r3']\n"
     ]
    },
    {
     "name": "stderr",
     "output_type": "stream",
     "text": [
      "Processing characters: 0it [00:00, ?it/s]\n"
     ]
    },
    {
     "name": "stdout",
     "output_type": "stream",
     "text": [
      "Dropping the following intBCs due to lack of diversity with threshold 1.0: []\n"
     ]
    },
    {
     "name": "stderr",
     "output_type": "stream",
     "text": [
      "Processing characters: 100%|██████████| 9/9 [00:00<00:00, 43640.16it/s]\n"
     ]
    },
    {
     "name": "stdout",
     "output_type": "stream",
     "text": [
      "0\n",
      "GEM_RT_13\n"
     ]
    },
    {
     "name": "stderr",
     "output_type": "stream",
     "text": [
      "100%|██████████| 1/1 [00:00<00:00, 246.23it/s]\n"
     ]
    },
    {
     "name": "stdout",
     "output_type": "stream",
     "text": [
      "Dropping the following intBCs due to lack of diversity with threshold 0.98: ['CGAACATGTCATGG_r1', 'CGAACATGTCATGG_r2', 'TCCGGTTTCGCATC_r2', 'TCCGGTTTCGCATC_r3']\n"
     ]
    },
    {
     "name": "stderr",
     "output_type": "stream",
     "text": [
      "Processing characters: 100%|██████████| 5/5 [00:00<00:00, 32665.92it/s]"
     ]
    },
    {
     "name": "stdout",
     "output_type": "stream",
     "text": [
      "19"
     ]
    },
    {
     "name": "stderr",
     "output_type": "stream",
     "text": [
      "\n"
     ]
    },
    {
     "name": "stdout",
     "output_type": "stream",
     "text": [
      "\n",
      "GEM_RT_14\n"
     ]
    },
    {
     "name": "stderr",
     "output_type": "stream",
     "text": [
      "100%|██████████| 1/1 [00:00<00:00, 226.05it/s]\n"
     ]
    },
    {
     "name": "stdout",
     "output_type": "stream",
     "text": [
      "Dropping the following intBCs due to lack of diversity with threshold 0.98: []\n"
     ]
    },
    {
     "name": "stderr",
     "output_type": "stream",
     "text": [
      "Processing characters: 100%|██████████| 9/9 [00:00<00:00, 30102.66it/s]\n"
     ]
    },
    {
     "name": "stdout",
     "output_type": "stream",
     "text": [
      "66\n",
      "GEM_RT_15\n"
     ]
    },
    {
     "name": "stderr",
     "output_type": "stream",
     "text": [
      "100%|██████████| 1/1 [00:00<00:00, 225.15it/s]\n"
     ]
    },
    {
     "name": "stdout",
     "output_type": "stream",
     "text": [
      "Dropping the following intBCs due to lack of diversity with threshold 0.98: ['ATCTGGCTCGACTT_r1', 'ATCTGGCTCGACTT_r2']\n"
     ]
    },
    {
     "name": "stderr",
     "output_type": "stream",
     "text": [
      "Processing characters: 100%|██████████| 4/4 [00:00<00:00, 30615.36it/s]\n"
     ]
    },
    {
     "name": "stdout",
     "output_type": "stream",
     "text": [
      "36\n",
      "GEM_RT_16\n"
     ]
    },
    {
     "name": "stderr",
     "output_type": "stream",
     "text": [
      "100%|██████████| 1/1 [00:00<00:00, 239.09it/s]\n"
     ]
    },
    {
     "name": "stdout",
     "output_type": "stream",
     "text": [
      "Dropping the following intBCs due to lack of diversity with threshold 0.98: ['ACGCGGCATACATC_r1', 'ACGCGGCATACATC_r2', 'ACGCGGCATACATC_r3', 'CCGAGCCGATTGAC_r1', 'CCGAGCCGATTGAC_r2', 'CCGAGCCGATTGAC_r3']\n"
     ]
    },
    {
     "name": "stderr",
     "output_type": "stream",
     "text": [
      "Processing characters: 0it [00:00, ?it/s]\n"
     ]
    },
    {
     "name": "stdout",
     "output_type": "stream",
     "text": [
      "Dropping the following intBCs due to lack of diversity with threshold 1.0: []\n"
     ]
    },
    {
     "name": "stderr",
     "output_type": "stream",
     "text": [
      "Processing characters: 100%|██████████| 6/6 [00:00<00:00, 43166.08it/s]\n"
     ]
    },
    {
     "name": "stdout",
     "output_type": "stream",
     "text": [
      "0\n",
      "GEM_RT_17\n"
     ]
    },
    {
     "name": "stderr",
     "output_type": "stream",
     "text": [
      "100%|██████████| 1/1 [00:00<00:00, 220.50it/s]\n"
     ]
    },
    {
     "name": "stdout",
     "output_type": "stream",
     "text": [
      "Dropping the following intBCs due to lack of diversity with threshold 0.98: ['CAATGTTTCATCAT_r1', 'CAATGTTTCATCAT_r2', 'CAATGTTTCATCAT_r3', 'AGCCGTTCCCCCGT_r1', 'AGCCGTTCCCCCGT_r2', 'AGCCGTTCCCCCGT_r3', 'TCCTCAAGACCCTC_r1', 'TCCTCAAGACCCTC_r2', 'TCCTCAAGACCCTC_r3']\n"
     ]
    },
    {
     "name": "stderr",
     "output_type": "stream",
     "text": [
      "Processing characters: 0it [00:00, ?it/s]\n"
     ]
    },
    {
     "name": "stdout",
     "output_type": "stream",
     "text": [
      "Dropping the following intBCs due to lack of diversity with threshold 1.0: []\n"
     ]
    },
    {
     "name": "stderr",
     "output_type": "stream",
     "text": [
      "Processing characters: 100%|██████████| 9/9 [00:00<00:00, 62086.74it/s]\n"
     ]
    },
    {
     "name": "stdout",
     "output_type": "stream",
     "text": [
      "0\n",
      "GEM_RT_18\n"
     ]
    },
    {
     "name": "stderr",
     "output_type": "stream",
     "text": [
      "100%|██████████| 1/1 [00:00<00:00, 274.14it/s]\n"
     ]
    },
    {
     "name": "stdout",
     "output_type": "stream",
     "text": [
      "Dropping the following intBCs due to lack of diversity with threshold 0.98: ['ATGGGTGTCCCTTA_r2']\n"
     ]
    },
    {
     "name": "stderr",
     "output_type": "stream",
     "text": [
      "Processing characters: 100%|██████████| 2/2 [00:00<00:00, 23629.88it/s]\n"
     ]
    },
    {
     "name": "stdout",
     "output_type": "stream",
     "text": [
      "11\n",
      "GEM_RT_19\n"
     ]
    },
    {
     "name": "stderr",
     "output_type": "stream",
     "text": [
      "100%|██████████| 1/1 [00:00<00:00, 240.47it/s]\n"
     ]
    },
    {
     "name": "stdout",
     "output_type": "stream",
     "text": [
      "Dropping the following intBCs due to lack of diversity with threshold 0.98: ['GTTCCTGGCTCAAT_r1', 'GTTCCTGGCTCAAT_r3']\n"
     ]
    },
    {
     "name": "stderr",
     "output_type": "stream",
     "text": [
      "Processing characters: 100%|██████████| 1/1 [00:00<00:00, 15887.52it/s]"
     ]
    },
    {
     "name": "stdout",
     "output_type": "stream",
     "text": [
      "4\n",
      "GEM_RT_2\n"
     ]
    },
    {
     "name": "stderr",
     "output_type": "stream",
     "text": [
      "\n",
      "100%|██████████| 1/1 [00:00<00:00, 228.30it/s]\n"
     ]
    },
    {
     "name": "stdout",
     "output_type": "stream",
     "text": [
      "Dropping the following intBCs due to lack of diversity with threshold 0.98: ['CCGGGCTTAATCTT_r1', 'CCGGGCTTAATCTT_r2', 'CCGGGCTTAATCTT_r3', 'CCAAGCTCTGCCAA_r1', 'CCAAGCTCTGCCAA_r2', 'CCAAGCTCTGCCAA_r3']\n"
     ]
    },
    {
     "name": "stderr",
     "output_type": "stream",
     "text": [
      "Processing characters: 0it [00:00, ?it/s]\n"
     ]
    },
    {
     "name": "stdout",
     "output_type": "stream",
     "text": [
      "Dropping the following intBCs due to lack of diversity with threshold 1.0: []\n"
     ]
    },
    {
     "name": "stderr",
     "output_type": "stream",
     "text": [
      "Processing characters: 100%|██████████| 6/6 [00:00<00:00, 21094.57it/s]\n"
     ]
    },
    {
     "name": "stdout",
     "output_type": "stream",
     "text": [
      "0\n",
      "GEM_RT_20\n"
     ]
    },
    {
     "name": "stderr",
     "output_type": "stream",
     "text": [
      "100%|██████████| 1/1 [00:00<00:00, 253.42it/s]\n"
     ]
    },
    {
     "name": "stdout",
     "output_type": "stream",
     "text": [
      "Dropping the following intBCs due to lack of diversity with threshold 0.98: ['GTCTGTCGCGTTTC_r1', 'GTCTGTCGCGTTTC_r2', 'GTCTGTCGCGTTTC_r3']\n"
     ]
    },
    {
     "name": "stderr",
     "output_type": "stream",
     "text": [
      "Processing characters: 100%|██████████| 3/3 [00:00<00:00, 27838.30it/s]"
     ]
    },
    {
     "name": "stdout",
     "output_type": "stream",
     "text": [
      "26\n",
      "GEM_RT_3\n"
     ]
    },
    {
     "name": "stderr",
     "output_type": "stream",
     "text": [
      "\n",
      "100%|██████████| 1/1 [00:00<00:00, 248.07it/s]\n"
     ]
    },
    {
     "name": "stdout",
     "output_type": "stream",
     "text": [
      "Dropping the following intBCs due to lack of diversity with threshold 0.98: ['CGTTGCTTAGACGG_r1', 'CGTTGCTTAGACGG_r2', 'CGTTGCTTAGACGG_r3', 'TAGGACAAGCATAG_r1', 'TAGGACAAGCATAG_r2', 'TAGGACAAGCATAG_r3']\n"
     ]
    },
    {
     "name": "stderr",
     "output_type": "stream",
     "text": [
      "Processing characters: 0it [00:00, ?it/s]\n"
     ]
    },
    {
     "name": "stdout",
     "output_type": "stream",
     "text": [
      "Dropping the following intBCs due to lack of diversity with threshold 1.0: []\n"
     ]
    },
    {
     "name": "stderr",
     "output_type": "stream",
     "text": [
      "Processing characters: 100%|██████████| 6/6 [00:00<00:00, 21583.04it/s]\n"
     ]
    },
    {
     "name": "stdout",
     "output_type": "stream",
     "text": [
      "0\n",
      "GEM_RT_4\n"
     ]
    },
    {
     "name": "stderr",
     "output_type": "stream",
     "text": [
      "100%|██████████| 1/1 [00:00<00:00, 209.31it/s]\n"
     ]
    },
    {
     "name": "stdout",
     "output_type": "stream",
     "text": [
      "Dropping the following intBCs due to lack of diversity with threshold 0.98: ['TCTGTTTTATGATT_r1', 'TCTGTTTTATGATT_r2', 'TCTGTTTTATGATT_r3', 'GTCTCCGGACACTT_r1', 'GTCTCCGGACACTT_r2', 'GTCTCCGGACACTT_r3', 'TGACAATTTGCGCA_r1', 'TGACAATTTGCGCA_r2', 'TGACAATTTGCGCA_r3', 'TGGGCTTTGCTTTA_r1', 'TGGGCTTTGCTTTA_r2', 'TGGGCTTTGCTTTA_r3', 'AATTCACCTTAGTT_r1', 'AATTCACCTTAGTT_r2', 'AATTCACCTTAGTT_r3']\n"
     ]
    },
    {
     "name": "stderr",
     "output_type": "stream",
     "text": [
      "Processing characters: 0it [00:00, ?it/s]\n"
     ]
    },
    {
     "name": "stdout",
     "output_type": "stream",
     "text": [
      "Dropping the following intBCs due to lack of diversity with threshold 1.0: []\n"
     ]
    },
    {
     "name": "stderr",
     "output_type": "stream",
     "text": [
      "Processing characters: 100%|██████████| 15/15 [00:00<00:00, 25461.17it/s]\n"
     ]
    },
    {
     "name": "stdout",
     "output_type": "stream",
     "text": [
      "0\n",
      "GEM_RT_5\n"
     ]
    },
    {
     "name": "stderr",
     "output_type": "stream",
     "text": [
      "100%|██████████| 1/1 [00:00<00:00, 190.30it/s]\n"
     ]
    },
    {
     "name": "stdout",
     "output_type": "stream",
     "text": [
      "Dropping the following intBCs due to lack of diversity with threshold 0.98: ['ATCGGGCTCGGACC_r1', 'ATCGGGCTCGGACC_r2', 'ATCGGGCTCGGACC_r3', 'ATGCGTTAACCGTC_r1', 'ATGCGTTAACCGTC_r2', 'ATGCGTTAACCGTC_r3', 'GCTCGTCACGTTCT_r1']\n"
     ]
    },
    {
     "name": "stderr",
     "output_type": "stream",
     "text": [
      "Processing characters: 100%|██████████| 5/5 [00:00<00:00, 24789.03it/s]\n"
     ]
    },
    {
     "name": "stdout",
     "output_type": "stream",
     "text": [
      "8\n",
      "GEM_RT_6\n"
     ]
    },
    {
     "name": "stderr",
     "output_type": "stream",
     "text": [
      "100%|██████████| 1/1 [00:00<00:00, 245.74it/s]\n"
     ]
    },
    {
     "name": "stdout",
     "output_type": "stream",
     "text": [
      "Dropping the following intBCs due to lack of diversity with threshold 0.98: ['CAGAGGCTTGGTGC_r1', 'CAGAGGCTTGGTGC_r2', 'CAGAGGCTTGGTGC_r3', 'GGGACAGCTGGGGG_r1', 'GGGACAGCTGGGGG_r3', 'TTAAAGGGTGGTCT_r1', 'TTAAAGGGTGGTCT_r2', 'TTAAAGGGTGGTCT_r3']\n"
     ]
    },
    {
     "name": "stderr",
     "output_type": "stream",
     "text": [
      "Processing characters: 100%|██████████| 1/1 [00:00<00:00, 8065.97it/s]\n"
     ]
    },
    {
     "name": "stdout",
     "output_type": "stream",
     "text": [
      "3\n",
      "GEM_RT_7\n"
     ]
    },
    {
     "name": "stderr",
     "output_type": "stream",
     "text": [
      "100%|██████████| 1/1 [00:00<00:00, 247.25it/s]\n"
     ]
    },
    {
     "name": "stdout",
     "output_type": "stream",
     "text": [
      "Dropping the following intBCs due to lack of diversity with threshold 0.98: []\n"
     ]
    },
    {
     "name": "stderr",
     "output_type": "stream",
     "text": [
      "Processing characters: 100%|██████████| 6/6 [00:00<00:00, 16799.62it/s]"
     ]
    },
    {
     "name": "stdout",
     "output_type": "stream",
     "text": [
      "117"
     ]
    },
    {
     "name": "stderr",
     "output_type": "stream",
     "text": [
      "\n"
     ]
    },
    {
     "name": "stdout",
     "output_type": "stream",
     "text": [
      "\n",
      "GEM_RT_8\n"
     ]
    },
    {
     "name": "stderr",
     "output_type": "stream",
     "text": [
      "100%|██████████| 1/1 [00:00<00:00, 217.36it/s]\n"
     ]
    },
    {
     "name": "stdout",
     "output_type": "stream",
     "text": [
      "Dropping the following intBCs due to lack of diversity with threshold 0.98: ['TTTCTAGAATGTAA_r1', 'TTTCTAGAATGTAA_r2', 'TTTCTAGAATGTAA_r3', 'GAGTATTTTCTGTC_r1', 'GAGTATTTTCTGTC_r2', 'GAGTATTTTCTGTC_r3', 'TCCTACCGAGTGGT_r1', 'TCCTACCGAGTGGT_r2', 'TCCTACCGAGTGGT_r3']\n"
     ]
    },
    {
     "name": "stderr",
     "output_type": "stream",
     "text": [
      "Processing characters: 0it [00:00, ?it/s]\n"
     ]
    },
    {
     "name": "stdout",
     "output_type": "stream",
     "text": [
      "Dropping the following intBCs due to lack of diversity with threshold 1.0: []\n"
     ]
    },
    {
     "name": "stderr",
     "output_type": "stream",
     "text": [
      "Processing characters: 100%|██████████| 9/9 [00:00<00:00, 29468.18it/s]\n"
     ]
    },
    {
     "name": "stdout",
     "output_type": "stream",
     "text": [
      "0\n",
      "GEM_RT_9\n"
     ]
    },
    {
     "name": "stderr",
     "output_type": "stream",
     "text": [
      "100%|██████████| 1/1 [00:00<00:00, 255.75it/s]\n"
     ]
    },
    {
     "name": "stdout",
     "output_type": "stream",
     "text": [
      "Dropping the following intBCs due to lack of diversity with threshold 0.98: ['GTGAGCAGCTAGCG_r1', 'GTGAGCAGCTAGCG_r2', 'GTGAGCAGCTAGCG_r3', 'CGCTTTCCATCTAT_r1', 'CGCTTTCCATCTAT_r2', 'CGCTTTCCATCTAT_r3']\n"
     ]
    },
    {
     "name": "stderr",
     "output_type": "stream",
     "text": [
      "Processing characters: 0it [00:00, ?it/s]\n"
     ]
    },
    {
     "name": "stdout",
     "output_type": "stream",
     "text": [
      "Dropping the following intBCs due to lack of diversity with threshold 1.0: []\n"
     ]
    },
    {
     "name": "stderr",
     "output_type": "stream",
     "text": [
      "Processing characters: 100%|██████████| 6/6 [00:00<00:00, 30727.50it/s]\n"
     ]
    },
    {
     "name": "stdout",
     "output_type": "stream",
     "text": [
      "0\n",
      "MI_MGH_0\n"
     ]
    },
    {
     "name": "stderr",
     "output_type": "stream",
     "text": [
      "100%|██████████| 1/1 [00:00<00:00, 111.95it/s]\n"
     ]
    },
    {
     "name": "stdout",
     "output_type": "stream",
     "text": [
      "Dropping the following intBCs due to lack of diversity with threshold 0.98: ['GTCAGTGGATCCTC_r1', 'TTTACCGGGGGGCG_r1', 'TTTACCGGGGGGCG_r2', 'CCCCAGTCTAGTCT_r1', 'CCCCAGTCTAGTCT_r2', 'CCCCAGTCTAGTCT_r3', 'GATGACTGACTATG_r2', 'GATGACTGACTATG_r3', 'GGCCAAAAAAACTA_r1', 'GGCCAAAAAAACTA_r2', 'GGCCAAAAAAACTA_r3', 'GTATGCCAACTTCT_r1', 'GTATGCCAACTTCT_r2', 'GTATGCCAACTTCT_r3', 'TTTATCCAAGGCGG_r1', 'TTTATCCAAGGCGG_r2', 'TTTATCCAAGGCGG_r3', 'CATGGTGGTGTATA_r1', 'CAATGATCATTAGG_r3', 'AACCGGATATCATA_r2', 'GGCCAAAAAAAACT_r1', 'GGCCAAAAAAAACT_r2', 'GGCCAAAAAAAACT_r3']\n"
     ]
    },
    {
     "name": "stderr",
     "output_type": "stream",
     "text": [
      "Processing characters: 100%|██████████| 13/13 [00:00<00:00, 44186.35it/s]\n"
     ]
    },
    {
     "name": "stdout",
     "output_type": "stream",
     "text": [
      "35\n",
      "MI_MGH_1\n"
     ]
    },
    {
     "name": "stderr",
     "output_type": "stream",
     "text": [
      "100%|██████████| 1/1 [00:00<00:00, 15.72it/s]\n"
     ]
    },
    {
     "name": "stdout",
     "output_type": "stream",
     "text": [
      "Dropping the following intBCs due to lack of diversity with threshold 0.98: ['AACGCCCTGCTTGC_r1', 'AACGCCCTGCTTGC_r2', 'AACGCCCTGCTTGC_r3', 'ACCATCGGGCCGTT_r1', 'ACCATCGGGCCGTT_r2', 'ACCATCGGGCCGTT_r3', 'AGTGGCGTTCAAGA_r1', 'AGTGGCGTTCAAGA_r2', 'AGTGGCGTTCAAGA_r3', 'ATGTAGATTATGGA_r1', 'ATGTAGATTATGGA_r2', 'ATGTAGATTATGGA_r3', 'GAATGGGCTGATGC_r1', 'GAATGGGCTGATGC_r2', 'GAATGGGCTGATGC_r3', 'GCGGTTTTTTGTGT_r1', 'GCGGTTTTTTGTGT_r2', 'GCGGTTTTTTGTGT_r3', 'GGACGGGGGTATCT_r1', 'GGACGGGGGTATCT_r2', 'GGACGGGGGTATCT_r3', 'GTAAATACAGCGTG_r1', 'GTAAATACAGCGTG_r2', 'GTAAATACAGCGTG_r3', 'AGCTCGGCCTTCAC_r1', 'CCCACCCATGAGTG_r1', 'CCCGTACTACACAC_r2', 'CCCGTACTACACAC_r3', 'CTCCTCTGCGCGAT_r1', 'CTCCTCTGCGCGAT_r3', 'GGCCGTTCCTTTTT_r1', 'GGCCGTTCCTTTTT_r2', 'GGCCGTTCCTTTTT_r3', 'GGTTGGAACACTGG_r1', 'TCCAGCTAATCTCT_r1', 'TCCAGCTAATCTCT_r3', 'TTATGTTTCTAACT_r1', 'TTATGTTTCTAACT_r2', 'TTTAATAGCCCGCG_r1', 'TTTAATAGCCCGCG_r2', 'TTTAATAGCCCGCG_r3', 'TTTACAGGCGTGGA_r1', 'TTTACAGGCGTGGA_r3', 'GGTGGGGCTCGAGC_r1', 'GGTGGGGCTCGAGC_r2', 'GGTGGGGCTCGAGC_r3', 'TTTACAGTGTCTAA_r1', 'TTTACAGTGTCTAA_r3']\n"
     ]
    },
    {
     "name": "stderr",
     "output_type": "stream",
     "text": [
      "Processing characters: 100%|██████████| 12/12 [00:00<00:00, 286.19it/s]\n"
     ]
    },
    {
     "name": "stdout",
     "output_type": "stream",
     "text": [
      "3143\n",
      "MI_MGH_2\n"
     ]
    },
    {
     "name": "stderr",
     "output_type": "stream",
     "text": [
      "100%|██████████| 1/1 [00:00<00:00, 136.17it/s]\n"
     ]
    },
    {
     "name": "stdout",
     "output_type": "stream",
     "text": [
      "Dropping the following intBCs due to lack of diversity with threshold 0.98: ['CTTATCAATGATGA_r1', 'CTTATCAATGATGA_r2', 'CTTGTATTGATTAT_r2', 'CTTGTATTGATTAT_r3', 'GCTTGCCTGCTTTG_r3', 'CAGTGCTTTGGTAT_r2', 'CAGTGCTTTGGTAT_r3', 'GCGTCAGCATCCAA_r2', 'GCGTCAGCATCCAA_r3', 'TTTTGCGACTCTAT_r1']\n"
     ]
    },
    {
     "name": "stderr",
     "output_type": "stream",
     "text": [
      "Processing characters: 100%|██████████| 29/29 [00:00<00:00, 14073.22it/s]\n"
     ]
    },
    {
     "name": "stdout",
     "output_type": "stream",
     "text": [
      "154\n",
      "MI_MGH_3\n"
     ]
    },
    {
     "name": "stderr",
     "output_type": "stream",
     "text": [
      "100%|██████████| 1/1 [00:00<00:00, 171.58it/s]\n"
     ]
    },
    {
     "name": "stdout",
     "output_type": "stream",
     "text": [
      "Dropping the following intBCs due to lack of diversity with threshold 0.98: ['GATCAAAATGGGTA_r1', 'GATCAAAATGGGTA_r2', 'GATCAAAATGGGTA_r3', 'ACCTGCGACAGGCA_r1', 'ACCTGCGACAGGCA_r2', 'ACCTGCGACAGGCA_r3', 'GGTGGTAGGGCCGC_r1', 'GGTGGTAGGGCCGC_r3']\n"
     ]
    },
    {
     "name": "stderr",
     "output_type": "stream",
     "text": [
      "Processing characters: 100%|██████████| 1/1 [00:00<00:00, 15650.39it/s]\n"
     ]
    },
    {
     "name": "stdout",
     "output_type": "stream",
     "text": [
      "5\n",
      "Met_MGH_0\n"
     ]
    },
    {
     "name": "stderr",
     "output_type": "stream",
     "text": [
      "100%|██████████| 1/1 [00:00<00:00, 143.44it/s]\n"
     ]
    },
    {
     "name": "stdout",
     "output_type": "stream",
     "text": [
      "Dropping the following intBCs due to lack of diversity with threshold 0.98: ['GTGCGGCTGGGCTC_r1', 'GTGCGGCTGGGCTC_r2', 'GTGCGGCTGGGCTC_r3', 'CGTCTCGACCTCAG_r2', 'CGTCTCGACCTCAG_r3', 'GGTTGCAGTTGGCC_r1', 'GGTTGCAGTTGGCC_r2', 'GGTTGCAGTTGGCC_r3', 'CTTTGCTCAACTCT_r2', 'ACGTCCGTGTATAT_r2', 'ACGTCCGTGTATAT_r3', 'AGGGCTTTACTCTG_r1', 'AGGGCTTTACTCTG_r2', 'CGCGGCATGACCAT_r2', 'CGCGGCATGACCAT_r3', 'GTTTCTGCGAGTAT_r2', 'GTTTCTGCGAGTAT_r3', 'TAGTGGATTAGAAG_r2', 'TAGTGGATTAGAAG_r3', 'TTCTGAAGAGGGAA_r2', 'TTCTGAAGAGGGAA_r3', 'TTGGGCTTTACTTT_r1', 'GCGCCACGCGCTGT_r1', 'GTCTTCGTTATCAC_r1', 'GTCTTCGTTATCAC_r3', 'CTTCCGCTCCTGAG_r1', 'CTTCCGCTCCTGAG_r2', 'GAATCATCTGAGTT_r1', 'CGACCTATTCATTC_r1', 'CGACCTATTCATTC_r2', 'GCATTATGGGCATT_r2', 'GCATTATGGGCATT_r3', 'ATGAGGTTGGACTA_r2', 'AACCGTATAACTCA_r1']\n"
     ]
    },
    {
     "name": "stderr",
     "output_type": "stream",
     "text": [
      "Processing characters: 100%|██████████| 32/32 [00:00<00:00, 116508.44it/s]"
     ]
    },
    {
     "name": "stdout",
     "output_type": "stream",
     "text": [
      "22\n",
      "Met_MGH_1\n"
     ]
    },
    {
     "name": "stderr",
     "output_type": "stream",
     "text": [
      "\n",
      "100%|██████████| 1/1 [00:00<00:00, 39.13it/s]\n"
     ]
    },
    {
     "name": "stdout",
     "output_type": "stream",
     "text": [
      "Dropping the following intBCs due to lack of diversity with threshold 0.98: ['AGTGGCGTTCAAGA_r1', 'AGTGGCGTTCAAGA_r2', 'AGTGGCGTTCAAGA_r3', 'ATGTAGATTATGGA_r1', 'ATGTAGATTATGGA_r2', 'ATGTAGATTATGGA_r3', 'GAGACTATCGAGAT_r1', 'GAGACTATCGAGAT_r2', 'GAGACTATCGAGAT_r3', 'GCGGTTTTTTGTGT_r1', 'GCGGTTTTTTGTGT_r2', 'GCGGTTTTTTGTGT_r3', 'GGACGGGGGTATCT_r1', 'GGACGGGGGTATCT_r2', 'GGACGGGGGTATCT_r3', 'AACGCCCTGCTTGC_r1', 'AACGCCCTGCTTGC_r2', 'AACGCCCTGCTTGC_r3', 'ACCATCGGGCCGTT_r1', 'ACCATCGGGCCGTT_r2', 'ACCATCGGGCCGTT_r3', 'AGTTACAAGTAGCT_r1', 'AGTTACAAGTAGCT_r2', 'AGTTACAAGTAGCT_r3', 'CATGGCCTTTGAGT_r1', 'CATGGCCTTTGAGT_r2', 'CATGGCCTTTGAGT_r3', 'GAATGGGCTGATGC_r1', 'GAATGGGCTGATGC_r2', 'GAATGGGCTGATGC_r3', 'GTAAATACAGCGTG_r1', 'GTAAATACAGCGTG_r2', 'GTAAATACAGCGTG_r3', 'GCGGTTTTTTTGTG_r1', 'GCGGTTTTTTTGTG_r2', 'GCGGTTTTTTTGTG_r3']\n"
     ]
    },
    {
     "name": "stderr",
     "output_type": "stream",
     "text": [
      "Processing characters: 0it [00:00, ?it/s]\n"
     ]
    },
    {
     "name": "stdout",
     "output_type": "stream",
     "text": [
      "Dropping the following intBCs due to lack of diversity with threshold 1.0: []\n"
     ]
    },
    {
     "name": "stderr",
     "output_type": "stream",
     "text": [
      "Processing characters: 100%|██████████| 36/36 [00:00<00:00, 636.44it/s]\n"
     ]
    },
    {
     "name": "stdout",
     "output_type": "stream",
     "text": [
      "1\n",
      "Met_MGH_2\n"
     ]
    },
    {
     "name": "stderr",
     "output_type": "stream",
     "text": [
      "100%|██████████| 1/1 [00:00<00:00, 116.02it/s]\n"
     ]
    },
    {
     "name": "stdout",
     "output_type": "stream",
     "text": [
      "Dropping the following intBCs due to lack of diversity with threshold 0.98: ['TTTACAGGCGTGGA_r1', 'TTTACAGGCGTGGA_r3', 'CCCACCCATGAGTG_r1', 'CCCACCCATGAGTG_r3', 'CCCGTACTACACAC_r1', 'CCCGTACTACACAC_r2', 'CCCGTACTACACAC_r3', 'CTCCTCTGCGCGAT_r1', 'CTCCTCTGCGCGAT_r2', 'CTCCTCTGCGCGAT_r3', 'GGCCGTTCCTTTTT_r1', 'GGCCGTTCCTTTTT_r2', 'GGCCGTTCCTTTTT_r3', 'GGTTGGAACACTGG_r1', 'AGCTCGGCCTTCAC_r1', 'AGCTCGGCCTTCAC_r2', 'AGCTCGGCCTTCAC_r3', 'TCCAGCTAATCTCT_r1', 'TCCAGCTAATCTCT_r3', 'TTTAATAGCCCGCG_r1', 'TTTAATAGCCCGCG_r2', 'TTTAATAGCCCGCG_r3', 'TTTACAGTGTCTAA_r1', 'TTTACAGTGTCTAA_r2', 'TTTACAGTGTCTAA_r3', 'TTATGTTTCTAACT_r1', 'A_r1']\n"
     ]
    },
    {
     "name": "stderr",
     "output_type": "stream",
     "text": [
      "Processing characters: 100%|██████████| 9/9 [00:00<00:00, 7501.74it/s]"
     ]
    },
    {
     "name": "stdout",
     "output_type": "stream",
     "text": [
      "345\n"
     ]
    },
    {
     "name": "stderr",
     "output_type": "stream",
     "text": [
      "\n"
     ]
    },
    {
     "name": "stdout",
     "output_type": "stream",
     "text": [
      "Met_MGH_3\n"
     ]
    },
    {
     "name": "stderr",
     "output_type": "stream",
     "text": [
      "100%|██████████| 1/1 [00:00<00:00, 232.47it/s]\n"
     ]
    },
    {
     "name": "stdout",
     "output_type": "stream",
     "text": [
      "Dropping the following intBCs due to lack of diversity with threshold 0.98: ['GATCAAAATGGGTA_r1', 'GATCAAAATGGGTA_r2', 'GATCAAAATGGGTA_r3', 'ACCTGCGACAGGCA_r1', 'ACCTGCGACAGGCA_r2', 'ACCTGCGACAGGCA_r3', 'GGTGGTAGGGCCGC_r1', 'GGTGGTAGGGCCGC_r3']\n"
     ]
    },
    {
     "name": "stderr",
     "output_type": "stream",
     "text": [
      "Processing characters: 100%|██████████| 1/1 [00:00<00:00, 18157.16it/s]\n"
     ]
    },
    {
     "name": "stdout",
     "output_type": "stream",
     "text": [
      "2\n",
      "NMI_MGH_0\n"
     ]
    },
    {
     "name": "stderr",
     "output_type": "stream",
     "text": [
      "100%|██████████| 1/1 [00:00<00:00, 116.07it/s]\n"
     ]
    },
    {
     "name": "stdout",
     "output_type": "stream",
     "text": [
      "Dropping the following intBCs due to lack of diversity with threshold 0.98: ['TGGACGAATTTTAG_r1', 'TTGTGCTGGCAGGG_r3', 'CCCTGTGCACGATA_r1', 'CCCTGTGCACGATA_r2', 'CCCTGTGCACGATA_r3', 'CTAAGTAAAGGAAA_r1', 'CTAAGTAAAGGAAA_r2', 'CTAAGTAAAGGAAA_r3', 'CTATGGGTATTCCG_r3', 'CTTCGCATTTCCTC_r1', 'CTTCGCATTTCCTC_r2', 'CTTCGCATTTCCTC_r3', 'GCACCATATGTTAG_r3', 'TAAACCAGTTTATT_r1', 'TAAACCAGTTTATT_r2', 'CCACGATCTCTGTG_r1', 'CCACGATCTCTGTG_r2', 'ATGTGTCCCTCTTT_r1', 'AGTTAACAGTGACA_r1', 'AGTTAACAGTGACA_r2', 'AGTTAACAGTGACA_r3', 'CCAAGATACCCTTC_r1', 'CCAAGATACCCTTC_r2', 'CCAAGATACCCTTC_r3', 'GAAGGCCAGTCTCT_r1', 'GAAGGCCAGTCTCT_r3', 'TAAGGCATTGTGCA_r1', 'TAAGGCATTGTGCA_r2', 'TAAGGCATTGTGCA_r3']\n"
     ]
    },
    {
     "name": "stderr",
     "output_type": "stream",
     "text": [
      "Processing characters: 100%|██████████| 16/16 [00:00<00:00, 158649.80it/s]\n"
     ]
    },
    {
     "name": "stdout",
     "output_type": "stream",
     "text": [
      "7\n",
      "NMI_MGH_2\n"
     ]
    },
    {
     "name": "stderr",
     "output_type": "stream",
     "text": [
      "100%|██████████| 1/1 [00:00<00:00, 107.57it/s]\n"
     ]
    },
    {
     "name": "stdout",
     "output_type": "stream",
     "text": [
      "Dropping the following intBCs due to lack of diversity with threshold 0.98: ['TTCAGTTTTTTCTC_r1', 'TTCAGTTTTTTCTC_r2', 'TTCAGTTTTTTCTC_r3', 'TCCAGAAGTGCCAG_r1', 'TCCAGAAGTGCCAG_r2', 'TCCAGAAGTGCCAG_r3', 'GTTTGTGGCGAGTG_r2', 'GTTTGTGGCGAGTG_r3', 'GTGATTGGGGTTCA_r1', 'GTGATTGGGGTTCA_r3', 'GTCGACGGGAACGC_r1', 'GTCGACGGGAACGC_r2', 'GTCGACGGGAACGC_r3', 'CACCGGTAAGGCGA_r1', 'CACCGGTAAGGCGA_r2', 'CACCGGTAAGGCGA_r3', 'CTTGCTAGATACGG_r1', 'CTTGCTAGATACGG_r2', 'CTTGCTAGATACGG_r3', 'GACTTTCCTATTAT_r1', 'GGTTCTAAGGTGAC_r1', 'GGTTCTAAGGTGAC_r2', 'GGTTCTAAGGTGAC_r3', 'GGTTGTCTAAATGT_r1', 'GGTTGTCTAAATGT_r2', 'GGTTGTCTAAATGT_r3', 'ACACGATAAGCAAC_r1', 'ACACGATAAGCAAC_r2', 'ACACGATAAGCAAC_r3', 'AGCTCATAATGTCT_r1', 'AGCTCATAATGTCT_r3', 'GTTAGGTTCATCGC_r2', 'GTTAGGTTCATCGC_r3', 'TCCATTCGGGGGCA_r2', 'GGCTGGCCTTATAT_r2', 'GGCTGGCCTTATAT_r3', 'GGACGTTTCGCGCA_r3', 'TTCAGCCTATATGA_r1', 'AGTGACCTGCAGGG_r2', 'ATGGGCCTACAAGT_r3', 'CAAAAAATGGTGCG_r1', 'CAAAAAATGGTGCG_r2']\n"
     ]
    },
    {
     "name": "stderr",
     "output_type": "stream",
     "text": [
      "Processing characters: 100%|██████████| 30/30 [00:00<00:00, 31061.25it/s]\n"
     ]
    },
    {
     "name": "stdout",
     "output_type": "stream",
     "text": [
      "73\n",
      "NMI_MGH_3\n"
     ]
    },
    {
     "name": "stderr",
     "output_type": "stream",
     "text": [
      "100%|██████████| 1/1 [00:00<00:00, 184.74it/s]\n"
     ]
    },
    {
     "name": "stdout",
     "output_type": "stream",
     "text": [
      "Dropping the following intBCs due to lack of diversity with threshold 0.98: ['CATTATTACAGTAA_r1', 'CATTATTACAGTAA_r2', 'CATTATTACAGTAA_r3', 'AGTACTCAGGCGAA_r2', 'AGTACTCAGGCGAA_r3', 'ATCCAATCCGAATT_r2', 'ATCCAATCCGAATT_r3', 'GTATTTAAACCAGA_r2', 'CCTCGTTTGGTTCT_r1', 'CCTCGTTTGGTTCT_r2', 'CCTCGTTTGGTTCT_r3']\n"
     ]
    },
    {
     "name": "stderr",
     "output_type": "stream",
     "text": [
      "Processing characters: 100%|██████████| 7/7 [00:00<00:00, 23987.03it/s]\n"
     ]
    },
    {
     "name": "stdout",
     "output_type": "stream",
     "text": [
      "15\n",
      "NMI_MGH_4\n"
     ]
    },
    {
     "name": "stderr",
     "output_type": "stream",
     "text": [
      "100%|██████████| 1/1 [00:00<00:00, 137.78it/s]\n"
     ]
    },
    {
     "name": "stdout",
     "output_type": "stream",
     "text": [
      "Dropping the following intBCs due to lack of diversity with threshold 0.98: ['TCCCGGTGTTAATA_r2', 'CTTAGAACTCCGGC_r2', 'CTTAGAACTCCGGC_r3']\n"
     ]
    },
    {
     "name": "stderr",
     "output_type": "stream",
     "text": [
      "Processing characters: 100%|██████████| 36/36 [00:00<00:00, 42847.60it/s]\n"
     ]
    },
    {
     "name": "stdout",
     "output_type": "stream",
     "text": [
      "40\n",
      "NMI_MGH_5\n"
     ]
    },
    {
     "name": "stderr",
     "output_type": "stream",
     "text": [
      "100%|██████████| 1/1 [00:00<00:00, 161.19it/s]\n"
     ]
    },
    {
     "name": "stdout",
     "output_type": "stream",
     "text": [
      "Dropping the following intBCs due to lack of diversity with threshold 0.98: ['ACGTGATTGGCGCC_r2', 'CGTGCGTGATTTGT_r1', 'CGTGCGTGATTTGT_r3', 'CTATTTGGCTTTGC_r1', 'CTATTTGGCTTTGC_r2', 'CTATTTGGCTTTGC_r3', 'GGCCTCTCGGCGGC_r1', 'GGCCTCTCGGCGGC_r2', 'GGCCTCTCGGCGGC_r3', 'GGCCTGGACTGCTT_r1', 'GGCCTGGACTGCTT_r3', 'CCATTCGTTAGCCT_r2']\n"
     ]
    },
    {
     "name": "stderr",
     "output_type": "stream",
     "text": [
      "Processing characters: 100%|██████████| 9/9 [00:00<00:00, 25385.83it/s]\n"
     ]
    },
    {
     "name": "stdout",
     "output_type": "stream",
     "text": [
      "69\n",
      "NMI_MGH_6\n"
     ]
    },
    {
     "name": "stderr",
     "output_type": "stream",
     "text": [
      "100%|██████████| 1/1 [00:00<00:00, 126.16it/s]\n"
     ]
    },
    {
     "name": "stdout",
     "output_type": "stream",
     "text": [
      "Dropping the following intBCs due to lack of diversity with threshold 0.98: ['TAACGATTTGATCT_r1', 'TAACGATTTGATCT_r3', 'TTCCGTGTCCACAA_r1', 'TTCCGTGTCCACAA_r2', 'TTCCGTGTCCACAA_r3', 'GGATCCATTCAACT_r1', 'GGATCCATTCAACT_r2', 'GGATCCATTCAACT_r3', 'GTCTGCGGAGCCCC_r2', 'GTCTGCGGAGCCCC_r3', 'CAGTATTTCTCCTG_r1', 'CAGTATTTCTCCTG_r2', 'CAGTATTTCTCCTG_r3', 'ACGAAGGTAATAAC_r1', 'ACGAAGGTAATAAC_r2', 'ACGAAGGTAATAAC_r3', 'CGTCTCGTACTATT_r1', 'CTGTAGGATTTTCG_r1', 'CTGTAGGATTTTCG_r2', 'CTGTAGGATTTTCG_r3', 'GCATTATGGGCATT_r2', 'GCATTATGGGCATT_r3', 'TAGTGGATTAGAAG_r2', 'TAGTGGATTAGAAG_r3', 'GTTTCTGCGAGTAT_r2', 'GTTTCTGCGAGTAT_r3']\n"
     ]
    },
    {
     "name": "stderr",
     "output_type": "stream",
     "text": [
      "Processing characters: 100%|██████████| 7/7 [00:00<00:00, 41704.73it/s]"
     ]
    },
    {
     "name": "stdout",
     "output_type": "stream",
     "text": [
      "8"
     ]
    },
    {
     "name": "stderr",
     "output_type": "stream",
     "text": [
      "\n"
     ]
    },
    {
     "name": "stdout",
     "output_type": "stream",
     "text": [
      "\n"
     ]
    }
   ],
   "source": [
    "tumor_stats = {}\n",
    "tum_errors = []\n",
    "numerr = 0\n",
    "\n",
    "for tumor, tum_at in allele_table_final.groupby('Tumor'):\n",
    "    print(tumor)\n",
    "    clone = meta.loc[meta['Tumor'] == tumor, 'Cell_Clone'].iloc[0]\n",
    "\n",
    "    tumor_at = allele_table_final[allele_table_final['Tumor'] == tumor].copy()\n",
    "    tumor_at['lineageGrp'] = tumor_at['Tumor'].copy()\n",
    "    lg = lg_util.collectAlleles(tumor_at, thresh=0.2)[0]\n",
    "\n",
    "    # drop normal cells from lg\n",
    "    n_cs = len(lg['intBC'].unique())*3\n",
    "    #filt = lg.apply(lambda x: not meta.loc[x.cellBC, 'is_normal'], axis=1)\n",
    "    #lg = lg.loc[filt]\n",
    "    \n",
    "    try:\n",
    "        cm, priors, state2indel = util.alleletable_to_character_matrix(lg, write=False, allele_rep_thresh = 0.98)\n",
    "    except:\n",
    "        cm, priors, state2indel = util.alleletable_to_character_matrix(lg, write=False, allele_rep_thresh = 1.0)\n",
    "    \n",
    "    number_dropped_intbcs = (n_cs - cm.shape[1]) \n",
    "    pu = cm.apply(lambda x: percent_uncut(x.values), axis=1)\n",
    "\n",
    "    cmf = cm[pu < 0.9]\n",
    "\n",
    "    \n",
    "    print(cmf.shape[0])\n",
    "    if cmf.shape[0] == 0:\n",
    "        continue\n",
    "\n",
    "    puniq = cmf.drop_duplicates().shape[0] / cmf.shape[0]\n",
    "    \n",
    "    number_dropped_intbcs\n",
    "    tumor_stats[tumor] = (puniq, compute_perc_indels(cmf), number_dropped_intbcs, 1.0 - (number_dropped_intbcs / n_cs), cmf.shape[0])"
   ]
  },
  {
   "cell_type": "code",
   "execution_count": 29,
   "metadata": {},
   "outputs": [
    {
     "data": {
      "text/plain": [
       "{'CTR_MGH_0': (0.7938144329896907,\n",
       "  0.3839907192575406,\n",
       "  62,\n",
       "  0.26190476190476186,\n",
       "  97),\n",
       " 'CTR_MGH_1': (0.6000619578686494,\n",
       "  0.7035570111965876,\n",
       "  7,\n",
       "  0.6666666666666667,\n",
       "  3228),\n",
       " 'CTR_MGH_10': (0.3125, 0.34682080924855496, 5, 0.5833333333333333, 64),\n",
       " 'CTR_MGH_11': (0.75, 0.3076923076923077, 4, 0.7333333333333334, 40),\n",
       " 'CTR_MGH_12': (0.9473684210526315,\n",
       "  0.4639423076923077,\n",
       "  6,\n",
       "  0.6666666666666667,\n",
       "  38),\n",
       " 'CTR_MGH_2': (0.8634953464322648,\n",
       "  0.38968952509913923,\n",
       "  31,\n",
       "  0.4833333333333333,\n",
       "  1934),\n",
       " 'CTR_MGH_3': (0.6879432624113475,\n",
       "  0.5352480417754569,\n",
       "  7,\n",
       "  0.6111111111111112,\n",
       "  423),\n",
       " 'CTR_MGH_4': (0.8620689655172413,\n",
       "  0.5815886699507389,\n",
       "  14,\n",
       "  0.4814814814814815,\n",
       "  406),\n",
       " 'CTR_MGH_5': (0.8557692307692307,\n",
       "  0.18065433854907542,\n",
       "  44,\n",
       "  0.4358974358974359,\n",
       "  104),\n",
       " 'CTR_MGH_6': (0.37142857142857144, 0.6174863387978142, 45, 0.0625, 70),\n",
       " 'CTR_MGH_7': (0.9679144385026738,\n",
       "  0.44993412384716736,\n",
       "  32,\n",
       "  0.23809523809523814,\n",
       "  187),\n",
       " 'CTR_MGH_8': (0.7288135593220338,\n",
       "  0.775177304964539,\n",
       "  20,\n",
       "  0.4444444444444444,\n",
       "  118),\n",
       " 'CTR_MGH_9': (0.5467625899280576,\n",
       "  0.6606929510155317,\n",
       "  17,\n",
       "  0.29166666666666663,\n",
       "  139),\n",
       " 'CTR_RT_0': (0.2727272727272727, 0.6818181818181819, 0, 1.0, 22),\n",
       " 'CTR_RT_1': (0.15053444180522565,\n",
       "  0.22773790536948435,\n",
       "  15,\n",
       "  0.4444444444444444,\n",
       "  3368),\n",
       " 'GEM_RT_13': (0.5789473684210527,\n",
       "  0.36170212765957444,\n",
       "  4,\n",
       "  0.5555555555555556,\n",
       "  19),\n",
       " 'GEM_RT_14': (0.5757575757575758, 0.4013605442176871, 0, 1.0, 66),\n",
       " 'GEM_RT_15': (0.3611111111111111, 0.59375, 2, 0.6666666666666667, 36),\n",
       " 'GEM_RT_18': (0.8181818181818182,\n",
       "  0.5909090909090908,\n",
       "  1,\n",
       "  0.6666666666666667,\n",
       "  11),\n",
       " 'GEM_RT_19': (1.0, 1.0, 2, 0.33333333333333337, 4),\n",
       " 'GEM_RT_20': (0.34615384615384615, 0.5869565217391304, 3, 0.5, 26),\n",
       " 'GEM_RT_5': (1.0, 0.5714285714285714, 7, 0.41666666666666663, 8),\n",
       " 'GEM_RT_6': (1.0, 1.0, 8, 0.11111111111111116, 3),\n",
       " 'GEM_RT_7': (0.27350427350427353, 0.4045911047345767, 0, 1.0, 117),\n",
       " 'MI_MGH_0': (0.5428571428571428,\n",
       "  0.2899543378995434,\n",
       "  23,\n",
       "  0.36111111111111116,\n",
       "  35),\n",
       " 'MI_MGH_1': (0.24053452115812918,\n",
       "  0.2163347171043426,\n",
       "  48,\n",
       "  0.19999999999999996,\n",
       "  3143),\n",
       " 'MI_MGH_2': (0.9545454545454546,\n",
       "  0.649231894659839,\n",
       "  10,\n",
       "  0.7435897435897436,\n",
       "  154),\n",
       " 'MI_MGH_3': (0.2, 1.0, 8, 0.11111111111111116, 5),\n",
       " 'Met_MGH_0': (0.8636363636363636,\n",
       "  0.3843648208469055,\n",
       "  34,\n",
       "  0.48484848484848486,\n",
       "  22),\n",
       " 'Met_MGH_1': (1.0, 0.1333333333333333, 0, 1.0, 1),\n",
       " 'Met_MGH_2': (0.15072463768115943, 0.2895339954163484, 27, 0.25, 345),\n",
       " 'Met_MGH_3': (0.5, 1.0, 8, 0.11111111111111116, 2),\n",
       " 'NMI_MGH_0': (1.0, 0.41666666666666663, 29, 0.3555555555555555, 7),\n",
       " 'NMI_MGH_2': (0.8356164383561644,\n",
       "  0.39937106918238996,\n",
       "  42,\n",
       "  0.41666666666666663,\n",
       "  73),\n",
       " 'NMI_MGH_3': (0.4666666666666667,\n",
       "  0.22549019607843135,\n",
       "  11,\n",
       "  0.38888888888888884,\n",
       "  15),\n",
       " 'NMI_MGH_4': (1.0, 0.5929853181076672, 3, 0.9230769230769231, 40),\n",
       " 'NMI_MGH_5': (0.391304347826087,\n",
       "  0.6174242424242424,\n",
       "  12,\n",
       "  0.4285714285714286,\n",
       "  69),\n",
       " 'NMI_MGH_6': (1.0, 0.21621621621621623, 26, 0.21212121212121215, 8)}"
      ]
     },
     "execution_count": 29,
     "metadata": {},
     "output_type": "execute_result"
    }
   ],
   "source": [
    "tumor_stats"
   ]
  },
  {
   "cell_type": "code",
   "execution_count": 30,
   "metadata": {},
   "outputs": [],
   "source": [
    "tumor_clone_statistics = pd.DataFrame.from_dict(tumor_stats, orient='index',\n",
    "                                                columns = ['PercentUnique', 'CutRate', 'NumSaturatedTargets', 'PercentUnsaturatedTargets', 'NumCells'])"
   ]
  },
  {
   "cell_type": "code",
   "execution_count": 31,
   "metadata": {},
   "outputs": [
    {
     "data": {
      "text/html": [
       "<div>\n",
       "<style scoped>\n",
       "    .dataframe tbody tr th:only-of-type {\n",
       "        vertical-align: middle;\n",
       "    }\n",
       "\n",
       "    .dataframe tbody tr th {\n",
       "        vertical-align: top;\n",
       "    }\n",
       "\n",
       "    .dataframe thead th {\n",
       "        text-align: right;\n",
       "    }\n",
       "</style>\n",
       "<table border=\"1\" class=\"dataframe\">\n",
       "  <thead>\n",
       "    <tr style=\"text-align: right;\">\n",
       "      <th></th>\n",
       "      <th>PercentUnique</th>\n",
       "      <th>CutRate</th>\n",
       "      <th>NumSaturatedTargets</th>\n",
       "      <th>PercentUnsaturatedTargets</th>\n",
       "      <th>NumCells</th>\n",
       "    </tr>\n",
       "  </thead>\n",
       "  <tbody>\n",
       "    <tr>\n",
       "      <th>CTR_MGH_0</th>\n",
       "      <td>0.793814</td>\n",
       "      <td>0.383991</td>\n",
       "      <td>62</td>\n",
       "      <td>0.261905</td>\n",
       "      <td>97</td>\n",
       "    </tr>\n",
       "    <tr>\n",
       "      <th>CTR_MGH_1</th>\n",
       "      <td>0.600062</td>\n",
       "      <td>0.703557</td>\n",
       "      <td>7</td>\n",
       "      <td>0.666667</td>\n",
       "      <td>3228</td>\n",
       "    </tr>\n",
       "    <tr>\n",
       "      <th>CTR_MGH_10</th>\n",
       "      <td>0.312500</td>\n",
       "      <td>0.346821</td>\n",
       "      <td>5</td>\n",
       "      <td>0.583333</td>\n",
       "      <td>64</td>\n",
       "    </tr>\n",
       "    <tr>\n",
       "      <th>CTR_MGH_11</th>\n",
       "      <td>0.750000</td>\n",
       "      <td>0.307692</td>\n",
       "      <td>4</td>\n",
       "      <td>0.733333</td>\n",
       "      <td>40</td>\n",
       "    </tr>\n",
       "    <tr>\n",
       "      <th>CTR_MGH_12</th>\n",
       "      <td>0.947368</td>\n",
       "      <td>0.463942</td>\n",
       "      <td>6</td>\n",
       "      <td>0.666667</td>\n",
       "      <td>38</td>\n",
       "    </tr>\n",
       "    <tr>\n",
       "      <th>CTR_MGH_2</th>\n",
       "      <td>0.863495</td>\n",
       "      <td>0.389690</td>\n",
       "      <td>31</td>\n",
       "      <td>0.483333</td>\n",
       "      <td>1934</td>\n",
       "    </tr>\n",
       "    <tr>\n",
       "      <th>CTR_MGH_3</th>\n",
       "      <td>0.687943</td>\n",
       "      <td>0.535248</td>\n",
       "      <td>7</td>\n",
       "      <td>0.611111</td>\n",
       "      <td>423</td>\n",
       "    </tr>\n",
       "    <tr>\n",
       "      <th>CTR_MGH_4</th>\n",
       "      <td>0.862069</td>\n",
       "      <td>0.581589</td>\n",
       "      <td>14</td>\n",
       "      <td>0.481481</td>\n",
       "      <td>406</td>\n",
       "    </tr>\n",
       "    <tr>\n",
       "      <th>CTR_MGH_5</th>\n",
       "      <td>0.855769</td>\n",
       "      <td>0.180654</td>\n",
       "      <td>44</td>\n",
       "      <td>0.435897</td>\n",
       "      <td>104</td>\n",
       "    </tr>\n",
       "    <tr>\n",
       "      <th>CTR_MGH_6</th>\n",
       "      <td>0.371429</td>\n",
       "      <td>0.617486</td>\n",
       "      <td>45</td>\n",
       "      <td>0.062500</td>\n",
       "      <td>70</td>\n",
       "    </tr>\n",
       "    <tr>\n",
       "      <th>CTR_MGH_7</th>\n",
       "      <td>0.967914</td>\n",
       "      <td>0.449934</td>\n",
       "      <td>32</td>\n",
       "      <td>0.238095</td>\n",
       "      <td>187</td>\n",
       "    </tr>\n",
       "    <tr>\n",
       "      <th>CTR_MGH_8</th>\n",
       "      <td>0.728814</td>\n",
       "      <td>0.775177</td>\n",
       "      <td>20</td>\n",
       "      <td>0.444444</td>\n",
       "      <td>118</td>\n",
       "    </tr>\n",
       "    <tr>\n",
       "      <th>CTR_MGH_9</th>\n",
       "      <td>0.546763</td>\n",
       "      <td>0.660693</td>\n",
       "      <td>17</td>\n",
       "      <td>0.291667</td>\n",
       "      <td>139</td>\n",
       "    </tr>\n",
       "    <tr>\n",
       "      <th>CTR_RT_0</th>\n",
       "      <td>0.272727</td>\n",
       "      <td>0.681818</td>\n",
       "      <td>0</td>\n",
       "      <td>1.000000</td>\n",
       "      <td>22</td>\n",
       "    </tr>\n",
       "    <tr>\n",
       "      <th>CTR_RT_1</th>\n",
       "      <td>0.150534</td>\n",
       "      <td>0.227738</td>\n",
       "      <td>15</td>\n",
       "      <td>0.444444</td>\n",
       "      <td>3368</td>\n",
       "    </tr>\n",
       "    <tr>\n",
       "      <th>GEM_RT_13</th>\n",
       "      <td>0.578947</td>\n",
       "      <td>0.361702</td>\n",
       "      <td>4</td>\n",
       "      <td>0.555556</td>\n",
       "      <td>19</td>\n",
       "    </tr>\n",
       "    <tr>\n",
       "      <th>GEM_RT_14</th>\n",
       "      <td>0.575758</td>\n",
       "      <td>0.401361</td>\n",
       "      <td>0</td>\n",
       "      <td>1.000000</td>\n",
       "      <td>66</td>\n",
       "    </tr>\n",
       "    <tr>\n",
       "      <th>GEM_RT_15</th>\n",
       "      <td>0.361111</td>\n",
       "      <td>0.593750</td>\n",
       "      <td>2</td>\n",
       "      <td>0.666667</td>\n",
       "      <td>36</td>\n",
       "    </tr>\n",
       "    <tr>\n",
       "      <th>GEM_RT_18</th>\n",
       "      <td>0.818182</td>\n",
       "      <td>0.590909</td>\n",
       "      <td>1</td>\n",
       "      <td>0.666667</td>\n",
       "      <td>11</td>\n",
       "    </tr>\n",
       "    <tr>\n",
       "      <th>GEM_RT_19</th>\n",
       "      <td>1.000000</td>\n",
       "      <td>1.000000</td>\n",
       "      <td>2</td>\n",
       "      <td>0.333333</td>\n",
       "      <td>4</td>\n",
       "    </tr>\n",
       "    <tr>\n",
       "      <th>GEM_RT_20</th>\n",
       "      <td>0.346154</td>\n",
       "      <td>0.586957</td>\n",
       "      <td>3</td>\n",
       "      <td>0.500000</td>\n",
       "      <td>26</td>\n",
       "    </tr>\n",
       "    <tr>\n",
       "      <th>GEM_RT_5</th>\n",
       "      <td>1.000000</td>\n",
       "      <td>0.571429</td>\n",
       "      <td>7</td>\n",
       "      <td>0.416667</td>\n",
       "      <td>8</td>\n",
       "    </tr>\n",
       "    <tr>\n",
       "      <th>GEM_RT_6</th>\n",
       "      <td>1.000000</td>\n",
       "      <td>1.000000</td>\n",
       "      <td>8</td>\n",
       "      <td>0.111111</td>\n",
       "      <td>3</td>\n",
       "    </tr>\n",
       "    <tr>\n",
       "      <th>GEM_RT_7</th>\n",
       "      <td>0.273504</td>\n",
       "      <td>0.404591</td>\n",
       "      <td>0</td>\n",
       "      <td>1.000000</td>\n",
       "      <td>117</td>\n",
       "    </tr>\n",
       "    <tr>\n",
       "      <th>MI_MGH_0</th>\n",
       "      <td>0.542857</td>\n",
       "      <td>0.289954</td>\n",
       "      <td>23</td>\n",
       "      <td>0.361111</td>\n",
       "      <td>35</td>\n",
       "    </tr>\n",
       "    <tr>\n",
       "      <th>MI_MGH_1</th>\n",
       "      <td>0.240535</td>\n",
       "      <td>0.216335</td>\n",
       "      <td>48</td>\n",
       "      <td>0.200000</td>\n",
       "      <td>3143</td>\n",
       "    </tr>\n",
       "    <tr>\n",
       "      <th>MI_MGH_2</th>\n",
       "      <td>0.954545</td>\n",
       "      <td>0.649232</td>\n",
       "      <td>10</td>\n",
       "      <td>0.743590</td>\n",
       "      <td>154</td>\n",
       "    </tr>\n",
       "    <tr>\n",
       "      <th>MI_MGH_3</th>\n",
       "      <td>0.200000</td>\n",
       "      <td>1.000000</td>\n",
       "      <td>8</td>\n",
       "      <td>0.111111</td>\n",
       "      <td>5</td>\n",
       "    </tr>\n",
       "    <tr>\n",
       "      <th>Met_MGH_0</th>\n",
       "      <td>0.863636</td>\n",
       "      <td>0.384365</td>\n",
       "      <td>34</td>\n",
       "      <td>0.484848</td>\n",
       "      <td>22</td>\n",
       "    </tr>\n",
       "    <tr>\n",
       "      <th>Met_MGH_1</th>\n",
       "      <td>1.000000</td>\n",
       "      <td>0.133333</td>\n",
       "      <td>0</td>\n",
       "      <td>1.000000</td>\n",
       "      <td>1</td>\n",
       "    </tr>\n",
       "    <tr>\n",
       "      <th>Met_MGH_2</th>\n",
       "      <td>0.150725</td>\n",
       "      <td>0.289534</td>\n",
       "      <td>27</td>\n",
       "      <td>0.250000</td>\n",
       "      <td>345</td>\n",
       "    </tr>\n",
       "    <tr>\n",
       "      <th>Met_MGH_3</th>\n",
       "      <td>0.500000</td>\n",
       "      <td>1.000000</td>\n",
       "      <td>8</td>\n",
       "      <td>0.111111</td>\n",
       "      <td>2</td>\n",
       "    </tr>\n",
       "    <tr>\n",
       "      <th>NMI_MGH_0</th>\n",
       "      <td>1.000000</td>\n",
       "      <td>0.416667</td>\n",
       "      <td>29</td>\n",
       "      <td>0.355556</td>\n",
       "      <td>7</td>\n",
       "    </tr>\n",
       "    <tr>\n",
       "      <th>NMI_MGH_2</th>\n",
       "      <td>0.835616</td>\n",
       "      <td>0.399371</td>\n",
       "      <td>42</td>\n",
       "      <td>0.416667</td>\n",
       "      <td>73</td>\n",
       "    </tr>\n",
       "    <tr>\n",
       "      <th>NMI_MGH_3</th>\n",
       "      <td>0.466667</td>\n",
       "      <td>0.225490</td>\n",
       "      <td>11</td>\n",
       "      <td>0.388889</td>\n",
       "      <td>15</td>\n",
       "    </tr>\n",
       "    <tr>\n",
       "      <th>NMI_MGH_4</th>\n",
       "      <td>1.000000</td>\n",
       "      <td>0.592985</td>\n",
       "      <td>3</td>\n",
       "      <td>0.923077</td>\n",
       "      <td>40</td>\n",
       "    </tr>\n",
       "    <tr>\n",
       "      <th>NMI_MGH_5</th>\n",
       "      <td>0.391304</td>\n",
       "      <td>0.617424</td>\n",
       "      <td>12</td>\n",
       "      <td>0.428571</td>\n",
       "      <td>69</td>\n",
       "    </tr>\n",
       "    <tr>\n",
       "      <th>NMI_MGH_6</th>\n",
       "      <td>1.000000</td>\n",
       "      <td>0.216216</td>\n",
       "      <td>26</td>\n",
       "      <td>0.212121</td>\n",
       "      <td>8</td>\n",
       "    </tr>\n",
       "  </tbody>\n",
       "</table>\n",
       "</div>"
      ],
      "text/plain": [
       "            PercentUnique   CutRate  NumSaturatedTargets  \\\n",
       "CTR_MGH_0        0.793814  0.383991                   62   \n",
       "CTR_MGH_1        0.600062  0.703557                    7   \n",
       "CTR_MGH_10       0.312500  0.346821                    5   \n",
       "CTR_MGH_11       0.750000  0.307692                    4   \n",
       "CTR_MGH_12       0.947368  0.463942                    6   \n",
       "CTR_MGH_2        0.863495  0.389690                   31   \n",
       "CTR_MGH_3        0.687943  0.535248                    7   \n",
       "CTR_MGH_4        0.862069  0.581589                   14   \n",
       "CTR_MGH_5        0.855769  0.180654                   44   \n",
       "CTR_MGH_6        0.371429  0.617486                   45   \n",
       "CTR_MGH_7        0.967914  0.449934                   32   \n",
       "CTR_MGH_8        0.728814  0.775177                   20   \n",
       "CTR_MGH_9        0.546763  0.660693                   17   \n",
       "CTR_RT_0         0.272727  0.681818                    0   \n",
       "CTR_RT_1         0.150534  0.227738                   15   \n",
       "GEM_RT_13        0.578947  0.361702                    4   \n",
       "GEM_RT_14        0.575758  0.401361                    0   \n",
       "GEM_RT_15        0.361111  0.593750                    2   \n",
       "GEM_RT_18        0.818182  0.590909                    1   \n",
       "GEM_RT_19        1.000000  1.000000                    2   \n",
       "GEM_RT_20        0.346154  0.586957                    3   \n",
       "GEM_RT_5         1.000000  0.571429                    7   \n",
       "GEM_RT_6         1.000000  1.000000                    8   \n",
       "GEM_RT_7         0.273504  0.404591                    0   \n",
       "MI_MGH_0         0.542857  0.289954                   23   \n",
       "MI_MGH_1         0.240535  0.216335                   48   \n",
       "MI_MGH_2         0.954545  0.649232                   10   \n",
       "MI_MGH_3         0.200000  1.000000                    8   \n",
       "Met_MGH_0        0.863636  0.384365                   34   \n",
       "Met_MGH_1        1.000000  0.133333                    0   \n",
       "Met_MGH_2        0.150725  0.289534                   27   \n",
       "Met_MGH_3        0.500000  1.000000                    8   \n",
       "NMI_MGH_0        1.000000  0.416667                   29   \n",
       "NMI_MGH_2        0.835616  0.399371                   42   \n",
       "NMI_MGH_3        0.466667  0.225490                   11   \n",
       "NMI_MGH_4        1.000000  0.592985                    3   \n",
       "NMI_MGH_5        0.391304  0.617424                   12   \n",
       "NMI_MGH_6        1.000000  0.216216                   26   \n",
       "\n",
       "            PercentUnsaturatedTargets  NumCells  \n",
       "CTR_MGH_0                    0.261905        97  \n",
       "CTR_MGH_1                    0.666667      3228  \n",
       "CTR_MGH_10                   0.583333        64  \n",
       "CTR_MGH_11                   0.733333        40  \n",
       "CTR_MGH_12                   0.666667        38  \n",
       "CTR_MGH_2                    0.483333      1934  \n",
       "CTR_MGH_3                    0.611111       423  \n",
       "CTR_MGH_4                    0.481481       406  \n",
       "CTR_MGH_5                    0.435897       104  \n",
       "CTR_MGH_6                    0.062500        70  \n",
       "CTR_MGH_7                    0.238095       187  \n",
       "CTR_MGH_8                    0.444444       118  \n",
       "CTR_MGH_9                    0.291667       139  \n",
       "CTR_RT_0                     1.000000        22  \n",
       "CTR_RT_1                     0.444444      3368  \n",
       "GEM_RT_13                    0.555556        19  \n",
       "GEM_RT_14                    1.000000        66  \n",
       "GEM_RT_15                    0.666667        36  \n",
       "GEM_RT_18                    0.666667        11  \n",
       "GEM_RT_19                    0.333333         4  \n",
       "GEM_RT_20                    0.500000        26  \n",
       "GEM_RT_5                     0.416667         8  \n",
       "GEM_RT_6                     0.111111         3  \n",
       "GEM_RT_7                     1.000000       117  \n",
       "MI_MGH_0                     0.361111        35  \n",
       "MI_MGH_1                     0.200000      3143  \n",
       "MI_MGH_2                     0.743590       154  \n",
       "MI_MGH_3                     0.111111         5  \n",
       "Met_MGH_0                    0.484848        22  \n",
       "Met_MGH_1                    1.000000         1  \n",
       "Met_MGH_2                    0.250000       345  \n",
       "Met_MGH_3                    0.111111         2  \n",
       "NMI_MGH_0                    0.355556         7  \n",
       "NMI_MGH_2                    0.416667        73  \n",
       "NMI_MGH_3                    0.388889        15  \n",
       "NMI_MGH_4                    0.923077        40  \n",
       "NMI_MGH_5                    0.428571        69  \n",
       "NMI_MGH_6                    0.212121         8  "
      ]
     },
     "execution_count": 31,
     "metadata": {},
     "output_type": "execute_result"
    }
   ],
   "source": [
    "tumor_clone_statistics"
   ]
  },
  {
   "cell_type": "code",
   "execution_count": 32,
   "metadata": {},
   "outputs": [],
   "source": [
    "tumor_clone_statistics.to_csv(f\"{data_directory}/allele/tumor_statistics.tsv\",sep='\\t',index=True,header=True)"
   ]
  },
  {
   "cell_type": "code",
   "execution_count": 33,
   "metadata": {},
   "outputs": [
    {
     "data": {
      "text/plain": [
       "Text(0, 0.5, 'Percent Unique')"
      ]
     },
     "execution_count": 33,
     "metadata": {},
     "output_type": "execute_result"
    },
    {
     "data": {
      "image/png": "[encoded data removed]",
      "text/plain": [
       "<Figure size 600x600 with 1 Axes>"
      ]
     },
     "metadata": {},
     "output_type": "display_data"
    }
   ],
   "source": [
    "NUM_CELLS_THRESH = 100\n",
    "PERCENT_UNIQUE_THRESH = 0.05\n",
    "PERCENT_UNSATURATED_TARGETS_THRESH = 0.2\n",
    "\n",
    "NT_primary_tumors = tumor_clone_statistics[tumor_clone_statistics.apply(lambda x: 'NT' in x.name and x.name.split(\"_\")[2].startswith(\"T\"), axis=1)].index\n",
    "\n",
    "NT_clone_statistics = tumor_clone_statistics.loc[NT_primary_tumors]\n",
    "\n",
    "low_qc = NT_clone_statistics[(NT_clone_statistics['PercentUnique'] <=PERCENT_UNIQUE_THRESH) |\n",
    "                                 (NT_clone_statistics['PercentUnsaturatedTargets'] <= PERCENT_UNSATURATED_TARGETS_THRESH)].index\n",
    "small = NT_clone_statistics[(NT_clone_statistics['NumCells'] < NUM_CELLS_THRESH)].index\n",
    "\n",
    "unfiltered = np.setdiff1d(NT_primary_tumors, np.union1d(low_qc, small))\n",
    "\n",
    "h = plt.figure(figsize=(6,6))\n",
    "plt.scatter(NT_clone_statistics.loc[unfiltered, 'PercentUnsaturatedTargets'], NT_clone_statistics.loc[unfiltered, 'PercentUnique'], color='black')\n",
    "plt.scatter(NT_clone_statistics.loc[low_qc, 'PercentUnsaturatedTargets'], NT_clone_statistics.loc[low_qc, 'PercentUnique'], color='red')\n",
    "plt.scatter(NT_clone_statistics.loc[small, 'PercentUnsaturatedTargets'], NT_clone_statistics.loc[small, 'PercentUnique'], color='orange')\n",
    "\n",
    "\n",
    "plt.axhline(y = PERCENT_UNIQUE_THRESH, color='red', alpha=0.5)\n",
    "plt.axvline(x = PERCENT_UNSATURATED_TARGETS_THRESH, color='red', alpha=0.5)\n",
    "plt.xlabel(\"Percent Unsaturated\")\n",
    "plt.ylabel(\"Percent Unique\")"
   ]
  }
 ],
 "metadata": {
  "kernelspec": {
   "display_name": "Python 3.7.16 ('KP')",
   "language": "python",
   "name": "python3"
  },
  "language_info": {
   "codemirror_mode": {
    "name": "ipython",
    "version": 3
   },
   "file_extension": ".py",
   "mimetype": "text/x-python",
   "name": "python",
   "nbconvert_exporter": "python",
   "pygments_lexer": "ipython3",
   "version": "3.7.16"
  },
  "vscode": {
   "interpreter": {
    "hash": "4b49b3307831619600be3c3e013f2eecff95844738e15415adc183a39510ef80"
   }
  }
 },
 "nbformat": 4,
 "nbformat_minor": 4
}
