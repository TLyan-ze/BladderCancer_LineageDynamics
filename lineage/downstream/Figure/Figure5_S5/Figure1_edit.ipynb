{
 "cells": [
  {
   "cell_type": "markdown",
   "metadata": {},
   "source": [
    "# Reproduce Figure 5 and S5\n",
    "\n",
    "This notebook contains code to reproduce analyses in Figure 5 and S5 from Yang\\*, Jones\\* et al, _bioRxiv_ 2021."
   ]
  },
  {
   "cell_type": "code",
   "execution_count": 1,
   "metadata": {},
   "outputs": [],
   "source": [
    "import pandas as pd\n",
    "import numpy as np\n",
    "import matplotlib.pyplot as plt\n",
    "from scipy.stats import spearmanr"
   ]
  },
  {
   "cell_type": "code",
   "execution_count": 2,
   "metadata": {},
   "outputs": [],
   "source": [
    "directory = '/WorkDir4/yanzeqin/220823_A00403_0863_AHMNGLDSX3/Script/AP-data/plot/Figure5_S5/data'\n",
    "\n",
    "# 列出目录中的所有文件\n",
    "all_files = os.listdir(directory)\n",
    "\n",
    "# 筛选以\".txt\"结尾的文件\n",
    "edit_distance_files = [f for f in all_files if f.endswith('_edit_distance_matrix.tsv')]\n",
    "phylogenetic_distance_files = [f for f in all_files if f.endswith('_phylogenetic_distance_matrix.tsv')]\n",
    "#edit_distance_files"
   ]
  },
  {
   "cell_type": "code",
   "execution_count": null,
   "metadata": {},
   "outputs": [],
   "source": [
    "all_files"
   ]
  },
  {
   "cell_type": "code",
   "execution_count": 23,
   "metadata": {},
   "outputs": [
    {
     "data": {
      "text/plain": [
       "['GEM_RT_3_phylogenetic_distance_matrix.tsv',\n",
       " 'CTR_MGH_7_phylogenetic_distance_matrix.tsv',\n",
       " 'CTR_RT_1_phylogenetic_distance_matrix.tsv',\n",
       " 'GEM_RT_7_phylogenetic_distance_matrix.tsv',\n",
       " 'MI_MGH_2_phylogenetic_distance_matrix.tsv',\n",
       " 'CTR_MGH_8_phylogenetic_distance_matrix.tsv',\n",
       " 'NMI_MGH_4_phylogenetic_distance_matrix.tsv',\n",
       " 'GEM_RT_2_phylogenetic_distance_matrix.tsv',\n",
       " 'MI_MGH_1_phylogenetic_distance_matrix.tsv',\n",
       " 'GEM_RT_9_phylogenetic_distance_matrix.tsv',\n",
       " 'CTR_MGH_4_phylogenetic_distance_matrix.tsv',\n",
       " 'NMI_MGH_6_phylogenetic_distance_matrix.tsv',\n",
       " 'CTR_MGH_0_phylogenetic_distance_matrix.tsv',\n",
       " 'GEM_RT_6_phylogenetic_distance_matrix.tsv',\n",
       " 'NMI_MGH_5_phylogenetic_distance_matrix.tsv',\n",
       " 'GEM_RT_18_phylogenetic_distance_matrix.tsv',\n",
       " 'CTR_MGH_2_phylogenetic_distance_matrix.tsv',\n",
       " 'GEM_RT_11_phylogenetic_distance_matrix.tsv',\n",
       " 'CTR_MGH_11_phylogenetic_distance_matrix.tsv',\n",
       " 'MI_MGH_3_phylogenetic_distance_matrix.tsv',\n",
       " 'GEM_RT_13_phylogenetic_distance_matrix.tsv',\n",
       " 'GEM_RT_16_phylogenetic_distance_matrix.tsv',\n",
       " 'GEM_RT_14_phylogenetic_distance_matrix.tsv',\n",
       " 'CTR_MGH_9_phylogenetic_distance_matrix.tsv',\n",
       " 'CTR_MGH_5_phylogenetic_distance_matrix.tsv',\n",
       " 'NMI_MGH_2_phylogenetic_distance_matrix.tsv',\n",
       " 'NMI_MGH_3_phylogenetic_distance_matrix.tsv',\n",
       " 'GEM_RT_1_phylogenetic_distance_matrix.tsv',\n",
       " 'GEM_RT_10_phylogenetic_distance_matrix.tsv',\n",
       " 'GEM_RT_5_phylogenetic_distance_matrix.tsv',\n",
       " 'CTR_MGH_10_phylogenetic_distance_matrix.tsv',\n",
       " 'GEM_RT_17_phylogenetic_distance_matrix.tsv',\n",
       " 'CTR_MGH_12_phylogenetic_distance_matrix.tsv',\n",
       " 'GEM_RT_8_phylogenetic_distance_matrix.tsv',\n",
       " 'Met_MGH_2_phylogenetic_distance_matrix.tsv',\n",
       " 'CTR_MGH_3_phylogenetic_distance_matrix.tsv',\n",
       " 'GEM_RT_0_phylogenetic_distance_matrix.tsv',\n",
       " 'CTR_MGH_6_phylogenetic_distance_matrix.tsv',\n",
       " 'MI_MGH_0_phylogenetic_distance_matrix.tsv',\n",
       " 'CTR_RT_0_phylogenetic_distance_matrix.tsv',\n",
       " 'CTR_MGH_1_phylogenetic_distance_matrix.tsv',\n",
       " 'Met_MGH_1_phylogenetic_distance_matrix.tsv',\n",
       " 'GEM_RT_4_phylogenetic_distance_matrix.tsv',\n",
       " 'GEM_RT_19_phylogenetic_distance_matrix.tsv',\n",
       " 'GEM_RT_15_phylogenetic_distance_matrix.tsv',\n",
       " 'Met_MGH_0_phylogenetic_distance_matrix.tsv',\n",
       " 'Met_MGH_3_phylogenetic_distance_matrix.tsv',\n",
       " 'NMI_MGH_0_phylogenetic_distance_matrix.tsv',\n",
       " 'GEM_RT_12_phylogenetic_distance_matrix.tsv',\n",
       " 'GEM_RT_20_phylogenetic_distance_matrix.tsv']"
      ]
     },
     "execution_count": 23,
     "metadata": {},
     "output_type": "execute_result"
    }
   ],
   "source": [
    "phylogenetic_distance_files"
   ]
  },
  {
   "cell_type": "code",
   "execution_count": 3,
   "metadata": {},
   "outputs": [
    {
     "data": {
      "text/plain": [
       "50"
      ]
     },
     "execution_count": 3,
     "metadata": {},
     "output_type": "execute_result"
    }
   ],
   "source": [
    "len(phylogenetic_distance_files)"
   ]
  },
  {
   "cell_type": "code",
   "execution_count": 4,
   "metadata": {},
   "outputs": [],
   "source": [
    "import pandas as pd\n",
    "\n",
    "edit_distance_matrices = []\n",
    "phylogenetic_distance_matrices = []\n",
    "\n",
    "for i in range(len(edit_distance_files)):\n",
    "    edit_distance_matrix = pd.read_csv(os.path.join(directory, edit_distance_files[i]), sep='\\t', index_col=0)\n",
    "    phylogenetic_distance_matrix = pd.read_csv(os.path.join(directory, phylogenetic_distance_files[i]), sep='\\t', index_col=0)\n",
    "    edit_distance_matrices.append(edit_distance_matrix)\n",
    "    phylogenetic_distance_matrices.append(phylogenetic_distance_matrix)"
   ]
  },
  {
   "cell_type": "code",
   "execution_count": 5,
   "metadata": {},
   "outputs": [],
   "source": [
    "# 计算edit_distance_matrix和phylogenetic_distance_matrix的相关系数矩阵\n",
    "correlation_matrices = []\n",
    "for i in range(len(edit_distance_matrices)):\n",
    "    correlation_matrix = edit_distance_matrices[i].corrwith(phylogenetic_distance_matrices[i], axis=1)\n",
    "    correlation_matrices.append(correlation_matrix)"
   ]
  },
  {
   "cell_type": "code",
   "execution_count": null,
   "metadata": {},
   "outputs": [],
   "source": [
    "correlation_matrices"
   ]
  },
  {
   "cell_type": "code",
   "execution_count": 24,
   "metadata": {},
   "outputs": [
    {
     "data": {
      "text/plain": [
       "NMI_MGH.ACGGTCGCACGGTAGA    0.073096\n",
       "NMI_MGH.ATTCCATGTCGTAATC    0.624855\n",
       "NMI_MGH.GATTCGACAATGAAAC    0.650184\n",
       "NMI_MGH.GGTAATCAGCTCCACG    0.438274\n",
       "NMI_MGH.ATCGTCCCATAGACTC    0.392486\n",
       "NMI_MGH.CAGTTAGCATTGCAAC    0.391513\n",
       "NMI_MGH.CCTTCAGGTCCAGGTC    0.616622\n",
       "NMI_MGH.GACCCAGAGTAGCAAT    0.534374\n",
       "NMI_MGH.CAATTTCTCATTGAGC    0.431155\n",
       "NMI_MGH.CAGATTGTCGTTAGTG    0.595987\n",
       "NMI_MGH.TATTTCGAGTGCACTT    0.318354\n",
       "NMI_MGH.TATTGCTTCCGTCAAA    0.519903\n",
       "NMI_MGH.AGTTCCCCAGCTACTA    0.422155\n",
       "NMI_MGH.AGTGCCGAGCAATAGT    0.554224\n",
       "NMI_MGH.TATTTCGCACCAGCCA    0.322944\n",
       "NMI_MGH.GTCATTTTCCACGTCT    0.580906\n",
       "NMI_MGH.CAGATCACACTCTCGT    0.480014\n",
       "NMI_MGH.GGAATGGAGTCTCCTC    0.498381\n",
       "NMI_MGH.TGGATGTGTAGAATGT    0.560282\n",
       "NMI_MGH.TCAATCTGTATGACAA    0.502247\n",
       "NMI_MGH.TTTGATCTCTAGTCAG    0.367400\n",
       "NMI_MGH.AGTACCAGTAATGTGA    0.346548\n",
       "NMI_MGH.AAGATAGGTGCACGCT    0.394484\n",
       "NMI_MGH.AGGATAATCAGTGTTG    0.269388\n",
       "NMI_MGH.TAGACTGGTCCTGTTC    0.684637\n",
       "NMI_MGH.GACTTCCGTTGCATTG    0.578768\n",
       "NMI_MGH.TAGCACAAGAGCCATG    0.593021\n",
       "NMI_MGH.TTTGATCCATGGGAAC    0.457232\n",
       "dtype: float64"
      ]
     },
     "execution_count": 24,
     "metadata": {},
     "output_type": "execute_result"
    }
   ],
   "source": [
    "correlation_matrices[6]"
   ]
  },
  {
   "cell_type": "code",
   "execution_count": 20,
   "metadata": {},
   "outputs": [
    {
     "ename": "ValueError",
     "evalue": "x and y must be the same size",
     "output_type": "error",
     "traceback": [
      "\u001b[0;31m---------------------------------------------------------------------------\u001b[0m",
      "\u001b[0;31mValueError\u001b[0m                                Traceback (most recent call last)",
      "Cell \u001b[0;32mIn [20], line 1\u001b[0m\n\u001b[0;32m----> 1\u001b[0m plt\u001b[39m.\u001b[39;49mscatter(edit_distance_matrices[\u001b[39m25\u001b[39;49m], phylogenetic_distance_matrices[\u001b[39m6\u001b[39;49m])\n\u001b[1;32m      2\u001b[0m plt\u001b[39m.\u001b[39mxlabel(\u001b[39m'\u001b[39m\u001b[39mEdit distance\u001b[39m\u001b[39m'\u001b[39m)\n\u001b[1;32m      3\u001b[0m plt\u001b[39m.\u001b[39mylabel(\u001b[39m'\u001b[39m\u001b[39mPhylogenetic distance\u001b[39m\u001b[39m'\u001b[39m)\n",
      "File \u001b[0;32m~/miniconda3/envs/cassiopeia/lib/python3.10/site-packages/matplotlib/pyplot.py:2780\u001b[0m, in \u001b[0;36mscatter\u001b[0;34m(x, y, s, c, marker, cmap, norm, vmin, vmax, alpha, linewidths, edgecolors, plotnonfinite, data, **kwargs)\u001b[0m\n\u001b[1;32m   2775\u001b[0m \u001b[39m@_copy_docstring_and_deprecators\u001b[39m(Axes\u001b[39m.\u001b[39mscatter)\n\u001b[1;32m   2776\u001b[0m \u001b[39mdef\u001b[39;00m \u001b[39mscatter\u001b[39m(\n\u001b[1;32m   2777\u001b[0m         x, y, s\u001b[39m=\u001b[39m\u001b[39mNone\u001b[39;00m, c\u001b[39m=\u001b[39m\u001b[39mNone\u001b[39;00m, marker\u001b[39m=\u001b[39m\u001b[39mNone\u001b[39;00m, cmap\u001b[39m=\u001b[39m\u001b[39mNone\u001b[39;00m, norm\u001b[39m=\u001b[39m\u001b[39mNone\u001b[39;00m,\n\u001b[1;32m   2778\u001b[0m         vmin\u001b[39m=\u001b[39m\u001b[39mNone\u001b[39;00m, vmax\u001b[39m=\u001b[39m\u001b[39mNone\u001b[39;00m, alpha\u001b[39m=\u001b[39m\u001b[39mNone\u001b[39;00m, linewidths\u001b[39m=\u001b[39m\u001b[39mNone\u001b[39;00m, \u001b[39m*\u001b[39m,\n\u001b[1;32m   2779\u001b[0m         edgecolors\u001b[39m=\u001b[39m\u001b[39mNone\u001b[39;00m, plotnonfinite\u001b[39m=\u001b[39m\u001b[39mFalse\u001b[39;00m, data\u001b[39m=\u001b[39m\u001b[39mNone\u001b[39;00m, \u001b[39m*\u001b[39m\u001b[39m*\u001b[39mkwargs):\n\u001b[0;32m-> 2780\u001b[0m     __ret \u001b[39m=\u001b[39m gca()\u001b[39m.\u001b[39;49mscatter(\n\u001b[1;32m   2781\u001b[0m         x, y, s\u001b[39m=\u001b[39;49ms, c\u001b[39m=\u001b[39;49mc, marker\u001b[39m=\u001b[39;49mmarker, cmap\u001b[39m=\u001b[39;49mcmap, norm\u001b[39m=\u001b[39;49mnorm,\n\u001b[1;32m   2782\u001b[0m         vmin\u001b[39m=\u001b[39;49mvmin, vmax\u001b[39m=\u001b[39;49mvmax, alpha\u001b[39m=\u001b[39;49malpha, linewidths\u001b[39m=\u001b[39;49mlinewidths,\n\u001b[1;32m   2783\u001b[0m         edgecolors\u001b[39m=\u001b[39;49medgecolors, plotnonfinite\u001b[39m=\u001b[39;49mplotnonfinite,\n\u001b[1;32m   2784\u001b[0m         \u001b[39m*\u001b[39;49m\u001b[39m*\u001b[39;49m({\u001b[39m\"\u001b[39;49m\u001b[39mdata\u001b[39;49m\u001b[39m\"\u001b[39;49m: data} \u001b[39mif\u001b[39;49;00m data \u001b[39mis\u001b[39;49;00m \u001b[39mnot\u001b[39;49;00m \u001b[39mNone\u001b[39;49;00m \u001b[39melse\u001b[39;49;00m {}), \u001b[39m*\u001b[39;49m\u001b[39m*\u001b[39;49mkwargs)\n\u001b[1;32m   2785\u001b[0m     sci(__ret)\n\u001b[1;32m   2786\u001b[0m     \u001b[39mreturn\u001b[39;00m __ret\n",
      "File \u001b[0;32m~/miniconda3/envs/cassiopeia/lib/python3.10/site-packages/matplotlib/__init__.py:1423\u001b[0m, in \u001b[0;36m_preprocess_data.<locals>.inner\u001b[0;34m(ax, data, *args, **kwargs)\u001b[0m\n\u001b[1;32m   1420\u001b[0m \u001b[39m@functools\u001b[39m\u001b[39m.\u001b[39mwraps(func)\n\u001b[1;32m   1421\u001b[0m \u001b[39mdef\u001b[39;00m \u001b[39minner\u001b[39m(ax, \u001b[39m*\u001b[39margs, data\u001b[39m=\u001b[39m\u001b[39mNone\u001b[39;00m, \u001b[39m*\u001b[39m\u001b[39m*\u001b[39mkwargs):\n\u001b[1;32m   1422\u001b[0m     \u001b[39mif\u001b[39;00m data \u001b[39mis\u001b[39;00m \u001b[39mNone\u001b[39;00m:\n\u001b[0;32m-> 1423\u001b[0m         \u001b[39mreturn\u001b[39;00m func(ax, \u001b[39m*\u001b[39;49m\u001b[39mmap\u001b[39;49m(sanitize_sequence, args), \u001b[39m*\u001b[39;49m\u001b[39m*\u001b[39;49mkwargs)\n\u001b[1;32m   1425\u001b[0m     bound \u001b[39m=\u001b[39m new_sig\u001b[39m.\u001b[39mbind(ax, \u001b[39m*\u001b[39margs, \u001b[39m*\u001b[39m\u001b[39m*\u001b[39mkwargs)\n\u001b[1;32m   1426\u001b[0m     auto_label \u001b[39m=\u001b[39m (bound\u001b[39m.\u001b[39marguments\u001b[39m.\u001b[39mget(label_namer)\n\u001b[1;32m   1427\u001b[0m                   \u001b[39mor\u001b[39;00m bound\u001b[39m.\u001b[39mkwargs\u001b[39m.\u001b[39mget(label_namer))\n",
      "File \u001b[0;32m~/miniconda3/envs/cassiopeia/lib/python3.10/site-packages/matplotlib/axes/_axes.py:4512\u001b[0m, in \u001b[0;36mAxes.scatter\u001b[0;34m(self, x, y, s, c, marker, cmap, norm, vmin, vmax, alpha, linewidths, edgecolors, plotnonfinite, **kwargs)\u001b[0m\n\u001b[1;32m   4510\u001b[0m y \u001b[39m=\u001b[39m np\u001b[39m.\u001b[39mma\u001b[39m.\u001b[39mravel(y)\n\u001b[1;32m   4511\u001b[0m \u001b[39mif\u001b[39;00m x\u001b[39m.\u001b[39msize \u001b[39m!=\u001b[39m y\u001b[39m.\u001b[39msize:\n\u001b[0;32m-> 4512\u001b[0m     \u001b[39mraise\u001b[39;00m \u001b[39mValueError\u001b[39;00m(\u001b[39m\"\u001b[39m\u001b[39mx and y must be the same size\u001b[39m\u001b[39m\"\u001b[39m)\n\u001b[1;32m   4514\u001b[0m \u001b[39mif\u001b[39;00m s \u001b[39mis\u001b[39;00m \u001b[39mNone\u001b[39;00m:\n\u001b[1;32m   4515\u001b[0m     s \u001b[39m=\u001b[39m (\u001b[39m20\u001b[39m \u001b[39mif\u001b[39;00m mpl\u001b[39m.\u001b[39mrcParams[\u001b[39m'\u001b[39m\u001b[39m_internal.classic_mode\u001b[39m\u001b[39m'\u001b[39m] \u001b[39melse\u001b[39;00m\n\u001b[1;32m   4516\u001b[0m          mpl\u001b[39m.\u001b[39mrcParams[\u001b[39m'\u001b[39m\u001b[39mlines.markersize\u001b[39m\u001b[39m'\u001b[39m] \u001b[39m*\u001b[39m\u001b[39m*\u001b[39m \u001b[39m2.0\u001b[39m)\n",
      "\u001b[0;31mValueError\u001b[0m: x and y must be the same size"
     ]
    },
    {
     "data": {
      "image/png": "[encoded data removed]",
      "text/plain": [
       "<Figure size 640x480 with 1 Axes>"
      ]
     },
     "metadata": {},
     "output_type": "display_data"
    }
   ],
   "source": [
    "plt.scatter(edit_distance_matrices[25], phylogenetic_distance_matrices[6])\n",
    "plt.xlabel('Edit distance')\n",
    "plt.ylabel('Phylogenetic distance')"
   ]
  },
  {
   "cell_type": "code",
   "execution_count": 19,
   "metadata": {},
   "outputs": [
    {
     "ename": "ValueError",
     "evalue": "x and y must be the same size",
     "output_type": "error",
     "traceback": [
      "\u001b[0;31m---------------------------------------------------------------------------\u001b[0m",
      "\u001b[0;31mValueError\u001b[0m                                Traceback (most recent call last)",
      "\u001b[1;32m/WorkDir4/yanzeqin/220823_A00403_0863_AHMNGLDSX3/Script/AP-data/plot/Figure5_S5/Figure1_edit.ipynb 单元格 7\u001b[0m in \u001b[0;36m5\n\u001b[1;32m      <a href='vscode-notebook-cell://ssh-remote%2B7b22686f73744e616d65223a22543434305f32227d/WorkDir4/yanzeqin/220823_A00403_0863_AHMNGLDSX3/Script/AP-data/plot/Figure5_S5/Figure1_edit.ipynb#X23sdnNjb2RlLXJlbW90ZQ%3D%3D?line=2'>3</a>\u001b[0m \u001b[39m# 绘制相关性散点图\u001b[39;00m\n\u001b[1;32m      <a href='vscode-notebook-cell://ssh-remote%2B7b22686f73744e616d65223a22543434305f32227d/WorkDir4/yanzeqin/220823_A00403_0863_AHMNGLDSX3/Script/AP-data/plot/Figure5_S5/Figure1_edit.ipynb#X23sdnNjb2RlLXJlbW90ZQ%3D%3D?line=3'>4</a>\u001b[0m \u001b[39mfor\u001b[39;00m i \u001b[39min\u001b[39;00m \u001b[39mrange\u001b[39m(\u001b[39mlen\u001b[39m(correlation_matrices)):\n\u001b[0;32m----> <a href='vscode-notebook-cell://ssh-remote%2B7b22686f73744e616d65223a22543434305f32227d/WorkDir4/yanzeqin/220823_A00403_0863_AHMNGLDSX3/Script/AP-data/plot/Figure5_S5/Figure1_edit.ipynb#X23sdnNjb2RlLXJlbW90ZQ%3D%3D?line=4'>5</a>\u001b[0m     plt\u001b[39m.\u001b[39;49mscatter(edit_distance_matrices[i], phylogenetic_distance_matrices[i])\n\u001b[1;32m      <a href='vscode-notebook-cell://ssh-remote%2B7b22686f73744e616d65223a22543434305f32227d/WorkDir4/yanzeqin/220823_A00403_0863_AHMNGLDSX3/Script/AP-data/plot/Figure5_S5/Figure1_edit.ipynb#X23sdnNjb2RlLXJlbW90ZQ%3D%3D?line=5'>6</a>\u001b[0m     plt\u001b[39m.\u001b[39mxlabel(\u001b[39m'\u001b[39m\u001b[39mEdit distance\u001b[39m\u001b[39m'\u001b[39m)\n\u001b[1;32m      <a href='vscode-notebook-cell://ssh-remote%2B7b22686f73744e616d65223a22543434305f32227d/WorkDir4/yanzeqin/220823_A00403_0863_AHMNGLDSX3/Script/AP-data/plot/Figure5_S5/Figure1_edit.ipynb#X23sdnNjb2RlLXJlbW90ZQ%3D%3D?line=6'>7</a>\u001b[0m     plt\u001b[39m.\u001b[39mylabel(\u001b[39m'\u001b[39m\u001b[39mPhylogenetic distance\u001b[39m\u001b[39m'\u001b[39m)\n",
      "File \u001b[0;32m~/miniconda3/envs/cassiopeia/lib/python3.10/site-packages/matplotlib/pyplot.py:2780\u001b[0m, in \u001b[0;36mscatter\u001b[0;34m(x, y, s, c, marker, cmap, norm, vmin, vmax, alpha, linewidths, edgecolors, plotnonfinite, data, **kwargs)\u001b[0m\n\u001b[1;32m   2775\u001b[0m \u001b[39m@_copy_docstring_and_deprecators\u001b[39m(Axes\u001b[39m.\u001b[39mscatter)\n\u001b[1;32m   2776\u001b[0m \u001b[39mdef\u001b[39;00m \u001b[39mscatter\u001b[39m(\n\u001b[1;32m   2777\u001b[0m         x, y, s\u001b[39m=\u001b[39m\u001b[39mNone\u001b[39;00m, c\u001b[39m=\u001b[39m\u001b[39mNone\u001b[39;00m, marker\u001b[39m=\u001b[39m\u001b[39mNone\u001b[39;00m, cmap\u001b[39m=\u001b[39m\u001b[39mNone\u001b[39;00m, norm\u001b[39m=\u001b[39m\u001b[39mNone\u001b[39;00m,\n\u001b[1;32m   2778\u001b[0m         vmin\u001b[39m=\u001b[39m\u001b[39mNone\u001b[39;00m, vmax\u001b[39m=\u001b[39m\u001b[39mNone\u001b[39;00m, alpha\u001b[39m=\u001b[39m\u001b[39mNone\u001b[39;00m, linewidths\u001b[39m=\u001b[39m\u001b[39mNone\u001b[39;00m, \u001b[39m*\u001b[39m,\n\u001b[1;32m   2779\u001b[0m         edgecolors\u001b[39m=\u001b[39m\u001b[39mNone\u001b[39;00m, plotnonfinite\u001b[39m=\u001b[39m\u001b[39mFalse\u001b[39;00m, data\u001b[39m=\u001b[39m\u001b[39mNone\u001b[39;00m, \u001b[39m*\u001b[39m\u001b[39m*\u001b[39mkwargs):\n\u001b[0;32m-> 2780\u001b[0m     __ret \u001b[39m=\u001b[39m gca()\u001b[39m.\u001b[39;49mscatter(\n\u001b[1;32m   2781\u001b[0m         x, y, s\u001b[39m=\u001b[39;49ms, c\u001b[39m=\u001b[39;49mc, marker\u001b[39m=\u001b[39;49mmarker, cmap\u001b[39m=\u001b[39;49mcmap, norm\u001b[39m=\u001b[39;49mnorm,\n\u001b[1;32m   2782\u001b[0m         vmin\u001b[39m=\u001b[39;49mvmin, vmax\u001b[39m=\u001b[39;49mvmax, alpha\u001b[39m=\u001b[39;49malpha, linewidths\u001b[39m=\u001b[39;49mlinewidths,\n\u001b[1;32m   2783\u001b[0m         edgecolors\u001b[39m=\u001b[39;49medgecolors, plotnonfinite\u001b[39m=\u001b[39;49mplotnonfinite,\n\u001b[1;32m   2784\u001b[0m         \u001b[39m*\u001b[39;49m\u001b[39m*\u001b[39;49m({\u001b[39m\"\u001b[39;49m\u001b[39mdata\u001b[39;49m\u001b[39m\"\u001b[39;49m: data} \u001b[39mif\u001b[39;49;00m data \u001b[39mis\u001b[39;49;00m \u001b[39mnot\u001b[39;49;00m \u001b[39mNone\u001b[39;49;00m \u001b[39melse\u001b[39;49;00m {}), \u001b[39m*\u001b[39;49m\u001b[39m*\u001b[39;49mkwargs)\n\u001b[1;32m   2785\u001b[0m     sci(__ret)\n\u001b[1;32m   2786\u001b[0m     \u001b[39mreturn\u001b[39;00m __ret\n",
      "File \u001b[0;32m~/miniconda3/envs/cassiopeia/lib/python3.10/site-packages/matplotlib/__init__.py:1423\u001b[0m, in \u001b[0;36m_preprocess_data.<locals>.inner\u001b[0;34m(ax, data, *args, **kwargs)\u001b[0m\n\u001b[1;32m   1420\u001b[0m \u001b[39m@functools\u001b[39m\u001b[39m.\u001b[39mwraps(func)\n\u001b[1;32m   1421\u001b[0m \u001b[39mdef\u001b[39;00m \u001b[39minner\u001b[39m(ax, \u001b[39m*\u001b[39margs, data\u001b[39m=\u001b[39m\u001b[39mNone\u001b[39;00m, \u001b[39m*\u001b[39m\u001b[39m*\u001b[39mkwargs):\n\u001b[1;32m   1422\u001b[0m     \u001b[39mif\u001b[39;00m data \u001b[39mis\u001b[39;00m \u001b[39mNone\u001b[39;00m:\n\u001b[0;32m-> 1423\u001b[0m         \u001b[39mreturn\u001b[39;00m func(ax, \u001b[39m*\u001b[39;49m\u001b[39mmap\u001b[39;49m(sanitize_sequence, args), \u001b[39m*\u001b[39;49m\u001b[39m*\u001b[39;49mkwargs)\n\u001b[1;32m   1425\u001b[0m     bound \u001b[39m=\u001b[39m new_sig\u001b[39m.\u001b[39mbind(ax, \u001b[39m*\u001b[39margs, \u001b[39m*\u001b[39m\u001b[39m*\u001b[39mkwargs)\n\u001b[1;32m   1426\u001b[0m     auto_label \u001b[39m=\u001b[39m (bound\u001b[39m.\u001b[39marguments\u001b[39m.\u001b[39mget(label_namer)\n\u001b[1;32m   1427\u001b[0m                   \u001b[39mor\u001b[39;00m bound\u001b[39m.\u001b[39mkwargs\u001b[39m.\u001b[39mget(label_namer))\n",
      "File \u001b[0;32m~/miniconda3/envs/cassiopeia/lib/python3.10/site-packages/matplotlib/axes/_axes.py:4512\u001b[0m, in \u001b[0;36mAxes.scatter\u001b[0;34m(self, x, y, s, c, marker, cmap, norm, vmin, vmax, alpha, linewidths, edgecolors, plotnonfinite, **kwargs)\u001b[0m\n\u001b[1;32m   4510\u001b[0m y \u001b[39m=\u001b[39m np\u001b[39m.\u001b[39mma\u001b[39m.\u001b[39mravel(y)\n\u001b[1;32m   4511\u001b[0m \u001b[39mif\u001b[39;00m x\u001b[39m.\u001b[39msize \u001b[39m!=\u001b[39m y\u001b[39m.\u001b[39msize:\n\u001b[0;32m-> 4512\u001b[0m     \u001b[39mraise\u001b[39;00m \u001b[39mValueError\u001b[39;00m(\u001b[39m\"\u001b[39m\u001b[39mx and y must be the same size\u001b[39m\u001b[39m\"\u001b[39m)\n\u001b[1;32m   4514\u001b[0m \u001b[39mif\u001b[39;00m s \u001b[39mis\u001b[39;00m \u001b[39mNone\u001b[39;00m:\n\u001b[1;32m   4515\u001b[0m     s \u001b[39m=\u001b[39m (\u001b[39m20\u001b[39m \u001b[39mif\u001b[39;00m mpl\u001b[39m.\u001b[39mrcParams[\u001b[39m'\u001b[39m\u001b[39m_internal.classic_mode\u001b[39m\u001b[39m'\u001b[39m] \u001b[39melse\u001b[39;00m\n\u001b[1;32m   4516\u001b[0m          mpl\u001b[39m.\u001b[39mrcParams[\u001b[39m'\u001b[39m\u001b[39mlines.markersize\u001b[39m\u001b[39m'\u001b[39m] \u001b[39m*\u001b[39m\u001b[39m*\u001b[39m \u001b[39m2.0\u001b[39m)\n",
      "\u001b[0;31mValueError\u001b[0m: x and y must be the same size"
     ]
    },
    {
     "data": {
      "image/png": "[encoded data removed]",
      "text/plain": [
       "<Figure size 640x480 with 1 Axes>"
      ]
     },
     "metadata": {},
     "output_type": "display_data"
    }
   ],
   "source": [
    "import matplotlib.pyplot as plt\n",
    "\n",
    "# 绘制相关性散点图\n",
    "for i in range(len(correlation_matrices)):\n",
    "    plt.scatter(edit_distance_matrices[i], phylogenetic_distance_matrices[i])\n",
    "    plt.xlabel('Edit distance')\n",
    "    plt.ylabel('Phylogenetic distance')"
   ]
  },
  {
   "cell_type": "code",
   "execution_count": 22,
   "metadata": {},
   "outputs": [
    {
     "data": {
      "text/plain": [
       "list"
      ]
     },
     "execution_count": 22,
     "metadata": {},
     "output_type": "execute_result"
    }
   ],
   "source": [
    "data_directory = \"/WorkDir4/yanzeqin/220823_A00403_0863_AHMNGLDSX3/Script/AP-data\"\n",
    "tumor_list = pd.read_csv(f\"{data_directory}/plot/Figure5_S5/tumor_list.txt\", sep='\\t')['Tumor'].tolist()\n",
    "tumor_list\n"
   ]
  },
  {
   "cell_type": "code",
   "execution_count": 24,
   "metadata": {},
   "outputs": [],
   "source": [
    "import numpy as np\n",
    "import pandas as pd\n",
    "import matplotlib.pyplot as plt\n",
    "\n",
    "# 定义读取数据的函数\n",
    "def read_distance_matrix(distance_type, tumor_list):\n",
    "    \"\"\"\n",
    "    读取距离矩阵中的数据\n",
    "    distance_type: {'edit', 'phylogenetic'}\n",
    "    tumor_list: 包含肿瘤名称的列表\n",
    "    \"\"\"\n",
    "    distance_matrices = {}\n",
    "    for tumor in tumor_list:\n",
    "        file_path = f\"/WorkDir4/yanzeqin/220823_A00403_0863_AHMNGLDSX3/Script/AP-data/plot/Figure5_S5/data/{tumor}_{distance_type}_distance_matrix.tsv\"\n",
    "        distance_matrix = pd.read_csv(file_path, sep='\\t', index_col=0)\n",
    "        distance_matrices[tumor] = distance_matrix\n",
    "    return distance_matrices\n",
    "\n",
    "# 读取基因表达的进化距离和序列编辑距离距离矩阵数据\n",
    "phylogenetic_distance_matrices = read_distance_matrix('phylogenetic', tumor_list)\n",
    "edit_distance_matrices = read_distance_matrix('edit', tumor_list)\n",
    "\n"
   ]
  },
  {
   "cell_type": "code",
   "execution_count": 27,
   "metadata": {},
   "outputs": [
    {
     "name": "stderr",
     "output_type": "stream",
     "text": [
      "/home/yanzeqin/miniconda3/envs/cassiopeia/lib/python3.10/site-packages/numpy/lib/function_base.py:2691: RuntimeWarning: invalid value encountered in true_divide\n",
      "  c /= stddev[:, None]\n",
      "/home/yanzeqin/miniconda3/envs/cassiopeia/lib/python3.10/site-packages/numpy/lib/function_base.py:2692: RuntimeWarning: invalid value encountered in true_divide\n",
      "  c /= stddev[None, :]\n"
     ]
    }
   ],
   "source": [
    "# 计算相关系数\n",
    "corr_list = []\n",
    "tumors_to_process = []  # 存储成功处理的肿瘤\n",
    "for tumor in tumor_list:\n",
    "    phylogenetic_distance_matrix = phylogenetic_distance_matrices.get(tumor)\n",
    "    edit_distance_matrix = edit_distance_matrices.get(tumor)\n",
    "    if phylogenetic_distance_matrix is not None and edit_distance_matrix is not None:\n",
    "        tumor_corr, _ = np.corrcoef(\n",
    "            phylogenetic_distance_matrix.values.flatten(),\n",
    "            edit_distance_matrix.values.flatten()\n",
    "        )\n",
    "        corr_list.append(tumor_corr)\n",
    "        tumors_to_process.append(tumor)"
   ]
  },
  {
   "cell_type": "code",
   "execution_count": 31,
   "metadata": {},
   "outputs": [
    {
     "data": {
      "text/plain": [
       "50"
      ]
     },
     "execution_count": 31,
     "metadata": {},
     "output_type": "execute_result"
    }
   ],
   "source": [
    "len(corr_list)"
   ]
  },
  {
   "cell_type": "code",
   "execution_count": 28,
   "metadata": {},
   "outputs": [
    {
     "ename": "ValueError",
     "evalue": "x and y must be the same size",
     "output_type": "error",
     "traceback": [
      "\u001b[0;31m---------------------------------------------------------------------------\u001b[0m",
      "\u001b[0;31mValueError\u001b[0m                                Traceback (most recent call last)",
      "Cell \u001b[0;32mIn [28], line 3\u001b[0m\n\u001b[1;32m      1\u001b[0m \u001b[39m# 绘图\u001b[39;00m\n\u001b[1;32m      2\u001b[0m fig, ax \u001b[39m=\u001b[39m plt\u001b[39m.\u001b[39msubplots()\n\u001b[0;32m----> 3\u001b[0m ax\u001b[39m.\u001b[39;49mscatter(\n\u001b[1;32m      4\u001b[0m     \u001b[39mrange\u001b[39;49m(\u001b[39mlen\u001b[39;49m(tumors_to_process)),\n\u001b[1;32m      5\u001b[0m     corr_list,\n\u001b[1;32m      6\u001b[0m     marker\u001b[39m=\u001b[39;49m\u001b[39m'\u001b[39;49m\u001b[39mo\u001b[39;49m\u001b[39m'\u001b[39;49m,\n\u001b[1;32m      7\u001b[0m     color\u001b[39m=\u001b[39;49m\u001b[39m'\u001b[39;49m\u001b[39mblack\u001b[39;49m\u001b[39m'\u001b[39;49m,\n\u001b[1;32m      8\u001b[0m     s\u001b[39m=\u001b[39;49m\u001b[39m50\u001b[39;49m\n\u001b[1;32m      9\u001b[0m )\n\u001b[1;32m     10\u001b[0m ax\u001b[39m.\u001b[39mset_xticks(\u001b[39mrange\u001b[39m(\u001b[39mlen\u001b[39m(tumors_to_process)))\n\u001b[1;32m     11\u001b[0m ax\u001b[39m.\u001b[39mset_xticklabels(tumors_to_process)\n",
      "File \u001b[0;32m~/miniconda3/envs/cassiopeia/lib/python3.10/site-packages/matplotlib/__init__.py:1423\u001b[0m, in \u001b[0;36m_preprocess_data.<locals>.inner\u001b[0;34m(ax, data, *args, **kwargs)\u001b[0m\n\u001b[1;32m   1420\u001b[0m \u001b[39m@functools\u001b[39m\u001b[39m.\u001b[39mwraps(func)\n\u001b[1;32m   1421\u001b[0m \u001b[39mdef\u001b[39;00m \u001b[39minner\u001b[39m(ax, \u001b[39m*\u001b[39margs, data\u001b[39m=\u001b[39m\u001b[39mNone\u001b[39;00m, \u001b[39m*\u001b[39m\u001b[39m*\u001b[39mkwargs):\n\u001b[1;32m   1422\u001b[0m     \u001b[39mif\u001b[39;00m data \u001b[39mis\u001b[39;00m \u001b[39mNone\u001b[39;00m:\n\u001b[0;32m-> 1423\u001b[0m         \u001b[39mreturn\u001b[39;00m func(ax, \u001b[39m*\u001b[39;49m\u001b[39mmap\u001b[39;49m(sanitize_sequence, args), \u001b[39m*\u001b[39;49m\u001b[39m*\u001b[39;49mkwargs)\n\u001b[1;32m   1425\u001b[0m     bound \u001b[39m=\u001b[39m new_sig\u001b[39m.\u001b[39mbind(ax, \u001b[39m*\u001b[39margs, \u001b[39m*\u001b[39m\u001b[39m*\u001b[39mkwargs)\n\u001b[1;32m   1426\u001b[0m     auto_label \u001b[39m=\u001b[39m (bound\u001b[39m.\u001b[39marguments\u001b[39m.\u001b[39mget(label_namer)\n\u001b[1;32m   1427\u001b[0m                   \u001b[39mor\u001b[39;00m bound\u001b[39m.\u001b[39mkwargs\u001b[39m.\u001b[39mget(label_namer))\n",
      "File \u001b[0;32m~/miniconda3/envs/cassiopeia/lib/python3.10/site-packages/matplotlib/axes/_axes.py:4512\u001b[0m, in \u001b[0;36mAxes.scatter\u001b[0;34m(self, x, y, s, c, marker, cmap, norm, vmin, vmax, alpha, linewidths, edgecolors, plotnonfinite, **kwargs)\u001b[0m\n\u001b[1;32m   4510\u001b[0m y \u001b[39m=\u001b[39m np\u001b[39m.\u001b[39mma\u001b[39m.\u001b[39mravel(y)\n\u001b[1;32m   4511\u001b[0m \u001b[39mif\u001b[39;00m x\u001b[39m.\u001b[39msize \u001b[39m!=\u001b[39m y\u001b[39m.\u001b[39msize:\n\u001b[0;32m-> 4512\u001b[0m     \u001b[39mraise\u001b[39;00m \u001b[39mValueError\u001b[39;00m(\u001b[39m\"\u001b[39m\u001b[39mx and y must be the same size\u001b[39m\u001b[39m\"\u001b[39m)\n\u001b[1;32m   4514\u001b[0m \u001b[39mif\u001b[39;00m s \u001b[39mis\u001b[39;00m \u001b[39mNone\u001b[39;00m:\n\u001b[1;32m   4515\u001b[0m     s \u001b[39m=\u001b[39m (\u001b[39m20\u001b[39m \u001b[39mif\u001b[39;00m mpl\u001b[39m.\u001b[39mrcParams[\u001b[39m'\u001b[39m\u001b[39m_internal.classic_mode\u001b[39m\u001b[39m'\u001b[39m] \u001b[39melse\u001b[39;00m\n\u001b[1;32m   4516\u001b[0m          mpl\u001b[39m.\u001b[39mrcParams[\u001b[39m'\u001b[39m\u001b[39mlines.markersize\u001b[39m\u001b[39m'\u001b[39m] \u001b[39m*\u001b[39m\u001b[39m*\u001b[39m \u001b[39m2.0\u001b[39m)\n",
      "\u001b[0;31mValueError\u001b[0m: x and y must be the same size"
     ]
    },
    {
     "data": {
      "image/png": "[encoded data removed]",
      "text/plain": [
       "<Figure size 640x480 with 1 Axes>"
      ]
     },
     "metadata": {},
     "output_type": "display_data"
    }
   ],
   "source": [
    "# 绘图\n",
    "fig, ax = plt.subplots()\n",
    "ax.scatter(\n",
    "    range(len(tumors_to_process)),\n",
    "    corr_list,\n",
    "    marker='o',\n",
    "    color='black',\n",
    "    s=50\n",
    ")\n",
    "ax.set_xticks(range(len(tumors_to_process)))\n",
    "ax.set_xticklabels(tumors_to_process)\n",
    "ax.set_xlim(-0.5, len(tumors_to_process) - 0.5)\n",
    "ax.set_ylabel('Correlation coefficient')\n",
    "ax.set_title('Correlation between phylogenetic and edit distance')\n",
    "plt.show()"
   ]
  },
  {
   "cell_type": "code",
   "execution_count": null,
   "metadata": {},
   "outputs": [],
   "source": []
  },
  {
   "cell_type": "code",
   "execution_count": null,
   "metadata": {},
   "outputs": [],
   "source": [
    "folder_path = '/WorkDir4/yanzeqin/220823_A00403_0863_AHMNGLDSX3/Script/AP-data/plot/Figure5_S5/data'\n",
    "samples = []\n",
    "print(os.listdir(folder_path))\n",
    "for file in os.listdir(folder_path):\n",
    "    if file.endswith('_matrix.tsv'):  # 假设距离矩阵文件以.txt结尾\n",
    "        sample_name = file.split('.')[0]\n",
    "    \n",
    "    #print (sample_name)"
   ]
  },
  {
   "cell_type": "code",
   "execution_count": null,
   "metadata": {},
   "outputs": [],
   "source": []
  },
  {
   "cell_type": "code",
   "execution_count": null,
   "metadata": {},
   "outputs": [],
   "source": [
    "import os\n",
    "\n",
    "folder_path = '/WorkDir4/yanzeqin/220823_A00403_0863_AHMNGLDSX3/Script/AP-data/plot/Figure5_S5/data'\n",
    "samples = []\n",
    "for file in os.listdir(folder_path):\n",
    "    if file.endswith('.txt'):  # 假设距离矩阵文件以.txt结尾\n",
    "        sample_name = file.split('.')[0]\n",
    "        a_filename = os.path.join(folder_path, sample_name + '_a.txt')\n",
    "        b_filename = os.path.join(folder_path, sample_name + '_b.txt')\n",
    "        samples.append({'name': sample_name,\n",
    "                        'a_matrix': read_distance_matrix(a_filename),\n",
    "                        'b_matrix': read_distance_matrix(b_filename)})"
   ]
  },
  {
   "cell_type": "code",
   "execution_count": null,
   "metadata": {},
   "outputs": [],
   "source": [
    "for sample in samples:\n",
    "    a = sample['a_matrix'].flatten()\n",
    "    b = sample['b_matrix'].flatten()\n",
    "    corrcoef = np.corrcoef(a, b)[0, 1]\n",
    "    plt.scatter(a, b)\n",
    "    plt.title(f\"Sample {sample['name']}, corrcoef={corrcoef:.2f}\")\n",
    "    plt.xlabel('a distance')\n",
    "    plt.ylabel('b distance')\n",
    "    plt.show()"
   ]
  },
  {
   "cell_type": "code",
   "execution_count": 17,
   "metadata": {},
   "outputs": [
    {
     "ename": "ValueError",
     "evalue": "operands could not be broadcast together with shapes (29,29) (299,299) ",
     "output_type": "error",
     "traceback": [
      "\u001b[0;31m---------------------------------------------------------------------------\u001b[0m",
      "\u001b[0;31mValueError\u001b[0m                                Traceback (most recent call last)",
      "Cell \u001b[0;32mIn [17], line 10\u001b[0m\n\u001b[1;32m      8\u001b[0m phylo_matrix1 \u001b[39m=\u001b[39m phylo_dists[i]\n\u001b[1;32m      9\u001b[0m phylo_matrix2 \u001b[39m=\u001b[39m phylo_dists[j]\n\u001b[0;32m---> 10\u001b[0m edit_distance \u001b[39m=\u001b[39m np\u001b[39m.\u001b[39mlinalg\u001b[39m.\u001b[39mnorm(edit_matrix1 \u001b[39m-\u001b[39;49m edit_matrix2)\n\u001b[1;32m     11\u001b[0m phylo_distance \u001b[39m=\u001b[39m np\u001b[39m.\u001b[39mlinalg\u001b[39m.\u001b[39mnorm(phylo_matrix1 \u001b[39m-\u001b[39m phylo_matrix2)\n\u001b[1;32m     12\u001b[0m edit_distances\u001b[39m.\u001b[39mappend(edit_distance)\n",
      "\u001b[0;31mValueError\u001b[0m: operands could not be broadcast together with shapes (29,29) (299,299) "
     ]
    }
   ],
   "source": [
    "# 计算等位基因距离和系统发育距离之间的相关性\n",
    "edit_distances = []\n",
    "phylo_distances = []\n",
    "for i in range(len(edit_dists)):\n",
    "    for j in range(i+1, len(edit_dists)):\n",
    "        edit_matrix1 = edit_dists[i]\n",
    "        edit_matrix2 = edit_dists[j]\n",
    "        phylo_matrix1 = phylo_dists[i]\n",
    "        phylo_matrix2 = phylo_dists[j]\n",
    "        edit_distance = np.linalg.norm(edit_matrix1 - edit_matrix2)\n",
    "        phylo_distance = np.linalg.norm(phylo_matrix1 - phylo_matrix2)\n",
    "        edit_distances.append(edit_distance)\n",
    "        phylo_distances.append(phylo_distance)\n",
    "\n",
    "corr, pvalue = spearmanr(edit_distances, phylo_distances)  # 计算Spearman相关系数\n",
    "print(\"Spearman correlation coefficient:\", corr)\n",
    "print(\"p-value:\", pvalue)"
   ]
  },
  {
   "cell_type": "code",
   "execution_count": null,
   "metadata": {},
   "outputs": [],
   "source": [
    "plt.scatter(edit_distances, phylo_distances)\n",
    "plt.xlabel(\"Edit distance\")\n",
    "plt.ylabel(\"Phylogenetic distance\")\n",
    "plt.title(\"Correlation between edit distance and phylogenetic distance\")\n",
    "plt.show()"
   ]
  },
  {
   "cell_type": "markdown",
   "metadata": {},
   "source": [
    "## Evolutionary Coupling"
   ]
  },
  {
   "cell_type": "markdown",
   "metadata": {},
   "source": [
    "### Compare phylotimes with different dissimilarity metrics - Figure S5J,K"
   ]
  },
  {
   "cell_type": "code",
   "execution_count": 34,
   "metadata": {},
   "outputs": [
    {
     "data": {
      "image/png": "[encoded data removed]",
      "text/plain": [
       "<Figure size 432x288 with 1 Axes>"
      ]
     },
     "metadata": {
      "needs_background": "light"
     },
     "output_type": "display_data"
    }
   ],
   "source": [
    "corr = stats.pearsonr(phylotimes_capped.loc[phylotimes_bl.index, 'distance'], phylotimes_bl['distance'])[0]\n",
    "\n",
    "plt.scatter(phylotimes_capped.loc[phylotimes_bl.index, 'distance'], phylotimes_bl['distance'], alpha=0.5)\n",
    "plt.xlabel(\"# of mutation-bearing edges\")\n",
    "plt.ylabel(\"# mutations\")\n",
    "plt.title(f'Fate Cluster 2 (Pearson corr: {corr})')\n",
    "plt.show()"
   ]
  },
  {
   "cell_type": "markdown",
   "metadata": {},
   "source": [
    "### Running tradeseq\n",
    "\n",
    "Tradeseq was used to perform DE tests for each gene in each fate cluster across phylotime. The script located in `./scripts/run_tradeseq.r` contains the code used for this analysis."
   ]
  }
 ],
 "metadata": {
  "kernelspec": {
   "display_name": "Python 3.7.16 ('KP')",
   "language": "python",
   "name": "python3"
  },
  "language_info": {
   "codemirror_mode": {
    "name": "ipython",
    "version": 3
   },
   "file_extension": ".py",
   "mimetype": "text/x-python",
   "name": "python",
   "nbconvert_exporter": "python",
   "pygments_lexer": "ipython3",
   "version": "3.7.16"
  },
  "vscode": {
   "interpreter": {
    "hash": "4b49b3307831619600be3c3e013f2eecff95844738e15415adc183a39510ef80"
   }
  }
 },
 "nbformat": 4,
 "nbformat_minor": 4
}
