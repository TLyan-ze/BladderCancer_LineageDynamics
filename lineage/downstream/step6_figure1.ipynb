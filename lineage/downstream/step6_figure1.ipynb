{
 "cells": [
  {
   "cell_type": "markdown",
   "metadata": {},
   "source": [
    "# Figure 1 & S1\n",
    "\n",
    "This notebook provides code for reproducing Figures 1 and S1 from Yang\\*, Jones\\* et al, _bioRxiv_ 2021."
   ]
  },
  {
   "cell_type": "code",
   "execution_count": 2,
   "metadata": {},
   "outputs": [],
   "source": [
    "import os\n",
    "import sys\n",
    "\n",
    "import matplotlib as mpl\n",
    "import matplotlib.pyplot as plt \n",
    "import numpy as np\n",
    "import pandas as pd \n",
    "import seaborn as sns\n",
    "#\n",
    "# \n",
    "#from cassiopeia.TreeSolver.Node import Node\n",
    "#sys.path.append(\"/WorkDir4/yanzeqin/220823_A00403_0863_AHMNGLDSX3/Script/KPTracer-release-main/cassiopeia-kp/cassiopeia\") \n",
    "\n",
    "sys.path.append(\"/WorkDir4/yanzeqin/220823_A00403_0863_AHMNGLDSX3/Script/KPTracer-release-main/cassiopeia-kp/cassiopeia/ProcessingPipeline/process\")\n",
    "sys.path.append(\"/WorkDir4/yanzeqin/soft/Cassiopeia/cassiopeia/preprocess\")\n",
    "sys.path.append(\"/WorkDir4/yanzeqin/soft/Cassiopeia\")\n",
    "#import cassiopeia.preprocess.lineage_utils as lg_util\n",
    "sys.path.append(\"/WorkDir4/yanzeqin/220823_A00403_0863_AHMNGLDSX3/Script/KPTracer-release-main/cassiopeia-kp\")\n",
    "#import cassiopeia.ProcessingPipeline.process.lineageGroup as lg_util\n",
    "\n",
    "\n",
    "from tqdm import tqdm_notebook"
   ]
  },
  {
   "cell_type": "code",
   "execution_count": 3,
   "metadata": {},
   "outputs": [],
   "source": [
    "\n",
    "sys.path.append(\"/WorkDir4/yanzeqin/220823_A00403_0863_AHMNGLDSX3/Script/KPTracer-release-main/cassiopeia-kp/\")\n",
    "import cassiopeia.TreeSolver.utilities as util"
   ]
  },
  {
   "cell_type": "code",
   "execution_count": 4,
   "metadata": {},
   "outputs": [],
   "source": [
    "sys.path.append(\"/WorkDir4/yanzeqin/220823_A00403_0863_AHMNGLDSX3/Script/KPTracer-release-main/cassiopeia-kp\")\n",
    "import cassiopeia.ProcessingPipeline.process.lineageGroup as lg_util"
   ]
  },
  {
   "cell_type": "markdown",
   "metadata": {},
   "source": [
    "## Process unfiltered allele table & identify consensus intBCs\n",
    "\n",
    "Here we will demonstrate how to convert allele tables into character matrices, filter out \"normal\" cells identified from a lack of Cas9 activity, and subset the full set of intBCs to a small \"consensus\" set observed consistently across tumors from the same clone."
   ]
  },
  {
   "cell_type": "code",
   "execution_count": 7,
   "metadata": {},
   "outputs": [],
   "source": [
    "# 获取当前脚本所在目录\n",
    "script_dir = \"/WorkDir4/yanzeqin/220823_A00403_0863_AHMNGLDSX3/Script/AP-data/allele_new\"\n",
    "\n",
    "# 将当前工作目录设置为脚本所在目录\n",
    "#os.chdir(script_dir)\n",
    "\n",
    "data_directory = \"/WorkDir4/yanzeqin/220823_A00403_0863_AHMNGLDSX3/Script/AP-data/allele_new\""
   ]
  },
  {
   "cell_type": "code",
   "execution_count": 8,
   "metadata": {},
   "outputs": [],
   "source": [
    "allele_table_unfiltered = pd.read_csv(f\"{data_directory}/AP.alleleTable.unfiltered.txt2\", sep='\\t')\n",
    "trcr_master = pd.read_csv(f\"{data_directory}/trce.txt\", sep='\\t')\n",
    "meta = pd.read_csv(f\"{data_directory}/mete.csv\", sep=',', index_col = 0)\n",
    "tumor_list = pd.read_csv(f\"{data_directory}/tumor_list.txt\", sep='\\t')\n",
    "meta.index.name = None"
   ]
  },
  {
   "cell_type": "code",
   "execution_count": 9,
   "metadata": {},
   "outputs": [],
   "source": [
    "def compute_perc_indels(cm):\n",
    "\n",
    "    all_vals = cm.values.ravel()\n",
    "    num_not_missing = len([n for n in all_vals if n != '-'])\n",
    "    num_uncut = len([n for n in all_vals if n == '0'])\n",
    "\n",
    "    return 1.0 - (num_uncut / num_not_missing)\n",
    "\n",
    "def percent_uncut(x):\n",
    "    uncut = 0\n",
    "    for i in x:\n",
    "        if i == '0':\n",
    "            uncut += 1\n",
    "    return uncut / max(1, len([i for i in x if i != '-']))\n",
    "\n",
    "def drop_exhausted_targets(cm, p = 0.98):\n",
    "    \n",
    "    to_drop = []\n",
    "    for col in cm.columns:\n",
    "        states = cm[col].values\n",
    "        uniq_vals = [val for val in states if val != '0' and val != '-']\n",
    "        total_nonmissing = len([val for val in states if val != '-'])\n",
    "        \n",
    "        unique, counts = np.unique(uniq_vals, return_counts=True)\n",
    "        \n",
    "        counts = np.array(counts) / total_nonmissing\n",
    "        \n",
    "        if np.max(counts) >= p:\n",
    "            to_drop.append(col)\n",
    "            \n",
    "    return to_drop"
   ]
  },
  {
   "cell_type": "code",
   "execution_count": null,
   "metadata": {},
   "outputs": [],
   "source": []
  },
  {
   "cell_type": "code",
   "execution_count": 10,
   "metadata": {},
   "outputs": [
    {
     "data": {
      "text/html": [
       "<div>\n",
       "<style scoped>\n",
       "    .dataframe tbody tr th:only-of-type {\n",
       "        vertical-align: middle;\n",
       "    }\n",
       "\n",
       "    .dataframe tbody tr th {\n",
       "        vertical-align: top;\n",
       "    }\n",
       "\n",
       "    .dataframe thead th {\n",
       "        text-align: right;\n",
       "    }\n",
       "</style>\n",
       "<table border=\"1\" class=\"dataframe\">\n",
       "  <thead>\n",
       "    <tr style=\"text-align: right;\">\n",
       "      <th></th>\n",
       "      <th>cellBC</th>\n",
       "      <th>X10x_Lane</th>\n",
       "      <th>Tumor</th>\n",
       "      <th>Cell_Clone</th>\n",
       "      <th>Genotype</th>\n",
       "      <th>MouseID</th>\n",
       "      <th>Aging_Month</th>\n",
       "      <th>Batch_Library</th>\n",
       "      <th>Batch_Harvest</th>\n",
       "      <th>Aging_day</th>\n",
       "    </tr>\n",
       "  </thead>\n",
       "  <tbody>\n",
       "    <tr>\n",
       "      <th>CTR_MGH.CAATTTCGTGGCTAGA</th>\n",
       "      <td>CTR_MGH.CAATTTCGTGGCTAGA</td>\n",
       "      <td>L2</td>\n",
       "      <td>CTR_MGH_0</td>\n",
       "      <td>C1</td>\n",
       "      <td>NMIBC</td>\n",
       "      <td>M-3</td>\n",
       "      <td>2</td>\n",
       "      <td>NaN</td>\n",
       "      <td>NaN</td>\n",
       "      <td>60</td>\n",
       "    </tr>\n",
       "    <tr>\n",
       "      <th>CTR_MGH.ATACTTCGTGCAAGAC</th>\n",
       "      <td>CTR_MGH.ATACTTCGTGCAAGAC</td>\n",
       "      <td>L2</td>\n",
       "      <td>CTR_MGH_0</td>\n",
       "      <td>C1</td>\n",
       "      <td>NMIBC</td>\n",
       "      <td>M-3</td>\n",
       "      <td>2</td>\n",
       "      <td>NaN</td>\n",
       "      <td>NaN</td>\n",
       "      <td>60</td>\n",
       "    </tr>\n",
       "    <tr>\n",
       "      <th>CTR_MGH.TCATCATGTTGGAGAC</th>\n",
       "      <td>CTR_MGH.TCATCATGTTGGAGAC</td>\n",
       "      <td>L2</td>\n",
       "      <td>CTR_MGH_0</td>\n",
       "      <td>C1</td>\n",
       "      <td>NMIBC</td>\n",
       "      <td>M-3</td>\n",
       "      <td>2</td>\n",
       "      <td>NaN</td>\n",
       "      <td>NaN</td>\n",
       "      <td>60</td>\n",
       "    </tr>\n",
       "    <tr>\n",
       "      <th>CTR_MGH.GTTGTCCAGGCTGGAT</th>\n",
       "      <td>CTR_MGH.GTTGTCCAGGCTGGAT</td>\n",
       "      <td>L2</td>\n",
       "      <td>CTR_MGH_0</td>\n",
       "      <td>C1</td>\n",
       "      <td>NMIBC</td>\n",
       "      <td>M-3</td>\n",
       "      <td>2</td>\n",
       "      <td>NaN</td>\n",
       "      <td>NaN</td>\n",
       "      <td>60</td>\n",
       "    </tr>\n",
       "    <tr>\n",
       "      <th>CTR_MGH.TTTCCTCAGACATAAC</th>\n",
       "      <td>CTR_MGH.TTTCCTCAGACATAAC</td>\n",
       "      <td>L2</td>\n",
       "      <td>CTR_MGH_0</td>\n",
       "      <td>C1</td>\n",
       "      <td>NMIBC</td>\n",
       "      <td>M-3</td>\n",
       "      <td>2</td>\n",
       "      <td>NaN</td>\n",
       "      <td>NaN</td>\n",
       "      <td>60</td>\n",
       "    </tr>\n",
       "    <tr>\n",
       "      <th>...</th>\n",
       "      <td>...</td>\n",
       "      <td>...</td>\n",
       "      <td>...</td>\n",
       "      <td>...</td>\n",
       "      <td>...</td>\n",
       "      <td>...</td>\n",
       "      <td>...</td>\n",
       "      <td>...</td>\n",
       "      <td>...</td>\n",
       "      <td>...</td>\n",
       "    </tr>\n",
       "    <tr>\n",
       "      <th>NMI_MGH.GTGAGCCAGAAGCTCG</th>\n",
       "      <td>NMI_MGH.GTGAGCCAGAAGCTCG</td>\n",
       "      <td>L3</td>\n",
       "      <td>NMI_MGH_6</td>\n",
       "      <td>C1</td>\n",
       "      <td>NMIBC</td>\n",
       "      <td>M-12</td>\n",
       "      <td>3</td>\n",
       "      <td>NaN</td>\n",
       "      <td>NaN</td>\n",
       "      <td>98</td>\n",
       "    </tr>\n",
       "    <tr>\n",
       "      <th>NMI_MGH.GGGAGATGTTCTATCT</th>\n",
       "      <td>NMI_MGH.GGGAGATGTTCTATCT</td>\n",
       "      <td>L3</td>\n",
       "      <td>NMI_MGH_6</td>\n",
       "      <td>C1</td>\n",
       "      <td>NMIBC</td>\n",
       "      <td>M-12</td>\n",
       "      <td>3</td>\n",
       "      <td>NaN</td>\n",
       "      <td>NaN</td>\n",
       "      <td>98</td>\n",
       "    </tr>\n",
       "    <tr>\n",
       "      <th>NMI_MGH.CATGCGGGTGAGCTCC</th>\n",
       "      <td>NMI_MGH.CATGCGGGTGAGCTCC</td>\n",
       "      <td>L3</td>\n",
       "      <td>NMI_MGH_6</td>\n",
       "      <td>C1</td>\n",
       "      <td>NMIBC</td>\n",
       "      <td>M-12</td>\n",
       "      <td>3</td>\n",
       "      <td>NaN</td>\n",
       "      <td>NaN</td>\n",
       "      <td>98</td>\n",
       "    </tr>\n",
       "    <tr>\n",
       "      <th>NMI_MGH.GTCCCATAGTATAACG</th>\n",
       "      <td>NMI_MGH.GTCCCATAGTATAACG</td>\n",
       "      <td>L3</td>\n",
       "      <td>NMI_MGH_6</td>\n",
       "      <td>C1</td>\n",
       "      <td>NMIBC</td>\n",
       "      <td>M-12</td>\n",
       "      <td>3</td>\n",
       "      <td>NaN</td>\n",
       "      <td>NaN</td>\n",
       "      <td>98</td>\n",
       "    </tr>\n",
       "    <tr>\n",
       "      <th>NMI_MGH.ACCAACACAACCTATG</th>\n",
       "      <td>NMI_MGH.ACCAACACAACCTATG</td>\n",
       "      <td>L3</td>\n",
       "      <td>NMI_MGH_6</td>\n",
       "      <td>C1</td>\n",
       "      <td>NMIBC</td>\n",
       "      <td>M-12</td>\n",
       "      <td>3</td>\n",
       "      <td>NaN</td>\n",
       "      <td>NaN</td>\n",
       "      <td>98</td>\n",
       "    </tr>\n",
       "  </tbody>\n",
       "</table>\n",
       "<p>25809 rows × 10 columns</p>\n",
       "</div>"
      ],
      "text/plain": [
       "                                            cellBC X10x_Lane      Tumor  \\\n",
       "CTR_MGH.CAATTTCGTGGCTAGA  CTR_MGH.CAATTTCGTGGCTAGA        L2  CTR_MGH_0   \n",
       "CTR_MGH.ATACTTCGTGCAAGAC  CTR_MGH.ATACTTCGTGCAAGAC        L2  CTR_MGH_0   \n",
       "CTR_MGH.TCATCATGTTGGAGAC  CTR_MGH.TCATCATGTTGGAGAC        L2  CTR_MGH_0   \n",
       "CTR_MGH.GTTGTCCAGGCTGGAT  CTR_MGH.GTTGTCCAGGCTGGAT        L2  CTR_MGH_0   \n",
       "CTR_MGH.TTTCCTCAGACATAAC  CTR_MGH.TTTCCTCAGACATAAC        L2  CTR_MGH_0   \n",
       "...                                            ...       ...        ...   \n",
       "NMI_MGH.GTGAGCCAGAAGCTCG  NMI_MGH.GTGAGCCAGAAGCTCG        L3  NMI_MGH_6   \n",
       "NMI_MGH.GGGAGATGTTCTATCT  NMI_MGH.GGGAGATGTTCTATCT        L3  NMI_MGH_6   \n",
       "NMI_MGH.CATGCGGGTGAGCTCC  NMI_MGH.CATGCGGGTGAGCTCC        L3  NMI_MGH_6   \n",
       "NMI_MGH.GTCCCATAGTATAACG  NMI_MGH.GTCCCATAGTATAACG        L3  NMI_MGH_6   \n",
       "NMI_MGH.ACCAACACAACCTATG  NMI_MGH.ACCAACACAACCTATG        L3  NMI_MGH_6   \n",
       "\n",
       "                         Cell_Clone Genotype MouseID  Aging_Month  \\\n",
       "CTR_MGH.CAATTTCGTGGCTAGA         C1    NMIBC     M-3            2   \n",
       "CTR_MGH.ATACTTCGTGCAAGAC         C1    NMIBC     M-3            2   \n",
       "CTR_MGH.TCATCATGTTGGAGAC         C1    NMIBC     M-3            2   \n",
       "CTR_MGH.GTTGTCCAGGCTGGAT         C1    NMIBC     M-3            2   \n",
       "CTR_MGH.TTTCCTCAGACATAAC         C1    NMIBC     M-3            2   \n",
       "...                             ...      ...     ...          ...   \n",
       "NMI_MGH.GTGAGCCAGAAGCTCG         C1    NMIBC    M-12            3   \n",
       "NMI_MGH.GGGAGATGTTCTATCT         C1    NMIBC    M-12            3   \n",
       "NMI_MGH.CATGCGGGTGAGCTCC         C1    NMIBC    M-12            3   \n",
       "NMI_MGH.GTCCCATAGTATAACG         C1    NMIBC    M-12            3   \n",
       "NMI_MGH.ACCAACACAACCTATG         C1    NMIBC    M-12            3   \n",
       "\n",
       "                          Batch_Library  Batch_Harvest  Aging_day  \n",
       "CTR_MGH.CAATTTCGTGGCTAGA            NaN            NaN         60  \n",
       "CTR_MGH.ATACTTCGTGCAAGAC            NaN            NaN         60  \n",
       "CTR_MGH.TCATCATGTTGGAGAC            NaN            NaN         60  \n",
       "CTR_MGH.GTTGTCCAGGCTGGAT            NaN            NaN         60  \n",
       "CTR_MGH.TTTCCTCAGACATAAC            NaN            NaN         60  \n",
       "...                                 ...            ...        ...  \n",
       "NMI_MGH.GTGAGCCAGAAGCTCG            NaN            NaN         98  \n",
       "NMI_MGH.GGGAGATGTTCTATCT            NaN            NaN         98  \n",
       "NMI_MGH.CATGCGGGTGAGCTCC            NaN            NaN         98  \n",
       "NMI_MGH.GTCCCATAGTATAACG            NaN            NaN         98  \n",
       "NMI_MGH.ACCAACACAACCTATG            NaN            NaN         98  \n",
       "\n",
       "[25809 rows x 10 columns]"
      ]
     },
     "execution_count": 10,
     "metadata": {},
     "output_type": "execute_result"
    }
   ],
   "source": [
    "meta"
   ]
  },
  {
   "cell_type": "code",
   "execution_count": 11,
   "metadata": {
    "collapsed": true,
    "jupyter": {
     "outputs_hidden": true
    }
   },
   "outputs": [
    {
     "name": "stderr",
     "output_type": "stream",
     "text": [
      "100%|██████████| 1/1 [00:00<00:00, 149.55it/s]\n"
     ]
    },
    {
     "name": "stdout",
     "output_type": "stream",
     "text": [
      "Dropping the following intBCs due to lack of diversity with threshold 0.98: ['CTTCTGTCCTGCA_r3', 'CCCGAACATTTCC_r3', 'TCTCCTAATTGAA_r3', 'CATGGTTGAGCAT_r1', 'CATGGTTGAGCAT_r3', 'ACAGCGCCTGTAT_r3', 'ACAGGGTATCAGT_r3', 'ACGCTCTCTGGAC_r2', 'ACGCTCTCTGGAC_r3', 'CGTGTGGCGAGCA_r1', 'TGTGTCGCATCTG_r2', 'TGTGTCGCATCTG_r3', 'GGCGAATTTAATC_r1', 'GGCGAATTTAATC_r3', 'TATGACGGTAGCG_r1', 'TATGACGGTAGCG_r2', 'TCTGTCTATTAAC_r1', 'TCTGTCTATTAAC_r2', 'TCTGTCTATTAAC_r3', 'GGCCAATGGATGA_r1']\n"
     ]
    },
    {
     "name": "stderr",
     "output_type": "stream",
     "text": [
      "Processing characters: 100%|██████████| 43/43 [00:00<00:00, 23696.63it/s]\n",
      "100%|██████████| 1/1 [00:00<00:00, 82.27it/s]\n"
     ]
    },
    {
     "name": "stdout",
     "output_type": "stream",
     "text": [
      "Dropping the following intBCs due to lack of diversity with threshold 0.98: ['GAGTGGATATGGG_r1', 'GAGTGGATATGGG_r2', 'GAGTGGATATGGG_r3', 'TCTGAGTCCTTAG_r1', 'TCTGAGTCCTTAG_r2', 'TATGCCATGGCGA_r2', 'TATGCCATGGCGA_r3']\n"
     ]
    },
    {
     "name": "stderr",
     "output_type": "stream",
     "text": [
      "Processing characters: 100%|██████████| 14/14 [00:00<00:00, 477.93it/s]\n",
      "100%|██████████| 1/1 [00:00<00:00, 76.78it/s]\n"
     ]
    },
    {
     "name": "stdout",
     "output_type": "stream",
     "text": [
      "Dropping the following intBCs due to lack of diversity with threshold 0.98: ['AACGTTCCGGGGT_r1', 'AACGTTCCGGGGT_r2', 'AACGTTCCGGGGT_r3', 'ACTTATTCGCACC_r2', 'ACTTATTCGCACC_r3', 'AGTGCGCCTTCTT_r1', 'AGTGCGCCTTCTT_r2', 'AGTGCGCCTTCTT_r3', 'TTAGTCACGCGGT_r1', 'TTAGTCACGCGGT_r2', 'TTAGTCACGCGGT_r3', 'TCTGAGCGGGACA_r2', 'TCTGAGCGGGACA_r3', 'CTACTACCTAGTT_r1', 'CATGAAGTCCATC_r1', 'TCCGATTCCTCTT_r2', 'TCCGATTCCTCTT_r3', 'ATATTTCCCACTT_r1', 'GAAGTGTCACGCT_r1', 'GAAGTGTCACGCT_r3', 'GCAGCTCTGGATC_r2', 'GTTGTGGCTCTGA_r3', 'GCCGCCCTCCTCC_r1', 'GCCGCCCTCCTCC_r2', 'GCCGCCCTCCTCC_r3', 'CATGATGCACTTT_r1', 'CATGATGCACTTT_r2', 'CATGATGCACTTT_r3', 'CTCGACCCGCATA_r3']\n"
     ]
    },
    {
     "name": "stderr",
     "output_type": "stream",
     "text": [
      "Processing characters: 100%|██████████| 31/31 [00:00<00:00, 3755.51it/s]\n",
      "100%|██████████| 1/1 [00:00<00:00, 82.76it/s]\n"
     ]
    },
    {
     "name": "stdout",
     "output_type": "stream",
     "text": [
      "Dropping the following intBCs due to lack of diversity with threshold 0.98: ['CTAGTCCTTAGTA_r1', 'CTAGTCCTTAGTA_r3', 'CGTGGTGCGTTAC_r1', 'CGTGGTGCGTTAC_r3', 'CCCGTGTGTGTCA_r3', 'CGGTGGGCGAATA_r3', 'CAGTGATACACTG_r1', 'CCCGTCCTTGTTC_r1', 'CCCGTCCTTGTTC_r3', 'GAAAATCGGCCAG_r1', 'GAAAATCGGCCAG_r2', 'GAAAATCGGCCAG_r3', 'AATCAGTTTGTTT_r1', 'ACACTTTTCGGCA_r1', 'ACCGTATGCGCGG_r2', 'ACCGTATGCGCGG_r3', 'GACCTCTGGTCTC_r1', 'GACCTCTGGTCTC_r3', 'CTCCATTATGACC_r1', 'CTCGATGTAATAT_r1', 'CTTGTTCTTGCTC_r1', 'CTTGTTCTTGCTC_r3', 'ATCGATTGGGCCC_r1', 'GAGCCCATTAGCA_r1', 'GAGCCCATTAGCA_r3', 'GCCTTGGTTACTT_r2', 'GCCTTGGTTACTT_r3', 'GCGGACCGGGCTC_r1', 'GCGGACCGGGCTC_r3', 'TCCGCTTCGTTTC_r1', 'TCTGTGACATGAA_r1', 'TCTGTGACATGAA_r3', 'TTCAAAGTTCTGG_r3', 'TTCGCGGAGTTCA_r1', 'TTCGGCGTGCCCT_r1', 'TTCGGCGTGCCCT_r3', 'AGTGTAGGGGATG_r1', 'AGTGTAGGGGATG_r3', 'TTCGTATTCGATA_r1', 'TTCGTATTCGATA_r2', 'TTTCGGTAGGTTC_r1', 'TTTCGGTAGGTTC_r2', 'TTTCGGTAGGTTC_r3', 'TGCGTGACCACGG_r1', 'TGCGTGACCACGG_r2', 'GACGCGGGGAAAT_r1', 'GACGCGGGGAAAT_r2', 'GACGCGGGGAAAT_r3', 'TTATAGTCGCGAC_r1', 'TTATAGTCGCGAC_r2', 'CGCGGTTTCAACT_r1', 'CGCGGTTTCAACT_r2', 'GCCATGCTTGAAA_r1', 'GCCATGCTTGAAA_r2', 'GCCATGCTTGAAA_r3', 'GGGGGAAGATAGG_r1', 'GGGGGAAGATAGG_r2', 'GCTAGTTAAGGAC_r1', 'GCTAGTTAAGGAC_r2', 'CTTGGTCAGTCAC_r1', 'CTTGGTCAGTCAC_r2', 'GACGAGTAGGCCC_r1', 'GACGAGTAGGCCC_r2', 'AAATTGTTCGGCC_r1', 'AAATTGTTCGGCC_r2']\n"
     ]
    },
    {
     "name": "stderr",
     "output_type": "stream",
     "text": [
      "Processing characters: 100%|██████████| 43/43 [00:00<00:00, 14360.62it/s]\n",
      "100%|██████████| 1/1 [00:00<00:00, 189.56it/s]\n"
     ]
    },
    {
     "name": "stdout",
     "output_type": "stream",
     "text": [
      "Dropping the following intBCs due to lack of diversity with threshold 0.98: ['AGGTTACTCAACT_r2', 'AGGTTACTCAACT_r3', 'CCTAGTACTCCTC_r2', 'CCTAGTACTCCTC_r3', 'GGGAATCAGATTC_r1', 'GGGAATCAGATTC_r2', 'GGGAATCAGATTC_r3']\n"
     ]
    },
    {
     "name": "stderr",
     "output_type": "stream",
     "text": [
      "Processing characters: 100%|██████████| 11/11 [00:00<00:00, 3851.20it/s]\n",
      "100%|██████████| 1/1 [00:00<00:00, 177.09it/s]\n"
     ]
    },
    {
     "name": "stdout",
     "output_type": "stream",
     "text": [
      "Dropping the following intBCs due to lack of diversity with threshold 0.98: ['GTCCTGCACTAGG_r2', 'GTCCTGCACTAGG_r3', 'TTCGAGGAGTGCT_r1', 'TTCGAGGAGTGCT_r2', 'TTCGAGGAGTGCT_r3', 'CGTCAGGAGTCGA_r1', 'CGTCAGGAGTCGA_r2', 'CGTCAGGAGTCGA_r3', 'CAAAGTCGACTCT_r1', 'CAAAGTCGACTCT_r2', 'CAAAGTCGACTCT_r3', 'TGAGTACTTATCC_r1', 'TGAGTACTTATCC_r2', 'TGAGTACTTATCC_r3', 'TTTGCGTAGCTGC_r1', 'TTTGCGTAGCTGC_r2', 'TTTGCGTAGCTGC_r3', 'TTGTCGTCATCAC_r1', 'TTGTCGTCATCAC_r2', 'TTGTCGTCATCAC_r3']\n"
     ]
    },
    {
     "name": "stderr",
     "output_type": "stream",
     "text": [
      "Processing characters: 100%|██████████| 16/16 [00:00<00:00, 16802.42it/s]\n",
      "100%|██████████| 1/1 [00:00<00:00, 199.18it/s]\n"
     ]
    },
    {
     "name": "stdout",
     "output_type": "stream",
     "text": [
      "Dropping the following intBCs due to lack of diversity with threshold 0.98: ['TTGGCTTGGCCAT_r1', 'TTGGCTTGGCCAT_r2', 'GGGCGGATGGCGT_r1', 'GGGCGGATGGCGT_r2', 'GGGCGGATGGCGT_r3', 'CTGGGAAACAATG_r1', 'CTGGGAAACAATG_r2', 'CTGGGAAACAATG_r3', 'GTGATTGACCGGG_r1', 'GTGATTGACCGGG_r2', 'GTGATTGACCGGG_r3', 'TATGCGGCGTTCA_r2', 'TATGCGGCGTTCA_r3', 'CCTATTCCGGTTA_r1', 'CCTATTCCGGTTA_r2', 'CCTATTCCGGTTA_r3', 'CGCGCGGACGGCT_r1']\n"
     ]
    },
    {
     "name": "stderr",
     "output_type": "stream",
     "text": [
      "Processing characters: 100%|██████████| 7/7 [00:00<00:00, 12809.83it/s]\n",
      "100%|██████████| 1/1 [00:00<00:00, 139.20it/s]\n"
     ]
    },
    {
     "name": "stdout",
     "output_type": "stream",
     "text": [
      "Dropping the following intBCs due to lack of diversity with threshold 0.98: ['GCCTCCGTCTTTG_r1', 'GCCTCCGTCTTTG_r3', 'CTCCTAATACGTG_r3', 'CGCGTATAGTCGC_r1', 'CGCGTATAGTCGC_r3', 'CTGGGTTGCATCT_r1', 'CTAATAACATTCT_r3', 'GCTCAGCCCTACA_r1', 'GCTCAGCCCTACA_r2', 'GCTCAGCCCTACA_r3', 'CTTGCATCGCTCT_r3', 'AGGTGTGGTACGT_r1', 'AGGTGTGGTACGT_r3', 'ATAGTTATGATGT_r3', 'CAGGTTAATCCAT_r1', 'TTGGTGTGATATA_r3', 'TATAGACCGCCGT_r2', 'TGGCTTGAAGTGT_r1', 'CACGTGCATGGTG_r1', 'TCCGTGGACGCGT_r1', 'TCCGTGGACGCGT_r3', 'GTTTGGTGTGCAG_r1', 'ATGAGGTTACTAT_r1', 'CTAGACTACCTGG_r1', 'CTAGACTACCTGG_r2', 'CAAACTGGGTTGC_r1', 'CAAACTGGGTTGC_r3', 'CCTGGCAGCAACA_r1', 'GTCTGCTTCGACG_r1', 'GTCTGCTTCGACG_r2', 'TCGGGTGTTTAAT_r1']\n"
     ]
    },
    {
     "name": "stderr",
     "output_type": "stream",
     "text": [
      "Processing characters: 100%|██████████| 56/56 [00:00<00:00, 49148.57it/s]\n",
      "100%|██████████| 1/1 [00:00<00:00, 145.89it/s]\n"
     ]
    },
    {
     "name": "stdout",
     "output_type": "stream",
     "text": [
      "Dropping the following intBCs due to lack of diversity with threshold 0.98: ['CGTGACCTGTGCC_r1', 'CGTGACCTGTGCC_r3', 'ATTGGCAACTAGG_r1', 'ATTGGCAACTAGG_r2', 'CTACTCAGGAGCC_r1', 'CTACTCAGGAGCC_r2', 'CTACTCAGGAGCC_r3', 'GCCGGTACGCAAG_r1', 'GCCGGTACGCAAG_r2', 'GCCGGTACGCAAG_r3', 'CTGGTGCTTTTCC_r2', 'CTGGTGCTTTTCC_r3', 'GCACGCTGGCTAG_r1', 'GCACGCTGGCTAG_r2', 'TCTCTATCGATTT_r2', 'TGGGGCAGCCCCG_r2', 'TGGGGCAGCCCCG_r3', 'TTAGTTCCTTGTC_r1', 'TTAGTTCCTTGTC_r2', 'TTAGTTCCTTGTC_r3', 'TTGGTTAGTATGC_r2', 'TTGGTTAGTATGC_r3', 'TTGTCTGCGTCAT_r2', 'TTGTCTGCGTCAT_r3', 'CATGCGGTGCGGC_r1', 'CATGCGGTGCGGC_r3', 'GATGCGTAGCTAT_r1', 'GATGCGTAGCTAT_r3', 'GCATAGCAAGGGT_r1', 'GAGGTATCCTTAC_r1', 'GAGGTATCCTTAC_r2', 'GAGGTATCCTTAC_r3']\n"
     ]
    },
    {
     "name": "stderr",
     "output_type": "stream",
     "text": [
      "Processing characters: 100%|██████████| 19/19 [00:00<00:00, 55689.57it/s]\n",
      "100%|██████████| 1/1 [00:00<00:00, 232.71it/s]\n"
     ]
    },
    {
     "name": "stdout",
     "output_type": "stream",
     "text": [
      "Dropping the following intBCs due to lack of diversity with threshold 0.98: ['GGCCACACGGAAA_r1', 'GGCCACACGGAAA_r2', 'GGCCACACGGAAA_r3', 'GCTGTCAATCCCT_r1', 'ACACTGTTGTTTA_r1', 'ACACTGTTGTTTA_r3']\n"
     ]
    },
    {
     "name": "stderr",
     "output_type": "stream",
     "text": [
      "Processing characters: 100%|██████████| 18/18 [00:00<00:00, 68509.50it/s]\n",
      "100%|██████████| 1/1 [00:00<00:00, 210.98it/s]\n"
     ]
    },
    {
     "name": "stdout",
     "output_type": "stream",
     "text": [
      "Dropping the following intBCs due to lack of diversity with threshold 0.98: ['CAGTGCCGTGGGC_r1', 'CAGTGCCGTGGGC_r2', 'CACGATACCAAGA_r1', 'CACGATACCAAGA_r3', 'TGTCCGCGCGCCT_r3', 'TGGGTGCGGCCGA_r2', 'TGGGTGCGGCCGA_r3', 'AGTGCTCCAATGT_r3', 'ATTGCTTCTAATG_r1']\n"
     ]
    },
    {
     "name": "stderr",
     "output_type": "stream",
     "text": [
      "Processing characters: 100%|██████████| 15/15 [00:00<00:00, 33934.50it/s]\n",
      "100%|██████████| 1/1 [00:00<00:00, 46.55it/s]\n"
     ]
    },
    {
     "name": "stdout",
     "output_type": "stream",
     "text": [
      "Dropping the following intBCs due to lack of diversity with threshold 0.98: ['CATCCCTCTTGAA_r1', 'CATCCCTCTTGAA_r2', 'CATCCCTCTTGAA_r3', 'CCGGTGGCTCTTC_r1', 'CCGGTGGCTCTTC_r2', 'CCGGTGGCTCTTC_r3', 'CGTGTCAGGTCCG_r1', 'CGTGTCAGGTCCG_r2', 'CGTGTCAGGTCCG_r3', 'TCCGAGTTCGCTC_r1', 'TCCGAGTTCGCTC_r2', 'TCCGAGTTCGCTC_r3', 'TCTAATGTTTCTT_r1', 'TCTAATGTTTCTT_r2', 'TCTAATGTTTCTT_r3', 'TGTGCCGCACTCC_r1']\n"
     ]
    },
    {
     "name": "stderr",
     "output_type": "stream",
     "text": [
      "Processing characters: 100%|██████████| 11/11 [00:00<00:00, 766.17it/s]\n",
      "100%|██████████| 1/1 [00:00<00:00, 190.29it/s]\n"
     ]
    },
    {
     "name": "stdout",
     "output_type": "stream",
     "text": [
      "Dropping the following intBCs due to lack of diversity with threshold 0.98: ['TACGCTCCCACCT_r1', 'TACGCTCCCACCT_r2', 'TACGCTCCCACCT_r3', 'GTCGACGAGTTAG_r1', 'GTCGACGAGTTAG_r2', 'GTCGACGAGTTAG_r3', 'TAGAGAGGGGGTG_r1', 'TAGAGAGGGGGTG_r2', 'TAGAGAGGGGGTG_r3', 'AAGCAGTTGCGCT_r1', 'AAGCAGTTGCGCT_r2', 'AAGCAGTTGCGCT_r3', 'AACGTTGAGCGTT_r1', 'AACGTTGAGCGTT_r2', 'AACGTTGAGCGTT_r3', 'TCTGTCCCGTTTT_r1', 'TCTGTCCCGTTTT_r2', 'TCTGTCCCGTTTT_r3', 'GCGGTTGGTCGGG_r1', 'GCGGTTGGTCGGG_r2', 'GCGGTTGGTCGGG_r3', 'TTCGTAGGGCCTC_r1', 'TTCGTAGGGCCTC_r2', 'TTCGTAGGGCCTC_r3']\n"
     ]
    },
    {
     "name": "stderr",
     "output_type": "stream",
     "text": [
      "Processing characters: 0it [00:00, ?it/s]\n"
     ]
    },
    {
     "name": "stdout",
     "output_type": "stream",
     "text": [
      "Dropping the following intBCs due to lack of diversity with threshold 1.0: []\n"
     ]
    },
    {
     "name": "stderr",
     "output_type": "stream",
     "text": [
      "Processing characters: 100%|██████████| 24/24 [00:00<00:00, 53176.60it/s]\n",
      "100%|██████████| 1/1 [00:00<00:00, 139.43it/s]\n"
     ]
    },
    {
     "name": "stdout",
     "output_type": "stream",
     "text": [
      "Dropping the following intBCs due to lack of diversity with threshold 0.98: ['AGTGGGAGGAAGG_r3', 'ATTGGACATTTGG_r3', 'GACTAGTTAAGTT_r2', 'GACTAGTTAAGTT_r3', 'TGTAGGTGGTACG_r2', 'TGTAGGTGGTACG_r3', 'TCTCGTACGCTCT_r2', 'TCTCGTACGCTCT_r3', 'CGAGTTGTTCCGC_r1', 'CGAGTTGTTCCGC_r2', 'CGAGTTGTTCCGC_r3', 'CACAAGGAGAATC_r1', 'CACAAGGAGAATC_r2', 'CACAAGGAGAATC_r3', 'GGTGTTAACTATC_r1', 'GGTGTTAACTATC_r2', 'GGTGTTAACTATC_r3', 'GTGGGTGTACTCA_r1', 'GTGGGTGTACTCA_r2', 'GTGGGTGTACTCA_r3', 'CTCGGTCCGGCTT_r1', 'CTCGGTCCGGCTT_r2', 'CTCGGTCCGGCTT_r3', 'TCTACAGTGGTCT_r1', 'TCTACAGTGGTCT_r2', 'TCTACAGTGGTCT_r3']\n"
     ]
    },
    {
     "name": "stderr",
     "output_type": "stream",
     "text": [
      "Processing characters: 100%|██████████| 10/10 [00:00<00:00, 6571.05it/s]\n",
      "100%|██████████| 1/1 [00:00<00:00, 232.55it/s]\n"
     ]
    },
    {
     "name": "stdout",
     "output_type": "stream",
     "text": [
      "Dropping the following intBCs due to lack of diversity with threshold 0.98: ['TCACAATTGGAGT_r1', 'TCACAATTGGAGT_r2', 'TCACAATTGGAGT_r3', 'ATCATTGGTGCTC_r1', 'ATCATTGGTGCTC_r2', 'ATCATTGGTGCTC_r3', 'ACTATCGTACCTT_r1', 'ACTATCGTACCTT_r2', 'ACTATCGTACCTT_r3']\n"
     ]
    },
    {
     "name": "stderr",
     "output_type": "stream",
     "text": [
      "Processing characters: 0it [00:00, ?it/s]\n"
     ]
    },
    {
     "name": "stdout",
     "output_type": "stream",
     "text": [
      "Dropping the following intBCs due to lack of diversity with threshold 1.0: []\n"
     ]
    },
    {
     "name": "stderr",
     "output_type": "stream",
     "text": [
      "Processing characters: 100%|██████████| 9/9 [00:00<00:00, 44150.57it/s]\n",
      "100%|██████████| 1/1 [00:00<00:00, 260.53it/s]\n"
     ]
    },
    {
     "name": "stdout",
     "output_type": "stream",
     "text": [
      "Dropping the following intBCs due to lack of diversity with threshold 0.98: ['ATACTGAAGATGG_r1', 'ATACTGAAGATGG_r2', 'ATACTGAAGATGG_r3', 'ATAGATACCGTTG_r1', 'ATAGATACCGTTG_r2', 'ATAGATACCGTTG_r3', 'TCGGCGCATGCTC_r1', 'TCGGCGCATGCTC_r2', 'TCGGCGCATGCTC_r3']\n"
     ]
    },
    {
     "name": "stderr",
     "output_type": "stream",
     "text": [
      "Processing characters: 0it [00:00, ?it/s]\n"
     ]
    },
    {
     "name": "stdout",
     "output_type": "stream",
     "text": [
      "Dropping the following intBCs due to lack of diversity with threshold 1.0: []\n"
     ]
    },
    {
     "name": "stderr",
     "output_type": "stream",
     "text": [
      "Processing characters: 100%|██████████| 9/9 [00:00<00:00, 44885.54it/s]\n",
      "100%|██████████| 1/1 [00:00<00:00, 237.14it/s]\n"
     ]
    },
    {
     "name": "stdout",
     "output_type": "stream",
     "text": [
      "Dropping the following intBCs due to lack of diversity with threshold 0.98: []\n"
     ]
    },
    {
     "name": "stderr",
     "output_type": "stream",
     "text": [
      "Processing characters: 100%|██████████| 9/9 [00:00<00:00, 31378.83it/s]\n",
      "100%|██████████| 1/1 [00:00<00:00, 248.24it/s]\n"
     ]
    },
    {
     "name": "stdout",
     "output_type": "stream",
     "text": [
      "Dropping the following intBCs due to lack of diversity with threshold 0.98: ['TCTGGCTCGACTT_r1', 'TCTGGCTCGACTT_r2']\n"
     ]
    },
    {
     "name": "stderr",
     "output_type": "stream",
     "text": [
      "Processing characters: 100%|██████████| 4/4 [00:00<00:00, 32640.50it/s]\n",
      "100%|██████████| 1/1 [00:00<00:00, 244.97it/s]\n"
     ]
    },
    {
     "name": "stdout",
     "output_type": "stream",
     "text": [
      "Dropping the following intBCs due to lack of diversity with threshold 0.98: ['CGCGGCATACATC_r1', 'CGCGGCATACATC_r2', 'CGCGGCATACATC_r3', 'CGAGCCGATTGAC_r1', 'CGAGCCGATTGAC_r2', 'CGAGCCGATTGAC_r3']\n"
     ]
    },
    {
     "name": "stderr",
     "output_type": "stream",
     "text": [
      "Processing characters: 0it [00:00, ?it/s]\n"
     ]
    },
    {
     "name": "stdout",
     "output_type": "stream",
     "text": [
      "Dropping the following intBCs due to lack of diversity with threshold 1.0: []\n"
     ]
    },
    {
     "name": "stderr",
     "output_type": "stream",
     "text": [
      "Processing characters: 100%|██████████| 6/6 [00:00<00:00, 42366.71it/s]\n",
      "100%|██████████| 1/1 [00:00<00:00, 214.17it/s]\n"
     ]
    },
    {
     "name": "stdout",
     "output_type": "stream",
     "text": [
      "Dropping the following intBCs due to lack of diversity with threshold 0.98: ['TACCTCAAAGTTT_r1', 'TACCTCAAAGTTT_r2', 'TACCTCAAAGTTT_r3', 'AGGTAGCGTCCCT_r1', 'AGGTAGCGTCCCT_r2', 'AGGTAGCGTCCCT_r3', 'TGTGGTCTTACTT_r1', 'TGTGGTCTTACTT_r2', 'TGTGGTCTTACTT_r3', 'ACTCTATTTCCTA_r1', 'ACTCTATTTCCTA_r2', 'ACTCTATTTCCTA_r3', 'CTCGTCACGTTCT_r1']\n"
     ]
    },
    {
     "name": "stderr",
     "output_type": "stream",
     "text": [
      "Processing characters: 100%|██████████| 2/2 [00:00<00:00, 24745.16it/s]\n",
      "100%|██████████| 1/1 [00:00<00:00, 237.97it/s]\n"
     ]
    },
    {
     "name": "stdout",
     "output_type": "stream",
     "text": [
      "Dropping the following intBCs due to lack of diversity with threshold 0.98: ['AATGTTTCATCAT_r1', 'AATGTTTCATCAT_r2', 'AATGTTTCATCAT_r3', 'GCCGTTCCCCCGT_r1', 'GCCGTTCCCCCGT_r2', 'GCCGTTCCCCCGT_r3', 'CCTCAAGACCCTC_r1', 'CCTCAAGACCCTC_r2', 'CCTCAAGACCCTC_r3']\n"
     ]
    },
    {
     "name": "stderr",
     "output_type": "stream",
     "text": [
      "Processing characters: 0it [00:00, ?it/s]\n"
     ]
    },
    {
     "name": "stdout",
     "output_type": "stream",
     "text": [
      "Dropping the following intBCs due to lack of diversity with threshold 1.0: []\n"
     ]
    },
    {
     "name": "stderr",
     "output_type": "stream",
     "text": [
      "Processing characters: 100%|██████████| 9/9 [00:00<00:00, 31274.84it/s]\n",
      "100%|██████████| 1/1 [00:00<00:00, 297.28it/s]\n"
     ]
    },
    {
     "name": "stdout",
     "output_type": "stream",
     "text": [
      "Dropping the following intBCs due to lack of diversity with threshold 0.98: ['TGGGTGTCCCTTA_r2']\n"
     ]
    },
    {
     "name": "stderr",
     "output_type": "stream",
     "text": [
      "Processing characters: 100%|██████████| 2/2 [00:00<00:00, 24244.53it/s]\n",
      "100%|██████████| 1/1 [00:00<00:00, 266.68it/s]\n"
     ]
    },
    {
     "name": "stdout",
     "output_type": "stream",
     "text": [
      "Dropping the following intBCs due to lack of diversity with threshold 0.98: ['TTCCTGGCTCAAT_r1', 'TTCCTGGCTCAAT_r3']\n"
     ]
    },
    {
     "name": "stderr",
     "output_type": "stream",
     "text": [
      "Processing characters: 100%|██████████| 1/1 [00:00<00:00, 14926.35it/s]\n",
      "100%|██████████| 1/1 [00:00<00:00, 274.28it/s]\n"
     ]
    },
    {
     "name": "stdout",
     "output_type": "stream",
     "text": [
      "Dropping the following intBCs due to lack of diversity with threshold 0.98: ['TCTGTCGCGTTTC_r1', 'TCTGTCGCGTTTC_r2', 'TCTGTCGCGTTTC_r3']\n"
     ]
    },
    {
     "name": "stderr",
     "output_type": "stream",
     "text": [
      "Processing characters: 100%|██████████| 3/3 [00:00<00:00, 26434.69it/s]\n",
      "100%|██████████| 1/1 [00:00<00:00, 232.93it/s]\n"
     ]
    },
    {
     "name": "stdout",
     "output_type": "stream",
     "text": [
      "Dropping the following intBCs due to lack of diversity with threshold 0.98: ['CAAGCTCTGCCAA_r1', 'CAAGCTCTGCCAA_r2', 'CAAGCTCTGCCAA_r3', 'CGGGCTTAATCTT_r1', 'CGGGCTTAATCTT_r2', 'CGGGCTTAATCTT_r3']\n"
     ]
    },
    {
     "name": "stderr",
     "output_type": "stream",
     "text": [
      "Processing characters: 0it [00:00, ?it/s]\n"
     ]
    },
    {
     "name": "stdout",
     "output_type": "stream",
     "text": [
      "Dropping the following intBCs due to lack of diversity with threshold 1.0: []\n"
     ]
    },
    {
     "name": "stderr",
     "output_type": "stream",
     "text": [
      "Processing characters: 100%|██████████| 6/6 [00:00<00:00, 21112.27it/s]\n",
      "100%|██████████| 1/1 [00:00<00:00, 257.92it/s]\n"
     ]
    },
    {
     "name": "stdout",
     "output_type": "stream",
     "text": [
      "Dropping the following intBCs due to lack of diversity with threshold 0.98: ['GTTGCTTAGACGG_r1', 'GTTGCTTAGACGG_r2', 'GTTGCTTAGACGG_r3', 'AGGACAAGCATAG_r1', 'AGGACAAGCATAG_r2', 'AGGACAAGCATAG_r3']\n"
     ]
    },
    {
     "name": "stderr",
     "output_type": "stream",
     "text": [
      "Processing characters: 0it [00:00, ?it/s]\n"
     ]
    },
    {
     "name": "stdout",
     "output_type": "stream",
     "text": [
      "Dropping the following intBCs due to lack of diversity with threshold 1.0: []\n"
     ]
    },
    {
     "name": "stderr",
     "output_type": "stream",
     "text": [
      "Processing characters: 100%|██████████| 6/6 [00:00<00:00, 21864.31it/s]\n",
      "100%|██████████| 1/1 [00:00<00:00, 221.69it/s]\n"
     ]
    },
    {
     "name": "stdout",
     "output_type": "stream",
     "text": [
      "Dropping the following intBCs due to lack of diversity with threshold 0.98: ['ATTCACCTTAGTT_r1', 'ATTCACCTTAGTT_r2', 'ATTCACCTTAGTT_r3', 'CTGTTTTATGATT_r1', 'CTGTTTTATGATT_r2', 'CTGTTTTATGATT_r3', 'GACAATTTGCGCA_r1', 'GACAATTTGCGCA_r2', 'GACAATTTGCGCA_r3', 'TCTCCGGACACTT_r1', 'TCTCCGGACACTT_r2', 'TCTCCGGACACTT_r3', 'GGGCTTTGCTTTA_r1', 'GGGCTTTGCTTTA_r2', 'GGGCTTTGCTTTA_r3']\n"
     ]
    },
    {
     "name": "stderr",
     "output_type": "stream",
     "text": [
      "Processing characters: 0it [00:00, ?it/s]\n"
     ]
    },
    {
     "name": "stdout",
     "output_type": "stream",
     "text": [
      "Dropping the following intBCs due to lack of diversity with threshold 1.0: []\n"
     ]
    },
    {
     "name": "stderr",
     "output_type": "stream",
     "text": [
      "Processing characters: 100%|██████████| 15/15 [00:00<00:00, 26434.69it/s]\n",
      "100%|██████████| 1/1 [00:00<00:00, 242.91it/s]\n"
     ]
    },
    {
     "name": "stdout",
     "output_type": "stream",
     "text": [
      "Dropping the following intBCs due to lack of diversity with threshold 0.98: ['AGAGGCTTGGTGC_r1', 'AGAGGCTTGGTGC_r2', 'AGAGGCTTGGTGC_r3', 'GGACAGCTGGGGG_r1', 'GGACAGCTGGGGG_r3', 'TAAAGGGTGGTCT_r1', 'TAAAGGGTGGTCT_r2', 'TAAAGGGTGGTCT_r3']\n"
     ]
    },
    {
     "name": "stderr",
     "output_type": "stream",
     "text": [
      "Processing characters: 100%|██████████| 1/1 [00:00<00:00, 7423.55it/s]\n",
      "100%|██████████| 1/1 [00:00<00:00, 279.96it/s]\n"
     ]
    },
    {
     "name": "stdout",
     "output_type": "stream",
     "text": [
      "Dropping the following intBCs due to lack of diversity with threshold 0.98: []\n"
     ]
    },
    {
     "name": "stderr",
     "output_type": "stream",
     "text": [
      "Processing characters: 100%|██████████| 6/6 [00:00<00:00, 18586.28it/s]\n",
      "100%|██████████| 1/1 [00:00<00:00, 238.29it/s]\n"
     ]
    },
    {
     "name": "stdout",
     "output_type": "stream",
     "text": [
      "Dropping the following intBCs due to lack of diversity with threshold 0.98: ['CCTACCGAGTGGT_r1', 'CCTACCGAGTGGT_r2', 'CCTACCGAGTGGT_r3', 'TTCTAGAATGTAA_r1', 'TTCTAGAATGTAA_r2', 'TTCTAGAATGTAA_r3', 'AGTATTTTCTGTC_r1', 'AGTATTTTCTGTC_r2', 'AGTATTTTCTGTC_r3']\n"
     ]
    },
    {
     "name": "stderr",
     "output_type": "stream",
     "text": [
      "Processing characters: 0it [00:00, ?it/s]\n"
     ]
    },
    {
     "name": "stdout",
     "output_type": "stream",
     "text": [
      "Dropping the following intBCs due to lack of diversity with threshold 1.0: []\n"
     ]
    },
    {
     "name": "stderr",
     "output_type": "stream",
     "text": [
      "Processing characters: 100%|██████████| 9/9 [00:00<00:00, 32099.27it/s]\n",
      "100%|██████████| 1/1 [00:00<00:00, 282.12it/s]\n"
     ]
    },
    {
     "name": "stdout",
     "output_type": "stream",
     "text": [
      "Dropping the following intBCs due to lack of diversity with threshold 0.98: ['TGAGCAGCTAGCG_r1', 'TGAGCAGCTAGCG_r2', 'TGAGCAGCTAGCG_r3', 'GCTTTCCATCTAT_r1', 'GCTTTCCATCTAT_r2', 'GCTTTCCATCTAT_r3']\n"
     ]
    },
    {
     "name": "stderr",
     "output_type": "stream",
     "text": [
      "Processing characters: 0it [00:00, ?it/s]\n"
     ]
    },
    {
     "name": "stdout",
     "output_type": "stream",
     "text": [
      "Dropping the following intBCs due to lack of diversity with threshold 1.0: []\n"
     ]
    },
    {
     "name": "stderr",
     "output_type": "stream",
     "text": [
      "Processing characters: 100%|██████████| 6/6 [00:00<00:00, 29711.72it/s]\n",
      "100%|██████████| 1/1 [00:00<00:00, 239.20it/s]\n"
     ]
    },
    {
     "name": "stdout",
     "output_type": "stream",
     "text": [
      "Dropping the following intBCs due to lack of diversity with threshold 0.98: ['TTTGTTTTCTTTC_r1', 'TTTGTTTTCTTTC_r2', 'TTTGTTTTCTTTC_r3', 'GGCAGTGGATAGG_r1', 'GGCAGTGGATAGG_r2', 'GGCAGTGGATAGG_r3']\n"
     ]
    },
    {
     "name": "stderr",
     "output_type": "stream",
     "text": [
      "Processing characters: 0it [00:00, ?it/s]\n"
     ]
    },
    {
     "name": "stdout",
     "output_type": "stream",
     "text": [
      "Dropping the following intBCs due to lack of diversity with threshold 1.0: []\n"
     ]
    },
    {
     "name": "stderr",
     "output_type": "stream",
     "text": [
      "Processing characters: 100%|██████████| 6/6 [00:00<00:00, 37393.50it/s]\n",
      "100%|██████████| 1/1 [00:00<00:00, 103.46it/s]\n"
     ]
    },
    {
     "name": "stdout",
     "output_type": "stream",
     "text": [
      "Dropping the following intBCs due to lack of diversity with threshold 0.98: ['CCCAGTCTAGTCT_r1', 'CCCAGTCTAGTCT_r2', 'CCCAGTCTAGTCT_r3', 'ATGGTGGTGTATA_r1', 'TATGCCAACTTCT_r1', 'TATGCCAACTTCT_r2', 'TATGCCAACTTCT_r3', 'TCAGTGGATCCTC_r1', 'TTACCGGGGGGCG_r1', 'TTACCGGGGGGCG_r2', 'TTATCCAAGGCGG_r1', 'TTATCCAAGGCGG_r2', 'TTATCCAAGGCGG_r3', 'A_r3', 'AATGATCATTAGG_r3', 'ACCGGATATCATA_r2', 'ATGACTGACTATG_r2', 'ATGACTGACTATG_r3', 'GCCAAAAAAACTA_r1', 'GCCAAAAAAACTA_r2', 'GCCAAAAAAACTA_r3', 'GCCAAAAAAAACT_r1', 'GCCAAAAAAAACT_r2', 'GCCAAAAAAAACT_r3']\n"
     ]
    },
    {
     "name": "stderr",
     "output_type": "stream",
     "text": [
      "Processing characters: 100%|██████████| 15/15 [00:00<00:00, 44306.03it/s]\n",
      "100%|██████████| 1/1 [00:00<00:00, 16.79it/s]\n"
     ]
    },
    {
     "name": "stdout",
     "output_type": "stream",
     "text": [
      "Dropping the following intBCs due to lack of diversity with threshold 0.98: ['AATGGGCTGATGC_r1', 'AATGGGCTGATGC_r2', 'AATGGGCTGATGC_r3', 'ACGCCCTGCTTGC_r1', 'ACGCCCTGCTTGC_r2', 'ACGCCCTGCTTGC_r3', 'CCATCGGGCCGTT_r1', 'CCATCGGGCCGTT_r2', 'CCATCGGGCCGTT_r3', 'CGGTTTTTTGTGT_r1', 'CGGTTTTTTGTGT_r2', 'CGGTTTTTTGTGT_r3', 'GACGGGGGTATCT_r1', 'GACGGGGGTATCT_r2', 'GACGGGGGTATCT_r3', 'GTGGCGTTCAAGA_r1', 'GTGGCGTTCAAGA_r2', 'GTGGCGTTCAAGA_r3', 'TAAATACAGCGTG_r1', 'TAAATACAGCGTG_r2', 'TAAATACAGCGTG_r3', 'TGTAGATTATGGA_r1', 'TGTAGATTATGGA_r2', 'TGTAGATTATGGA_r3', 'GCTCGGCCTTCAC_r1', 'GTGGGGCTCGAGC_r1', 'GTGGGGCTCGAGC_r2', 'GTGGGGCTCGAGC_r3', 'GTTGGAACACTGG_r1', 'TATGTTTCTAACT_r1', 'TATGTTTCTAACT_r2', 'TCCTCTGCGCGAT_r1', 'TCCTCTGCGCGAT_r3', 'TTAATAGCCCGCG_r1', 'TTAATAGCCCGCG_r2', 'TTAATAGCCCGCG_r3', 'TTACAGGCGTGGA_r1', 'TTACAGGCGTGGA_r3', 'TTACAGTGTCTAA_r1', 'TTACAGTGTCTAA_r3', 'CCAGCTAATCTCT_r1', 'CCAGCTAATCTCT_r3', 'CCGTACTACACAC_r2', 'CCGTACTACACAC_r3', 'GCCGTTCCTTTTT_r1', 'GCCGTTCCTTTTT_r2', 'GCCGTTCCTTTTT_r3']\n"
     ]
    },
    {
     "name": "stderr",
     "output_type": "stream",
     "text": [
      "Processing characters: 100%|██████████| 13/13 [00:00<00:00, 270.68it/s]\n",
      "100%|██████████| 1/1 [00:00<00:00, 149.81it/s]\n"
     ]
    },
    {
     "name": "stdout",
     "output_type": "stream",
     "text": [
      "Dropping the following intBCs due to lack of diversity with threshold 0.98: ['TTATCAATGATGA_r1', 'TTATCAATGATGA_r2', 'AGTGCTTTGGTAT_r2', 'AGTGCTTTGGTAT_r3', 'TTGTATTGATTAT_r2', 'TTGTATTGATTAT_r3', 'CGTCAGCATCCAA_r2', 'CGTCAGCATCCAA_r3', 'TTTGCGACTCTAT_r1', 'CTTGCCTGCTTTG_r3']\n"
     ]
    },
    {
     "name": "stderr",
     "output_type": "stream",
     "text": [
      "Processing characters: 100%|██████████| 29/29 [00:00<00:00, 14640.69it/s]\n",
      "100%|██████████| 1/1 [00:00<00:00, 199.57it/s]\n"
     ]
    },
    {
     "name": "stdout",
     "output_type": "stream",
     "text": [
      "Dropping the following intBCs due to lack of diversity with threshold 0.98: ['CCTGCGACAGGCA_r1', 'CCTGCGACAGGCA_r2', 'CCTGCGACAGGCA_r3', 'ATCAAAATGGGTA_r1', 'ATCAAAATGGGTA_r2', 'ATCAAAATGGGTA_r3', 'GTGGTAGGGCCGC_r1', 'GTGGTAGGGCCGC_r3']\n"
     ]
    },
    {
     "name": "stderr",
     "output_type": "stream",
     "text": [
      "Processing characters: 100%|██████████| 1/1 [00:00<00:00, 14820.86it/s]\n",
      "100%|██████████| 1/1 [00:00<00:00, 156.40it/s]\n"
     ]
    },
    {
     "name": "stdout",
     "output_type": "stream",
     "text": [
      "Dropping the following intBCs due to lack of diversity with threshold 0.98: ['AATCATCTGAGTT_r1', 'GACCTATTCATTC_r1', 'GACCTATTCATTC_r2', 'TCTTCGTTATCAC_r1', 'TCTTCGTTATCAC_r3', 'CGCCACGCGCTGT_r1', 'TGAGGTTGGACTA_r2', 'TTCCGCTCCTGAG_r1', 'TTCCGCTCCTGAG_r2', 'ACCGTATAACTCA_r1', 'CATTATGGGCATT_r2', 'CATTATGGGCATT_r3', 'GTTGCAGTTGGCC_r1', 'GTTGCAGTTGGCC_r2', 'GTTGCAGTTGGCC_r3', 'CGTCCGTGTATAT_r2', 'CGTCCGTGTATAT_r3', 'AGTGGATTAGAAG_r2', 'AGTGGATTAGAAG_r3', 'TCTGAAGAGGGAA_r2', 'TCTGAAGAGGGAA_r3', 'TGCGGCTGGGCTC_r1', 'TGCGGCTGGGCTC_r2', 'TGCGGCTGGGCTC_r3', 'TTTCTGCGAGTAT_r2', 'TTTCTGCGAGTAT_r3', 'TTTGCTCAACTCT_r2', 'GCGGCATGACCAT_r2', 'GCGGCATGACCAT_r3', 'TGGGCTTTACTTT_r1', 'GTCTCGACCTCAG_r2', 'GTCTCGACCTCAG_r3', 'GGGCTTTACTCTG_r1', 'GGGCTTTACTCTG_r2']\n"
     ]
    },
    {
     "name": "stderr",
     "output_type": "stream",
     "text": [
      "Processing characters: 100%|██████████| 32/32 [00:00<00:00, 107460.15it/s]\n",
      "100%|██████████| 1/1 [00:00<00:00, 45.07it/s]\n"
     ]
    },
    {
     "name": "stdout",
     "output_type": "stream",
     "text": [
      "Dropping the following intBCs due to lack of diversity with threshold 0.98: ['AGACTATCGAGAT_r1', 'AGACTATCGAGAT_r2', 'AGACTATCGAGAT_r3', 'CGGTTTTTTGTGT_r1', 'CGGTTTTTTGTGT_r2', 'CGGTTTTTTGTGT_r3', 'GACGGGGGTATCT_r1', 'GACGGGGGTATCT_r2', 'GACGGGGGTATCT_r3', 'GTGGCGTTCAAGA_r1', 'GTGGCGTTCAAGA_r2', 'GTGGCGTTCAAGA_r3', 'TGTAGATTATGGA_r1', 'TGTAGATTATGGA_r2', 'TGTAGATTATGGA_r3', 'TAAATACAGCGTG_r1', 'TAAATACAGCGTG_r2', 'TAAATACAGCGTG_r3', 'ACGCCCTGCTTGC_r1', 'ACGCCCTGCTTGC_r2', 'ACGCCCTGCTTGC_r3', 'CCATCGGGCCGTT_r1', 'CCATCGGGCCGTT_r2', 'CCATCGGGCCGTT_r3', 'A_r1', 'A_r2', 'A_r3', 'AATGGGCTGATGC_r1', 'AATGGGCTGATGC_r2', 'AATGGGCTGATGC_r3', 'ATGGCCTTTGAGT_r1', 'ATGGCCTTTGAGT_r2', 'ATGGCCTTTGAGT_r3', 'GTTACAAGTAGCT_r1', 'GTTACAAGTAGCT_r2', 'GTTACAAGTAGCT_r3']\n"
     ]
    },
    {
     "name": "stderr",
     "output_type": "stream",
     "text": [
      "Processing characters: 0it [00:00, ?it/s]\n"
     ]
    },
    {
     "name": "stdout",
     "output_type": "stream",
     "text": [
      "Dropping the following intBCs due to lack of diversity with threshold 1.0: []\n"
     ]
    },
    {
     "name": "stderr",
     "output_type": "stream",
     "text": [
      "Processing characters: 100%|██████████| 36/36 [00:00<00:00, 619.17it/s]\n",
      "100%|██████████| 1/1 [00:00<00:00, 126.57it/s]\n"
     ]
    },
    {
     "name": "stdout",
     "output_type": "stream",
     "text": [
      "Dropping the following intBCs due to lack of diversity with threshold 0.98: ['GCTCGGCCTTCAC_r1', 'GCTCGGCCTTCAC_r2', 'GCTCGGCCTTCAC_r3', 'CCACCCATGAGTG_r3', 'CCAGCTAATCTCT_r1', 'CCAGCTAATCTCT_r3', 'CCGTACTACACAC_r1', 'CCGTACTACACAC_r2', 'CCGTACTACACAC_r3', 'GCCGTTCCTTTTT_r1', 'GCCGTTCCTTTTT_r2', 'GCCGTTCCTTTTT_r3', 'TTACAGGCGTGGA_r1', 'TTACAGGCGTGGA_r3', 'TTACAGTGTCTAA_r1', 'TTACAGTGTCTAA_r2', 'TTACAGTGTCTAA_r3', 'TTAATAGCCCGCG_r1', 'TTAATAGCCCGCG_r2', 'TTAATAGCCCGCG_r3', 'TCCTCTGCGCGAT_r1', 'TCCTCTGCGCGAT_r2', 'TCCTCTGCGCGAT_r3', 'TATGTTTCTAACT_r1', 'GTTGGAACACTGG_r1', 'A_r1']\n"
     ]
    },
    {
     "name": "stderr",
     "output_type": "stream",
     "text": [
      "Processing characters: 100%|██████████| 10/10 [00:00<00:00, 8427.37it/s]\n",
      "100%|██████████| 1/1 [00:00<00:00, 265.01it/s]\n"
     ]
    },
    {
     "name": "stdout",
     "output_type": "stream",
     "text": [
      "Dropping the following intBCs due to lack of diversity with threshold 0.98: ['CCTGCGACAGGCA_r1', 'CCTGCGACAGGCA_r2', 'CCTGCGACAGGCA_r3', 'GTGGTAGGGCCGC_r1', 'GTGGTAGGGCCGC_r3', 'ATCAAAATGGGTA_r1', 'ATCAAAATGGGTA_r2', 'ATCAAAATGGGTA_r3']\n"
     ]
    },
    {
     "name": "stderr",
     "output_type": "stream",
     "text": [
      "Processing characters: 100%|██████████| 1/1 [00:00<00:00, 19599.55it/s]\n",
      "100%|██████████| 1/1 [00:00<00:00, 121.35it/s]\n"
     ]
    },
    {
     "name": "stdout",
     "output_type": "stream",
     "text": [
      "Dropping the following intBCs due to lack of diversity with threshold 0.98: ['CACGATCTCTGTG_r1', 'CACGATCTCTGTG_r2', 'AAACCAGTTTATT_r1', 'AAACCAGTTTATT_r2', 'CCTGTGCACGATA_r1', 'CCTGTGCACGATA_r2', 'CCTGTGCACGATA_r3', 'CTACCAGTGCGGC_r2', 'CTACCAGTGCGGC_r3', 'GGACGAATTTTAG_r1', 'TAAGTAAAGGAAA_r1', 'TAAGTAAAGGAAA_r2', 'TAAGTAAAGGAAA_r3', 'TATGGGTATTCCG_r3', 'TTCGCATTTCCTC_r1', 'TTCGCATTTCCTC_r2', 'TTCGCATTTCCTC_r3', 'TGTGCTGGCAGGG_r3', 'CACCATATGTTAG_r3', 'AGTGGATTAGAAG_r1', 'AGTGGATTAGAAG_r2', 'AGTGGATTAGAAG_r3', 'AAGGCATTGTGCA_r1', 'AAGGCATTGTGCA_r2', 'AAGGCATTGTGCA_r3', 'AAGGCCAGTCTCT_r1', 'AAGGCCAGTCTCT_r3', 'CAAGATACCCTTC_r1', 'CAAGATACCCTTC_r2', 'CAAGATACCCTTC_r3', 'GTTAACAGTGACA_r1', 'GTTAACAGTGACA_r2', 'GTTAACAGTGACA_r3', 'TGTGTCCCTCTTT_r1']\n"
     ]
    },
    {
     "name": "stderr",
     "output_type": "stream",
     "text": [
      "Processing characters: 100%|██████████| 17/17 [00:00<00:00, 165053.63it/s]\n",
      "100%|██████████| 1/1 [00:00<00:00, 135.08it/s]\n"
     ]
    },
    {
     "name": "stdout",
     "output_type": "stream",
     "text": [
      "Dropping the following intBCs due to lack of diversity with threshold 0.98: ['AAAAAATGGTGCG_r1', 'AAAAAATGGTGCG_r2', 'CCATTCGGGGGCA_r2', 'GACGTTTCGCGCA_r3', 'GCGGAGTGGTGTC_r2', 'GCGGAGTGGTGTC_r3', 'GCTGGCCTTATAT_r2', 'GCTGGCCTTATAT_r3', 'GTGACCTGCAGGG_r2', 'TCAGCCTATATGA_r1', 'TGGGCCTACAAGT_r3', 'TTAGGTTCATCGC_r2', 'TTAGGTTCATCGC_r3', 'A_r3', 'ACCGGTAAGGCGA_r1', 'ACCGGTAAGGCGA_r2', 'ACCGGTAAGGCGA_r3', 'TTTGTGGCGAGTG_r2', 'TTTGTGGCGAGTG_r3', 'TTGCTAGATACGG_r1', 'TTGCTAGATACGG_r2', 'TTGCTAGATACGG_r3', 'GCTCATAATGTCT_r1', 'GCTCATAATGTCT_r3', 'CCAGAAGTGCCAG_r1', 'CCAGAAGTGCCAG_r2', 'CCAGAAGTGCCAG_r3', 'GTTCTAAGGTGAC_r1', 'GTTCTAAGGTGAC_r2', 'GTTCTAAGGTGAC_r3', 'GTTGTCTAAATGT_r1', 'GTTGTCTAAATGT_r2', 'GTTGTCTAAATGT_r3', 'ACTTTCCTATTAT_r1', 'ACTTTCCTATTAT_r2', 'ACTTTCCTATTAT_r3', 'TCAGTTTTTTCTC_r1', 'TCAGTTTTTTCTC_r2', 'TCAGTTTTTTCTC_r3', 'TCGACGGGAACGC_r1', 'TCGACGGGAACGC_r2', 'TCGACGGGAACGC_r3']\n"
     ]
    },
    {
     "name": "stderr",
     "output_type": "stream",
     "text": [
      "Processing characters: 100%|██████████| 27/27 [00:00<00:00, 33142.00it/s]\n",
      "100%|██████████| 1/1 [00:00<00:00, 169.45it/s]\n"
     ]
    },
    {
     "name": "stdout",
     "output_type": "stream",
     "text": [
      "Dropping the following intBCs due to lack of diversity with threshold 0.98: ['CGTGATTGGCGCC_r2', 'GCCTCTCGGCGGC_r1', 'GCCTCTCGGCGGC_r2', 'GCCTCTCGGCGGC_r3', 'GTGCGTGATTTGT_r1', 'GTGCGTGATTTGT_r3', 'TATTTGGCTTTGC_r1', 'TATTTGGCTTTGC_r2', 'TATTTGGCTTTGC_r3', 'CATTCGTTAGCCT_r2', 'GCCTGGACTGCTT_r1', 'GCCTGGACTGCTT_r3']\n"
     ]
    },
    {
     "name": "stderr",
     "output_type": "stream",
     "text": [
      "Processing characters: 100%|██████████| 9/9 [00:00<00:00, 25317.73it/s]\n",
      "100%|██████████| 1/1 [00:00<00:00, 118.08it/s]\n"
     ]
    },
    {
     "name": "stdout",
     "output_type": "stream",
     "text": [
      "Dropping the following intBCs due to lack of diversity with threshold 0.98: ['CCCGGTGTTAATA_r2', 'TTAGAACTCCGGC_r3', 'GCGGCATGACCAT_r1', 'GCGGCATGACCAT_r2', 'GCGGCATGACCAT_r3']\n"
     ]
    },
    {
     "name": "stderr",
     "output_type": "stream",
     "text": [
      "Processing characters: 100%|██████████| 37/37 [00:00<00:00, 26555.31it/s]\n",
      "100%|██████████| 1/1 [00:00<00:00, 153.36it/s]\n"
     ]
    },
    {
     "name": "stdout",
     "output_type": "stream",
     "text": [
      "Dropping the following intBCs due to lack of diversity with threshold 0.98: ['TCCAATCCGAATT_r1', 'TCCAATCCGAATT_r2', 'CTCGTTTGGTTCT_r1', 'CTCGTTTGGTTCT_r3', 'GTACTCAGGCGAA_r2', 'GTACTCAGGCGAA_r3', 'ATTATTACAGTAA_r1', 'ATTATTACAGTAA_r2', 'ATTATTACAGTAA_r3']\n"
     ]
    },
    {
     "name": "stderr",
     "output_type": "stream",
     "text": [
      "Processing characters: 100%|██████████| 9/9 [00:00<00:00, 33825.03it/s]\n",
      "100%|██████████| 1/1 [00:00<00:00, 132.30it/s]\n"
     ]
    },
    {
     "name": "stdout",
     "output_type": "stream",
     "text": [
      "Dropping the following intBCs due to lack of diversity with threshold 0.98: ['TGCGGCTGGGCTC_r1', 'TGCGGCTGGGCTC_r2', 'TGCGGCTGGGCTC_r3', 'TGTAGGATTTTCG_r1', 'TGTAGGATTTTCG_r2', 'TGTAGGATTTTCG_r3', 'TCTGCGGAGCCCC_r2', 'TCTGCGGAGCCCC_r3', 'TCCGTGTCCACAA_r1', 'TCCGTGTCCACAA_r2', 'TCCGTGTCCACAA_r3', 'TTTCTGCGAGTAT_r2', 'TTTCTGCGAGTAT_r3', 'CGAAGGTAATAAC_r1', 'CGAAGGTAATAAC_r2', 'CGAAGGTAATAAC_r3', 'AGTATTTCTCCTG_r1', 'AGTATTTCTCCTG_r2', 'AGTATTTCTCCTG_r3', 'AACGATTTGATCT_r1', 'AACGATTTGATCT_r3', 'A_r1', 'A_r2', 'A_r3', 'GTCTCGTACTATT_r1', 'TCTGAAGAGGGAA_r2', 'TCTGAAGAGGGAA_r3', 'CATTATGGGCATT_r2', 'CATTATGGGCATT_r3']\n"
     ]
    },
    {
     "name": "stderr",
     "output_type": "stream",
     "text": [
      "Processing characters: 100%|██████████| 10/10 [00:00<00:00, 61680.94it/s]\n"
     ]
    }
   ],
   "source": [
    "keep_cellbcs = []\n",
    "error_tumors = []\n",
    "\n",
    "for tumor, tumor_at in allele_table_unfiltered.groupby('Tumor'):\n",
    "    clone = meta.loc[meta['Tumor'] == tumor, 'Cell_Clone'].iloc[0]\n",
    "\n",
    "    #if type(clone) != str:\n",
    "    #    continue\n",
    "\n",
    "    #if 'All' in tumor or 'Met' in tumor or \"Fam\" in tumor:\n",
    "    #    continue\n",
    "\n",
    "    #if 'Normal' in tumor or 'Imm' in tumor:\n",
    "    #    continue\n",
    "\n",
    "    lg = lg_util.collectAlleles(tumor_at, thresh=0.2)[0]\n",
    "    \n",
    "    try:\n",
    "        cm2, priors, state2indel = util.alleletable_to_character_matrix(lg, write=False, mutation_map = None, allele_rep_thresh = 0.98)\n",
    "    except:\n",
    "        cm2, priors, state2indel = util.alleletable_to_character_matrix(lg, write=False, mutation_map = None, allele_rep_thresh = 1.0)\n",
    "        \n",
    "    pu = cm2.apply(lambda x: percent_uncut(x.values), axis=1)\n",
    "\n",
    "    cmf = cm2[pu < 0.8]\n",
    "    \n",
    "    cellbcs = cmf.index.values\n",
    "    \n",
    "    #meta.loc[dict(zip(pu.index, pu.values)), 'percent_uncut'] = pu.values\n",
    "\n",
    "    keep_cellbcs += list(cellbcs)"
   ]
  },
  {
   "cell_type": "code",
   "execution_count": 12,
   "metadata": {},
   "outputs": [
    {
     "data": {
      "text/html": [
       "<div>\n",
       "<style scoped>\n",
       "    .dataframe tbody tr th:only-of-type {\n",
       "        vertical-align: middle;\n",
       "    }\n",
       "\n",
       "    .dataframe tbody tr th {\n",
       "        vertical-align: top;\n",
       "    }\n",
       "\n",
       "    .dataframe thead th {\n",
       "        text-align: right;\n",
       "    }\n",
       "</style>\n",
       "<table border=\"1\" class=\"dataframe\">\n",
       "  <thead>\n",
       "    <tr style=\"text-align: right;\">\n",
       "      <th></th>\n",
       "      <th>cellBC</th>\n",
       "      <th>X10x_Lane</th>\n",
       "      <th>Tumor</th>\n",
       "      <th>Cell_Clone</th>\n",
       "      <th>Genotype</th>\n",
       "      <th>MouseID</th>\n",
       "      <th>Aging_Month</th>\n",
       "      <th>Batch_Library</th>\n",
       "      <th>Batch_Harvest</th>\n",
       "      <th>Aging_day</th>\n",
       "    </tr>\n",
       "  </thead>\n",
       "  <tbody>\n",
       "    <tr>\n",
       "      <th>CTR_MGH.CAATTTCGTGGCTAGA</th>\n",
       "      <td>CTR_MGH.CAATTTCGTGGCTAGA</td>\n",
       "      <td>L2</td>\n",
       "      <td>CTR_MGH_0</td>\n",
       "      <td>C1</td>\n",
       "      <td>NMIBC</td>\n",
       "      <td>M-3</td>\n",
       "      <td>2</td>\n",
       "      <td>NaN</td>\n",
       "      <td>NaN</td>\n",
       "      <td>60</td>\n",
       "    </tr>\n",
       "    <tr>\n",
       "      <th>CTR_MGH.ATACTTCGTGCAAGAC</th>\n",
       "      <td>CTR_MGH.ATACTTCGTGCAAGAC</td>\n",
       "      <td>L2</td>\n",
       "      <td>CTR_MGH_0</td>\n",
       "      <td>C1</td>\n",
       "      <td>NMIBC</td>\n",
       "      <td>M-3</td>\n",
       "      <td>2</td>\n",
       "      <td>NaN</td>\n",
       "      <td>NaN</td>\n",
       "      <td>60</td>\n",
       "    </tr>\n",
       "    <tr>\n",
       "      <th>CTR_MGH.TCATCATGTTGGAGAC</th>\n",
       "      <td>CTR_MGH.TCATCATGTTGGAGAC</td>\n",
       "      <td>L2</td>\n",
       "      <td>CTR_MGH_0</td>\n",
       "      <td>C1</td>\n",
       "      <td>NMIBC</td>\n",
       "      <td>M-3</td>\n",
       "      <td>2</td>\n",
       "      <td>NaN</td>\n",
       "      <td>NaN</td>\n",
       "      <td>60</td>\n",
       "    </tr>\n",
       "    <tr>\n",
       "      <th>CTR_MGH.GTTGTCCAGGCTGGAT</th>\n",
       "      <td>CTR_MGH.GTTGTCCAGGCTGGAT</td>\n",
       "      <td>L2</td>\n",
       "      <td>CTR_MGH_0</td>\n",
       "      <td>C1</td>\n",
       "      <td>NMIBC</td>\n",
       "      <td>M-3</td>\n",
       "      <td>2</td>\n",
       "      <td>NaN</td>\n",
       "      <td>NaN</td>\n",
       "      <td>60</td>\n",
       "    </tr>\n",
       "    <tr>\n",
       "      <th>CTR_MGH.TTTCCTCAGACATAAC</th>\n",
       "      <td>CTR_MGH.TTTCCTCAGACATAAC</td>\n",
       "      <td>L2</td>\n",
       "      <td>CTR_MGH_0</td>\n",
       "      <td>C1</td>\n",
       "      <td>NMIBC</td>\n",
       "      <td>M-3</td>\n",
       "      <td>2</td>\n",
       "      <td>NaN</td>\n",
       "      <td>NaN</td>\n",
       "      <td>60</td>\n",
       "    </tr>\n",
       "    <tr>\n",
       "      <th>...</th>\n",
       "      <td>...</td>\n",
       "      <td>...</td>\n",
       "      <td>...</td>\n",
       "      <td>...</td>\n",
       "      <td>...</td>\n",
       "      <td>...</td>\n",
       "      <td>...</td>\n",
       "      <td>...</td>\n",
       "      <td>...</td>\n",
       "      <td>...</td>\n",
       "    </tr>\n",
       "    <tr>\n",
       "      <th>NMI_MGH.GTGAGCCAGAAGCTCG</th>\n",
       "      <td>NMI_MGH.GTGAGCCAGAAGCTCG</td>\n",
       "      <td>L3</td>\n",
       "      <td>NMI_MGH_6</td>\n",
       "      <td>C1</td>\n",
       "      <td>NMIBC</td>\n",
       "      <td>M-12</td>\n",
       "      <td>3</td>\n",
       "      <td>NaN</td>\n",
       "      <td>NaN</td>\n",
       "      <td>98</td>\n",
       "    </tr>\n",
       "    <tr>\n",
       "      <th>NMI_MGH.GGGAGATGTTCTATCT</th>\n",
       "      <td>NMI_MGH.GGGAGATGTTCTATCT</td>\n",
       "      <td>L3</td>\n",
       "      <td>NMI_MGH_6</td>\n",
       "      <td>C1</td>\n",
       "      <td>NMIBC</td>\n",
       "      <td>M-12</td>\n",
       "      <td>3</td>\n",
       "      <td>NaN</td>\n",
       "      <td>NaN</td>\n",
       "      <td>98</td>\n",
       "    </tr>\n",
       "    <tr>\n",
       "      <th>NMI_MGH.CATGCGGGTGAGCTCC</th>\n",
       "      <td>NMI_MGH.CATGCGGGTGAGCTCC</td>\n",
       "      <td>L3</td>\n",
       "      <td>NMI_MGH_6</td>\n",
       "      <td>C1</td>\n",
       "      <td>NMIBC</td>\n",
       "      <td>M-12</td>\n",
       "      <td>3</td>\n",
       "      <td>NaN</td>\n",
       "      <td>NaN</td>\n",
       "      <td>98</td>\n",
       "    </tr>\n",
       "    <tr>\n",
       "      <th>NMI_MGH.GTCCCATAGTATAACG</th>\n",
       "      <td>NMI_MGH.GTCCCATAGTATAACG</td>\n",
       "      <td>L3</td>\n",
       "      <td>NMI_MGH_6</td>\n",
       "      <td>C1</td>\n",
       "      <td>NMIBC</td>\n",
       "      <td>M-12</td>\n",
       "      <td>3</td>\n",
       "      <td>NaN</td>\n",
       "      <td>NaN</td>\n",
       "      <td>98</td>\n",
       "    </tr>\n",
       "    <tr>\n",
       "      <th>NMI_MGH.ACCAACACAACCTATG</th>\n",
       "      <td>NMI_MGH.ACCAACACAACCTATG</td>\n",
       "      <td>L3</td>\n",
       "      <td>NMI_MGH_6</td>\n",
       "      <td>C1</td>\n",
       "      <td>NMIBC</td>\n",
       "      <td>M-12</td>\n",
       "      <td>3</td>\n",
       "      <td>NaN</td>\n",
       "      <td>NaN</td>\n",
       "      <td>98</td>\n",
       "    </tr>\n",
       "  </tbody>\n",
       "</table>\n",
       "<p>25809 rows × 10 columns</p>\n",
       "</div>"
      ],
      "text/plain": [
       "                                            cellBC X10x_Lane      Tumor  \\\n",
       "CTR_MGH.CAATTTCGTGGCTAGA  CTR_MGH.CAATTTCGTGGCTAGA        L2  CTR_MGH_0   \n",
       "CTR_MGH.ATACTTCGTGCAAGAC  CTR_MGH.ATACTTCGTGCAAGAC        L2  CTR_MGH_0   \n",
       "CTR_MGH.TCATCATGTTGGAGAC  CTR_MGH.TCATCATGTTGGAGAC        L2  CTR_MGH_0   \n",
       "CTR_MGH.GTTGTCCAGGCTGGAT  CTR_MGH.GTTGTCCAGGCTGGAT        L2  CTR_MGH_0   \n",
       "CTR_MGH.TTTCCTCAGACATAAC  CTR_MGH.TTTCCTCAGACATAAC        L2  CTR_MGH_0   \n",
       "...                                            ...       ...        ...   \n",
       "NMI_MGH.GTGAGCCAGAAGCTCG  NMI_MGH.GTGAGCCAGAAGCTCG        L3  NMI_MGH_6   \n",
       "NMI_MGH.GGGAGATGTTCTATCT  NMI_MGH.GGGAGATGTTCTATCT        L3  NMI_MGH_6   \n",
       "NMI_MGH.CATGCGGGTGAGCTCC  NMI_MGH.CATGCGGGTGAGCTCC        L3  NMI_MGH_6   \n",
       "NMI_MGH.GTCCCATAGTATAACG  NMI_MGH.GTCCCATAGTATAACG        L3  NMI_MGH_6   \n",
       "NMI_MGH.ACCAACACAACCTATG  NMI_MGH.ACCAACACAACCTATG        L3  NMI_MGH_6   \n",
       "\n",
       "                         Cell_Clone Genotype MouseID  Aging_Month  \\\n",
       "CTR_MGH.CAATTTCGTGGCTAGA         C1    NMIBC     M-3            2   \n",
       "CTR_MGH.ATACTTCGTGCAAGAC         C1    NMIBC     M-3            2   \n",
       "CTR_MGH.TCATCATGTTGGAGAC         C1    NMIBC     M-3            2   \n",
       "CTR_MGH.GTTGTCCAGGCTGGAT         C1    NMIBC     M-3            2   \n",
       "CTR_MGH.TTTCCTCAGACATAAC         C1    NMIBC     M-3            2   \n",
       "...                             ...      ...     ...          ...   \n",
       "NMI_MGH.GTGAGCCAGAAGCTCG         C1    NMIBC    M-12            3   \n",
       "NMI_MGH.GGGAGATGTTCTATCT         C1    NMIBC    M-12            3   \n",
       "NMI_MGH.CATGCGGGTGAGCTCC         C1    NMIBC    M-12            3   \n",
       "NMI_MGH.GTCCCATAGTATAACG         C1    NMIBC    M-12            3   \n",
       "NMI_MGH.ACCAACACAACCTATG         C1    NMIBC    M-12            3   \n",
       "\n",
       "                          Batch_Library  Batch_Harvest  Aging_day  \n",
       "CTR_MGH.CAATTTCGTGGCTAGA            NaN            NaN         60  \n",
       "CTR_MGH.ATACTTCGTGCAAGAC            NaN            NaN         60  \n",
       "CTR_MGH.TCATCATGTTGGAGAC            NaN            NaN         60  \n",
       "CTR_MGH.GTTGTCCAGGCTGGAT            NaN            NaN         60  \n",
       "CTR_MGH.TTTCCTCAGACATAAC            NaN            NaN         60  \n",
       "...                                 ...            ...        ...  \n",
       "NMI_MGH.GTGAGCCAGAAGCTCG            NaN            NaN         98  \n",
       "NMI_MGH.GGGAGATGTTCTATCT            NaN            NaN         98  \n",
       "NMI_MGH.CATGCGGGTGAGCTCC            NaN            NaN         98  \n",
       "NMI_MGH.GTCCCATAGTATAACG            NaN            NaN         98  \n",
       "NMI_MGH.ACCAACACAACCTATG            NaN            NaN         98  \n",
       "\n",
       "[25809 rows x 10 columns]"
      ]
     },
     "execution_count": 12,
     "metadata": {},
     "output_type": "execute_result"
    }
   ],
   "source": [
    "meta"
   ]
  },
  {
   "cell_type": "code",
   "execution_count": 13,
   "metadata": {},
   "outputs": [
    {
     "name": "stdout",
     "output_type": "stream",
     "text": [
      "Filtered to 10135 from 25809\n"
     ]
    }
   ],
   "source": [
    "filt = allele_table_unfiltered['cellBC'].isin(keep_cellbcs)\n",
    "allele_table_filtered = allele_table_unfiltered[filt].copy()\n",
    "\n",
    "print(f\"Filtered to {allele_table_filtered['cellBC'].nunique()} from {allele_table_unfiltered['cellBC'].nunique()}\")"
   ]
  },
  {
   "cell_type": "code",
   "execution_count": 15,
   "metadata": {},
   "outputs": [],
   "source": [
    "allele_table_filtered.to_csv(data_directory + \"/AP.alleleTable.unfiltered.txt3\",sep='\\t',index= False ,header=True)"
   ]
  },
  {
   "cell_type": "code",
   "execution_count": 16,
   "metadata": {},
   "outputs": [
    {
     "data": {
      "text/html": [
       "<div>\n",
       "<style scoped>\n",
       "    .dataframe tbody tr th:only-of-type {\n",
       "        vertical-align: middle;\n",
       "    }\n",
       "\n",
       "    .dataframe tbody tr th {\n",
       "        vertical-align: top;\n",
       "    }\n",
       "\n",
       "    .dataframe thead th {\n",
       "        text-align: right;\n",
       "    }\n",
       "</style>\n",
       "<table border=\"1\" class=\"dataframe\">\n",
       "  <thead>\n",
       "    <tr style=\"text-align: right;\">\n",
       "      <th></th>\n",
       "      <th>Tumor</th>\n",
       "      <th>sampleID</th>\n",
       "      <th>cellBC</th>\n",
       "      <th>intBC</th>\n",
       "      <th>allele</th>\n",
       "      <th>r1</th>\n",
       "      <th>r2</th>\n",
       "      <th>r3</th>\n",
       "      <th>lineageGrp</th>\n",
       "      <th>UMI</th>\n",
       "      <th>readCount</th>\n",
       "      <th>Cell_Clone</th>\n",
       "    </tr>\n",
       "  </thead>\n",
       "  <tbody>\n",
       "    <tr>\n",
       "      <th>1</th>\n",
       "      <td>CTR_MGH_0</td>\n",
       "      <td>CTR_MGH</td>\n",
       "      <td>CTR_MGH.GGCAGTCGTCGCCTAG</td>\n",
       "      <td>TCCCTTACTTCAC</td>\n",
       "      <td>AAGAT[117:2D]GCCTGGATAT[168:4D]GGTTCATTCG[222:...</td>\n",
       "      <td>AAGAT[117:2D]GCCTG</td>\n",
       "      <td>GATAT[168:4D]GGTTC</td>\n",
       "      <td>ATTCG[222:1I]GCGGAG</td>\n",
       "      <td>0</td>\n",
       "      <td>45</td>\n",
       "      <td>12435</td>\n",
       "      <td>C1</td>\n",
       "    </tr>\n",
       "    <tr>\n",
       "      <th>2</th>\n",
       "      <td>CTR_MGH_0</td>\n",
       "      <td>CTR_MGH</td>\n",
       "      <td>CTR_MGH.ATAGGCTAGATGACAT</td>\n",
       "      <td>ACGCTCTCTGGAC</td>\n",
       "      <td>CGAAA[None]AATGGATATC[169:54D]GGAGGATATC[169:5...</td>\n",
       "      <td>CGAAA[None]AATGG</td>\n",
       "      <td>ATATC[169:54D]GGAGG</td>\n",
       "      <td>ATATC[169:54D]GGAGG</td>\n",
       "      <td>0</td>\n",
       "      <td>10</td>\n",
       "      <td>2968</td>\n",
       "      <td>C1</td>\n",
       "    </tr>\n",
       "    <tr>\n",
       "      <th>3</th>\n",
       "      <td>CTR_MGH_0</td>\n",
       "      <td>CTR_MGH</td>\n",
       "      <td>CTR_MGH.CGCATGGAGCTTGTTG</td>\n",
       "      <td>GGCGAATTTAATC</td>\n",
       "      <td>GAAAA[116:1D]TGGCCATATC[None]TCTGGATTCG[222:14...</td>\n",
       "      <td>GAAAA[116:1D]TGGCC</td>\n",
       "      <td>ATATC[None]TCTGG</td>\n",
       "      <td>ATTCG[222:14D]GTTCG</td>\n",
       "      <td>0</td>\n",
       "      <td>6</td>\n",
       "      <td>2206</td>\n",
       "      <td>C1</td>\n",
       "    </tr>\n",
       "    <tr>\n",
       "      <th>4</th>\n",
       "      <td>CTR_MGH_0</td>\n",
       "      <td>CTR_MGH</td>\n",
       "      <td>CTR_MGH.ATAGGCTAGATGACAT</td>\n",
       "      <td>CGTGTGGCGAGCA</td>\n",
       "      <td>CGAAA[115:2D]TGGCCGATAT[168:1I]TCTCTGATTCG[222...</td>\n",
       "      <td>CGAAA[115:2D]TGGCC</td>\n",
       "      <td>GATAT[168:1I]TCTCTG</td>\n",
       "      <td>ATTCG[222:2D]GAGGA</td>\n",
       "      <td>0</td>\n",
       "      <td>12</td>\n",
       "      <td>4033</td>\n",
       "      <td>C1</td>\n",
       "    </tr>\n",
       "    <tr>\n",
       "      <th>5</th>\n",
       "      <td>CTR_MGH_0</td>\n",
       "      <td>CTR_MGH</td>\n",
       "      <td>CTR_MGH.CCTAAGACAAGTGGTG</td>\n",
       "      <td>TCTGTCTATTAAC</td>\n",
       "      <td>TTGTA[107:10D]TGGCCGATAT[168:53D]GCGGAGATAT[16...</td>\n",
       "      <td>TTGTA[107:10D]TGGCC</td>\n",
       "      <td>GATAT[168:53D]GCGGA</td>\n",
       "      <td>GATAT[168:53D]GCGGA</td>\n",
       "      <td>0</td>\n",
       "      <td>22</td>\n",
       "      <td>9481</td>\n",
       "      <td>C1</td>\n",
       "    </tr>\n",
       "    <tr>\n",
       "      <th>...</th>\n",
       "      <td>...</td>\n",
       "      <td>...</td>\n",
       "      <td>...</td>\n",
       "      <td>...</td>\n",
       "      <td>...</td>\n",
       "      <td>...</td>\n",
       "      <td>...</td>\n",
       "      <td>...</td>\n",
       "      <td>...</td>\n",
       "      <td>...</td>\n",
       "      <td>...</td>\n",
       "      <td>...</td>\n",
       "    </tr>\n",
       "    <tr>\n",
       "      <th>216252</th>\n",
       "      <td>NMI_MGH_6</td>\n",
       "      <td>NMI_MGH</td>\n",
       "      <td>NMI_MGH.GTAGGTTCACAGACGA</td>\n",
       "      <td>TCTGCGGAGCCCC</td>\n",
       "      <td>CGAAA[None]AATGGATATC[None]TCTGGTTCGC[None]GGAGG</td>\n",
       "      <td>CGAAA[None]AATGG</td>\n",
       "      <td>ATATC[None]TCTGG</td>\n",
       "      <td>TTCGC[None]GGAGG</td>\n",
       "      <td>6</td>\n",
       "      <td>10</td>\n",
       "      <td>3797</td>\n",
       "      <td>C1</td>\n",
       "    </tr>\n",
       "    <tr>\n",
       "      <th>216254</th>\n",
       "      <td>NMI_MGH_6</td>\n",
       "      <td>NMI_MGH</td>\n",
       "      <td>NMI_MGH.GTAGGTTCACAGACGA</td>\n",
       "      <td>TGAGGTTGGACTA</td>\n",
       "      <td>GCCGA[113:12D]CAACTCCATG[151:21D]GGTTCTTCGC[No...</td>\n",
       "      <td>GCCGA[113:12D]CAACT</td>\n",
       "      <td>CCATG[151:21D]GGTTC</td>\n",
       "      <td>TTCGC[None]GGAGG</td>\n",
       "      <td>6</td>\n",
       "      <td>10</td>\n",
       "      <td>2593</td>\n",
       "      <td>C1</td>\n",
       "    </tr>\n",
       "    <tr>\n",
       "      <th>216264</th>\n",
       "      <td>NMI_MGH_6</td>\n",
       "      <td>NMI_MGH</td>\n",
       "      <td>NMI_MGH.TGTGCGGTCTCTGGTC</td>\n",
       "      <td>TGTAGGATTTTCG</td>\n",
       "      <td>CGAAA[None]AATGGATATC[None]TCTGGTTCGC[None]GGAGG</td>\n",
       "      <td>CGAAA[None]AATGG</td>\n",
       "      <td>ATATC[None]TCTGG</td>\n",
       "      <td>TTCGC[None]GGAGG</td>\n",
       "      <td>6</td>\n",
       "      <td>4</td>\n",
       "      <td>1199</td>\n",
       "      <td>C1</td>\n",
       "    </tr>\n",
       "    <tr>\n",
       "      <th>216268</th>\n",
       "      <td>NMI_MGH_6</td>\n",
       "      <td>NMI_MGH</td>\n",
       "      <td>NMI_MGH.GTAGGTTCACAGACGA</td>\n",
       "      <td>TGTAGGATTTTCG</td>\n",
       "      <td>CGAAA[None]AATGGATATC[None]TCTGGTTCGC[None]GGAGG</td>\n",
       "      <td>CGAAA[None]AATGG</td>\n",
       "      <td>ATATC[None]TCTGG</td>\n",
       "      <td>TTCGC[None]GGAGG</td>\n",
       "      <td>6</td>\n",
       "      <td>11</td>\n",
       "      <td>4048</td>\n",
       "      <td>C1</td>\n",
       "    </tr>\n",
       "    <tr>\n",
       "      <th>216274</th>\n",
       "      <td>NMI_MGH_6</td>\n",
       "      <td>NMI_MGH</td>\n",
       "      <td>NMI_MGH.TCATTGTGTAGCACGA</td>\n",
       "      <td>GTTGCAGTTGGCC</td>\n",
       "      <td>GGTCC[101:12D]AAAATAACGA[165:14D]CCGTGATTCG[22...</td>\n",
       "      <td>GGTCC[101:12D]AAAAT</td>\n",
       "      <td>AACGA[165:14D]CCGTG</td>\n",
       "      <td>ATTCG[222:1I]GCGGAG</td>\n",
       "      <td>6</td>\n",
       "      <td>1</td>\n",
       "      <td>390</td>\n",
       "      <td>C1</td>\n",
       "    </tr>\n",
       "  </tbody>\n",
       "</table>\n",
       "<p>73404 rows × 12 columns</p>\n",
       "</div>"
      ],
      "text/plain": [
       "            Tumor sampleID                    cellBC          intBC  \\\n",
       "1       CTR_MGH_0  CTR_MGH  CTR_MGH.GGCAGTCGTCGCCTAG  TCCCTTACTTCAC   \n",
       "2       CTR_MGH_0  CTR_MGH  CTR_MGH.ATAGGCTAGATGACAT  ACGCTCTCTGGAC   \n",
       "3       CTR_MGH_0  CTR_MGH  CTR_MGH.CGCATGGAGCTTGTTG  GGCGAATTTAATC   \n",
       "4       CTR_MGH_0  CTR_MGH  CTR_MGH.ATAGGCTAGATGACAT  CGTGTGGCGAGCA   \n",
       "5       CTR_MGH_0  CTR_MGH  CTR_MGH.CCTAAGACAAGTGGTG  TCTGTCTATTAAC   \n",
       "...           ...      ...                       ...            ...   \n",
       "216252  NMI_MGH_6  NMI_MGH  NMI_MGH.GTAGGTTCACAGACGA  TCTGCGGAGCCCC   \n",
       "216254  NMI_MGH_6  NMI_MGH  NMI_MGH.GTAGGTTCACAGACGA  TGAGGTTGGACTA   \n",
       "216264  NMI_MGH_6  NMI_MGH  NMI_MGH.TGTGCGGTCTCTGGTC  TGTAGGATTTTCG   \n",
       "216268  NMI_MGH_6  NMI_MGH  NMI_MGH.GTAGGTTCACAGACGA  TGTAGGATTTTCG   \n",
       "216274  NMI_MGH_6  NMI_MGH  NMI_MGH.TCATTGTGTAGCACGA  GTTGCAGTTGGCC   \n",
       "\n",
       "                                                   allele  \\\n",
       "1       AAGAT[117:2D]GCCTGGATAT[168:4D]GGTTCATTCG[222:...   \n",
       "2       CGAAA[None]AATGGATATC[169:54D]GGAGGATATC[169:5...   \n",
       "3       GAAAA[116:1D]TGGCCATATC[None]TCTGGATTCG[222:14...   \n",
       "4       CGAAA[115:2D]TGGCCGATAT[168:1I]TCTCTGATTCG[222...   \n",
       "5       TTGTA[107:10D]TGGCCGATAT[168:53D]GCGGAGATAT[16...   \n",
       "...                                                   ...   \n",
       "216252   CGAAA[None]AATGGATATC[None]TCTGGTTCGC[None]GGAGG   \n",
       "216254  GCCGA[113:12D]CAACTCCATG[151:21D]GGTTCTTCGC[No...   \n",
       "216264   CGAAA[None]AATGGATATC[None]TCTGGTTCGC[None]GGAGG   \n",
       "216268   CGAAA[None]AATGGATATC[None]TCTGGTTCGC[None]GGAGG   \n",
       "216274  GGTCC[101:12D]AAAATAACGA[165:14D]CCGTGATTCG[22...   \n",
       "\n",
       "                         r1                   r2                   r3  \\\n",
       "1        AAGAT[117:2D]GCCTG   GATAT[168:4D]GGTTC  ATTCG[222:1I]GCGGAG   \n",
       "2          CGAAA[None]AATGG  ATATC[169:54D]GGAGG  ATATC[169:54D]GGAGG   \n",
       "3        GAAAA[116:1D]TGGCC     ATATC[None]TCTGG  ATTCG[222:14D]GTTCG   \n",
       "4        CGAAA[115:2D]TGGCC  GATAT[168:1I]TCTCTG   ATTCG[222:2D]GAGGA   \n",
       "5       TTGTA[107:10D]TGGCC  GATAT[168:53D]GCGGA  GATAT[168:53D]GCGGA   \n",
       "...                     ...                  ...                  ...   \n",
       "216252     CGAAA[None]AATGG     ATATC[None]TCTGG     TTCGC[None]GGAGG   \n",
       "216254  GCCGA[113:12D]CAACT  CCATG[151:21D]GGTTC     TTCGC[None]GGAGG   \n",
       "216264     CGAAA[None]AATGG     ATATC[None]TCTGG     TTCGC[None]GGAGG   \n",
       "216268     CGAAA[None]AATGG     ATATC[None]TCTGG     TTCGC[None]GGAGG   \n",
       "216274  GGTCC[101:12D]AAAAT  AACGA[165:14D]CCGTG  ATTCG[222:1I]GCGGAG   \n",
       "\n",
       "        lineageGrp  UMI  readCount Cell_Clone  \n",
       "1                0   45      12435         C1  \n",
       "2                0   10       2968         C1  \n",
       "3                0    6       2206         C1  \n",
       "4                0   12       4033         C1  \n",
       "5                0   22       9481         C1  \n",
       "...            ...  ...        ...        ...  \n",
       "216252           6   10       3797         C1  \n",
       "216254           6   10       2593         C1  \n",
       "216264           6    4       1199         C1  \n",
       "216268           6   11       4048         C1  \n",
       "216274           6    1        390         C1  \n",
       "\n",
       "[73404 rows x 12 columns]"
      ]
     },
     "execution_count": 16,
     "metadata": {},
     "output_type": "execute_result"
    }
   ],
   "source": [
    "allele_table_filtered"
   ]
  },
  {
   "cell_type": "code",
   "execution_count": 17,
   "metadata": {},
   "outputs": [
    {
     "data": {
      "text/html": [
       "<div>\n",
       "<style scoped>\n",
       "    .dataframe tbody tr th:only-of-type {\n",
       "        vertical-align: middle;\n",
       "    }\n",
       "\n",
       "    .dataframe tbody tr th {\n",
       "        vertical-align: top;\n",
       "    }\n",
       "\n",
       "    .dataframe thead th {\n",
       "        text-align: right;\n",
       "    }\n",
       "</style>\n",
       "<table border=\"1\" class=\"dataframe\">\n",
       "  <thead>\n",
       "    <tr style=\"text-align: right;\">\n",
       "      <th></th>\n",
       "      <th>Tumor</th>\n",
       "      <th>sampleID</th>\n",
       "      <th>cellBC</th>\n",
       "      <th>intBC</th>\n",
       "      <th>allele</th>\n",
       "      <th>r1</th>\n",
       "      <th>r2</th>\n",
       "      <th>r3</th>\n",
       "      <th>lineageGrp</th>\n",
       "      <th>UMI</th>\n",
       "      <th>readCount</th>\n",
       "      <th>Cell_Clone</th>\n",
       "    </tr>\n",
       "  </thead>\n",
       "  <tbody>\n",
       "    <tr>\n",
       "      <th>1</th>\n",
       "      <td>CTR_MGH_0</td>\n",
       "      <td>CTR_MGH</td>\n",
       "      <td>CTR_MGH.GGCAGTCGTCGCCTAG</td>\n",
       "      <td>TCCCTTACTTCAC</td>\n",
       "      <td>AAGAT[117:2D]GCCTGGATAT[168:4D]GGTTCATTCG[222:...</td>\n",
       "      <td>AAGAT[117:2D]GCCTG</td>\n",
       "      <td>GATAT[168:4D]GGTTC</td>\n",
       "      <td>ATTCG[222:1I]GCGGAG</td>\n",
       "      <td>0</td>\n",
       "      <td>45</td>\n",
       "      <td>12435</td>\n",
       "      <td>C1</td>\n",
       "    </tr>\n",
       "    <tr>\n",
       "      <th>2</th>\n",
       "      <td>CTR_MGH_0</td>\n",
       "      <td>CTR_MGH</td>\n",
       "      <td>CTR_MGH.ATAGGCTAGATGACAT</td>\n",
       "      <td>ACGCTCTCTGGAC</td>\n",
       "      <td>CGAAA[None]AATGGATATC[169:54D]GGAGGATATC[169:5...</td>\n",
       "      <td>CGAAA[None]AATGG</td>\n",
       "      <td>ATATC[169:54D]GGAGG</td>\n",
       "      <td>ATATC[169:54D]GGAGG</td>\n",
       "      <td>0</td>\n",
       "      <td>10</td>\n",
       "      <td>2968</td>\n",
       "      <td>C1</td>\n",
       "    </tr>\n",
       "    <tr>\n",
       "      <th>3</th>\n",
       "      <td>CTR_MGH_0</td>\n",
       "      <td>CTR_MGH</td>\n",
       "      <td>CTR_MGH.CGCATGGAGCTTGTTG</td>\n",
       "      <td>GGCGAATTTAATC</td>\n",
       "      <td>GAAAA[116:1D]TGGCCATATC[None]TCTGGATTCG[222:14...</td>\n",
       "      <td>GAAAA[116:1D]TGGCC</td>\n",
       "      <td>ATATC[None]TCTGG</td>\n",
       "      <td>ATTCG[222:14D]GTTCG</td>\n",
       "      <td>0</td>\n",
       "      <td>6</td>\n",
       "      <td>2206</td>\n",
       "      <td>C1</td>\n",
       "    </tr>\n",
       "    <tr>\n",
       "      <th>4</th>\n",
       "      <td>CTR_MGH_0</td>\n",
       "      <td>CTR_MGH</td>\n",
       "      <td>CTR_MGH.ATAGGCTAGATGACAT</td>\n",
       "      <td>CGTGTGGCGAGCA</td>\n",
       "      <td>CGAAA[115:2D]TGGCCGATAT[168:1I]TCTCTGATTCG[222...</td>\n",
       "      <td>CGAAA[115:2D]TGGCC</td>\n",
       "      <td>GATAT[168:1I]TCTCTG</td>\n",
       "      <td>ATTCG[222:2D]GAGGA</td>\n",
       "      <td>0</td>\n",
       "      <td>12</td>\n",
       "      <td>4033</td>\n",
       "      <td>C1</td>\n",
       "    </tr>\n",
       "    <tr>\n",
       "      <th>5</th>\n",
       "      <td>CTR_MGH_0</td>\n",
       "      <td>CTR_MGH</td>\n",
       "      <td>CTR_MGH.CCTAAGACAAGTGGTG</td>\n",
       "      <td>TCTGTCTATTAAC</td>\n",
       "      <td>TTGTA[107:10D]TGGCCGATAT[168:53D]GCGGAGATAT[16...</td>\n",
       "      <td>TTGTA[107:10D]TGGCC</td>\n",
       "      <td>GATAT[168:53D]GCGGA</td>\n",
       "      <td>GATAT[168:53D]GCGGA</td>\n",
       "      <td>0</td>\n",
       "      <td>22</td>\n",
       "      <td>9481</td>\n",
       "      <td>C1</td>\n",
       "    </tr>\n",
       "    <tr>\n",
       "      <th>...</th>\n",
       "      <td>...</td>\n",
       "      <td>...</td>\n",
       "      <td>...</td>\n",
       "      <td>...</td>\n",
       "      <td>...</td>\n",
       "      <td>...</td>\n",
       "      <td>...</td>\n",
       "      <td>...</td>\n",
       "      <td>...</td>\n",
       "      <td>...</td>\n",
       "      <td>...</td>\n",
       "      <td>...</td>\n",
       "    </tr>\n",
       "    <tr>\n",
       "      <th>216252</th>\n",
       "      <td>NMI_MGH_6</td>\n",
       "      <td>NMI_MGH</td>\n",
       "      <td>NMI_MGH.GTAGGTTCACAGACGA</td>\n",
       "      <td>TCTGCGGAGCCCC</td>\n",
       "      <td>CGAAA[None]AATGGATATC[None]TCTGGTTCGC[None]GGAGG</td>\n",
       "      <td>CGAAA[None]AATGG</td>\n",
       "      <td>ATATC[None]TCTGG</td>\n",
       "      <td>TTCGC[None]GGAGG</td>\n",
       "      <td>6</td>\n",
       "      <td>10</td>\n",
       "      <td>3797</td>\n",
       "      <td>C1</td>\n",
       "    </tr>\n",
       "    <tr>\n",
       "      <th>216254</th>\n",
       "      <td>NMI_MGH_6</td>\n",
       "      <td>NMI_MGH</td>\n",
       "      <td>NMI_MGH.GTAGGTTCACAGACGA</td>\n",
       "      <td>TGAGGTTGGACTA</td>\n",
       "      <td>GCCGA[113:12D]CAACTCCATG[151:21D]GGTTCTTCGC[No...</td>\n",
       "      <td>GCCGA[113:12D]CAACT</td>\n",
       "      <td>CCATG[151:21D]GGTTC</td>\n",
       "      <td>TTCGC[None]GGAGG</td>\n",
       "      <td>6</td>\n",
       "      <td>10</td>\n",
       "      <td>2593</td>\n",
       "      <td>C1</td>\n",
       "    </tr>\n",
       "    <tr>\n",
       "      <th>216264</th>\n",
       "      <td>NMI_MGH_6</td>\n",
       "      <td>NMI_MGH</td>\n",
       "      <td>NMI_MGH.TGTGCGGTCTCTGGTC</td>\n",
       "      <td>TGTAGGATTTTCG</td>\n",
       "      <td>CGAAA[None]AATGGATATC[None]TCTGGTTCGC[None]GGAGG</td>\n",
       "      <td>CGAAA[None]AATGG</td>\n",
       "      <td>ATATC[None]TCTGG</td>\n",
       "      <td>TTCGC[None]GGAGG</td>\n",
       "      <td>6</td>\n",
       "      <td>4</td>\n",
       "      <td>1199</td>\n",
       "      <td>C1</td>\n",
       "    </tr>\n",
       "    <tr>\n",
       "      <th>216268</th>\n",
       "      <td>NMI_MGH_6</td>\n",
       "      <td>NMI_MGH</td>\n",
       "      <td>NMI_MGH.GTAGGTTCACAGACGA</td>\n",
       "      <td>TGTAGGATTTTCG</td>\n",
       "      <td>CGAAA[None]AATGGATATC[None]TCTGGTTCGC[None]GGAGG</td>\n",
       "      <td>CGAAA[None]AATGG</td>\n",
       "      <td>ATATC[None]TCTGG</td>\n",
       "      <td>TTCGC[None]GGAGG</td>\n",
       "      <td>6</td>\n",
       "      <td>11</td>\n",
       "      <td>4048</td>\n",
       "      <td>C1</td>\n",
       "    </tr>\n",
       "    <tr>\n",
       "      <th>216274</th>\n",
       "      <td>NMI_MGH_6</td>\n",
       "      <td>NMI_MGH</td>\n",
       "      <td>NMI_MGH.TCATTGTGTAGCACGA</td>\n",
       "      <td>GTTGCAGTTGGCC</td>\n",
       "      <td>GGTCC[101:12D]AAAATAACGA[165:14D]CCGTGATTCG[22...</td>\n",
       "      <td>GGTCC[101:12D]AAAAT</td>\n",
       "      <td>AACGA[165:14D]CCGTG</td>\n",
       "      <td>ATTCG[222:1I]GCGGAG</td>\n",
       "      <td>6</td>\n",
       "      <td>1</td>\n",
       "      <td>390</td>\n",
       "      <td>C1</td>\n",
       "    </tr>\n",
       "  </tbody>\n",
       "</table>\n",
       "<p>73404 rows × 12 columns</p>\n",
       "</div>"
      ],
      "text/plain": [
       "            Tumor sampleID                    cellBC          intBC  \\\n",
       "1       CTR_MGH_0  CTR_MGH  CTR_MGH.GGCAGTCGTCGCCTAG  TCCCTTACTTCAC   \n",
       "2       CTR_MGH_0  CTR_MGH  CTR_MGH.ATAGGCTAGATGACAT  ACGCTCTCTGGAC   \n",
       "3       CTR_MGH_0  CTR_MGH  CTR_MGH.CGCATGGAGCTTGTTG  GGCGAATTTAATC   \n",
       "4       CTR_MGH_0  CTR_MGH  CTR_MGH.ATAGGCTAGATGACAT  CGTGTGGCGAGCA   \n",
       "5       CTR_MGH_0  CTR_MGH  CTR_MGH.CCTAAGACAAGTGGTG  TCTGTCTATTAAC   \n",
       "...           ...      ...                       ...            ...   \n",
       "216252  NMI_MGH_6  NMI_MGH  NMI_MGH.GTAGGTTCACAGACGA  TCTGCGGAGCCCC   \n",
       "216254  NMI_MGH_6  NMI_MGH  NMI_MGH.GTAGGTTCACAGACGA  TGAGGTTGGACTA   \n",
       "216264  NMI_MGH_6  NMI_MGH  NMI_MGH.TGTGCGGTCTCTGGTC  TGTAGGATTTTCG   \n",
       "216268  NMI_MGH_6  NMI_MGH  NMI_MGH.GTAGGTTCACAGACGA  TGTAGGATTTTCG   \n",
       "216274  NMI_MGH_6  NMI_MGH  NMI_MGH.TCATTGTGTAGCACGA  GTTGCAGTTGGCC   \n",
       "\n",
       "                                                   allele  \\\n",
       "1       AAGAT[117:2D]GCCTGGATAT[168:4D]GGTTCATTCG[222:...   \n",
       "2       CGAAA[None]AATGGATATC[169:54D]GGAGGATATC[169:5...   \n",
       "3       GAAAA[116:1D]TGGCCATATC[None]TCTGGATTCG[222:14...   \n",
       "4       CGAAA[115:2D]TGGCCGATAT[168:1I]TCTCTGATTCG[222...   \n",
       "5       TTGTA[107:10D]TGGCCGATAT[168:53D]GCGGAGATAT[16...   \n",
       "...                                                   ...   \n",
       "216252   CGAAA[None]AATGGATATC[None]TCTGGTTCGC[None]GGAGG   \n",
       "216254  GCCGA[113:12D]CAACTCCATG[151:21D]GGTTCTTCGC[No...   \n",
       "216264   CGAAA[None]AATGGATATC[None]TCTGGTTCGC[None]GGAGG   \n",
       "216268   CGAAA[None]AATGGATATC[None]TCTGGTTCGC[None]GGAGG   \n",
       "216274  GGTCC[101:12D]AAAATAACGA[165:14D]CCGTGATTCG[22...   \n",
       "\n",
       "                         r1                   r2                   r3  \\\n",
       "1        AAGAT[117:2D]GCCTG   GATAT[168:4D]GGTTC  ATTCG[222:1I]GCGGAG   \n",
       "2          CGAAA[None]AATGG  ATATC[169:54D]GGAGG  ATATC[169:54D]GGAGG   \n",
       "3        GAAAA[116:1D]TGGCC     ATATC[None]TCTGG  ATTCG[222:14D]GTTCG   \n",
       "4        CGAAA[115:2D]TGGCC  GATAT[168:1I]TCTCTG   ATTCG[222:2D]GAGGA   \n",
       "5       TTGTA[107:10D]TGGCC  GATAT[168:53D]GCGGA  GATAT[168:53D]GCGGA   \n",
       "...                     ...                  ...                  ...   \n",
       "216252     CGAAA[None]AATGG     ATATC[None]TCTGG     TTCGC[None]GGAGG   \n",
       "216254  GCCGA[113:12D]CAACT  CCATG[151:21D]GGTTC     TTCGC[None]GGAGG   \n",
       "216264     CGAAA[None]AATGG     ATATC[None]TCTGG     TTCGC[None]GGAGG   \n",
       "216268     CGAAA[None]AATGG     ATATC[None]TCTGG     TTCGC[None]GGAGG   \n",
       "216274  GGTCC[101:12D]AAAAT  AACGA[165:14D]CCGTG  ATTCG[222:1I]GCGGAG   \n",
       "\n",
       "        lineageGrp  UMI  readCount Cell_Clone  \n",
       "1                0   45      12435         C1  \n",
       "2                0   10       2968         C1  \n",
       "3                0    6       2206         C1  \n",
       "4                0   12       4033         C1  \n",
       "5                0   22       9481         C1  \n",
       "...            ...  ...        ...        ...  \n",
       "216252           6   10       3797         C1  \n",
       "216254           6   10       2593         C1  \n",
       "216264           6    4       1199         C1  \n",
       "216268           6   11       4048         C1  \n",
       "216274           6    1        390         C1  \n",
       "\n",
       "[73404 rows x 12 columns]"
      ]
     },
     "execution_count": 17,
     "metadata": {},
     "output_type": "execute_result"
    }
   ],
   "source": [
    "allele_table_filtered"
   ]
  },
  {
   "cell_type": "code",
   "execution_count": 18,
   "metadata": {},
   "outputs": [
    {
     "data": {
      "text/html": [
       "<div>\n",
       "<style scoped>\n",
       "    .dataframe tbody tr th:only-of-type {\n",
       "        vertical-align: middle;\n",
       "    }\n",
       "\n",
       "    .dataframe tbody tr th {\n",
       "        vertical-align: top;\n",
       "    }\n",
       "\n",
       "    .dataframe thead th {\n",
       "        text-align: right;\n",
       "    }\n",
       "</style>\n",
       "<table border=\"1\" class=\"dataframe\">\n",
       "  <thead>\n",
       "    <tr style=\"text-align: right;\">\n",
       "      <th></th>\n",
       "      <th>Data_Inject</th>\n",
       "      <th>Date_Sac</th>\n",
       "      <th>Aging_day</th>\n",
       "      <th>Cell_Clone</th>\n",
       "      <th>Genotype</th>\n",
       "      <th>MouseID</th>\n",
       "      <th>Aging_Month</th>\n",
       "      <th>Batch_Library</th>\n",
       "      <th>Batch_Harvest</th>\n",
       "      <th>Tumor_Name</th>\n",
       "      <th>Sample_Name</th>\n",
       "      <th>Tumor</th>\n",
       "      <th>Multi_BC</th>\n",
       "      <th>X10x_Lane</th>\n",
       "    </tr>\n",
       "  </thead>\n",
       "  <tbody>\n",
       "    <tr>\n",
       "      <th>0</th>\n",
       "      <td>3/8/22</td>\n",
       "      <td>5/7/22</td>\n",
       "      <td>60</td>\n",
       "      <td>C1</td>\n",
       "      <td>NMIBC</td>\n",
       "      <td>M-3</td>\n",
       "      <td>2</td>\n",
       "      <td>NaN</td>\n",
       "      <td>NaN</td>\n",
       "      <td>MC</td>\n",
       "      <td>CTR_M</td>\n",
       "      <td>CTR_MGH_1</td>\n",
       "      <td>TCGTAGTG</td>\n",
       "      <td>L2</td>\n",
       "    </tr>\n",
       "    <tr>\n",
       "      <th>1</th>\n",
       "      <td>3/8/22</td>\n",
       "      <td>5/7/22</td>\n",
       "      <td>60</td>\n",
       "      <td>C1</td>\n",
       "      <td>NMIBC</td>\n",
       "      <td>M-3</td>\n",
       "      <td>2</td>\n",
       "      <td>NaN</td>\n",
       "      <td>NaN</td>\n",
       "      <td>MC</td>\n",
       "      <td>CTR_M</td>\n",
       "      <td>CTR_MGH_4</td>\n",
       "      <td>TCGTAGTG</td>\n",
       "      <td>L2</td>\n",
       "    </tr>\n",
       "    <tr>\n",
       "      <th>2</th>\n",
       "      <td>3/8/22</td>\n",
       "      <td>5/7/22</td>\n",
       "      <td>60</td>\n",
       "      <td>C1</td>\n",
       "      <td>NMIBC</td>\n",
       "      <td>M-3</td>\n",
       "      <td>2</td>\n",
       "      <td>NaN</td>\n",
       "      <td>NaN</td>\n",
       "      <td>MC</td>\n",
       "      <td>CTR_M</td>\n",
       "      <td>CTR_MGH_7</td>\n",
       "      <td>TCGTAGTG</td>\n",
       "      <td>L2</td>\n",
       "    </tr>\n",
       "    <tr>\n",
       "      <th>3</th>\n",
       "      <td>3/8/22</td>\n",
       "      <td>5/7/22</td>\n",
       "      <td>60</td>\n",
       "      <td>C1</td>\n",
       "      <td>NMIBC</td>\n",
       "      <td>M-3</td>\n",
       "      <td>2</td>\n",
       "      <td>NaN</td>\n",
       "      <td>NaN</td>\n",
       "      <td>MC</td>\n",
       "      <td>CTR_M</td>\n",
       "      <td>CTR_MGH_2</td>\n",
       "      <td>TCGTAGTG</td>\n",
       "      <td>L2</td>\n",
       "    </tr>\n",
       "    <tr>\n",
       "      <th>4</th>\n",
       "      <td>3/8/22</td>\n",
       "      <td>5/7/22</td>\n",
       "      <td>60</td>\n",
       "      <td>C1</td>\n",
       "      <td>NMIBC</td>\n",
       "      <td>M-3</td>\n",
       "      <td>2</td>\n",
       "      <td>NaN</td>\n",
       "      <td>NaN</td>\n",
       "      <td>MC</td>\n",
       "      <td>CTR_M</td>\n",
       "      <td>CTR_MGH_5</td>\n",
       "      <td>TCGTAGTG</td>\n",
       "      <td>L2</td>\n",
       "    </tr>\n",
       "    <tr>\n",
       "      <th>5</th>\n",
       "      <td>3/8/22</td>\n",
       "      <td>5/7/22</td>\n",
       "      <td>60</td>\n",
       "      <td>C1</td>\n",
       "      <td>NMIBC</td>\n",
       "      <td>M-3</td>\n",
       "      <td>2</td>\n",
       "      <td>NaN</td>\n",
       "      <td>NaN</td>\n",
       "      <td>MC</td>\n",
       "      <td>CTR_M</td>\n",
       "      <td>CTR_MGH_3</td>\n",
       "      <td>TCGTAGTG</td>\n",
       "      <td>L2</td>\n",
       "    </tr>\n",
       "    <tr>\n",
       "      <th>6</th>\n",
       "      <td>3/8/22</td>\n",
       "      <td>5/7/22</td>\n",
       "      <td>60</td>\n",
       "      <td>C1</td>\n",
       "      <td>NMIBC</td>\n",
       "      <td>M-3</td>\n",
       "      <td>2</td>\n",
       "      <td>NaN</td>\n",
       "      <td>NaN</td>\n",
       "      <td>MC</td>\n",
       "      <td>CTR_M</td>\n",
       "      <td>CTR_MGH_6</td>\n",
       "      <td>TCGTAGTG</td>\n",
       "      <td>L2</td>\n",
       "    </tr>\n",
       "    <tr>\n",
       "      <th>7</th>\n",
       "      <td>3/8/22</td>\n",
       "      <td>5/7/22</td>\n",
       "      <td>60</td>\n",
       "      <td>C1</td>\n",
       "      <td>NMIBC</td>\n",
       "      <td>M-3</td>\n",
       "      <td>2</td>\n",
       "      <td>NaN</td>\n",
       "      <td>NaN</td>\n",
       "      <td>MC</td>\n",
       "      <td>CTR_M</td>\n",
       "      <td>CTR_MGH_0</td>\n",
       "      <td>TCGTAGTG</td>\n",
       "      <td>L2</td>\n",
       "    </tr>\n",
       "    <tr>\n",
       "      <th>8</th>\n",
       "      <td>3/8/22</td>\n",
       "      <td>5/7/22</td>\n",
       "      <td>60</td>\n",
       "      <td>C1</td>\n",
       "      <td>NMIBC</td>\n",
       "      <td>M-3</td>\n",
       "      <td>2</td>\n",
       "      <td>NaN</td>\n",
       "      <td>NaN</td>\n",
       "      <td>MC</td>\n",
       "      <td>CTR_M</td>\n",
       "      <td>CTR_MGH_9</td>\n",
       "      <td>TCGTAGTG</td>\n",
       "      <td>L2</td>\n",
       "    </tr>\n",
       "    <tr>\n",
       "      <th>9</th>\n",
       "      <td>3/8/22</td>\n",
       "      <td>5/7/22</td>\n",
       "      <td>60</td>\n",
       "      <td>C1</td>\n",
       "      <td>NMIBC</td>\n",
       "      <td>M-3</td>\n",
       "      <td>2</td>\n",
       "      <td>NaN</td>\n",
       "      <td>NaN</td>\n",
       "      <td>MC</td>\n",
       "      <td>CTR_M</td>\n",
       "      <td>CTR_MGH_8</td>\n",
       "      <td>TCGTAGTG</td>\n",
       "      <td>L2</td>\n",
       "    </tr>\n",
       "    <tr>\n",
       "      <th>10</th>\n",
       "      <td>3/16/22</td>\n",
       "      <td>5/18/22</td>\n",
       "      <td>63</td>\n",
       "      <td>C2</td>\n",
       "      <td>NMIBC</td>\n",
       "      <td>R-1</td>\n",
       "      <td>2</td>\n",
       "      <td>NaN</td>\n",
       "      <td>NaN</td>\n",
       "      <td>RC</td>\n",
       "      <td>CTR_RT</td>\n",
       "      <td>CTR_RT_1</td>\n",
       "      <td>CATGTTAC</td>\n",
       "      <td>L4</td>\n",
       "    </tr>\n",
       "    <tr>\n",
       "      <th>11</th>\n",
       "      <td>3/16/22</td>\n",
       "      <td>5/18/22</td>\n",
       "      <td>63</td>\n",
       "      <td>C2</td>\n",
       "      <td>NMIBC</td>\n",
       "      <td>R-1</td>\n",
       "      <td>2</td>\n",
       "      <td>NaN</td>\n",
       "      <td>NaN</td>\n",
       "      <td>RC</td>\n",
       "      <td>CTR_RT</td>\n",
       "      <td>CTR_RT_0</td>\n",
       "      <td>CATGTTAC</td>\n",
       "      <td>L4</td>\n",
       "    </tr>\n",
       "    <tr>\n",
       "      <th>12</th>\n",
       "      <td>3/16/22</td>\n",
       "      <td>6/21/22</td>\n",
       "      <td>97</td>\n",
       "      <td>C2</td>\n",
       "      <td>NMIBC</td>\n",
       "      <td>R-10</td>\n",
       "      <td>3</td>\n",
       "      <td>NaN</td>\n",
       "      <td>NaN</td>\n",
       "      <td>RTG</td>\n",
       "      <td>NMI_RT</td>\n",
       "      <td>GEM_RT_5</td>\n",
       "      <td>TGATCCAC</td>\n",
       "      <td>L4</td>\n",
       "    </tr>\n",
       "    <tr>\n",
       "      <th>13</th>\n",
       "      <td>3/16/22</td>\n",
       "      <td>6/21/22</td>\n",
       "      <td>97</td>\n",
       "      <td>C2</td>\n",
       "      <td>NMIBC</td>\n",
       "      <td>R-10</td>\n",
       "      <td>3</td>\n",
       "      <td>NaN</td>\n",
       "      <td>NaN</td>\n",
       "      <td>RTG</td>\n",
       "      <td>NMI_RT</td>\n",
       "      <td>GEM_RT_11</td>\n",
       "      <td>TGATCCAC</td>\n",
       "      <td>L4</td>\n",
       "    </tr>\n",
       "    <tr>\n",
       "      <th>14</th>\n",
       "      <td>3/16/22</td>\n",
       "      <td>6/21/22</td>\n",
       "      <td>97</td>\n",
       "      <td>C2</td>\n",
       "      <td>NMIBC</td>\n",
       "      <td>R-10</td>\n",
       "      <td>3</td>\n",
       "      <td>NaN</td>\n",
       "      <td>NaN</td>\n",
       "      <td>RTG</td>\n",
       "      <td>NMI_RT</td>\n",
       "      <td>GEM_RT_4</td>\n",
       "      <td>TGATCCAC</td>\n",
       "      <td>L4</td>\n",
       "    </tr>\n",
       "    <tr>\n",
       "      <th>15</th>\n",
       "      <td>3/16/22</td>\n",
       "      <td>6/21/22</td>\n",
       "      <td>97</td>\n",
       "      <td>C2</td>\n",
       "      <td>NMIBC</td>\n",
       "      <td>R-10</td>\n",
       "      <td>3</td>\n",
       "      <td>NaN</td>\n",
       "      <td>NaN</td>\n",
       "      <td>RTG</td>\n",
       "      <td>NMI_RT</td>\n",
       "      <td>GEM_RT_8</td>\n",
       "      <td>TGATCCAC</td>\n",
       "      <td>L4</td>\n",
       "    </tr>\n",
       "    <tr>\n",
       "      <th>16</th>\n",
       "      <td>3/16/22</td>\n",
       "      <td>6/21/22</td>\n",
       "      <td>97</td>\n",
       "      <td>C2</td>\n",
       "      <td>NMIBC</td>\n",
       "      <td>R-10</td>\n",
       "      <td>3</td>\n",
       "      <td>NaN</td>\n",
       "      <td>NaN</td>\n",
       "      <td>RTG</td>\n",
       "      <td>NMI_RT</td>\n",
       "      <td>GEM_RT_15</td>\n",
       "      <td>TGATCCAC</td>\n",
       "      <td>L4</td>\n",
       "    </tr>\n",
       "    <tr>\n",
       "      <th>17</th>\n",
       "      <td>3/16/22</td>\n",
       "      <td>6/21/22</td>\n",
       "      <td>97</td>\n",
       "      <td>C2</td>\n",
       "      <td>NMIBC</td>\n",
       "      <td>R-10</td>\n",
       "      <td>3</td>\n",
       "      <td>NaN</td>\n",
       "      <td>NaN</td>\n",
       "      <td>RTG</td>\n",
       "      <td>NMI_RT</td>\n",
       "      <td>GEM_RT_12</td>\n",
       "      <td>TGATCCAC</td>\n",
       "      <td>L4</td>\n",
       "    </tr>\n",
       "    <tr>\n",
       "      <th>18</th>\n",
       "      <td>3/16/22</td>\n",
       "      <td>6/21/22</td>\n",
       "      <td>97</td>\n",
       "      <td>C2</td>\n",
       "      <td>NMIBC</td>\n",
       "      <td>R-10</td>\n",
       "      <td>3</td>\n",
       "      <td>NaN</td>\n",
       "      <td>NaN</td>\n",
       "      <td>RTG</td>\n",
       "      <td>NMI_RT</td>\n",
       "      <td>GEM_RT_1</td>\n",
       "      <td>TGATCCAC</td>\n",
       "      <td>L4</td>\n",
       "    </tr>\n",
       "    <tr>\n",
       "      <th>19</th>\n",
       "      <td>3/16/22</td>\n",
       "      <td>6/21/22</td>\n",
       "      <td>97</td>\n",
       "      <td>C2</td>\n",
       "      <td>NMIBC</td>\n",
       "      <td>R-10</td>\n",
       "      <td>3</td>\n",
       "      <td>NaN</td>\n",
       "      <td>NaN</td>\n",
       "      <td>RTG</td>\n",
       "      <td>NMI_RT</td>\n",
       "      <td>GEM_RT_14</td>\n",
       "      <td>TGATCCAC</td>\n",
       "      <td>L4</td>\n",
       "    </tr>\n",
       "    <tr>\n",
       "      <th>20</th>\n",
       "      <td>3/16/22</td>\n",
       "      <td>6/21/22</td>\n",
       "      <td>97</td>\n",
       "      <td>C2</td>\n",
       "      <td>NMIBC</td>\n",
       "      <td>R-10</td>\n",
       "      <td>3</td>\n",
       "      <td>NaN</td>\n",
       "      <td>NaN</td>\n",
       "      <td>RTG</td>\n",
       "      <td>NMI_RT</td>\n",
       "      <td>GEM_RT_7</td>\n",
       "      <td>TGATCCAC</td>\n",
       "      <td>L4</td>\n",
       "    </tr>\n",
       "    <tr>\n",
       "      <th>21</th>\n",
       "      <td>3/16/22</td>\n",
       "      <td>6/21/22</td>\n",
       "      <td>97</td>\n",
       "      <td>C2</td>\n",
       "      <td>NMIBC</td>\n",
       "      <td>R-10</td>\n",
       "      <td>3</td>\n",
       "      <td>NaN</td>\n",
       "      <td>NaN</td>\n",
       "      <td>RTG</td>\n",
       "      <td>NMI_RT</td>\n",
       "      <td>GEM_RT_10</td>\n",
       "      <td>TGATCCAC</td>\n",
       "      <td>L4</td>\n",
       "    </tr>\n",
       "    <tr>\n",
       "      <th>22</th>\n",
       "      <td>3/16/22</td>\n",
       "      <td>6/21/22</td>\n",
       "      <td>97</td>\n",
       "      <td>C2</td>\n",
       "      <td>NMIBC</td>\n",
       "      <td>R-10</td>\n",
       "      <td>3</td>\n",
       "      <td>NaN</td>\n",
       "      <td>NaN</td>\n",
       "      <td>RTG</td>\n",
       "      <td>NMI_RT</td>\n",
       "      <td>GEM_RT_2</td>\n",
       "      <td>TGATCCAC</td>\n",
       "      <td>L4</td>\n",
       "    </tr>\n",
       "    <tr>\n",
       "      <th>23</th>\n",
       "      <td>3/16/22</td>\n",
       "      <td>6/21/22</td>\n",
       "      <td>97</td>\n",
       "      <td>C2</td>\n",
       "      <td>NMIBC</td>\n",
       "      <td>R-10</td>\n",
       "      <td>3</td>\n",
       "      <td>NaN</td>\n",
       "      <td>NaN</td>\n",
       "      <td>RTG</td>\n",
       "      <td>NMI_RT</td>\n",
       "      <td>GEM_RT_3</td>\n",
       "      <td>TGATCCAC</td>\n",
       "      <td>L4</td>\n",
       "    </tr>\n",
       "    <tr>\n",
       "      <th>24</th>\n",
       "      <td>3/16/22</td>\n",
       "      <td>6/21/22</td>\n",
       "      <td>97</td>\n",
       "      <td>C2</td>\n",
       "      <td>NMIBC</td>\n",
       "      <td>R-10</td>\n",
       "      <td>3</td>\n",
       "      <td>NaN</td>\n",
       "      <td>NaN</td>\n",
       "      <td>RTG</td>\n",
       "      <td>NMI_RT</td>\n",
       "      <td>GEM_RT_0</td>\n",
       "      <td>TGATCCAC</td>\n",
       "      <td>L4</td>\n",
       "    </tr>\n",
       "    <tr>\n",
       "      <th>25</th>\n",
       "      <td>3/16/22</td>\n",
       "      <td>6/21/22</td>\n",
       "      <td>97</td>\n",
       "      <td>C2</td>\n",
       "      <td>NMIBC</td>\n",
       "      <td>R-10</td>\n",
       "      <td>3</td>\n",
       "      <td>NaN</td>\n",
       "      <td>NaN</td>\n",
       "      <td>RTG</td>\n",
       "      <td>NMI_RT</td>\n",
       "      <td>GEM_RT_19</td>\n",
       "      <td>TGATCCAC</td>\n",
       "      <td>L4</td>\n",
       "    </tr>\n",
       "    <tr>\n",
       "      <th>26</th>\n",
       "      <td>3/16/22</td>\n",
       "      <td>6/21/22</td>\n",
       "      <td>97</td>\n",
       "      <td>C2</td>\n",
       "      <td>NMIBC</td>\n",
       "      <td>R-10</td>\n",
       "      <td>3</td>\n",
       "      <td>NaN</td>\n",
       "      <td>NaN</td>\n",
       "      <td>RTG</td>\n",
       "      <td>NMI_RT</td>\n",
       "      <td>GEM_RT_6</td>\n",
       "      <td>TGATCCAC</td>\n",
       "      <td>L4</td>\n",
       "    </tr>\n",
       "    <tr>\n",
       "      <th>27</th>\n",
       "      <td>3/16/22</td>\n",
       "      <td>6/21/22</td>\n",
       "      <td>97</td>\n",
       "      <td>C2</td>\n",
       "      <td>NMIBC</td>\n",
       "      <td>R-10</td>\n",
       "      <td>3</td>\n",
       "      <td>NaN</td>\n",
       "      <td>NaN</td>\n",
       "      <td>RTG</td>\n",
       "      <td>NMI_RT</td>\n",
       "      <td>GEM_RT_18</td>\n",
       "      <td>TGATCCAC</td>\n",
       "      <td>L4</td>\n",
       "    </tr>\n",
       "    <tr>\n",
       "      <th>28</th>\n",
       "      <td>3/16/22</td>\n",
       "      <td>6/21/22</td>\n",
       "      <td>97</td>\n",
       "      <td>C2</td>\n",
       "      <td>NMIBC</td>\n",
       "      <td>R-10</td>\n",
       "      <td>3</td>\n",
       "      <td>NaN</td>\n",
       "      <td>NaN</td>\n",
       "      <td>RTG</td>\n",
       "      <td>NMI_RT</td>\n",
       "      <td>GEM_RT_13</td>\n",
       "      <td>TGATCCAC</td>\n",
       "      <td>L4</td>\n",
       "    </tr>\n",
       "    <tr>\n",
       "      <th>29</th>\n",
       "      <td>3/16/22</td>\n",
       "      <td>6/21/22</td>\n",
       "      <td>97</td>\n",
       "      <td>C2</td>\n",
       "      <td>NMIBC</td>\n",
       "      <td>R-10</td>\n",
       "      <td>3</td>\n",
       "      <td>NaN</td>\n",
       "      <td>NaN</td>\n",
       "      <td>RTG</td>\n",
       "      <td>NMI_RT</td>\n",
       "      <td>GEM_RT_16</td>\n",
       "      <td>TGATCCAC</td>\n",
       "      <td>L4</td>\n",
       "    </tr>\n",
       "    <tr>\n",
       "      <th>30</th>\n",
       "      <td>3/16/22</td>\n",
       "      <td>6/21/22</td>\n",
       "      <td>97</td>\n",
       "      <td>C2</td>\n",
       "      <td>NMIBC</td>\n",
       "      <td>R-10</td>\n",
       "      <td>3</td>\n",
       "      <td>NaN</td>\n",
       "      <td>NaN</td>\n",
       "      <td>RTG</td>\n",
       "      <td>NMI_RT</td>\n",
       "      <td>GEM_RT_9</td>\n",
       "      <td>TGATCCAC</td>\n",
       "      <td>L4</td>\n",
       "    </tr>\n",
       "    <tr>\n",
       "      <th>31</th>\n",
       "      <td>3/16/22</td>\n",
       "      <td>6/21/22</td>\n",
       "      <td>97</td>\n",
       "      <td>C2</td>\n",
       "      <td>NMIBC</td>\n",
       "      <td>R-10</td>\n",
       "      <td>3</td>\n",
       "      <td>NaN</td>\n",
       "      <td>NaN</td>\n",
       "      <td>RTG</td>\n",
       "      <td>NMI_RT</td>\n",
       "      <td>GEM_RT_17</td>\n",
       "      <td>TGATCCAC</td>\n",
       "      <td>L4</td>\n",
       "    </tr>\n",
       "    <tr>\n",
       "      <th>32</th>\n",
       "      <td>3/8/22</td>\n",
       "      <td>6/14/22</td>\n",
       "      <td>98</td>\n",
       "      <td>C1</td>\n",
       "      <td>Met</td>\n",
       "      <td>M-1</td>\n",
       "      <td>3</td>\n",
       "      <td>NaN</td>\n",
       "      <td>NaN</td>\n",
       "      <td>Met</td>\n",
       "      <td>Met_M</td>\n",
       "      <td>Met_MGH_1</td>\n",
       "      <td>ACGCGTTA</td>\n",
       "      <td>L3</td>\n",
       "    </tr>\n",
       "    <tr>\n",
       "      <th>33</th>\n",
       "      <td>3/8/22</td>\n",
       "      <td>6/14/22</td>\n",
       "      <td>98</td>\n",
       "      <td>C1</td>\n",
       "      <td>Met</td>\n",
       "      <td>M-1</td>\n",
       "      <td>3</td>\n",
       "      <td>NaN</td>\n",
       "      <td>NaN</td>\n",
       "      <td>Met</td>\n",
       "      <td>Met_M</td>\n",
       "      <td>Met_MGH_2</td>\n",
       "      <td>ACGCGTTA</td>\n",
       "      <td>L3</td>\n",
       "    </tr>\n",
       "    <tr>\n",
       "      <th>34</th>\n",
       "      <td>3/8/22</td>\n",
       "      <td>6/14/22</td>\n",
       "      <td>98</td>\n",
       "      <td>C1</td>\n",
       "      <td>Met</td>\n",
       "      <td>M-1</td>\n",
       "      <td>3</td>\n",
       "      <td>NaN</td>\n",
       "      <td>NaN</td>\n",
       "      <td>Met</td>\n",
       "      <td>Met_M</td>\n",
       "      <td>Met_MGH_0</td>\n",
       "      <td>ACGCGTTA</td>\n",
       "      <td>L3</td>\n",
       "    </tr>\n",
       "    <tr>\n",
       "      <th>35</th>\n",
       "      <td>3/8/22</td>\n",
       "      <td>6/14/22</td>\n",
       "      <td>98</td>\n",
       "      <td>C1</td>\n",
       "      <td>Met</td>\n",
       "      <td>M-1</td>\n",
       "      <td>3</td>\n",
       "      <td>NaN</td>\n",
       "      <td>NaN</td>\n",
       "      <td>Met</td>\n",
       "      <td>Met_M</td>\n",
       "      <td>Met_MGH_3</td>\n",
       "      <td>ACGCGTTA</td>\n",
       "      <td>L3</td>\n",
       "    </tr>\n",
       "    <tr>\n",
       "      <th>36</th>\n",
       "      <td>3/8/22</td>\n",
       "      <td>6/14/22</td>\n",
       "      <td>98</td>\n",
       "      <td>C1</td>\n",
       "      <td>MIBC</td>\n",
       "      <td>M-1</td>\n",
       "      <td>3</td>\n",
       "      <td>NaN</td>\n",
       "      <td>NaN</td>\n",
       "      <td>MI</td>\n",
       "      <td>MI_M</td>\n",
       "      <td>MI_MGH_1</td>\n",
       "      <td>CGCTAGAG</td>\n",
       "      <td>L1</td>\n",
       "    </tr>\n",
       "    <tr>\n",
       "      <th>37</th>\n",
       "      <td>3/8/22</td>\n",
       "      <td>6/14/22</td>\n",
       "      <td>98</td>\n",
       "      <td>C1</td>\n",
       "      <td>MIBC</td>\n",
       "      <td>M-1</td>\n",
       "      <td>3</td>\n",
       "      <td>NaN</td>\n",
       "      <td>NaN</td>\n",
       "      <td>MI</td>\n",
       "      <td>MI_M</td>\n",
       "      <td>MI_MGH_2</td>\n",
       "      <td>CGCTAGAG</td>\n",
       "      <td>L1</td>\n",
       "    </tr>\n",
       "    <tr>\n",
       "      <th>38</th>\n",
       "      <td>3/8/22</td>\n",
       "      <td>6/14/22</td>\n",
       "      <td>98</td>\n",
       "      <td>C1</td>\n",
       "      <td>MIBC</td>\n",
       "      <td>M-1</td>\n",
       "      <td>3</td>\n",
       "      <td>NaN</td>\n",
       "      <td>NaN</td>\n",
       "      <td>MI</td>\n",
       "      <td>MI_M</td>\n",
       "      <td>MI_MGH_0</td>\n",
       "      <td>CGCTAGAG</td>\n",
       "      <td>L1</td>\n",
       "    </tr>\n",
       "    <tr>\n",
       "      <th>39</th>\n",
       "      <td>3/8/22</td>\n",
       "      <td>6/14/22</td>\n",
       "      <td>98</td>\n",
       "      <td>C1</td>\n",
       "      <td>MIBC</td>\n",
       "      <td>M-1</td>\n",
       "      <td>3</td>\n",
       "      <td>NaN</td>\n",
       "      <td>NaN</td>\n",
       "      <td>MI</td>\n",
       "      <td>MI_M</td>\n",
       "      <td>MI_MGH_3</td>\n",
       "      <td>CGCTAGAG</td>\n",
       "      <td>L1</td>\n",
       "    </tr>\n",
       "    <tr>\n",
       "      <th>40</th>\n",
       "      <td>3/8/22</td>\n",
       "      <td>6/14/22</td>\n",
       "      <td>98</td>\n",
       "      <td>C1</td>\n",
       "      <td>NMIBC</td>\n",
       "      <td>M-12</td>\n",
       "      <td>3</td>\n",
       "      <td>NaN</td>\n",
       "      <td>NaN</td>\n",
       "      <td>NMI</td>\n",
       "      <td>NMI_M</td>\n",
       "      <td>NMI_MGH_3</td>\n",
       "      <td>AGGGCTAC</td>\n",
       "      <td>L3</td>\n",
       "    </tr>\n",
       "    <tr>\n",
       "      <th>41</th>\n",
       "      <td>3/8/22</td>\n",
       "      <td>6/14/22</td>\n",
       "      <td>98</td>\n",
       "      <td>C1</td>\n",
       "      <td>NMIBC</td>\n",
       "      <td>M-12</td>\n",
       "      <td>3</td>\n",
       "      <td>NaN</td>\n",
       "      <td>NaN</td>\n",
       "      <td>NMI</td>\n",
       "      <td>NMI_M</td>\n",
       "      <td>NMI_MGH_2</td>\n",
       "      <td>AGGGCTAC</td>\n",
       "      <td>L3</td>\n",
       "    </tr>\n",
       "    <tr>\n",
       "      <th>42</th>\n",
       "      <td>3/8/22</td>\n",
       "      <td>6/14/22</td>\n",
       "      <td>98</td>\n",
       "      <td>C1</td>\n",
       "      <td>NMIBC</td>\n",
       "      <td>M-12</td>\n",
       "      <td>3</td>\n",
       "      <td>NaN</td>\n",
       "      <td>NaN</td>\n",
       "      <td>NMI</td>\n",
       "      <td>NMI_M</td>\n",
       "      <td>NMI_MGH_5</td>\n",
       "      <td>AGGGCTAC</td>\n",
       "      <td>L3</td>\n",
       "    </tr>\n",
       "    <tr>\n",
       "      <th>43</th>\n",
       "      <td>3/8/22</td>\n",
       "      <td>6/14/22</td>\n",
       "      <td>98</td>\n",
       "      <td>C1</td>\n",
       "      <td>NMIBC</td>\n",
       "      <td>M-12</td>\n",
       "      <td>3</td>\n",
       "      <td>NaN</td>\n",
       "      <td>NaN</td>\n",
       "      <td>NMI</td>\n",
       "      <td>NMI_M</td>\n",
       "      <td>NMI_MGH_4</td>\n",
       "      <td>AGGGCTAC</td>\n",
       "      <td>L3</td>\n",
       "    </tr>\n",
       "    <tr>\n",
       "      <th>44</th>\n",
       "      <td>3/8/22</td>\n",
       "      <td>6/14/22</td>\n",
       "      <td>98</td>\n",
       "      <td>C1</td>\n",
       "      <td>NMIBC</td>\n",
       "      <td>M-12</td>\n",
       "      <td>3</td>\n",
       "      <td>NaN</td>\n",
       "      <td>NaN</td>\n",
       "      <td>NMI</td>\n",
       "      <td>NMI_M</td>\n",
       "      <td>NMI_MGH_6</td>\n",
       "      <td>AGGGCTAC</td>\n",
       "      <td>L3</td>\n",
       "    </tr>\n",
       "    <tr>\n",
       "      <th>45</th>\n",
       "      <td>3/8/22</td>\n",
       "      <td>6/14/22</td>\n",
       "      <td>98</td>\n",
       "      <td>C1</td>\n",
       "      <td>NMIBC</td>\n",
       "      <td>M-12</td>\n",
       "      <td>3</td>\n",
       "      <td>NaN</td>\n",
       "      <td>NaN</td>\n",
       "      <td>NMI</td>\n",
       "      <td>NMI_M</td>\n",
       "      <td>NMI_MGH_0</td>\n",
       "      <td>AGGGCTAC</td>\n",
       "      <td>L3</td>\n",
       "    </tr>\n",
       "  </tbody>\n",
       "</table>\n",
       "</div>"
      ],
      "text/plain": [
       "   Data_Inject Date_Sac  Aging_day Cell_Clone Genotype MouseID  Aging_Month  \\\n",
       "0       3/8/22   5/7/22         60         C1    NMIBC     M-3            2   \n",
       "1       3/8/22   5/7/22         60         C1    NMIBC     M-3            2   \n",
       "2       3/8/22   5/7/22         60         C1    NMIBC     M-3            2   \n",
       "3       3/8/22   5/7/22         60         C1    NMIBC     M-3            2   \n",
       "4       3/8/22   5/7/22         60         C1    NMIBC     M-3            2   \n",
       "5       3/8/22   5/7/22         60         C1    NMIBC     M-3            2   \n",
       "6       3/8/22   5/7/22         60         C1    NMIBC     M-3            2   \n",
       "7       3/8/22   5/7/22         60         C1    NMIBC     M-3            2   \n",
       "8       3/8/22   5/7/22         60         C1    NMIBC     M-3            2   \n",
       "9       3/8/22   5/7/22         60         C1    NMIBC     M-3            2   \n",
       "10     3/16/22  5/18/22         63         C2    NMIBC     R-1            2   \n",
       "11     3/16/22  5/18/22         63         C2    NMIBC     R-1            2   \n",
       "12     3/16/22  6/21/22         97         C2    NMIBC    R-10            3   \n",
       "13     3/16/22  6/21/22         97         C2    NMIBC    R-10            3   \n",
       "14     3/16/22  6/21/22         97         C2    NMIBC    R-10            3   \n",
       "15     3/16/22  6/21/22         97         C2    NMIBC    R-10            3   \n",
       "16     3/16/22  6/21/22         97         C2    NMIBC    R-10            3   \n",
       "17     3/16/22  6/21/22         97         C2    NMIBC    R-10            3   \n",
       "18     3/16/22  6/21/22         97         C2    NMIBC    R-10            3   \n",
       "19     3/16/22  6/21/22         97         C2    NMIBC    R-10            3   \n",
       "20     3/16/22  6/21/22         97         C2    NMIBC    R-10            3   \n",
       "21     3/16/22  6/21/22         97         C2    NMIBC    R-10            3   \n",
       "22     3/16/22  6/21/22         97         C2    NMIBC    R-10            3   \n",
       "23     3/16/22  6/21/22         97         C2    NMIBC    R-10            3   \n",
       "24     3/16/22  6/21/22         97         C2    NMIBC    R-10            3   \n",
       "25     3/16/22  6/21/22         97         C2    NMIBC    R-10            3   \n",
       "26     3/16/22  6/21/22         97         C2    NMIBC    R-10            3   \n",
       "27     3/16/22  6/21/22         97         C2    NMIBC    R-10            3   \n",
       "28     3/16/22  6/21/22         97         C2    NMIBC    R-10            3   \n",
       "29     3/16/22  6/21/22         97         C2    NMIBC    R-10            3   \n",
       "30     3/16/22  6/21/22         97         C2    NMIBC    R-10            3   \n",
       "31     3/16/22  6/21/22         97         C2    NMIBC    R-10            3   \n",
       "32      3/8/22  6/14/22         98         C1      Met     M-1            3   \n",
       "33      3/8/22  6/14/22         98         C1      Met     M-1            3   \n",
       "34      3/8/22  6/14/22         98         C1      Met     M-1            3   \n",
       "35      3/8/22  6/14/22         98         C1      Met     M-1            3   \n",
       "36      3/8/22  6/14/22         98         C1     MIBC     M-1            3   \n",
       "37      3/8/22  6/14/22         98         C1     MIBC     M-1            3   \n",
       "38      3/8/22  6/14/22         98         C1     MIBC     M-1            3   \n",
       "39      3/8/22  6/14/22         98         C1     MIBC     M-1            3   \n",
       "40      3/8/22  6/14/22         98         C1    NMIBC    M-12            3   \n",
       "41      3/8/22  6/14/22         98         C1    NMIBC    M-12            3   \n",
       "42      3/8/22  6/14/22         98         C1    NMIBC    M-12            3   \n",
       "43      3/8/22  6/14/22         98         C1    NMIBC    M-12            3   \n",
       "44      3/8/22  6/14/22         98         C1    NMIBC    M-12            3   \n",
       "45      3/8/22  6/14/22         98         C1    NMIBC    M-12            3   \n",
       "\n",
       "    Batch_Library  Batch_Harvest Tumor_Name Sample_Name      Tumor  Multi_BC  \\\n",
       "0             NaN            NaN         MC       CTR_M  CTR_MGH_1  TCGTAGTG   \n",
       "1             NaN            NaN         MC       CTR_M  CTR_MGH_4  TCGTAGTG   \n",
       "2             NaN            NaN         MC       CTR_M  CTR_MGH_7  TCGTAGTG   \n",
       "3             NaN            NaN         MC       CTR_M  CTR_MGH_2  TCGTAGTG   \n",
       "4             NaN            NaN         MC       CTR_M  CTR_MGH_5  TCGTAGTG   \n",
       "5             NaN            NaN         MC       CTR_M  CTR_MGH_3  TCGTAGTG   \n",
       "6             NaN            NaN         MC       CTR_M  CTR_MGH_6  TCGTAGTG   \n",
       "7             NaN            NaN         MC       CTR_M  CTR_MGH_0  TCGTAGTG   \n",
       "8             NaN            NaN         MC       CTR_M  CTR_MGH_9  TCGTAGTG   \n",
       "9             NaN            NaN         MC       CTR_M  CTR_MGH_8  TCGTAGTG   \n",
       "10            NaN            NaN         RC      CTR_RT   CTR_RT_1  CATGTTAC   \n",
       "11            NaN            NaN         RC      CTR_RT   CTR_RT_0  CATGTTAC   \n",
       "12            NaN            NaN        RTG      NMI_RT   GEM_RT_5  TGATCCAC   \n",
       "13            NaN            NaN        RTG      NMI_RT  GEM_RT_11  TGATCCAC   \n",
       "14            NaN            NaN        RTG      NMI_RT   GEM_RT_4  TGATCCAC   \n",
       "15            NaN            NaN        RTG      NMI_RT   GEM_RT_8  TGATCCAC   \n",
       "16            NaN            NaN        RTG      NMI_RT  GEM_RT_15  TGATCCAC   \n",
       "17            NaN            NaN        RTG      NMI_RT  GEM_RT_12  TGATCCAC   \n",
       "18            NaN            NaN        RTG      NMI_RT   GEM_RT_1  TGATCCAC   \n",
       "19            NaN            NaN        RTG      NMI_RT  GEM_RT_14  TGATCCAC   \n",
       "20            NaN            NaN        RTG      NMI_RT   GEM_RT_7  TGATCCAC   \n",
       "21            NaN            NaN        RTG      NMI_RT  GEM_RT_10  TGATCCAC   \n",
       "22            NaN            NaN        RTG      NMI_RT   GEM_RT_2  TGATCCAC   \n",
       "23            NaN            NaN        RTG      NMI_RT   GEM_RT_3  TGATCCAC   \n",
       "24            NaN            NaN        RTG      NMI_RT   GEM_RT_0  TGATCCAC   \n",
       "25            NaN            NaN        RTG      NMI_RT  GEM_RT_19  TGATCCAC   \n",
       "26            NaN            NaN        RTG      NMI_RT   GEM_RT_6  TGATCCAC   \n",
       "27            NaN            NaN        RTG      NMI_RT  GEM_RT_18  TGATCCAC   \n",
       "28            NaN            NaN        RTG      NMI_RT  GEM_RT_13  TGATCCAC   \n",
       "29            NaN            NaN        RTG      NMI_RT  GEM_RT_16  TGATCCAC   \n",
       "30            NaN            NaN        RTG      NMI_RT   GEM_RT_9  TGATCCAC   \n",
       "31            NaN            NaN        RTG      NMI_RT  GEM_RT_17  TGATCCAC   \n",
       "32            NaN            NaN        Met       Met_M  Met_MGH_1  ACGCGTTA   \n",
       "33            NaN            NaN        Met       Met_M  Met_MGH_2  ACGCGTTA   \n",
       "34            NaN            NaN        Met       Met_M  Met_MGH_0  ACGCGTTA   \n",
       "35            NaN            NaN        Met       Met_M  Met_MGH_3  ACGCGTTA   \n",
       "36            NaN            NaN         MI        MI_M   MI_MGH_1  CGCTAGAG   \n",
       "37            NaN            NaN         MI        MI_M   MI_MGH_2  CGCTAGAG   \n",
       "38            NaN            NaN         MI        MI_M   MI_MGH_0  CGCTAGAG   \n",
       "39            NaN            NaN         MI        MI_M   MI_MGH_3  CGCTAGAG   \n",
       "40            NaN            NaN        NMI       NMI_M  NMI_MGH_3  AGGGCTAC   \n",
       "41            NaN            NaN        NMI       NMI_M  NMI_MGH_2  AGGGCTAC   \n",
       "42            NaN            NaN        NMI       NMI_M  NMI_MGH_5  AGGGCTAC   \n",
       "43            NaN            NaN        NMI       NMI_M  NMI_MGH_4  AGGGCTAC   \n",
       "44            NaN            NaN        NMI       NMI_M  NMI_MGH_6  AGGGCTAC   \n",
       "45            NaN            NaN        NMI       NMI_M  NMI_MGH_0  AGGGCTAC   \n",
       "\n",
       "   X10x_Lane  \n",
       "0         L2  \n",
       "1         L2  \n",
       "2         L2  \n",
       "3         L2  \n",
       "4         L2  \n",
       "5         L2  \n",
       "6         L2  \n",
       "7         L2  \n",
       "8         L2  \n",
       "9         L2  \n",
       "10        L4  \n",
       "11        L4  \n",
       "12        L4  \n",
       "13        L4  \n",
       "14        L4  \n",
       "15        L4  \n",
       "16        L4  \n",
       "17        L4  \n",
       "18        L4  \n",
       "19        L4  \n",
       "20        L4  \n",
       "21        L4  \n",
       "22        L4  \n",
       "23        L4  \n",
       "24        L4  \n",
       "25        L4  \n",
       "26        L4  \n",
       "27        L4  \n",
       "28        L4  \n",
       "29        L4  \n",
       "30        L4  \n",
       "31        L4  \n",
       "32        L3  \n",
       "33        L3  \n",
       "34        L3  \n",
       "35        L3  \n",
       "36        L1  \n",
       "37        L1  \n",
       "38        L1  \n",
       "39        L1  \n",
       "40        L3  \n",
       "41        L3  \n",
       "42        L3  \n",
       "43        L3  \n",
       "44        L3  \n",
       "45        L3  "
      ]
     },
     "execution_count": 18,
     "metadata": {},
     "output_type": "execute_result"
    }
   ],
   "source": [
    "trcr_master"
   ]
  },
  {
   "cell_type": "code",
   "execution_count": 19,
   "metadata": {},
   "outputs": [
    {
     "data": {
      "text/html": [
       "<div>\n",
       "<style scoped>\n",
       "    .dataframe tbody tr th:only-of-type {\n",
       "        vertical-align: middle;\n",
       "    }\n",
       "\n",
       "    .dataframe tbody tr th {\n",
       "        vertical-align: top;\n",
       "    }\n",
       "\n",
       "    .dataframe thead th {\n",
       "        text-align: right;\n",
       "    }\n",
       "</style>\n",
       "<table border=\"1\" class=\"dataframe\">\n",
       "  <thead>\n",
       "    <tr style=\"text-align: right;\">\n",
       "      <th></th>\n",
       "      <th>Tumor</th>\n",
       "      <th>sampleID</th>\n",
       "      <th>cellBC</th>\n",
       "      <th>intBC</th>\n",
       "      <th>allele</th>\n",
       "      <th>r1</th>\n",
       "      <th>r2</th>\n",
       "      <th>r3</th>\n",
       "      <th>lineageGrp</th>\n",
       "      <th>UMI</th>\n",
       "      <th>readCount</th>\n",
       "      <th>Cell_Clone</th>\n",
       "    </tr>\n",
       "  </thead>\n",
       "  <tbody>\n",
       "    <tr>\n",
       "      <th>1</th>\n",
       "      <td>CTR_MGH_0</td>\n",
       "      <td>CTR_MGH</td>\n",
       "      <td>CTR_MGH.GGCAGTCGTCGCCTAG</td>\n",
       "      <td>TCCCTTACTTCAC</td>\n",
       "      <td>AAGAT[117:2D]GCCTGGATAT[168:4D]GGTTCATTCG[222:...</td>\n",
       "      <td>AAGAT[117:2D]GCCTG</td>\n",
       "      <td>GATAT[168:4D]GGTTC</td>\n",
       "      <td>ATTCG[222:1I]GCGGAG</td>\n",
       "      <td>0</td>\n",
       "      <td>45</td>\n",
       "      <td>12435</td>\n",
       "      <td>C1</td>\n",
       "    </tr>\n",
       "    <tr>\n",
       "      <th>2</th>\n",
       "      <td>CTR_MGH_0</td>\n",
       "      <td>CTR_MGH</td>\n",
       "      <td>CTR_MGH.ATAGGCTAGATGACAT</td>\n",
       "      <td>ACGCTCTCTGGAC</td>\n",
       "      <td>CGAAA[None]AATGGATATC[169:54D]GGAGGATATC[169:5...</td>\n",
       "      <td>CGAAA[None]AATGG</td>\n",
       "      <td>ATATC[169:54D]GGAGG</td>\n",
       "      <td>ATATC[169:54D]GGAGG</td>\n",
       "      <td>0</td>\n",
       "      <td>10</td>\n",
       "      <td>2968</td>\n",
       "      <td>C1</td>\n",
       "    </tr>\n",
       "    <tr>\n",
       "      <th>3</th>\n",
       "      <td>CTR_MGH_0</td>\n",
       "      <td>CTR_MGH</td>\n",
       "      <td>CTR_MGH.CGCATGGAGCTTGTTG</td>\n",
       "      <td>GGCGAATTTAATC</td>\n",
       "      <td>GAAAA[116:1D]TGGCCATATC[None]TCTGGATTCG[222:14...</td>\n",
       "      <td>GAAAA[116:1D]TGGCC</td>\n",
       "      <td>ATATC[None]TCTGG</td>\n",
       "      <td>ATTCG[222:14D]GTTCG</td>\n",
       "      <td>0</td>\n",
       "      <td>6</td>\n",
       "      <td>2206</td>\n",
       "      <td>C1</td>\n",
       "    </tr>\n",
       "    <tr>\n",
       "      <th>4</th>\n",
       "      <td>CTR_MGH_0</td>\n",
       "      <td>CTR_MGH</td>\n",
       "      <td>CTR_MGH.ATAGGCTAGATGACAT</td>\n",
       "      <td>CGTGTGGCGAGCA</td>\n",
       "      <td>CGAAA[115:2D]TGGCCGATAT[168:1I]TCTCTGATTCG[222...</td>\n",
       "      <td>CGAAA[115:2D]TGGCC</td>\n",
       "      <td>GATAT[168:1I]TCTCTG</td>\n",
       "      <td>ATTCG[222:2D]GAGGA</td>\n",
       "      <td>0</td>\n",
       "      <td>12</td>\n",
       "      <td>4033</td>\n",
       "      <td>C1</td>\n",
       "    </tr>\n",
       "    <tr>\n",
       "      <th>5</th>\n",
       "      <td>CTR_MGH_0</td>\n",
       "      <td>CTR_MGH</td>\n",
       "      <td>CTR_MGH.CCTAAGACAAGTGGTG</td>\n",
       "      <td>TCTGTCTATTAAC</td>\n",
       "      <td>TTGTA[107:10D]TGGCCGATAT[168:53D]GCGGAGATAT[16...</td>\n",
       "      <td>TTGTA[107:10D]TGGCC</td>\n",
       "      <td>GATAT[168:53D]GCGGA</td>\n",
       "      <td>GATAT[168:53D]GCGGA</td>\n",
       "      <td>0</td>\n",
       "      <td>22</td>\n",
       "      <td>9481</td>\n",
       "      <td>C1</td>\n",
       "    </tr>\n",
       "    <tr>\n",
       "      <th>...</th>\n",
       "      <td>...</td>\n",
       "      <td>...</td>\n",
       "      <td>...</td>\n",
       "      <td>...</td>\n",
       "      <td>...</td>\n",
       "      <td>...</td>\n",
       "      <td>...</td>\n",
       "      <td>...</td>\n",
       "      <td>...</td>\n",
       "      <td>...</td>\n",
       "      <td>...</td>\n",
       "      <td>...</td>\n",
       "    </tr>\n",
       "    <tr>\n",
       "      <th>216252</th>\n",
       "      <td>NMI_MGH_6</td>\n",
       "      <td>NMI_MGH</td>\n",
       "      <td>NMI_MGH.GTAGGTTCACAGACGA</td>\n",
       "      <td>TCTGCGGAGCCCC</td>\n",
       "      <td>CGAAA[None]AATGGATATC[None]TCTGGTTCGC[None]GGAGG</td>\n",
       "      <td>CGAAA[None]AATGG</td>\n",
       "      <td>ATATC[None]TCTGG</td>\n",
       "      <td>TTCGC[None]GGAGG</td>\n",
       "      <td>6</td>\n",
       "      <td>10</td>\n",
       "      <td>3797</td>\n",
       "      <td>C1</td>\n",
       "    </tr>\n",
       "    <tr>\n",
       "      <th>216254</th>\n",
       "      <td>NMI_MGH_6</td>\n",
       "      <td>NMI_MGH</td>\n",
       "      <td>NMI_MGH.GTAGGTTCACAGACGA</td>\n",
       "      <td>TGAGGTTGGACTA</td>\n",
       "      <td>GCCGA[113:12D]CAACTCCATG[151:21D]GGTTCTTCGC[No...</td>\n",
       "      <td>GCCGA[113:12D]CAACT</td>\n",
       "      <td>CCATG[151:21D]GGTTC</td>\n",
       "      <td>TTCGC[None]GGAGG</td>\n",
       "      <td>6</td>\n",
       "      <td>10</td>\n",
       "      <td>2593</td>\n",
       "      <td>C1</td>\n",
       "    </tr>\n",
       "    <tr>\n",
       "      <th>216264</th>\n",
       "      <td>NMI_MGH_6</td>\n",
       "      <td>NMI_MGH</td>\n",
       "      <td>NMI_MGH.TGTGCGGTCTCTGGTC</td>\n",
       "      <td>TGTAGGATTTTCG</td>\n",
       "      <td>CGAAA[None]AATGGATATC[None]TCTGGTTCGC[None]GGAGG</td>\n",
       "      <td>CGAAA[None]AATGG</td>\n",
       "      <td>ATATC[None]TCTGG</td>\n",
       "      <td>TTCGC[None]GGAGG</td>\n",
       "      <td>6</td>\n",
       "      <td>4</td>\n",
       "      <td>1199</td>\n",
       "      <td>C1</td>\n",
       "    </tr>\n",
       "    <tr>\n",
       "      <th>216268</th>\n",
       "      <td>NMI_MGH_6</td>\n",
       "      <td>NMI_MGH</td>\n",
       "      <td>NMI_MGH.GTAGGTTCACAGACGA</td>\n",
       "      <td>TGTAGGATTTTCG</td>\n",
       "      <td>CGAAA[None]AATGGATATC[None]TCTGGTTCGC[None]GGAGG</td>\n",
       "      <td>CGAAA[None]AATGG</td>\n",
       "      <td>ATATC[None]TCTGG</td>\n",
       "      <td>TTCGC[None]GGAGG</td>\n",
       "      <td>6</td>\n",
       "      <td>11</td>\n",
       "      <td>4048</td>\n",
       "      <td>C1</td>\n",
       "    </tr>\n",
       "    <tr>\n",
       "      <th>216274</th>\n",
       "      <td>NMI_MGH_6</td>\n",
       "      <td>NMI_MGH</td>\n",
       "      <td>NMI_MGH.TCATTGTGTAGCACGA</td>\n",
       "      <td>GTTGCAGTTGGCC</td>\n",
       "      <td>GGTCC[101:12D]AAAATAACGA[165:14D]CCGTGATTCG[22...</td>\n",
       "      <td>GGTCC[101:12D]AAAAT</td>\n",
       "      <td>AACGA[165:14D]CCGTG</td>\n",
       "      <td>ATTCG[222:1I]GCGGAG</td>\n",
       "      <td>6</td>\n",
       "      <td>1</td>\n",
       "      <td>390</td>\n",
       "      <td>C1</td>\n",
       "    </tr>\n",
       "  </tbody>\n",
       "</table>\n",
       "<p>73404 rows × 12 columns</p>\n",
       "</div>"
      ],
      "text/plain": [
       "            Tumor sampleID                    cellBC          intBC  \\\n",
       "1       CTR_MGH_0  CTR_MGH  CTR_MGH.GGCAGTCGTCGCCTAG  TCCCTTACTTCAC   \n",
       "2       CTR_MGH_0  CTR_MGH  CTR_MGH.ATAGGCTAGATGACAT  ACGCTCTCTGGAC   \n",
       "3       CTR_MGH_0  CTR_MGH  CTR_MGH.CGCATGGAGCTTGTTG  GGCGAATTTAATC   \n",
       "4       CTR_MGH_0  CTR_MGH  CTR_MGH.ATAGGCTAGATGACAT  CGTGTGGCGAGCA   \n",
       "5       CTR_MGH_0  CTR_MGH  CTR_MGH.CCTAAGACAAGTGGTG  TCTGTCTATTAAC   \n",
       "...           ...      ...                       ...            ...   \n",
       "216252  NMI_MGH_6  NMI_MGH  NMI_MGH.GTAGGTTCACAGACGA  TCTGCGGAGCCCC   \n",
       "216254  NMI_MGH_6  NMI_MGH  NMI_MGH.GTAGGTTCACAGACGA  TGAGGTTGGACTA   \n",
       "216264  NMI_MGH_6  NMI_MGH  NMI_MGH.TGTGCGGTCTCTGGTC  TGTAGGATTTTCG   \n",
       "216268  NMI_MGH_6  NMI_MGH  NMI_MGH.GTAGGTTCACAGACGA  TGTAGGATTTTCG   \n",
       "216274  NMI_MGH_6  NMI_MGH  NMI_MGH.TCATTGTGTAGCACGA  GTTGCAGTTGGCC   \n",
       "\n",
       "                                                   allele  \\\n",
       "1       AAGAT[117:2D]GCCTGGATAT[168:4D]GGTTCATTCG[222:...   \n",
       "2       CGAAA[None]AATGGATATC[169:54D]GGAGGATATC[169:5...   \n",
       "3       GAAAA[116:1D]TGGCCATATC[None]TCTGGATTCG[222:14...   \n",
       "4       CGAAA[115:2D]TGGCCGATAT[168:1I]TCTCTGATTCG[222...   \n",
       "5       TTGTA[107:10D]TGGCCGATAT[168:53D]GCGGAGATAT[16...   \n",
       "...                                                   ...   \n",
       "216252   CGAAA[None]AATGGATATC[None]TCTGGTTCGC[None]GGAGG   \n",
       "216254  GCCGA[113:12D]CAACTCCATG[151:21D]GGTTCTTCGC[No...   \n",
       "216264   CGAAA[None]AATGGATATC[None]TCTGGTTCGC[None]GGAGG   \n",
       "216268   CGAAA[None]AATGGATATC[None]TCTGGTTCGC[None]GGAGG   \n",
       "216274  GGTCC[101:12D]AAAATAACGA[165:14D]CCGTGATTCG[22...   \n",
       "\n",
       "                         r1                   r2                   r3  \\\n",
       "1        AAGAT[117:2D]GCCTG   GATAT[168:4D]GGTTC  ATTCG[222:1I]GCGGAG   \n",
       "2          CGAAA[None]AATGG  ATATC[169:54D]GGAGG  ATATC[169:54D]GGAGG   \n",
       "3        GAAAA[116:1D]TGGCC     ATATC[None]TCTGG  ATTCG[222:14D]GTTCG   \n",
       "4        CGAAA[115:2D]TGGCC  GATAT[168:1I]TCTCTG   ATTCG[222:2D]GAGGA   \n",
       "5       TTGTA[107:10D]TGGCC  GATAT[168:53D]GCGGA  GATAT[168:53D]GCGGA   \n",
       "...                     ...                  ...                  ...   \n",
       "216252     CGAAA[None]AATGG     ATATC[None]TCTGG     TTCGC[None]GGAGG   \n",
       "216254  GCCGA[113:12D]CAACT  CCATG[151:21D]GGTTC     TTCGC[None]GGAGG   \n",
       "216264     CGAAA[None]AATGG     ATATC[None]TCTGG     TTCGC[None]GGAGG   \n",
       "216268     CGAAA[None]AATGG     ATATC[None]TCTGG     TTCGC[None]GGAGG   \n",
       "216274  GGTCC[101:12D]AAAAT  AACGA[165:14D]CCGTG  ATTCG[222:1I]GCGGAG   \n",
       "\n",
       "        lineageGrp  UMI  readCount Cell_Clone  \n",
       "1                0   45      12435         C1  \n",
       "2                0   10       2968         C1  \n",
       "3                0    6       2206         C1  \n",
       "4                0   12       4033         C1  \n",
       "5                0   22       9481         C1  \n",
       "...            ...  ...        ...        ...  \n",
       "216252           6   10       3797         C1  \n",
       "216254           6   10       2593         C1  \n",
       "216264           6    4       1199         C1  \n",
       "216268           6   11       4048         C1  \n",
       "216274           6    1        390         C1  \n",
       "\n",
       "[73404 rows x 12 columns]"
      ]
     },
     "execution_count": 19,
     "metadata": {},
     "output_type": "execute_result"
    }
   ],
   "source": [
    "allele_table_filtered"
   ]
  },
  {
   "cell_type": "code",
   "execution_count": 20,
   "metadata": {},
   "outputs": [
    {
     "name": "stderr",
     "output_type": "stream",
     "text": [
      "/home/yanzeqin/miniconda3/envs/KP/lib/python3.7/site-packages/ipykernel_launcher.py:4: TqdmDeprecationWarning: This function will be removed in tqdm==5.0.0\n",
      "Please use `tqdm.notebook.tqdm` instead of `tqdm.tqdm_notebook`\n",
      "  after removing the cwd from sys.path.\n"
     ]
    },
    {
     "data": {
      "application/vnd.jupyter.widget-view+json": {
       "model_id": "0a231b2c57704bdbbfcadd58fc00c689",
       "version_major": 2,
       "version_minor": 0
      },
      "text/plain": [
       "  0%|          | 0/2 [00:00<?, ?it/s]"
      ]
     },
     "metadata": {},
     "output_type": "display_data"
    }
   ],
   "source": [
    "es_clones = trcr_master['Cell_Clone'].unique()\n",
    "es_to_props = {}\n",
    "\n",
    "for esc in tqdm_notebook(es_clones):\n",
    "    \n",
    "    if type(esc) != str:\n",
    "        continue\n",
    "    \n",
    "    at_es = allele_table_filtered[allele_table_filtered['Cell_Clone'] == esc]\n",
    "    \n",
    "    if at_es.shape[0] == 0:\n",
    "        continue\n",
    "    \n",
    "    es_piv = pd.pivot_table(at_es, index=\"Tumor\", columns=\"intBC\", values=\"UMI\", aggfunc=\"sum\")\n",
    "    es_piv.fillna(value = 0, inplace=True)\n",
    "    es_piv[es_piv > 0] = 1\n",
    "    \n",
    "    props = es_piv.apply(lambda x: np.sum(x) / len(x)).to_frame().reset_index()\n",
    "    props.columns = ['intBC', 'prop']\n",
    "    \n",
    "    props = props.sort_values(by = 'prop', ascending=False)\n",
    "    props = props[(props['intBC'] != 'NC')]\n",
    "    \n",
    "    props.index = props.intBC\n",
    "    \n",
    "    es_to_props[esc] = props"
   ]
  },
  {
   "cell_type": "code",
   "execution_count": 21,
   "metadata": {},
   "outputs": [
    {
     "data": {
      "text/plain": [
       "<function tqdm.tqdm_notebook(*args, **kwargs)>"
      ]
     },
     "execution_count": 21,
     "metadata": {},
     "output_type": "execute_result"
    }
   ],
   "source": [
    "tqdm_notebook"
   ]
  },
  {
   "cell_type": "code",
   "execution_count": 22,
   "metadata": {},
   "outputs": [
    {
     "name": "stderr",
     "output_type": "stream",
     "text": [
      "/home/yanzeqin/miniconda3/envs/KP/lib/python3.7/site-packages/ipykernel_launcher.py:7: TqdmDeprecationWarning: This function will be removed in tqdm==5.0.0\n",
      "Please use `tqdm.notebook.tqdm` instead of `tqdm.tqdm_notebook`\n",
      "  import sys\n"
     ]
    },
    {
     "data": {
      "application/vnd.jupyter.widget-view+json": {
       "model_id": "5a9fb6ae0d01416bb1d7616b77c55db5",
       "version_major": 2,
       "version_minor": 0
      },
      "text/plain": [
       "  0%|          | 0/2 [00:00<?, ?it/s]"
      ]
     },
     "metadata": {},
     "output_type": "display_data"
    }
   ],
   "source": [
    "\n",
    "at_piv = pd.pivot_table(allele_table_filtered, index=\"cellBC\", columns=\"intBC\", values=\"UMI\", aggfunc=\"sum\")\n",
    "at_piv.fillna(value = 0, inplace=True)\n",
    "at_piv[at_piv > 0] = 1\n",
    "\n",
    "es_rep_dfs = {}\n",
    "\n",
    "for esc in tqdm_notebook(es_clones):\n",
    "\n",
    "    tumors = allele_table_filtered.loc[allele_table_filtered['Cell_Clone'] == esc, 'Tumor'].unique()\n",
    "    tumor_dict = {}\n",
    "    \n",
    "    for tumor in tumors:\n",
    "    \n",
    "        cells = allele_table_filtered.loc[allele_table_filtered['Tumor'] == tumor, 'cellBC'].unique()\n",
    "        tumor_piv = at_piv.loc[cells]\n",
    "            \n",
    "        tumor_piv = tumor_piv.loc[:, tumor_piv.sum(axis=0) > 0]\n",
    "            \n",
    "        props = tumor_piv.apply(lambda x: np.sum(x>0) / len(x)).to_frame().reset_index()\n",
    "        props.columns = ['intBC', 'prop']\n",
    "\n",
    "        props = props.sort_values(by = 'prop', ascending=False)\n",
    "        props = props[(props['intBC'] != 'NC')]\n",
    "\n",
    "        props.index = props.intBC\n",
    "\n",
    "        tumor_dict[tumor] = props['prop'].to_dict()\n",
    "    \n",
    "    tumor_df = pd.DataFrame.from_dict(tumor_dict, orient='index')\n",
    "    tumor_df.fillna(value = 0, inplace=True)\n",
    "    es_rep_dfs[esc] = tumor_df"
   ]
  },
  {
   "cell_type": "markdown",
   "metadata": {},
   "source": [
    "### Figure S1F: Consensus barcodes"
   ]
  },
  {
   "cell_type": "code",
   "execution_count": 23,
   "metadata": {},
   "outputs": [
    {
     "data": {
      "text/plain": [
       "{'C1':            ACGCTCTCTGGAC  TGTGTCGCATCTG  CGTGTGGCGAGCA  TCTGTCTATTAAC  \\\n",
       " CTR_MGH_0       0.471154       0.471154       0.471154       0.432692   \n",
       " CTR_MGH_1       0.000000       0.000000       0.000000       0.000000   \n",
       " CTR_MGH_3       0.000000       0.000000       0.000000       0.000000   \n",
       " CTR_MGH_7       0.000000       0.000000       0.000000       0.000000   \n",
       " CTR_MGH_5       0.000000       0.000000       0.000000       0.000000   \n",
       " CTR_MGH_8       0.000000       0.000000       0.000000       0.000000   \n",
       " CTR_MGH_9       0.000000       0.000000       0.000000       0.000000   \n",
       " CTR_MGH_2       0.000000       0.000000       0.000000       0.000000   \n",
       " CTR_MGH_6       0.000000       0.000000       0.000000       0.000000   \n",
       " Met_MGH_2       0.000000       0.000000       0.000000       0.000000   \n",
       " MI_MGH_0        0.000000       0.000000       0.000000       0.000000   \n",
       " MI_MGH_1        0.000000       0.000000       0.000000       0.000000   \n",
       " NMI_MGH_2       0.000000       0.000000       0.000000       0.000000   \n",
       " NMI_MGH_4       0.000000       0.000000       0.000000       0.000000   \n",
       " NMI_MGH_6       0.000000       0.000000       0.000000       0.000000   \n",
       " CTR_MGH_4       0.000000       0.000000       0.000000       0.000000   \n",
       " Met_MGH_0       0.000000       0.000000       0.000000       0.000000   \n",
       " NMI_MGH_3       0.000000       0.000000       0.000000       0.000000   \n",
       " NMI_MGH_5       0.000000       0.000000       0.000000       0.000000   \n",
       " NMI_MGH_0       0.000000       0.000000       0.000000       0.000000   \n",
       " MI_MGH_2        0.000000       0.000000       0.000000       0.000000   \n",
       " MI_MGH_3        0.000000       0.000000       0.000000       0.000000   \n",
       " Met_MGH_3       0.000000       0.000000       0.000000       0.000000   \n",
       " \n",
       "            GTCACGGAGATAC  CTTGCACCGACAG  GGCGAATTTAATC  CCGGGCTTCCACG  \\\n",
       " CTR_MGH_0       0.403846       0.403846       0.394231       0.384615   \n",
       " CTR_MGH_1       0.000000       0.000000       0.000000       0.000000   \n",
       " CTR_MGH_3       0.000000       0.000000       0.000000       0.000000   \n",
       " CTR_MGH_7       0.000000       0.000000       0.000000       0.000000   \n",
       " CTR_MGH_5       0.000000       0.000000       0.000000       0.000000   \n",
       " CTR_MGH_8       0.000000       0.000000       0.000000       0.000000   \n",
       " CTR_MGH_9       0.000000       0.000000       0.000000       0.000000   \n",
       " CTR_MGH_2       0.000000       0.000000       0.000000       0.000000   \n",
       " CTR_MGH_6       0.000000       0.000000       0.000000       0.000000   \n",
       " Met_MGH_2       0.000000       0.000000       0.000000       0.000000   \n",
       " MI_MGH_0        0.000000       0.000000       0.000000       0.000000   \n",
       " MI_MGH_1        0.000000       0.000000       0.000000       0.000000   \n",
       " NMI_MGH_2       0.000000       0.000000       0.000000       0.000000   \n",
       " NMI_MGH_4       0.000000       0.000000       0.000000       0.000000   \n",
       " NMI_MGH_6       0.000000       0.000000       0.000000       0.000000   \n",
       " CTR_MGH_4       0.000000       0.000000       0.000000       0.000000   \n",
       " Met_MGH_0       0.000000       0.000000       0.000000       0.000000   \n",
       " NMI_MGH_3       0.000000       0.000000       0.000000       0.000000   \n",
       " NMI_MGH_5       0.000000       0.000000       0.000000       0.000000   \n",
       " NMI_MGH_0       0.000000       0.000000       0.000000       0.000000   \n",
       " MI_MGH_2        0.000000       0.000000       0.000000       0.000000   \n",
       " MI_MGH_3        0.000000       0.000000       0.000000       0.000000   \n",
       " Met_MGH_3       0.000000       0.000000       0.000000       0.000000   \n",
       " \n",
       "            GGCCAATGGATGA  GCACATCTGACGC  ...  TTCCTGGGATAGG  TATTTAAACCAGA  \\\n",
       " CTR_MGH_0       0.384615          0.375  ...       0.000000       0.000000   \n",
       " CTR_MGH_1       0.000000          0.000  ...       0.000000       0.000000   \n",
       " CTR_MGH_3       0.000000          0.000  ...       0.000000       0.000000   \n",
       " CTR_MGH_7       0.000000          0.000  ...       0.000000       0.000000   \n",
       " CTR_MGH_5       0.000000          0.000  ...       0.000000       0.000000   \n",
       " CTR_MGH_8       0.000000          0.000  ...       0.000000       0.000000   \n",
       " CTR_MGH_9       0.000000          0.000  ...       0.000000       0.000000   \n",
       " CTR_MGH_2       0.000000          0.000  ...       0.000000       0.000000   \n",
       " CTR_MGH_6       0.000000          0.000  ...       0.000000       0.000000   \n",
       " Met_MGH_2       0.000000          0.000  ...       0.000000       0.000000   \n",
       " MI_MGH_0        0.000000          0.000  ...       0.000000       0.000000   \n",
       " MI_MGH_1        0.000000          0.000  ...       0.000000       0.000000   \n",
       " NMI_MGH_2       0.000000          0.000  ...       0.000000       0.000000   \n",
       " NMI_MGH_4       0.000000          0.000  ...       0.000000       0.000000   \n",
       " NMI_MGH_6       0.000000          0.000  ...       0.000000       0.000000   \n",
       " CTR_MGH_4       0.000000          0.000  ...       0.000000       0.000000   \n",
       " Met_MGH_0       0.000000          0.000  ...       0.000000       0.000000   \n",
       " NMI_MGH_3       0.000000          0.000  ...       0.000000       0.000000   \n",
       " NMI_MGH_5       0.000000          0.000  ...       0.857143       0.857143   \n",
       " NMI_MGH_0       0.000000          0.000  ...       0.000000       0.000000   \n",
       " MI_MGH_2        0.000000          0.000  ...       0.000000       0.000000   \n",
       " MI_MGH_3        0.000000          0.000  ...       0.000000       0.000000   \n",
       " Met_MGH_3       0.000000          0.000  ...       0.000000       0.000000   \n",
       " \n",
       "            CGAAGGTAATAAC  AGTATTTCTCCTG  TGTAGGATTTTCG  TCTGCGGAGCCCC  \\\n",
       " CTR_MGH_0            0.0            0.0            0.0            0.0   \n",
       " CTR_MGH_1            0.0            0.0            0.0            0.0   \n",
       " CTR_MGH_3            0.0            0.0            0.0            0.0   \n",
       " CTR_MGH_7            0.0            0.0            0.0            0.0   \n",
       " CTR_MGH_5            0.0            0.0            0.0            0.0   \n",
       " CTR_MGH_8            0.0            0.0            0.0            0.0   \n",
       " CTR_MGH_9            0.0            0.0            0.0            0.0   \n",
       " CTR_MGH_2            0.0            0.0            0.0            0.0   \n",
       " CTR_MGH_6            0.0            0.0            0.0            0.0   \n",
       " Met_MGH_2            0.0            0.0            0.0            0.0   \n",
       " MI_MGH_0             0.0            0.0            0.0            0.0   \n",
       " MI_MGH_1             0.0            0.0            0.0            0.0   \n",
       " NMI_MGH_2            0.0            0.0            0.0            0.0   \n",
       " NMI_MGH_4            0.0            0.0            0.0            0.0   \n",
       " NMI_MGH_6            1.0            1.0            1.0            1.0   \n",
       " CTR_MGH_4            0.0            0.0            0.0            0.0   \n",
       " Met_MGH_0            0.0            0.0            0.0            0.0   \n",
       " NMI_MGH_3            0.0            0.0            0.0            0.0   \n",
       " NMI_MGH_5            0.0            0.0            0.0            0.0   \n",
       " NMI_MGH_0            0.0            0.0            0.0            0.0   \n",
       " MI_MGH_2             0.0            0.0            0.0            0.0   \n",
       " MI_MGH_3             0.0            0.0            0.0            0.0   \n",
       " Met_MGH_3            0.0            0.0            0.0            0.0   \n",
       " \n",
       "            GTCTCGTACTATT  TCCGTGTCCACAA  AACGATTTGATCT  ACTGTTTATGACC  \n",
       " CTR_MGH_0       0.000000       0.000000       0.000000           0.00  \n",
       " CTR_MGH_1       0.000000       0.000000       0.000000           0.00  \n",
       " CTR_MGH_3       0.000000       0.000000       0.000000           0.00  \n",
       " CTR_MGH_7       0.000000       0.000000       0.000000           0.00  \n",
       " CTR_MGH_5       0.000000       0.000000       0.000000           0.00  \n",
       " CTR_MGH_8       0.000000       0.000000       0.000000           0.00  \n",
       " CTR_MGH_9       0.000000       0.000000       0.000000           0.00  \n",
       " CTR_MGH_2       0.000000       0.000000       0.000000           0.00  \n",
       " CTR_MGH_6       0.000000       0.000000       0.000000           0.00  \n",
       " Met_MGH_2       0.000000       0.000000       0.000000           0.00  \n",
       " MI_MGH_0        0.000000       0.000000       0.000000           0.00  \n",
       " MI_MGH_1        0.000000       0.000000       0.000000           0.00  \n",
       " NMI_MGH_2       0.000000       0.000000       0.000000           0.00  \n",
       " NMI_MGH_4       0.000000       0.000000       0.000000           0.00  \n",
       " NMI_MGH_6       0.916667       0.916667       0.833333           0.25  \n",
       " CTR_MGH_4       0.000000       0.000000       0.000000           0.00  \n",
       " Met_MGH_0       0.000000       0.000000       0.000000           0.00  \n",
       " NMI_MGH_3       0.000000       0.000000       0.000000           0.00  \n",
       " NMI_MGH_5       0.000000       0.000000       0.000000           0.00  \n",
       " NMI_MGH_0       0.000000       0.000000       0.000000           0.00  \n",
       " MI_MGH_2        0.000000       0.000000       0.000000           0.00  \n",
       " MI_MGH_3        0.000000       0.000000       0.000000           0.00  \n",
       " Met_MGH_3       0.000000       0.000000       0.000000           0.00  \n",
       " \n",
       " [23 rows x 347 columns],\n",
       " 'C2':            CAGTGCCGTGGGC  TGGGTGCGGCCGA  TGTCCGCGCGCCT  CACGATACCAAGA  \\\n",
       " CTR_RT_0        0.791667       0.791667       0.791667           0.75   \n",
       " CTR_RT_1        0.000000       0.000000       0.000000           0.00   \n",
       " GEM_RT_13       0.000000       0.000000       0.000000           0.00   \n",
       " GEM_RT_15       0.000000       0.000000       0.000000           0.00   \n",
       " GEM_RT_19       0.000000       0.000000       0.000000           0.00   \n",
       " GEM_RT_1        0.000000       0.000000       0.000000           0.00   \n",
       " GEM_RT_12       0.000000       0.000000       0.000000           0.00   \n",
       " GEM_RT_17       0.000000       0.000000       0.000000           0.00   \n",
       " GEM_RT_18       0.000000       0.000000       0.000000           0.00   \n",
       " GEM_RT_5        0.000000       0.000000       0.000000           0.00   \n",
       " GEM_RT_6        0.000000       0.000000       0.000000           0.00   \n",
       " \n",
       "            AGGGTTTCTCAAC  AGTGCTCCAATGT  ATTGCTTCTAATG  CCTGATTCGGTGG  \\\n",
       " CTR_RT_0        0.208333       0.208333       0.208333       0.166667   \n",
       " CTR_RT_1        0.000000       0.000000       0.000000       0.000000   \n",
       " GEM_RT_13       0.000000       0.000000       0.000000       0.000000   \n",
       " GEM_RT_15       0.000000       0.000000       0.000000       0.000000   \n",
       " GEM_RT_19       0.000000       0.000000       0.000000       0.000000   \n",
       " GEM_RT_1        0.000000       0.000000       0.000000       0.000000   \n",
       " GEM_RT_12       0.000000       0.000000       0.000000       0.000000   \n",
       " GEM_RT_17       0.000000       0.000000       0.000000       0.000000   \n",
       " GEM_RT_18       0.000000       0.000000       0.000000       0.000000   \n",
       " GEM_RT_5        0.000000       0.000000       0.000000       0.000000   \n",
       " GEM_RT_6        0.000000       0.000000       0.000000       0.000000   \n",
       " \n",
       "            CGTGTCAGGTCCG  CCGGTGGCTCTTC  ...  TGGGTGTCCCTTA  TTCCTGGCTCAAT  \\\n",
       " CTR_RT_0        0.000000       0.000000  ...            0.0            0.0   \n",
       " CTR_RT_1        0.530904       0.526292  ...            0.0            0.0   \n",
       " GEM_RT_13       0.000000       0.000000  ...            0.0            0.0   \n",
       " GEM_RT_15       0.000000       0.000000  ...            0.0            0.0   \n",
       " GEM_RT_19       0.000000       0.000000  ...            0.0            0.0   \n",
       " GEM_RT_1        0.000000       0.000000  ...            0.0            0.0   \n",
       " GEM_RT_12       0.000000       0.000000  ...            0.0            0.0   \n",
       " GEM_RT_17       0.000000       0.000000  ...            1.0            0.0   \n",
       " GEM_RT_18       0.000000       0.000000  ...            0.0            1.0   \n",
       " GEM_RT_5        0.000000       0.000000  ...            0.0            0.0   \n",
       " GEM_RT_6        0.000000       0.000000  ...            0.0            0.0   \n",
       " \n",
       "            GTTTCTC  TCTGTCGCGTTTC  CTTGAGCCTCTAA  AGAGGCTTGGTGC  \\\n",
       " CTR_RT_0      0.00            0.0           0.00            0.0   \n",
       " CTR_RT_1      0.00            0.0           0.00            0.0   \n",
       " GEM_RT_13     0.00            0.0           0.00            0.0   \n",
       " GEM_RT_15     0.00            0.0           0.00            0.0   \n",
       " GEM_RT_19     0.00            1.0           0.64            0.0   \n",
       " GEM_RT_1      0.00            0.0           0.00            0.0   \n",
       " GEM_RT_12     0.00            0.0           0.00            0.0   \n",
       " GEM_RT_17     0.00            0.0           0.00            0.0   \n",
       " GEM_RT_18     0.25            0.0           0.00            0.0   \n",
       " GEM_RT_5      0.00            0.0           0.00            1.0   \n",
       " GEM_RT_6      0.00            0.0           0.00            0.0   \n",
       " \n",
       "            GGACAGCTGGGGG  TAAAGGGTGGTCT  GCGCGGCAGGGGC  GGCTTGAAGGAAT  \n",
       " CTR_RT_0             0.0            0.0            0.0        0.00000  \n",
       " CTR_RT_1             0.0            0.0            0.0        0.00000  \n",
       " GEM_RT_13            0.0            0.0            0.0        0.00000  \n",
       " GEM_RT_15            0.0            0.0            0.0        0.00000  \n",
       " GEM_RT_19            0.0            0.0            0.0        0.00000  \n",
       " GEM_RT_1             0.0            0.0            0.0        0.00000  \n",
       " GEM_RT_12            0.0            0.0            0.0        0.00000  \n",
       " GEM_RT_17            0.0            0.0            0.0        0.00000  \n",
       " GEM_RT_18            0.0            0.0            0.0        0.00000  \n",
       " GEM_RT_5             1.0            1.0            0.0        0.00000  \n",
       " GEM_RT_6             0.0            0.0            1.0        0.97561  \n",
       " \n",
       " [11 rows x 81 columns]}"
      ]
     },
     "execution_count": 23,
     "metadata": {},
     "output_type": "execute_result"
    }
   ],
   "source": [
    "es_rep_dfs"
   ]
  },
  {
   "cell_type": "code",
   "execution_count": 24,
   "metadata": {},
   "outputs": [
    {
     "data": {
      "image/png": "[encoded data removed]",
      "text/plain": [
       "<Figure size 640x480 with 1 Axes>"
      ]
     },
     "metadata": {},
     "output_type": "display_data"
    },
    {
     "data": {
      "text/plain": [
       "<Figure size 640x480 with 0 Axes>"
      ]
     },
     "metadata": {},
     "output_type": "display_data"
    }
   ],
   "source": [
    "clone = 'C1'\n",
    "consensus_filter_bound = 0.4\n",
    "\n",
    "props = es_rep_dfs[clone].copy()\n",
    "props[props >= 0.1] = 1\n",
    "props[props < 0.1] = 0\n",
    "\n",
    "props2 = props.apply(lambda x: np.sum(x>0) / len(x)).to_frame().reset_index()\n",
    "props2.columns = ['intBC', 'prop']\n",
    "props2 = props2.loc[props2['prop'] > 0]\n",
    "\n",
    "props2.index = props2.intBC\n",
    "props2 = props2.sort_values(by = 'prop', ascending=False)\n",
    "\n",
    "ibcs = props2[props2['prop'] > consensus_filter_bound].index  \n",
    "\n",
    "plt.close()\n",
    "props2[props2['prop'] > 0.05]['prop'].plot(kind = 'bar')\n",
    "plt.axhline(y = consensus_filter_bound, color='red')\n",
    "plt.ylabel('Representation across tumors')\n",
    "plt.title('intBC Representation, ' + clone)\n",
    "plt.tight_layout()\n",
    "plt.show()\n",
    "plt.savefig(script_dir +\"/Figure/Figure1_S1/intBCRepresentation.png\")"
   ]
  },
  {
   "cell_type": "markdown",
   "metadata": {},
   "source": [
    "## Figures with filtered allele table\n",
    "\n",
    "The plots below are made with a completely filtered allele table - after filtering out \"normal\" cells with few cut intBCs and subsetting intBCs to only those identified as consensus intBCs."
   ]
  },
  {
   "cell_type": "code",
   "execution_count": 26,
   "metadata": {},
   "outputs": [],
   "source": [
    "allele_table_final = pd.read_csv(f\"{data_directory}/AP.alleleTable.unfiltered.txt2\", sep='\\t', converters={\"Cell_Clone\": str})"
   ]
  },
  {
   "cell_type": "code",
   "execution_count": 27,
   "metadata": {},
   "outputs": [
    {
     "name": "stderr",
     "output_type": "stream",
     "text": [
      "/home/yanzeqin/miniconda3/envs/KP/lib/python3.7/site-packages/ipykernel_launcher.py:7: TqdmDeprecationWarning: This function will be removed in tqdm==5.0.0\n",
      "Please use `tqdm.notebook.tqdm` instead of `tqdm.tqdm_notebook`\n",
      "  import sys\n"
     ]
    },
    {
     "data": {
      "application/vnd.jupyter.widget-view+json": {
       "model_id": "6b1c632d7fcd4cd0b371d4b03203d390",
       "version_major": 2,
       "version_minor": 0
      },
      "text/plain": [
       "  0%|          | 0/2 [00:00<?, ?it/s]"
      ]
     },
     "metadata": {},
     "output_type": "display_data"
    }
   ],
   "source": [
    "at_piv = pd.pivot_table(allele_table_final, index=\"cellBC\", columns=\"intBC\", values=\"UMI\", aggfunc=\"sum\")\n",
    "at_piv.fillna(value = 0, inplace=True)\n",
    "at_piv[at_piv > 0] = 1\n",
    "\n",
    "es_rep_dfs = {}\n",
    "\n",
    "for esc in tqdm_notebook(es_clones):\n",
    "    \n",
    "    if type(esc) != str:\n",
    "        continue\n",
    "    \n",
    "    tumors = allele_table_final.loc[allele_table_final['Cell_Clone'] == esc, 'Tumor'].unique()\n",
    "    tumor_dict = {}\n",
    "    \n",
    "    for tumor in tumors:\n",
    "    \n",
    "        cells = allele_table_final.loc[allele_table_final['Tumor'] == tumor, 'cellBC'].unique()\n",
    "        tumor_piv = at_piv.loc[cells]\n",
    "        \n",
    "        if tumor_piv.shape[0] == 0:\n",
    "            continue\n",
    "            \n",
    "        tumor_piv = tumor_piv.loc[:, tumor_piv.sum(axis=0) > 0]\n",
    "            \n",
    "        props = tumor_piv.apply(lambda x: np.sum(x>0) / len(x)).to_frame().reset_index()\n",
    "        props.columns = ['intBC', 'prop']\n",
    "\n",
    "        props = props.sort_values(by = 'prop', ascending=False)\n",
    "        props = props[(props['intBC'] != 'NC')]\n",
    "\n",
    "        props.index = props.intBC\n",
    "\n",
    "        tumor_dict[tumor] = props['prop'].to_dict()\n",
    "    \n",
    "    if len(tumor_dict) > 0:\n",
    "        tumor_df = pd.DataFrame.from_dict(tumor_dict, orient='index')\n",
    "        tumor_df.fillna(value = 0, inplace=True)\n",
    "        es_rep_dfs[esc] = tumor_df"
   ]
  },
  {
   "cell_type": "markdown",
   "metadata": {},
   "source": [
    "### Figure 1D: intBC expression"
   ]
  },
  {
   "cell_type": "code",
   "execution_count": 28,
   "metadata": {},
   "outputs": [
    {
     "data": {
      "image/png": "[encoded data removed]",
      "text/plain": [
       "<Figure size 1200x600 with 1 Axes>"
      ]
     },
     "metadata": {},
     "output_type": "display_data"
    }
   ],
   "source": [
    "clone = 'C1'\n",
    "ibcs = allele_table_final.loc[allele_table_final['Cell_Clone'] == clone, 'intBC'].unique()\n",
    "ibcs = es_rep_dfs[clone][ibcs].mean(axis=0).sort_values(ascending=False).index.values\n",
    "\n",
    "melted = pd.melt(es_rep_dfs[clone][ibcs])\n",
    "h = plt.figure(figsize=(12, 6))\n",
    "ax = sns.violinplot(x=\"variable\", y=\"value\",\n",
    "            data=melted, palette=\"muted\", inner='point', cut=0, scale='count')\n",
    "plt.xticks(rotation = 90)\n",
    "plt.xlabel('intBC (Loose Consensus)')\n",
    "plt.ylabel('Frequency in tumor')\n",
    "plt.title('intBC Expression by tumor, ES ' +  clone)\n",
    "\n",
    "plt.tight_layout()\n",
    "plt.savefig(script_dir +\"/Figure/Figure1_S1/intBcExpression.png\")"
   ]
  },
  {
   "cell_type": "markdown",
   "metadata": {},
   "source": [
    "### Figure S1G: intBC / cellBC pivot"
   ]
  },
  {
   "cell_type": "code",
   "execution_count": 29,
   "metadata": {},
   "outputs": [
    {
     "name": "stderr",
     "output_type": "stream",
     "text": [
      "/home/yanzeqin/miniconda3/envs/KP/lib/python3.7/site-packages/ipykernel_launcher.py:7: TqdmDeprecationWarning: This function will be removed in tqdm==5.0.0\n",
      "Please use `tqdm.notebook.tqdm` instead of `tqdm.tqdm_notebook`\n",
      "  import sys\n"
     ]
    },
    {
     "data": {
      "application/vnd.jupyter.widget-view+json": {
       "model_id": "9d681be6223d4631bb1ffd604b13475b",
       "version_major": 2,
       "version_minor": 0
      },
      "text/plain": [
       "  0%|          | 0/2 [00:00<?, ?it/s]"
      ]
     },
     "metadata": {},
     "output_type": "display_data"
    }
   ],
   "source": [
    "clone_sizes = allele_table_final.groupby('Cell_Clone').agg({'cellBC': 'nunique'}).sort_values(by = 'cellBC')\n",
    "\n",
    "# order tumors by ES clone ident\n",
    "cell_ordering = []\n",
    "es_annotation = []\n",
    "es_to_intbcs = {}\n",
    "for es in tqdm_notebook(clone_sizes.index):\n",
    "    all_tumors = allele_table_final.loc[allele_table_final['Cell_Clone'] == es, 'Tumor'].unique()\n",
    "    \n",
    "    intBCs = allele_table_final.loc[allele_table_final['Cell_Clone'] == es, 'intBC'].value_counts().sort_values(ascending=False).index\n",
    "    es_to_intbcs[es] = intBCs\n",
    "    \n",
    "    tumors = []\n",
    "    for tumor in all_tumors:\n",
    "        if tumor in tumor_list['Tumor'].tolist():\n",
    "            tumors.append(tumor)\n",
    "\n",
    "    for tumor in tumors:\n",
    "        cells = allele_table_final.loc[allele_table_final['Tumor'] == tumor, 'cellBC'].unique()\n",
    "        cell_ordering += list(cells)\n",
    "        es_annotation += [es]*len(cells)\n",
    "\n",
    "at_piv = pd.pivot_table(allele_table_final, columns='intBC', index='cellBC', values='UMI')\n",
    "at_piv[at_piv > 0] = 1\n",
    "\n",
    "at_piv = at_piv.loc[cell_ordering]"
   ]
  },
  {
   "cell_type": "code",
   "execution_count": 30,
   "metadata": {},
   "outputs": [
    {
     "data": {
      "image/png": "[encoded data removed]",
      "text/plain": [
       "<Figure size 700x700 with 2 Axes>"
      ]
     },
     "metadata": {},
     "output_type": "display_data"
    },
    {
     "data": {
      "text/plain": [
       "<Figure size 640x480 with 0 Axes>"
      ]
     },
     "metadata": {},
     "output_type": "display_data"
    }
   ],
   "source": [
    "all_consensus_ibcs = []\n",
    "for es_clone in clone_sizes.index[::-1]:\n",
    "    if es_clone in es_annotation:\n",
    "        all_consensus_ibcs += list(es_to_intbcs[es_clone])\n",
    "\n",
    "colors = list(plt.get_cmap('tab10').colors)\n",
    "module_colors = {j: colors[(i-1) % len(colors)] for i, j in zip(range(len(np.unique(es_annotation))), np.unique(es_annotation))}\n",
    "\n",
    "row_colors = pd.Series([module_colors[i] for i in es_annotation], index = at_piv.index)\n",
    "cbar_mat = np.zeros((len(row_colors), 1, 3))\n",
    "for r in range(len(row_colors)):\n",
    "    cbar_mat[r, 0, :] = row_colors.iloc[r][0], row_colors.iloc[r][1], row_colors.iloc[r][2]\n",
    "\n",
    "h2 = plt.figure(2,figsize=(7,7))\n",
    "axmat2 = h2.add_axes([0.3,0.1,0.6,0.8])\n",
    "im2 = axmat2.matshow(at_piv[all_consensus_ibcs], aspect='auto', origin='upper')\n",
    "axmat2.set_yticks([])\n",
    "axmat2.set_xticks([])\n",
    "\n",
    "cbar = h2.add_axes([0.2, 0.1, 0.05, 0.8])\n",
    "im3 = cbar.imshow(cbar_mat, aspect='auto', origin='upper', interpolation=\"none\")\n",
    "\n",
    "plt.title('Consensus intBC pivot table')\n",
    "plt.show()\n",
    "plt.savefig(script_dir +\"/Figure/Figure1_S1/ConsensusintBC.png\")"
   ]
  },
  {
   "cell_type": "markdown",
   "metadata": {},
   "source": [
    "### Figure S1H: Tumor Quality-Control"
   ]
  },
  {
   "cell_type": "code",
   "execution_count": 31,
   "metadata": {
    "collapsed": true,
    "jupyter": {
     "outputs_hidden": true
    }
   },
   "outputs": [
    {
     "name": "stdout",
     "output_type": "stream",
     "text": [
      "CTR_MGH_0\n"
     ]
    },
    {
     "name": "stderr",
     "output_type": "stream",
     "text": [
      "100%|██████████| 1/1 [00:00<00:00, 129.44it/s]\n"
     ]
    },
    {
     "name": "stdout",
     "output_type": "stream",
     "text": [
      "Dropping the following intBCs due to lack of diversity with threshold 0.98: ['CTTCTGTCCTGCA_r3', 'CCCGAACATTTCC_r3', 'TCTCCTAATTGAA_r3', 'CATGGTTGAGCAT_r1', 'CATGGTTGAGCAT_r3', 'ACAGCGCCTGTAT_r3', 'ACAGGGTATCAGT_r3', 'ACGCTCTCTGGAC_r2', 'ACGCTCTCTGGAC_r3', 'CGTGTGGCGAGCA_r1', 'TGTGTCGCATCTG_r2', 'TGTGTCGCATCTG_r3', 'GGCGAATTTAATC_r1', 'GGCGAATTTAATC_r3', 'TATGACGGTAGCG_r1', 'TATGACGGTAGCG_r2', 'TCTGTCTATTAAC_r1', 'TCTGTCTATTAAC_r2', 'TCTGTCTATTAAC_r3', 'GGCCAATGGATGA_r1']\n"
     ]
    },
    {
     "name": "stderr",
     "output_type": "stream",
     "text": [
      "Processing characters: 100%|██████████| 43/43 [00:00<00:00, 24642.04it/s]\n"
     ]
    },
    {
     "name": "stdout",
     "output_type": "stream",
     "text": [
      "133\n",
      "CTR_MGH_1\n"
     ]
    },
    {
     "name": "stderr",
     "output_type": "stream",
     "text": [
      "100%|██████████| 1/1 [00:00<00:00, 78.27it/s]\n"
     ]
    },
    {
     "name": "stdout",
     "output_type": "stream",
     "text": [
      "Dropping the following intBCs due to lack of diversity with threshold 0.98: ['GAGTGGATATGGG_r1', 'GAGTGGATATGGG_r2', 'GAGTGGATATGGG_r3', 'TCTGAGTCCTTAG_r1', 'TCTGAGTCCTTAG_r2', 'TATGCCATGGCGA_r2', 'TATGCCATGGCGA_r3']\n"
     ]
    },
    {
     "name": "stderr",
     "output_type": "stream",
     "text": [
      "Processing characters: 100%|██████████| 14/14 [00:00<00:00, 566.80it/s]\n"
     ]
    },
    {
     "name": "stdout",
     "output_type": "stream",
     "text": [
      "3312\n",
      "CTR_MGH_2\n"
     ]
    },
    {
     "name": "stderr",
     "output_type": "stream",
     "text": [
      "100%|██████████| 1/1 [00:00<00:00, 71.02it/s]\n"
     ]
    },
    {
     "name": "stdout",
     "output_type": "stream",
     "text": [
      "Dropping the following intBCs due to lack of diversity with threshold 0.98: ['AACGTTCCGGGGT_r1', 'AACGTTCCGGGGT_r2', 'AACGTTCCGGGGT_r3', 'ACTTATTCGCACC_r2', 'ACTTATTCGCACC_r3', 'AGTGCGCCTTCTT_r1', 'AGTGCGCCTTCTT_r2', 'AGTGCGCCTTCTT_r3', 'TTAGTCACGCGGT_r1', 'TTAGTCACGCGGT_r2', 'TTAGTCACGCGGT_r3', 'TCTGAGCGGGACA_r2', 'TCTGAGCGGGACA_r3', 'CTACTACCTAGTT_r1', 'CATGAAGTCCATC_r1', 'TCCGATTCCTCTT_r2', 'TCCGATTCCTCTT_r3', 'ATATTTCCCACTT_r1', 'GAAGTGTCACGCT_r1', 'GAAGTGTCACGCT_r3', 'GCAGCTCTGGATC_r2', 'GTTGTGGCTCTGA_r3', 'GCCGCCCTCCTCC_r1', 'GCCGCCCTCCTCC_r2', 'GCCGCCCTCCTCC_r3', 'CATGATGCACTTT_r1', 'CATGATGCACTTT_r2', 'CATGATGCACTTT_r3', 'CTCGACCCGCATA_r3']\n"
     ]
    },
    {
     "name": "stderr",
     "output_type": "stream",
     "text": [
      "Processing characters: 100%|██████████| 31/31 [00:00<00:00, 3577.38it/s]\n"
     ]
    },
    {
     "name": "stdout",
     "output_type": "stream",
     "text": [
      "603\n",
      "CTR_MGH_3\n"
     ]
    },
    {
     "name": "stderr",
     "output_type": "stream",
     "text": [
      "100%|██████████| 1/1 [00:00<00:00, 76.63it/s]\n"
     ]
    },
    {
     "name": "stdout",
     "output_type": "stream",
     "text": [
      "Dropping the following intBCs due to lack of diversity with threshold 0.98: ['CTAGTCCTTAGTA_r1', 'CTAGTCCTTAGTA_r3', 'CGTGGTGCGTTAC_r1', 'CGTGGTGCGTTAC_r3', 'CCCGTGTGTGTCA_r3', 'CGGTGGGCGAATA_r3', 'CAGTGATACACTG_r1', 'CCCGTCCTTGTTC_r1', 'CCCGTCCTTGTTC_r3', 'GAAAATCGGCCAG_r1', 'GAAAATCGGCCAG_r2', 'GAAAATCGGCCAG_r3', 'AATCAGTTTGTTT_r1', 'ACACTTTTCGGCA_r1', 'ACCGTATGCGCGG_r2', 'ACCGTATGCGCGG_r3', 'GACCTCTGGTCTC_r1', 'GACCTCTGGTCTC_r3', 'CTCCATTATGACC_r1', 'CTCGATGTAATAT_r1', 'CTTGTTCTTGCTC_r1', 'CTTGTTCTTGCTC_r3', 'ATCGATTGGGCCC_r1', 'GAGCCCATTAGCA_r1', 'GAGCCCATTAGCA_r3', 'GCCTTGGTTACTT_r2', 'GCCTTGGTTACTT_r3', 'GCGGACCGGGCTC_r1', 'GCGGACCGGGCTC_r3', 'TCCGCTTCGTTTC_r1', 'TCTGTGACATGAA_r1', 'TCTGTGACATGAA_r3', 'TTCAAAGTTCTGG_r3', 'TTCGCGGAGTTCA_r1', 'TTCGGCGTGCCCT_r1', 'TTCGGCGTGCCCT_r3', 'AGTGTAGGGGATG_r1', 'AGTGTAGGGGATG_r3', 'TTCGTATTCGATA_r1', 'TTCGTATTCGATA_r2', 'TTTCGGTAGGTTC_r1', 'TTTCGGTAGGTTC_r2', 'TTTCGGTAGGTTC_r3', 'TGCGTGACCACGG_r1', 'TGCGTGACCACGG_r2', 'GACGCGGGGAAAT_r1', 'GACGCGGGGAAAT_r2', 'GACGCGGGGAAAT_r3', 'TTATAGTCGCGAC_r1', 'TTATAGTCGCGAC_r2', 'CGCGGTTTCAACT_r1', 'CGCGGTTTCAACT_r2', 'GCCATGCTTGAAA_r1', 'GCCATGCTTGAAA_r2', 'GCCATGCTTGAAA_r3', 'GGGGGAAGATAGG_r1', 'GGGGGAAGATAGG_r2', 'GCTAGTTAAGGAC_r1', 'GCTAGTTAAGGAC_r2', 'CTTGGTCAGTCAC_r1', 'CTTGGTCAGTCAC_r2', 'GACGAGTAGGCCC_r1', 'GACGAGTAGGCCC_r2', 'AAATTGTTCGGCC_r1', 'AAATTGTTCGGCC_r2']\n"
     ]
    },
    {
     "name": "stderr",
     "output_type": "stream",
     "text": [
      "Processing characters: 100%|██████████| 43/43 [00:00<00:00, 14689.29it/s]\n"
     ]
    },
    {
     "name": "stdout",
     "output_type": "stream",
     "text": [
      "200\n",
      "CTR_MGH_4\n"
     ]
    },
    {
     "name": "stderr",
     "output_type": "stream",
     "text": [
      "100%|██████████| 1/1 [00:00<00:00, 190.22it/s]\n"
     ]
    },
    {
     "name": "stdout",
     "output_type": "stream",
     "text": [
      "Dropping the following intBCs due to lack of diversity with threshold 0.98: ['AGGTTACTCAACT_r2', 'AGGTTACTCAACT_r3', 'CCTAGTACTCCTC_r2', 'CCTAGTACTCCTC_r3', 'GGGAATCAGATTC_r1', 'GGGAATCAGATTC_r2', 'GGGAATCAGATTC_r3']\n"
     ]
    },
    {
     "name": "stderr",
     "output_type": "stream",
     "text": [
      "Processing characters: 100%|██████████| 11/11 [00:00<00:00, 3820.58it/s]\n"
     ]
    },
    {
     "name": "stdout",
     "output_type": "stream",
     "text": [
      "420\n",
      "CTR_MGH_5\n"
     ]
    },
    {
     "name": "stderr",
     "output_type": "stream",
     "text": [
      "100%|██████████| 1/1 [00:00<00:00, 168.95it/s]\n"
     ]
    },
    {
     "name": "stdout",
     "output_type": "stream",
     "text": [
      "Dropping the following intBCs due to lack of diversity with threshold 0.98: ['GTCCTGCACTAGG_r2', 'GTCCTGCACTAGG_r3', 'TTCGAGGAGTGCT_r1', 'TTCGAGGAGTGCT_r2', 'TTCGAGGAGTGCT_r3', 'CGTCAGGAGTCGA_r1', 'CGTCAGGAGTCGA_r2', 'CGTCAGGAGTCGA_r3', 'CAAAGTCGACTCT_r1', 'CAAAGTCGACTCT_r2', 'CAAAGTCGACTCT_r3', 'TGAGTACTTATCC_r1', 'TGAGTACTTATCC_r2', 'TGAGTACTTATCC_r3', 'TTTGCGTAGCTGC_r1', 'TTTGCGTAGCTGC_r2', 'TTTGCGTAGCTGC_r3', 'TTGTCGTCATCAC_r1', 'TTGTCGTCATCAC_r2', 'TTGTCGTCATCAC_r3']\n"
     ]
    },
    {
     "name": "stderr",
     "output_type": "stream",
     "text": [
      "Processing characters: 100%|██████████| 16/16 [00:00<00:00, 16404.02it/s]\n"
     ]
    },
    {
     "name": "stdout",
     "output_type": "stream",
     "text": [
      "119\n",
      "CTR_MGH_6\n"
     ]
    },
    {
     "name": "stderr",
     "output_type": "stream",
     "text": [
      "100%|██████████| 1/1 [00:00<00:00, 196.41it/s]\n"
     ]
    },
    {
     "name": "stdout",
     "output_type": "stream",
     "text": [
      "Dropping the following intBCs due to lack of diversity with threshold 0.98: ['TTGGCTTGGCCAT_r1', 'TTGGCTTGGCCAT_r2', 'GGGCGGATGGCGT_r1', 'GGGCGGATGGCGT_r2', 'GGGCGGATGGCGT_r3', 'CTGGGAAACAATG_r1', 'CTGGGAAACAATG_r2', 'CTGGGAAACAATG_r3', 'GTGATTGACCGGG_r1', 'GTGATTGACCGGG_r2', 'GTGATTGACCGGG_r3', 'TATGCGGCGTTCA_r2', 'TATGCGGCGTTCA_r3', 'CCTATTCCGGTTA_r1', 'CCTATTCCGGTTA_r2', 'CCTATTCCGGTTA_r3', 'CGCGCGGACGGCT_r1']\n"
     ]
    },
    {
     "name": "stderr",
     "output_type": "stream",
     "text": [
      "Processing characters: 100%|██████████| 7/7 [00:00<00:00, 11896.32it/s]"
     ]
    },
    {
     "name": "stdout",
     "output_type": "stream",
     "text": [
      "139\n"
     ]
    },
    {
     "name": "stderr",
     "output_type": "stream",
     "text": [
      "\n"
     ]
    },
    {
     "name": "stdout",
     "output_type": "stream",
     "text": [
      "CTR_MGH_7\n"
     ]
    },
    {
     "name": "stderr",
     "output_type": "stream",
     "text": [
      "100%|██████████| 1/1 [00:00<00:00, 134.23it/s]\n"
     ]
    },
    {
     "name": "stdout",
     "output_type": "stream",
     "text": [
      "Dropping the following intBCs due to lack of diversity with threshold 0.98: ['GCCTCCGTCTTTG_r1', 'GCCTCCGTCTTTG_r3', 'CTCCTAATACGTG_r3', 'CGCGTATAGTCGC_r1', 'CGCGTATAGTCGC_r3', 'CTGGGTTGCATCT_r1', 'CTAATAACATTCT_r3', 'GCTCAGCCCTACA_r1', 'GCTCAGCCCTACA_r2', 'GCTCAGCCCTACA_r3', 'CTTGCATCGCTCT_r3', 'AGGTGTGGTACGT_r1', 'AGGTGTGGTACGT_r3', 'ATAGTTATGATGT_r3', 'CAGGTTAATCCAT_r1', 'TTGGTGTGATATA_r3', 'TATAGACCGCCGT_r2', 'TGGCTTGAAGTGT_r1', 'CACGTGCATGGTG_r1', 'TCCGTGGACGCGT_r1', 'TCCGTGGACGCGT_r3', 'GTTTGGTGTGCAG_r1', 'ATGAGGTTACTAT_r1', 'CTAGACTACCTGG_r1', 'CTAGACTACCTGG_r2', 'CAAACTGGGTTGC_r1', 'CAAACTGGGTTGC_r3', 'CCTGGCAGCAACA_r1', 'GTCTGCTTCGACG_r1', 'GTCTGCTTCGACG_r2', 'TCGGGTGTTTAAT_r1']\n"
     ]
    },
    {
     "name": "stderr",
     "output_type": "stream",
     "text": [
      "Processing characters: 100%|██████████| 56/56 [00:00<00:00, 48160.96it/s]\n"
     ]
    },
    {
     "name": "stdout",
     "output_type": "stream",
     "text": [
      "21\n",
      "CTR_MGH_8\n"
     ]
    },
    {
     "name": "stderr",
     "output_type": "stream",
     "text": [
      "100%|██████████| 1/1 [00:00<00:00, 137.00it/s]\n"
     ]
    },
    {
     "name": "stdout",
     "output_type": "stream",
     "text": [
      "Dropping the following intBCs due to lack of diversity with threshold 0.98: ['CGTGACCTGTGCC_r1', 'CGTGACCTGTGCC_r3', 'ATTGGCAACTAGG_r1', 'ATTGGCAACTAGG_r2', 'CTACTCAGGAGCC_r1', 'CTACTCAGGAGCC_r2', 'CTACTCAGGAGCC_r3', 'GCCGGTACGCAAG_r1', 'GCCGGTACGCAAG_r2', 'GCCGGTACGCAAG_r3', 'CTGGTGCTTTTCC_r2', 'CTGGTGCTTTTCC_r3', 'GCACGCTGGCTAG_r1', 'GCACGCTGGCTAG_r2', 'TCTCTATCGATTT_r2', 'TGGGGCAGCCCCG_r2', 'TGGGGCAGCCCCG_r3', 'TTAGTTCCTTGTC_r1', 'TTAGTTCCTTGTC_r2', 'TTAGTTCCTTGTC_r3', 'TTGGTTAGTATGC_r2', 'TTGGTTAGTATGC_r3', 'TTGTCTGCGTCAT_r2', 'TTGTCTGCGTCAT_r3', 'CATGCGGTGCGGC_r1', 'CATGCGGTGCGGC_r3', 'GATGCGTAGCTAT_r1', 'GATGCGTAGCTAT_r3', 'GCATAGCAAGGGT_r1', 'GAGGTATCCTTAC_r1', 'GAGGTATCCTTAC_r2', 'GAGGTATCCTTAC_r3']\n"
     ]
    },
    {
     "name": "stderr",
     "output_type": "stream",
     "text": [
      "Processing characters: 100%|██████████| 19/19 [00:00<00:00, 51984.20it/s]\n"
     ]
    },
    {
     "name": "stdout",
     "output_type": "stream",
     "text": [
      "38\n",
      "CTR_MGH_9\n"
     ]
    },
    {
     "name": "stderr",
     "output_type": "stream",
     "text": [
      "100%|██████████| 1/1 [00:00<00:00, 219.42it/s]\n"
     ]
    },
    {
     "name": "stdout",
     "output_type": "stream",
     "text": [
      "Dropping the following intBCs due to lack of diversity with threshold 0.98: ['GGCCACACGGAAA_r1', 'GGCCACACGGAAA_r2', 'GGCCACACGGAAA_r3', 'GCTGTCAATCCCT_r1', 'ACACTGTTGTTTA_r1', 'ACACTGTTGTTTA_r3']\n"
     ]
    },
    {
     "name": "stderr",
     "output_type": "stream",
     "text": [
      "Processing characters: 100%|██████████| 18/18 [00:00<00:00, 62653.50it/s]\n"
     ]
    },
    {
     "name": "stdout",
     "output_type": "stream",
     "text": [
      "23\n",
      "CTR_RT_0\n"
     ]
    },
    {
     "name": "stderr",
     "output_type": "stream",
     "text": [
      "100%|██████████| 1/1 [00:00<00:00, 203.08it/s]\n"
     ]
    },
    {
     "name": "stdout",
     "output_type": "stream",
     "text": [
      "Dropping the following intBCs due to lack of diversity with threshold 0.98: ['CAGTGCCGTGGGC_r1', 'CAGTGCCGTGGGC_r2', 'CACGATACCAAGA_r1', 'CACGATACCAAGA_r3', 'TGTCCGCGCGCCT_r3', 'TGGGTGCGGCCGA_r2', 'TGGGTGCGGCCGA_r3', 'AGTGCTCCAATGT_r3', 'ATTGCTTCTAATG_r1']\n"
     ]
    },
    {
     "name": "stderr",
     "output_type": "stream",
     "text": [
      "Processing characters: 100%|██████████| 15/15 [00:00<00:00, 32853.56it/s]\n"
     ]
    },
    {
     "name": "stdout",
     "output_type": "stream",
     "text": [
      "38\n",
      "CTR_RT_1\n"
     ]
    },
    {
     "name": "stderr",
     "output_type": "stream",
     "text": [
      "100%|██████████| 1/1 [00:00<00:00, 43.20it/s]\n"
     ]
    },
    {
     "name": "stdout",
     "output_type": "stream",
     "text": [
      "Dropping the following intBCs due to lack of diversity with threshold 0.98: ['CATCCCTCTTGAA_r1', 'CATCCCTCTTGAA_r2', 'CATCCCTCTTGAA_r3', 'CCGGTGGCTCTTC_r1', 'CCGGTGGCTCTTC_r2', 'CCGGTGGCTCTTC_r3', 'CGTGTCAGGTCCG_r1', 'CGTGTCAGGTCCG_r2', 'CGTGTCAGGTCCG_r3', 'TCCGAGTTCGCTC_r1', 'TCCGAGTTCGCTC_r2', 'TCCGAGTTCGCTC_r3', 'TCTAATGTTTCTT_r1', 'TCTAATGTTTCTT_r2', 'TCTAATGTTTCTT_r3', 'TGTGCCGCACTCC_r1']\n"
     ]
    },
    {
     "name": "stderr",
     "output_type": "stream",
     "text": [
      "Processing characters: 100%|██████████| 11/11 [00:00<00:00, 819.97it/s]\n"
     ]
    },
    {
     "name": "stdout",
     "output_type": "stream",
     "text": [
      "2874\n",
      "GEM_RT_0\n"
     ]
    },
    {
     "name": "stderr",
     "output_type": "stream",
     "text": [
      "100%|██████████| 1/1 [00:00<00:00, 214.27it/s]\n"
     ]
    },
    {
     "name": "stdout",
     "output_type": "stream",
     "text": [
      "Dropping the following intBCs due to lack of diversity with threshold 0.98: ['TACGCTCCCACCT_r1', 'TACGCTCCCACCT_r2', 'TACGCTCCCACCT_r3', 'GTCGACGAGTTAG_r1', 'GTCGACGAGTTAG_r2', 'GTCGACGAGTTAG_r3', 'TAGAGAGGGGGTG_r1', 'TAGAGAGGGGGTG_r2', 'TAGAGAGGGGGTG_r3', 'AAGCAGTTGCGCT_r1', 'AAGCAGTTGCGCT_r2', 'AAGCAGTTGCGCT_r3', 'AACGTTGAGCGTT_r1', 'AACGTTGAGCGTT_r2', 'AACGTTGAGCGTT_r3', 'TCTGTCCCGTTTT_r1', 'TCTGTCCCGTTTT_r2', 'TCTGTCCCGTTTT_r3', 'GCGGTTGGTCGGG_r1', 'GCGGTTGGTCGGG_r2', 'GCGGTTGGTCGGG_r3', 'TTCGTAGGGCCTC_r1', 'TTCGTAGGGCCTC_r2', 'TTCGTAGGGCCTC_r3']\n"
     ]
    },
    {
     "name": "stderr",
     "output_type": "stream",
     "text": [
      "Processing characters: 0it [00:00, ?it/s]\n"
     ]
    },
    {
     "name": "stdout",
     "output_type": "stream",
     "text": [
      "Dropping the following intBCs due to lack of diversity with threshold 1.0: []\n"
     ]
    },
    {
     "name": "stderr",
     "output_type": "stream",
     "text": [
      "Processing characters: 100%|██████████| 24/24 [00:00<00:00, 52483.47it/s]\n"
     ]
    },
    {
     "name": "stdout",
     "output_type": "stream",
     "text": [
      "0\n",
      "GEM_RT_1\n"
     ]
    },
    {
     "name": "stderr",
     "output_type": "stream",
     "text": [
      "100%|██████████| 1/1 [00:00<00:00, 134.77it/s]\n"
     ]
    },
    {
     "name": "stdout",
     "output_type": "stream",
     "text": [
      "Dropping the following intBCs due to lack of diversity with threshold 0.98: ['AGTGGGAGGAAGG_r3', 'ATTGGACATTTGG_r3', 'GACTAGTTAAGTT_r2', 'GACTAGTTAAGTT_r3', 'TGTAGGTGGTACG_r2', 'TGTAGGTGGTACG_r3', 'TCTCGTACGCTCT_r2', 'TCTCGTACGCTCT_r3', 'CGAGTTGTTCCGC_r1', 'CGAGTTGTTCCGC_r2', 'CGAGTTGTTCCGC_r3', 'CACAAGGAGAATC_r1', 'CACAAGGAGAATC_r2', 'CACAAGGAGAATC_r3', 'GGTGTTAACTATC_r1', 'GGTGTTAACTATC_r2', 'GGTGTTAACTATC_r3', 'GTGGGTGTACTCA_r1', 'GTGGGTGTACTCA_r2', 'GTGGGTGTACTCA_r3', 'CTCGGTCCGGCTT_r1', 'CTCGGTCCGGCTT_r2', 'CTCGGTCCGGCTT_r3', 'TCTACAGTGGTCT_r1', 'TCTACAGTGGTCT_r2', 'TCTACAGTGGTCT_r3']\n"
     ]
    },
    {
     "name": "stderr",
     "output_type": "stream",
     "text": [
      "Processing characters: 100%|██████████| 10/10 [00:00<00:00, 6442.86it/s]\n"
     ]
    },
    {
     "name": "stdout",
     "output_type": "stream",
     "text": [
      "402\n",
      "GEM_RT_10\n"
     ]
    },
    {
     "name": "stderr",
     "output_type": "stream",
     "text": [
      "100%|██████████| 1/1 [00:00<00:00, 224.28it/s]\n"
     ]
    },
    {
     "name": "stdout",
     "output_type": "stream",
     "text": [
      "Dropping the following intBCs due to lack of diversity with threshold 0.98: ['TCACAATTGGAGT_r1', 'TCACAATTGGAGT_r2', 'TCACAATTGGAGT_r3', 'ATCATTGGTGCTC_r1', 'ATCATTGGTGCTC_r2', 'ATCATTGGTGCTC_r3', 'ACTATCGTACCTT_r1', 'ACTATCGTACCTT_r2', 'ACTATCGTACCTT_r3']\n"
     ]
    },
    {
     "name": "stderr",
     "output_type": "stream",
     "text": [
      "Processing characters: 0it [00:00, ?it/s]\n"
     ]
    },
    {
     "name": "stdout",
     "output_type": "stream",
     "text": [
      "Dropping the following intBCs due to lack of diversity with threshold 1.0: []\n"
     ]
    },
    {
     "name": "stderr",
     "output_type": "stream",
     "text": [
      "Processing characters: 100%|██████████| 9/9 [00:00<00:00, 44620.26it/s]\n"
     ]
    },
    {
     "name": "stdout",
     "output_type": "stream",
     "text": [
      "0\n",
      "GEM_RT_11\n"
     ]
    },
    {
     "name": "stderr",
     "output_type": "stream",
     "text": [
      "100%|██████████| 1/1 [00:00<00:00, 218.39it/s]\n"
     ]
    },
    {
     "name": "stdout",
     "output_type": "stream",
     "text": [
      "Dropping the following intBCs due to lack of diversity with threshold 0.98: ['ATACTGAAGATGG_r1', 'ATACTGAAGATGG_r2', 'ATACTGAAGATGG_r3', 'ATAGATACCGTTG_r1', 'ATAGATACCGTTG_r2', 'ATAGATACCGTTG_r3', 'TCGGCGCATGCTC_r1', 'TCGGCGCATGCTC_r2', 'TCGGCGCATGCTC_r3']\n"
     ]
    },
    {
     "name": "stderr",
     "output_type": "stream",
     "text": [
      "Processing characters: 0it [00:00, ?it/s]\n"
     ]
    },
    {
     "name": "stdout",
     "output_type": "stream",
     "text": [
      "Dropping the following intBCs due to lack of diversity with threshold 1.0: []\n"
     ]
    },
    {
     "name": "stderr",
     "output_type": "stream",
     "text": [
      "Processing characters: 100%|██████████| 9/9 [00:00<00:00, 46204.08it/s]\n"
     ]
    },
    {
     "name": "stdout",
     "output_type": "stream",
     "text": [
      "0\n",
      "GEM_RT_12\n"
     ]
    },
    {
     "name": "stderr",
     "output_type": "stream",
     "text": [
      "100%|██████████| 1/1 [00:00<00:00, 248.63it/s]\n"
     ]
    },
    {
     "name": "stdout",
     "output_type": "stream",
     "text": [
      "Dropping the following intBCs due to lack of diversity with threshold 0.98: []\n"
     ]
    },
    {
     "name": "stderr",
     "output_type": "stream",
     "text": [
      "Processing characters: 100%|██████████| 9/9 [00:00<00:00, 29911.84it/s]\n"
     ]
    },
    {
     "name": "stdout",
     "output_type": "stream",
     "text": [
      "66\n",
      "GEM_RT_13\n"
     ]
    },
    {
     "name": "stderr",
     "output_type": "stream",
     "text": [
      "100%|██████████| 1/1 [00:00<00:00, 271.18it/s]\n"
     ]
    },
    {
     "name": "stdout",
     "output_type": "stream",
     "text": [
      "Dropping the following intBCs due to lack of diversity with threshold 0.98: ['TCTGGCTCGACTT_r1', 'TCTGGCTCGACTT_r2']\n"
     ]
    },
    {
     "name": "stderr",
     "output_type": "stream",
     "text": [
      "Processing characters: 100%|██████████| 4/4 [00:00<00:00, 30283.78it/s]\n"
     ]
    },
    {
     "name": "stdout",
     "output_type": "stream",
     "text": [
      "36\n",
      "GEM_RT_14\n"
     ]
    },
    {
     "name": "stderr",
     "output_type": "stream",
     "text": [
      "100%|██████████| 1/1 [00:00<00:00, 216.26it/s]\n"
     ]
    },
    {
     "name": "stdout",
     "output_type": "stream",
     "text": [
      "Dropping the following intBCs due to lack of diversity with threshold 0.98: ['CGCGGCATACATC_r1', 'CGCGGCATACATC_r2', 'CGCGGCATACATC_r3', 'CGAGCCGATTGAC_r1', 'CGAGCCGATTGAC_r2', 'CGAGCCGATTGAC_r3']\n"
     ]
    },
    {
     "name": "stderr",
     "output_type": "stream",
     "text": [
      "Processing characters: 0it [00:00, ?it/s]\n"
     ]
    },
    {
     "name": "stdout",
     "output_type": "stream",
     "text": [
      "Dropping the following intBCs due to lack of diversity with threshold 1.0: []\n"
     ]
    },
    {
     "name": "stderr",
     "output_type": "stream",
     "text": [
      "Processing characters: 100%|██████████| 6/6 [00:00<00:00, 43389.35it/s]\n"
     ]
    },
    {
     "name": "stdout",
     "output_type": "stream",
     "text": [
      "0\n",
      "GEM_RT_15\n"
     ]
    },
    {
     "name": "stderr",
     "output_type": "stream",
     "text": [
      "100%|██████████| 1/1 [00:00<00:00, 119.61it/s]\n"
     ]
    },
    {
     "name": "stdout",
     "output_type": "stream",
     "text": [
      "Dropping the following intBCs due to lack of diversity with threshold 0.98: ['TACCTCAAAGTTT_r1', 'TACCTCAAAGTTT_r2', 'TACCTCAAAGTTT_r3', 'AGGTAGCGTCCCT_r1', 'AGGTAGCGTCCCT_r2', 'AGGTAGCGTCCCT_r3', 'TGTGGTCTTACTT_r1', 'TGTGGTCTTACTT_r2', 'TGTGGTCTTACTT_r3', 'ACTCTATTTCCTA_r1', 'ACTCTATTTCCTA_r2', 'ACTCTATTTCCTA_r3', 'CTCGTCACGTTCT_r1']\n"
     ]
    },
    {
     "name": "stderr",
     "output_type": "stream",
     "text": [
      "Processing characters: 100%|██████████| 2/2 [00:00<00:00, 26462.49it/s]\n"
     ]
    },
    {
     "name": "stdout",
     "output_type": "stream",
     "text": [
      "15\n",
      "GEM_RT_16\n"
     ]
    },
    {
     "name": "stderr",
     "output_type": "stream",
     "text": [
      "100%|██████████| 1/1 [00:00<00:00, 229.86it/s]\n"
     ]
    },
    {
     "name": "stdout",
     "output_type": "stream",
     "text": [
      "Dropping the following intBCs due to lack of diversity with threshold 0.98: ['AATGTTTCATCAT_r1', 'AATGTTTCATCAT_r2', 'AATGTTTCATCAT_r3', 'GCCGTTCCCCCGT_r1', 'GCCGTTCCCCCGT_r2', 'GCCGTTCCCCCGT_r3', 'CCTCAAGACCCTC_r1', 'CCTCAAGACCCTC_r2', 'CCTCAAGACCCTC_r3']\n"
     ]
    },
    {
     "name": "stderr",
     "output_type": "stream",
     "text": [
      "Processing characters: 0it [00:00, ?it/s]\n"
     ]
    },
    {
     "name": "stdout",
     "output_type": "stream",
     "text": [
      "Dropping the following intBCs due to lack of diversity with threshold 1.0: []\n"
     ]
    },
    {
     "name": "stderr",
     "output_type": "stream",
     "text": [
      "Processing characters: 100%|██████████| 9/9 [00:00<00:00, 59729.01it/s]\n"
     ]
    },
    {
     "name": "stdout",
     "output_type": "stream",
     "text": [
      "0\n",
      "GEM_RT_17\n"
     ]
    },
    {
     "name": "stderr",
     "output_type": "stream",
     "text": [
      "100%|██████████| 1/1 [00:00<00:00, 286.65it/s]\n"
     ]
    },
    {
     "name": "stdout",
     "output_type": "stream",
     "text": [
      "Dropping the following intBCs due to lack of diversity with threshold 0.98: ['TGGGTGTCCCTTA_r2']\n"
     ]
    },
    {
     "name": "stderr",
     "output_type": "stream",
     "text": [
      "Processing characters: 100%|██████████| 2/2 [00:00<00:00, 23563.51it/s]\n"
     ]
    },
    {
     "name": "stdout",
     "output_type": "stream",
     "text": [
      "11\n",
      "GEM_RT_18\n"
     ]
    },
    {
     "name": "stderr",
     "output_type": "stream",
     "text": [
      "100%|██████████| 1/1 [00:00<00:00, 255.63it/s]\n"
     ]
    },
    {
     "name": "stdout",
     "output_type": "stream",
     "text": [
      "Dropping the following intBCs due to lack of diversity with threshold 0.98: ['TTCCTGGCTCAAT_r1', 'TTCCTGGCTCAAT_r3']\n"
     ]
    },
    {
     "name": "stderr",
     "output_type": "stream",
     "text": [
      "Processing characters: 100%|██████████| 1/1 [00:00<00:00, 14768.68it/s]\n"
     ]
    },
    {
     "name": "stdout",
     "output_type": "stream",
     "text": [
      "4\n",
      "GEM_RT_19\n"
     ]
    },
    {
     "name": "stderr",
     "output_type": "stream",
     "text": [
      "100%|██████████| 1/1 [00:00<00:00, 269.59it/s]\n"
     ]
    },
    {
     "name": "stdout",
     "output_type": "stream",
     "text": [
      "Dropping the following intBCs due to lack of diversity with threshold 0.98: ['TCTGTCGCGTTTC_r1', 'TCTGTCGCGTTTC_r2', 'TCTGTCGCGTTTC_r3']\n"
     ]
    },
    {
     "name": "stderr",
     "output_type": "stream",
     "text": [
      "Processing characters: 100%|██████████| 3/3 [00:00<00:00, 26829.24it/s]\n"
     ]
    },
    {
     "name": "stdout",
     "output_type": "stream",
     "text": [
      "25\n",
      "GEM_RT_2\n"
     ]
    },
    {
     "name": "stderr",
     "output_type": "stream",
     "text": [
      "100%|██████████| 1/1 [00:00<00:00, 247.60it/s]\n"
     ]
    },
    {
     "name": "stdout",
     "output_type": "stream",
     "text": [
      "Dropping the following intBCs due to lack of diversity with threshold 0.98: ['CAAGCTCTGCCAA_r1', 'CAAGCTCTGCCAA_r2', 'CAAGCTCTGCCAA_r3', 'CGGGCTTAATCTT_r1', 'CGGGCTTAATCTT_r2', 'CGGGCTTAATCTT_r3']\n"
     ]
    },
    {
     "name": "stderr",
     "output_type": "stream",
     "text": [
      "Processing characters: 0it [00:00, ?it/s]\n"
     ]
    },
    {
     "name": "stdout",
     "output_type": "stream",
     "text": [
      "Dropping the following intBCs due to lack of diversity with threshold 1.0: []\n"
     ]
    },
    {
     "name": "stderr",
     "output_type": "stream",
     "text": [
      "Processing characters: 100%|██████████| 6/6 [00:00<00:00, 21272.89it/s]\n"
     ]
    },
    {
     "name": "stdout",
     "output_type": "stream",
     "text": [
      "0\n",
      "GEM_RT_3\n"
     ]
    },
    {
     "name": "stderr",
     "output_type": "stream",
     "text": [
      "100%|██████████| 1/1 [00:00<00:00, 261.15it/s]\n"
     ]
    },
    {
     "name": "stdout",
     "output_type": "stream",
     "text": [
      "Dropping the following intBCs due to lack of diversity with threshold 0.98: ['GTTGCTTAGACGG_r1', 'GTTGCTTAGACGG_r2', 'GTTGCTTAGACGG_r3', 'AGGACAAGCATAG_r1', 'AGGACAAGCATAG_r2', 'AGGACAAGCATAG_r3']\n"
     ]
    },
    {
     "name": "stderr",
     "output_type": "stream",
     "text": [
      "Processing characters: 0it [00:00, ?it/s]\n"
     ]
    },
    {
     "name": "stdout",
     "output_type": "stream",
     "text": [
      "Dropping the following intBCs due to lack of diversity with threshold 1.0: []\n"
     ]
    },
    {
     "name": "stderr",
     "output_type": "stream",
     "text": [
      "Processing characters: 100%|██████████| 6/6 [00:00<00:00, 23410.07it/s]\n"
     ]
    },
    {
     "name": "stdout",
     "output_type": "stream",
     "text": [
      "0\n",
      "GEM_RT_4\n"
     ]
    },
    {
     "name": "stderr",
     "output_type": "stream",
     "text": [
      "100%|██████████| 1/1 [00:00<00:00, 220.25it/s]\n"
     ]
    },
    {
     "name": "stdout",
     "output_type": "stream",
     "text": [
      "Dropping the following intBCs due to lack of diversity with threshold 0.98: ['ATTCACCTTAGTT_r1', 'ATTCACCTTAGTT_r2', 'ATTCACCTTAGTT_r3', 'CTGTTTTATGATT_r1', 'CTGTTTTATGATT_r2', 'CTGTTTTATGATT_r3', 'GACAATTTGCGCA_r1', 'GACAATTTGCGCA_r2', 'GACAATTTGCGCA_r3', 'TCTCCGGACACTT_r1', 'TCTCCGGACACTT_r2', 'TCTCCGGACACTT_r3', 'GGGCTTTGCTTTA_r1', 'GGGCTTTGCTTTA_r2', 'GGGCTTTGCTTTA_r3']\n"
     ]
    },
    {
     "name": "stderr",
     "output_type": "stream",
     "text": [
      "Processing characters: 0it [00:00, ?it/s]\n"
     ]
    },
    {
     "name": "stdout",
     "output_type": "stream",
     "text": [
      "Dropping the following intBCs due to lack of diversity with threshold 1.0: []\n"
     ]
    },
    {
     "name": "stderr",
     "output_type": "stream",
     "text": [
      "Processing characters: 100%|██████████| 15/15 [00:00<00:00, 25954.85it/s]\n"
     ]
    },
    {
     "name": "stdout",
     "output_type": "stream",
     "text": [
      "0\n",
      "GEM_RT_5\n"
     ]
    },
    {
     "name": "stderr",
     "output_type": "stream",
     "text": [
      "100%|██████████| 1/1 [00:00<00:00, 238.37it/s]\n"
     ]
    },
    {
     "name": "stdout",
     "output_type": "stream",
     "text": [
      "Dropping the following intBCs due to lack of diversity with threshold 0.98: ['AGAGGCTTGGTGC_r1', 'AGAGGCTTGGTGC_r2', 'AGAGGCTTGGTGC_r3', 'GGACAGCTGGGGG_r1', 'GGACAGCTGGGGG_r3', 'TAAAGGGTGGTCT_r1', 'TAAAGGGTGGTCT_r2', 'TAAAGGGTGGTCT_r3']\n"
     ]
    },
    {
     "name": "stderr",
     "output_type": "stream",
     "text": [
      "Processing characters: 100%|██████████| 1/1 [00:00<00:00, 8128.50it/s]\n"
     ]
    },
    {
     "name": "stdout",
     "output_type": "stream",
     "text": [
      "3\n",
      "GEM_RT_6\n"
     ]
    },
    {
     "name": "stderr",
     "output_type": "stream",
     "text": [
      "100%|██████████| 1/1 [00:00<00:00, 266.59it/s]\n"
     ]
    },
    {
     "name": "stdout",
     "output_type": "stream",
     "text": [
      "Dropping the following intBCs due to lack of diversity with threshold 0.98: []\n"
     ]
    },
    {
     "name": "stderr",
     "output_type": "stream",
     "text": [
      "Processing characters: 100%|██████████| 6/6 [00:00<00:00, 18669.01it/s]"
     ]
    },
    {
     "name": "stdout",
     "output_type": "stream",
     "text": [
      "116\n",
      "GEM_RT_7\n"
     ]
    },
    {
     "name": "stderr",
     "output_type": "stream",
     "text": [
      "\n",
      "100%|██████████| 1/1 [00:00<00:00, 231.49it/s]\n"
     ]
    },
    {
     "name": "stdout",
     "output_type": "stream",
     "text": [
      "Dropping the following intBCs due to lack of diversity with threshold 0.98: ['CCTACCGAGTGGT_r1', 'CCTACCGAGTGGT_r2', 'CCTACCGAGTGGT_r3', 'TTCTAGAATGTAA_r1', 'TTCTAGAATGTAA_r2', 'TTCTAGAATGTAA_r3', 'AGTATTTTCTGTC_r1', 'AGTATTTTCTGTC_r2', 'AGTATTTTCTGTC_r3']\n"
     ]
    },
    {
     "name": "stderr",
     "output_type": "stream",
     "text": [
      "Processing characters: 0it [00:00, ?it/s]\n"
     ]
    },
    {
     "name": "stdout",
     "output_type": "stream",
     "text": [
      "Dropping the following intBCs due to lack of diversity with threshold 1.0: []\n"
     ]
    },
    {
     "name": "stderr",
     "output_type": "stream",
     "text": [
      "Processing characters: 100%|██████████| 9/9 [00:00<00:00, 32374.56it/s]\n"
     ]
    },
    {
     "name": "stdout",
     "output_type": "stream",
     "text": [
      "0\n",
      "GEM_RT_8\n"
     ]
    },
    {
     "name": "stderr",
     "output_type": "stream",
     "text": [
      "100%|██████████| 1/1 [00:00<00:00, 241.16it/s]\n"
     ]
    },
    {
     "name": "stdout",
     "output_type": "stream",
     "text": [
      "Dropping the following intBCs due to lack of diversity with threshold 0.98: ['TGAGCAGCTAGCG_r1', 'TGAGCAGCTAGCG_r2', 'TGAGCAGCTAGCG_r3', 'GCTTTCCATCTAT_r1', 'GCTTTCCATCTAT_r2', 'GCTTTCCATCTAT_r3']\n"
     ]
    },
    {
     "name": "stderr",
     "output_type": "stream",
     "text": [
      "Processing characters: 0it [00:00, ?it/s]\n"
     ]
    },
    {
     "name": "stdout",
     "output_type": "stream",
     "text": [
      "Dropping the following intBCs due to lack of diversity with threshold 1.0: []\n"
     ]
    },
    {
     "name": "stderr",
     "output_type": "stream",
     "text": [
      "Processing characters: 100%|██████████| 6/6 [00:00<00:00, 30066.70it/s]\n"
     ]
    },
    {
     "name": "stdout",
     "output_type": "stream",
     "text": [
      "0\n",
      "GEM_RT_9\n"
     ]
    },
    {
     "name": "stderr",
     "output_type": "stream",
     "text": [
      "100%|██████████| 1/1 [00:00<00:00, 232.75it/s]\n"
     ]
    },
    {
     "name": "stdout",
     "output_type": "stream",
     "text": [
      "Dropping the following intBCs due to lack of diversity with threshold 0.98: ['TTTGTTTTCTTTC_r1', 'TTTGTTTTCTTTC_r2', 'TTTGTTTTCTTTC_r3', 'GGCAGTGGATAGG_r1', 'GGCAGTGGATAGG_r2', 'GGCAGTGGATAGG_r3']\n"
     ]
    },
    {
     "name": "stderr",
     "output_type": "stream",
     "text": [
      "Processing characters: 0it [00:00, ?it/s]\n"
     ]
    },
    {
     "name": "stdout",
     "output_type": "stream",
     "text": [
      "Dropping the following intBCs due to lack of diversity with threshold 1.0: []\n"
     ]
    },
    {
     "name": "stderr",
     "output_type": "stream",
     "text": [
      "Processing characters: 100%|██████████| 6/6 [00:00<00:00, 34855.71it/s]"
     ]
    },
    {
     "name": "stdout",
     "output_type": "stream",
     "text": [
      "0\n",
      "MI_MGH_0\n"
     ]
    },
    {
     "name": "stderr",
     "output_type": "stream",
     "text": [
      "\n",
      "100%|██████████| 1/1 [00:00<00:00, 103.76it/s]\n"
     ]
    },
    {
     "name": "stdout",
     "output_type": "stream",
     "text": [
      "Dropping the following intBCs due to lack of diversity with threshold 0.98: ['CCCAGTCTAGTCT_r1', 'CCCAGTCTAGTCT_r2', 'CCCAGTCTAGTCT_r3', 'ATGGTGGTGTATA_r1', 'TATGCCAACTTCT_r1', 'TATGCCAACTTCT_r2', 'TATGCCAACTTCT_r3', 'TCAGTGGATCCTC_r1', 'TTACCGGGGGGCG_r1', 'TTACCGGGGGGCG_r2', 'TTATCCAAGGCGG_r1', 'TTATCCAAGGCGG_r2', 'TTATCCAAGGCGG_r3', 'A_r3', 'AATGATCATTAGG_r3', 'ACCGGATATCATA_r2', 'ATGACTGACTATG_r2', 'ATGACTGACTATG_r3', 'GCCAAAAAAACTA_r1', 'GCCAAAAAAACTA_r2', 'GCCAAAAAAACTA_r3', 'GCCAAAAAAAACT_r1', 'GCCAAAAAAAACT_r2', 'GCCAAAAAAAACT_r3']\n"
     ]
    },
    {
     "name": "stderr",
     "output_type": "stream",
     "text": [
      "Processing characters: 100%|██████████| 15/15 [00:00<00:00, 44306.03it/s]\n"
     ]
    },
    {
     "name": "stdout",
     "output_type": "stream",
     "text": [
      "37\n",
      "MI_MGH_1\n"
     ]
    },
    {
     "name": "stderr",
     "output_type": "stream",
     "text": [
      "100%|██████████| 1/1 [00:00<00:00, 15.42it/s]\n"
     ]
    },
    {
     "name": "stdout",
     "output_type": "stream",
     "text": [
      "Dropping the following intBCs due to lack of diversity with threshold 0.98: ['AATGGGCTGATGC_r1', 'AATGGGCTGATGC_r2', 'AATGGGCTGATGC_r3', 'ACGCCCTGCTTGC_r1', 'ACGCCCTGCTTGC_r2', 'ACGCCCTGCTTGC_r3', 'CCATCGGGCCGTT_r1', 'CCATCGGGCCGTT_r2', 'CCATCGGGCCGTT_r3', 'CGGTTTTTTGTGT_r1', 'CGGTTTTTTGTGT_r2', 'CGGTTTTTTGTGT_r3', 'GACGGGGGTATCT_r1', 'GACGGGGGTATCT_r2', 'GACGGGGGTATCT_r3', 'GTGGCGTTCAAGA_r1', 'GTGGCGTTCAAGA_r2', 'GTGGCGTTCAAGA_r3', 'TAAATACAGCGTG_r1', 'TAAATACAGCGTG_r2', 'TAAATACAGCGTG_r3', 'TGTAGATTATGGA_r1', 'TGTAGATTATGGA_r2', 'TGTAGATTATGGA_r3', 'GCTCGGCCTTCAC_r1', 'GTGGGGCTCGAGC_r1', 'GTGGGGCTCGAGC_r2', 'GTGGGGCTCGAGC_r3', 'GTTGGAACACTGG_r1', 'TATGTTTCTAACT_r1', 'TATGTTTCTAACT_r2', 'TCCTCTGCGCGAT_r1', 'TCCTCTGCGCGAT_r3', 'TTAATAGCCCGCG_r1', 'TTAATAGCCCGCG_r2', 'TTAATAGCCCGCG_r3', 'TTACAGGCGTGGA_r1', 'TTACAGGCGTGGA_r3', 'TTACAGTGTCTAA_r1', 'TTACAGTGTCTAA_r3', 'CCAGCTAATCTCT_r1', 'CCAGCTAATCTCT_r3', 'CCGTACTACACAC_r2', 'CCGTACTACACAC_r3', 'GCCGTTCCTTTTT_r1', 'GCCGTTCCTTTTT_r2', 'GCCGTTCCTTTTT_r3']\n"
     ]
    },
    {
     "name": "stderr",
     "output_type": "stream",
     "text": [
      "Processing characters: 100%|██████████| 13/13 [00:00<00:00, 305.93it/s]\n"
     ]
    },
    {
     "name": "stdout",
     "output_type": "stream",
     "text": [
      "3071\n",
      "MI_MGH_2\n"
     ]
    },
    {
     "name": "stderr",
     "output_type": "stream",
     "text": [
      "100%|██████████| 1/1 [00:00<00:00, 131.19it/s]\n"
     ]
    },
    {
     "name": "stdout",
     "output_type": "stream",
     "text": [
      "Dropping the following intBCs due to lack of diversity with threshold 0.98: ['TTATCAATGATGA_r1', 'TTATCAATGATGA_r2', 'AGTGCTTTGGTAT_r2', 'AGTGCTTTGGTAT_r3', 'TTGTATTGATTAT_r2', 'TTGTATTGATTAT_r3', 'CGTCAGCATCCAA_r2', 'CGTCAGCATCCAA_r3', 'TTTGCGACTCTAT_r1', 'CTTGCCTGCTTTG_r3']\n"
     ]
    },
    {
     "name": "stderr",
     "output_type": "stream",
     "text": [
      "Processing characters: 100%|██████████| 29/29 [00:00<00:00, 14389.54it/s]\n"
     ]
    },
    {
     "name": "stdout",
     "output_type": "stream",
     "text": [
      "152\n",
      "MI_MGH_3\n"
     ]
    },
    {
     "name": "stderr",
     "output_type": "stream",
     "text": [
      "100%|██████████| 1/1 [00:00<00:00, 177.11it/s]\n"
     ]
    },
    {
     "name": "stdout",
     "output_type": "stream",
     "text": [
      "Dropping the following intBCs due to lack of diversity with threshold 0.98: ['CCTGCGACAGGCA_r1', 'CCTGCGACAGGCA_r2', 'CCTGCGACAGGCA_r3', 'ATCAAAATGGGTA_r1', 'ATCAAAATGGGTA_r2', 'ATCAAAATGGGTA_r3', 'GTGGTAGGGCCGC_r1', 'GTGGTAGGGCCGC_r3']\n"
     ]
    },
    {
     "name": "stderr",
     "output_type": "stream",
     "text": [
      "Processing characters: 100%|██████████| 1/1 [00:00<00:00, 15768.06it/s]\n"
     ]
    },
    {
     "name": "stdout",
     "output_type": "stream",
     "text": [
      "5\n",
      "Met_MGH_0\n"
     ]
    },
    {
     "name": "stderr",
     "output_type": "stream",
     "text": [
      "100%|██████████| 1/1 [00:00<00:00, 142.54it/s]\n"
     ]
    },
    {
     "name": "stdout",
     "output_type": "stream",
     "text": [
      "Dropping the following intBCs due to lack of diversity with threshold 0.98: ['AATCATCTGAGTT_r1', 'GACCTATTCATTC_r1', 'GACCTATTCATTC_r2', 'TCTTCGTTATCAC_r1', 'TCTTCGTTATCAC_r3', 'CGCCACGCGCTGT_r1', 'TGAGGTTGGACTA_r2', 'TTCCGCTCCTGAG_r1', 'TTCCGCTCCTGAG_r2', 'ACCGTATAACTCA_r1', 'CATTATGGGCATT_r2', 'CATTATGGGCATT_r3', 'GTTGCAGTTGGCC_r1', 'GTTGCAGTTGGCC_r2', 'GTTGCAGTTGGCC_r3', 'CGTCCGTGTATAT_r2', 'CGTCCGTGTATAT_r3', 'AGTGGATTAGAAG_r2', 'AGTGGATTAGAAG_r3', 'TCTGAAGAGGGAA_r2', 'TCTGAAGAGGGAA_r3', 'TGCGGCTGGGCTC_r1', 'TGCGGCTGGGCTC_r2', 'TGCGGCTGGGCTC_r3', 'TTTCTGCGAGTAT_r2', 'TTTCTGCGAGTAT_r3', 'TTTGCTCAACTCT_r2', 'GCGGCATGACCAT_r2', 'GCGGCATGACCAT_r3', 'TGGGCTTTACTTT_r1', 'GTCTCGACCTCAG_r2', 'GTCTCGACCTCAG_r3', 'GGGCTTTACTCTG_r1', 'GGGCTTTACTCTG_r2']\n"
     ]
    },
    {
     "name": "stderr",
     "output_type": "stream",
     "text": [
      "Processing characters: 100%|██████████| 32/32 [00:00<00:00, 103964.16it/s]"
     ]
    },
    {
     "name": "stdout",
     "output_type": "stream",
     "text": [
      "22\n",
      "Met_MGH_1\n"
     ]
    },
    {
     "name": "stderr",
     "output_type": "stream",
     "text": [
      "\n",
      "100%|██████████| 1/1 [00:00<00:00, 39.94it/s]\n"
     ]
    },
    {
     "name": "stdout",
     "output_type": "stream",
     "text": [
      "Dropping the following intBCs due to lack of diversity with threshold 0.98: ['AGACTATCGAGAT_r1', 'AGACTATCGAGAT_r2', 'AGACTATCGAGAT_r3', 'CGGTTTTTTGTGT_r1', 'CGGTTTTTTGTGT_r2', 'CGGTTTTTTGTGT_r3', 'GACGGGGGTATCT_r1', 'GACGGGGGTATCT_r2', 'GACGGGGGTATCT_r3', 'GTGGCGTTCAAGA_r1', 'GTGGCGTTCAAGA_r2', 'GTGGCGTTCAAGA_r3', 'TGTAGATTATGGA_r1', 'TGTAGATTATGGA_r2', 'TGTAGATTATGGA_r3', 'TAAATACAGCGTG_r1', 'TAAATACAGCGTG_r2', 'TAAATACAGCGTG_r3', 'ACGCCCTGCTTGC_r1', 'ACGCCCTGCTTGC_r2', 'ACGCCCTGCTTGC_r3', 'CCATCGGGCCGTT_r1', 'CCATCGGGCCGTT_r2', 'CCATCGGGCCGTT_r3', 'A_r1', 'A_r2', 'A_r3', 'AATGGGCTGATGC_r1', 'AATGGGCTGATGC_r2', 'AATGGGCTGATGC_r3', 'ATGGCCTTTGAGT_r1', 'ATGGCCTTTGAGT_r2', 'ATGGCCTTTGAGT_r3', 'GTTACAAGTAGCT_r1', 'GTTACAAGTAGCT_r2', 'GTTACAAGTAGCT_r3']\n"
     ]
    },
    {
     "name": "stderr",
     "output_type": "stream",
     "text": [
      "Processing characters: 0it [00:00, ?it/s]\n"
     ]
    },
    {
     "name": "stdout",
     "output_type": "stream",
     "text": [
      "Dropping the following intBCs due to lack of diversity with threshold 1.0: []\n"
     ]
    },
    {
     "name": "stderr",
     "output_type": "stream",
     "text": [
      "Processing characters: 100%|██████████| 36/36 [00:00<00:00, 681.35it/s]\n"
     ]
    },
    {
     "name": "stdout",
     "output_type": "stream",
     "text": [
      "2\n",
      "Met_MGH_2\n"
     ]
    },
    {
     "name": "stderr",
     "output_type": "stream",
     "text": [
      "100%|██████████| 1/1 [00:00<00:00, 122.22it/s]\n"
     ]
    },
    {
     "name": "stdout",
     "output_type": "stream",
     "text": [
      "Dropping the following intBCs due to lack of diversity with threshold 0.98: ['GCTCGGCCTTCAC_r1', 'GCTCGGCCTTCAC_r2', 'GCTCGGCCTTCAC_r3', 'CCACCCATGAGTG_r3', 'CCAGCTAATCTCT_r1', 'CCAGCTAATCTCT_r3', 'CCGTACTACACAC_r1', 'CCGTACTACACAC_r2', 'CCGTACTACACAC_r3', 'GCCGTTCCTTTTT_r1', 'GCCGTTCCTTTTT_r2', 'GCCGTTCCTTTTT_r3', 'TTACAGGCGTGGA_r1', 'TTACAGGCGTGGA_r3', 'TTACAGTGTCTAA_r1', 'TTACAGTGTCTAA_r2', 'TTACAGTGTCTAA_r3', 'TTAATAGCCCGCG_r1', 'TTAATAGCCCGCG_r2', 'TTAATAGCCCGCG_r3', 'TCCTCTGCGCGAT_r1', 'TCCTCTGCGCGAT_r2', 'TCCTCTGCGCGAT_r3', 'TATGTTTCTAACT_r1', 'GTTGGAACACTGG_r1', 'A_r1']\n"
     ]
    },
    {
     "name": "stderr",
     "output_type": "stream",
     "text": [
      "Processing characters: 100%|██████████| 10/10 [00:00<00:00, 8292.42it/s]\n"
     ]
    },
    {
     "name": "stdout",
     "output_type": "stream",
     "text": [
      "346\n",
      "Met_MGH_3\n"
     ]
    },
    {
     "name": "stderr",
     "output_type": "stream",
     "text": [
      "100%|██████████| 1/1 [00:00<00:00, 252.49it/s]\n"
     ]
    },
    {
     "name": "stdout",
     "output_type": "stream",
     "text": [
      "Dropping the following intBCs due to lack of diversity with threshold 0.98: ['CCTGCGACAGGCA_r1', 'CCTGCGACAGGCA_r2', 'CCTGCGACAGGCA_r3', 'GTGGTAGGGCCGC_r1', 'GTGGTAGGGCCGC_r3', 'ATCAAAATGGGTA_r1', 'ATCAAAATGGGTA_r2', 'ATCAAAATGGGTA_r3']\n"
     ]
    },
    {
     "name": "stderr",
     "output_type": "stream",
     "text": [
      "Processing characters: 100%|██████████| 1/1 [00:00<00:00, 19599.55it/s]\n"
     ]
    },
    {
     "name": "stdout",
     "output_type": "stream",
     "text": [
      "2\n",
      "NMI_MGH_0\n"
     ]
    },
    {
     "name": "stderr",
     "output_type": "stream",
     "text": [
      "100%|██████████| 1/1 [00:00<00:00, 115.42it/s]\n"
     ]
    },
    {
     "name": "stdout",
     "output_type": "stream",
     "text": [
      "Dropping the following intBCs due to lack of diversity with threshold 0.98: ['CACGATCTCTGTG_r1', 'CACGATCTCTGTG_r2', 'AAACCAGTTTATT_r1', 'AAACCAGTTTATT_r2', 'CCTGTGCACGATA_r1', 'CCTGTGCACGATA_r2', 'CCTGTGCACGATA_r3', 'CTACCAGTGCGGC_r2', 'CTACCAGTGCGGC_r3', 'GGACGAATTTTAG_r1', 'TAAGTAAAGGAAA_r1', 'TAAGTAAAGGAAA_r2', 'TAAGTAAAGGAAA_r3', 'TATGGGTATTCCG_r3', 'TTCGCATTTCCTC_r1', 'TTCGCATTTCCTC_r2', 'TTCGCATTTCCTC_r3', 'TGTGCTGGCAGGG_r3', 'CACCATATGTTAG_r3', 'AGTGGATTAGAAG_r1', 'AGTGGATTAGAAG_r2', 'AGTGGATTAGAAG_r3', 'AAGGCATTGTGCA_r1', 'AAGGCATTGTGCA_r2', 'AAGGCATTGTGCA_r3', 'AAGGCCAGTCTCT_r1', 'AAGGCCAGTCTCT_r3', 'CAAGATACCCTTC_r1', 'CAAGATACCCTTC_r2', 'CAAGATACCCTTC_r3', 'GTTAACAGTGACA_r1', 'GTTAACAGTGACA_r2', 'GTTAACAGTGACA_r3', 'TGTGTCCCTCTTT_r1']\n"
     ]
    },
    {
     "name": "stderr",
     "output_type": "stream",
     "text": [
      "Processing characters: 100%|██████████| 17/17 [00:00<00:00, 155006.89it/s]\n"
     ]
    },
    {
     "name": "stdout",
     "output_type": "stream",
     "text": [
      "8\n",
      "NMI_MGH_2\n"
     ]
    },
    {
     "name": "stderr",
     "output_type": "stream",
     "text": [
      "100%|██████████| 1/1 [00:00<00:00, 120.50it/s]\n"
     ]
    },
    {
     "name": "stdout",
     "output_type": "stream",
     "text": [
      "Dropping the following intBCs due to lack of diversity with threshold 0.98: ['AAAAAATGGTGCG_r1', 'AAAAAATGGTGCG_r2', 'CCATTCGGGGGCA_r2', 'GACGTTTCGCGCA_r3', 'GCGGAGTGGTGTC_r2', 'GCGGAGTGGTGTC_r3', 'GCTGGCCTTATAT_r2', 'GCTGGCCTTATAT_r3', 'GTGACCTGCAGGG_r2', 'TCAGCCTATATGA_r1', 'TGGGCCTACAAGT_r3', 'TTAGGTTCATCGC_r2', 'TTAGGTTCATCGC_r3', 'A_r3', 'ACCGGTAAGGCGA_r1', 'ACCGGTAAGGCGA_r2', 'ACCGGTAAGGCGA_r3', 'TTTGTGGCGAGTG_r2', 'TTTGTGGCGAGTG_r3', 'TTGCTAGATACGG_r1', 'TTGCTAGATACGG_r2', 'TTGCTAGATACGG_r3', 'GCTCATAATGTCT_r1', 'GCTCATAATGTCT_r3', 'CCAGAAGTGCCAG_r1', 'CCAGAAGTGCCAG_r2', 'CCAGAAGTGCCAG_r3', 'GTTCTAAGGTGAC_r1', 'GTTCTAAGGTGAC_r2', 'GTTCTAAGGTGAC_r3', 'GTTGTCTAAATGT_r1', 'GTTGTCTAAATGT_r2', 'GTTGTCTAAATGT_r3', 'ACTTTCCTATTAT_r1', 'ACTTTCCTATTAT_r2', 'ACTTTCCTATTAT_r3', 'TCAGTTTTTTCTC_r1', 'TCAGTTTTTTCTC_r2', 'TCAGTTTTTTCTC_r3', 'TCGACGGGAACGC_r1', 'TCGACGGGAACGC_r2', 'TCGACGGGAACGC_r3']\n"
     ]
    },
    {
     "name": "stderr",
     "output_type": "stream",
     "text": [
      "Processing characters: 100%|██████████| 27/27 [00:00<00:00, 32920.41it/s]\n"
     ]
    },
    {
     "name": "stdout",
     "output_type": "stream",
     "text": [
      "66\n",
      "NMI_MGH_3\n"
     ]
    },
    {
     "name": "stderr",
     "output_type": "stream",
     "text": [
      "100%|██████████| 1/1 [00:00<00:00, 165.22it/s]\n"
     ]
    },
    {
     "name": "stdout",
     "output_type": "stream",
     "text": [
      "Dropping the following intBCs due to lack of diversity with threshold 0.98: ['CGTGATTGGCGCC_r2', 'GCCTCTCGGCGGC_r1', 'GCCTCTCGGCGGC_r2', 'GCCTCTCGGCGGC_r3', 'GTGCGTGATTTGT_r1', 'GTGCGTGATTTGT_r3', 'TATTTGGCTTTGC_r1', 'TATTTGGCTTTGC_r2', 'TATTTGGCTTTGC_r3', 'CATTCGTTAGCCT_r2', 'GCCTGGACTGCTT_r1', 'GCCTGGACTGCTT_r3']\n"
     ]
    },
    {
     "name": "stderr",
     "output_type": "stream",
     "text": [
      "Processing characters: 100%|██████████| 9/9 [00:00<00:00, 23741.34it/s]\n"
     ]
    },
    {
     "name": "stdout",
     "output_type": "stream",
     "text": [
      "81\n",
      "NMI_MGH_4\n"
     ]
    },
    {
     "name": "stderr",
     "output_type": "stream",
     "text": [
      "100%|██████████| 1/1 [00:00<00:00, 114.60it/s]\n"
     ]
    },
    {
     "name": "stdout",
     "output_type": "stream",
     "text": [
      "Dropping the following intBCs due to lack of diversity with threshold 0.98: ['CCCGGTGTTAATA_r2', 'TTAGAACTCCGGC_r3', 'GCGGCATGACCAT_r1', 'GCGGCATGACCAT_r2', 'GCGGCATGACCAT_r3']\n"
     ]
    },
    {
     "name": "stderr",
     "output_type": "stream",
     "text": [
      "Processing characters: 100%|██████████| 37/37 [00:00<00:00, 25205.34it/s]"
     ]
    },
    {
     "name": "stdout",
     "output_type": "stream",
     "text": [
      "76"
     ]
    },
    {
     "name": "stderr",
     "output_type": "stream",
     "text": [
      "\n"
     ]
    },
    {
     "name": "stdout",
     "output_type": "stream",
     "text": [
      "\n",
      "NMI_MGH_5\n"
     ]
    },
    {
     "name": "stderr",
     "output_type": "stream",
     "text": [
      "100%|██████████| 1/1 [00:00<00:00, 140.83it/s]\n"
     ]
    },
    {
     "name": "stdout",
     "output_type": "stream",
     "text": [
      "Dropping the following intBCs due to lack of diversity with threshold 0.98: ['TCCAATCCGAATT_r1', 'TCCAATCCGAATT_r2', 'CTCGTTTGGTTCT_r1', 'CTCGTTTGGTTCT_r3', 'GTACTCAGGCGAA_r2', 'GTACTCAGGCGAA_r3', 'ATTATTACAGTAA_r1', 'ATTATTACAGTAA_r2', 'ATTATTACAGTAA_r3']\n"
     ]
    },
    {
     "name": "stderr",
     "output_type": "stream",
     "text": [
      "Processing characters: 100%|██████████| 9/9 [00:00<00:00, 34442.28it/s]\n"
     ]
    },
    {
     "name": "stdout",
     "output_type": "stream",
     "text": [
      "50\n",
      "NMI_MGH_6\n"
     ]
    },
    {
     "name": "stderr",
     "output_type": "stream",
     "text": [
      "100%|██████████| 1/1 [00:00<00:00, 134.56it/s]\n"
     ]
    },
    {
     "name": "stdout",
     "output_type": "stream",
     "text": [
      "Dropping the following intBCs due to lack of diversity with threshold 0.98: ['TGCGGCTGGGCTC_r1', 'TGCGGCTGGGCTC_r2', 'TGCGGCTGGGCTC_r3', 'TGTAGGATTTTCG_r1', 'TGTAGGATTTTCG_r2', 'TGTAGGATTTTCG_r3', 'TCTGCGGAGCCCC_r2', 'TCTGCGGAGCCCC_r3', 'TCCGTGTCCACAA_r1', 'TCCGTGTCCACAA_r2', 'TCCGTGTCCACAA_r3', 'TTTCTGCGAGTAT_r2', 'TTTCTGCGAGTAT_r3', 'CGAAGGTAATAAC_r1', 'CGAAGGTAATAAC_r2', 'CGAAGGTAATAAC_r3', 'AGTATTTCTCCTG_r1', 'AGTATTTCTCCTG_r2', 'AGTATTTCTCCTG_r3', 'AACGATTTGATCT_r1', 'AACGATTTGATCT_r3', 'A_r1', 'A_r2', 'A_r3', 'GTCTCGTACTATT_r1', 'TCTGAAGAGGGAA_r2', 'TCTGAAGAGGGAA_r3', 'CATTATGGGCATT_r2', 'CATTATGGGCATT_r3']\n"
     ]
    },
    {
     "name": "stderr",
     "output_type": "stream",
     "text": [
      "Processing characters: 100%|██████████| 10/10 [00:00<00:00, 53159.75it/s]"
     ]
    },
    {
     "name": "stdout",
     "output_type": "stream",
     "text": [
      "16"
     ]
    },
    {
     "name": "stderr",
     "output_type": "stream",
     "text": [
      "\n"
     ]
    },
    {
     "name": "stdout",
     "output_type": "stream",
     "text": [
      "\n"
     ]
    }
   ],
   "source": [
    "tumor_stats = {}\n",
    "tum_errors = []\n",
    "numerr = 0\n",
    "\n",
    "for tumor, tum_at in allele_table_final.groupby('Tumor'):\n",
    "    print(tumor)\n",
    "    clone = meta.loc[meta['Tumor'] == tumor, 'Cell_Clone'].iloc[0]\n",
    "\n",
    "    tumor_at = allele_table_final[allele_table_final['Tumor'] == tumor].copy()\n",
    "    tumor_at['lineageGrp'] = tumor_at['Tumor'].copy()\n",
    "    lg = lg_util.collectAlleles(tumor_at, thresh=0.2)[0]\n",
    "\n",
    "    # drop normal cells from lg\n",
    "    n_cs = len(lg['intBC'].unique())*3\n",
    "    #filt = lg.apply(lambda x: not meta.loc[x.cellBC, 'is_normal'], axis=1)\n",
    "    #lg = lg.loc[filt]\n",
    "    \n",
    "    try:\n",
    "        cm, priors, state2indel = util.alleletable_to_character_matrix(lg, write=False, allele_rep_thresh = 0.98)\n",
    "    except:\n",
    "        cm, priors, state2indel = util.alleletable_to_character_matrix(lg, write=False, allele_rep_thresh = 1.0)\n",
    "    \n",
    "    number_dropped_intbcs = (n_cs - cm.shape[1]) \n",
    "    pu = cm.apply(lambda x: percent_uncut(x.values), axis=1)\n",
    "\n",
    "    cmf = cm[pu < 0.9]\n",
    "\n",
    "    \n",
    "    print(cmf.shape[0])\n",
    "    if cmf.shape[0] == 0:\n",
    "        continue\n",
    "\n",
    "    puniq = cmf.drop_duplicates().shape[0] / cmf.shape[0]\n",
    "    \n",
    "    number_dropped_intbcs\n",
    "    tumor_stats[tumor] = (puniq, compute_perc_indels(cmf), number_dropped_intbcs, 1.0 - (number_dropped_intbcs / n_cs), cmf.shape[0])"
   ]
  },
  {
   "cell_type": "code",
   "execution_count": 32,
   "metadata": {},
   "outputs": [
    {
     "data": {
      "text/plain": [
       "{'CTR_MGH_0': (0.6616541353383458,\n",
       "  0.4214328717639976,\n",
       "  20,\n",
       "  0.6825396825396826,\n",
       "  133),\n",
       " 'CTR_MGH_1': (0.5960144927536232,\n",
       "  0.7157277882797732,\n",
       "  7,\n",
       "  0.6666666666666667,\n",
       "  3312),\n",
       " 'CTR_MGH_2': (0.8971807628524047,\n",
       "  0.49140017836667094,\n",
       "  29,\n",
       "  0.5166666666666666,\n",
       "  603),\n",
       " 'CTR_MGH_3': (0.91, 0.2394085868638044, 65, 0.39814814814814814, 200),\n",
       " 'CTR_MGH_4': (0.6880952380952381,\n",
       "  0.5881786058464504,\n",
       "  7,\n",
       "  0.6111111111111112,\n",
       "  420),\n",
       " 'CTR_MGH_5': (0.7226890756302521,\n",
       "  0.7746478873239436,\n",
       "  20,\n",
       "  0.4444444444444444,\n",
       "  119),\n",
       " 'CTR_MGH_6': (0.5467625899280576,\n",
       "  0.6606929510155317,\n",
       "  17,\n",
       "  0.29166666666666663,\n",
       "  139),\n",
       " 'CTR_MGH_7': (1.0, 0.15454545454545454, 31, 0.6436781609195402, 21),\n",
       " 'CTR_MGH_8': (0.9210526315789473,\n",
       "  0.5014577259475219,\n",
       "  32,\n",
       "  0.37254901960784315,\n",
       "  38),\n",
       " 'CTR_MGH_9': (0.8695652173913043, 0.6560509554140128, 6, 0.75, 23),\n",
       " 'CTR_RT_0': (0.5526315789473685, 0.33207547169811324, 9, 0.625, 38),\n",
       " 'CTR_RT_1': (0.20946416144746,\n",
       "  0.2361014420686226,\n",
       "  16,\n",
       "  0.40740740740740744,\n",
       "  2874),\n",
       " 'GEM_RT_1': (0.14676616915422885,\n",
       "  0.20900900900900898,\n",
       "  26,\n",
       "  0.2777777777777778,\n",
       "  402),\n",
       " 'GEM_RT_12': (0.5757575757575758, 0.4013605442176871, 0, 1.0, 66),\n",
       " 'GEM_RT_13': (0.3611111111111111, 0.59375, 2, 0.6666666666666667, 36),\n",
       " 'GEM_RT_15': (0.3333333333333333, 0.6, 13, 0.1333333333333333, 15),\n",
       " 'GEM_RT_17': (0.8181818181818182,\n",
       "  0.5909090909090908,\n",
       "  1,\n",
       "  0.6666666666666667,\n",
       "  11),\n",
       " 'GEM_RT_18': (1.0, 1.0, 2, 0.33333333333333337, 4),\n",
       " 'GEM_RT_19': (0.36, 0.5869565217391304, 3, 0.5, 25),\n",
       " 'GEM_RT_5': (1.0, 1.0, 8, 0.11111111111111116, 3),\n",
       " 'GEM_RT_6': (0.27586206896551724, 0.2503617945007236, 0, 1.0, 116),\n",
       " 'MI_MGH_0': (0.5945945945945946,\n",
       "  0.310272536687631,\n",
       "  24,\n",
       "  0.3846153846153846,\n",
       "  37),\n",
       " 'MI_MGH_1': (0.2357538261152719,\n",
       "  0.21693051890941073,\n",
       "  47,\n",
       "  0.21666666666666667,\n",
       "  3071),\n",
       " 'MI_MGH_2': (0.9539473684210527,\n",
       "  0.6507000736919676,\n",
       "  10,\n",
       "  0.7435897435897436,\n",
       "  152),\n",
       " 'MI_MGH_3': (0.2, 1.0, 8, 0.11111111111111116, 5),\n",
       " 'Met_MGH_0': (0.8636363636363636,\n",
       "  0.3856209150326797,\n",
       "  34,\n",
       "  0.48484848484848486,\n",
       "  22),\n",
       " 'Met_MGH_1': (1.0, 0.12121212121212122, 0, 1.0, 2),\n",
       " 'Met_MGH_2': (0.1531791907514451,\n",
       "  0.2607382550335571,\n",
       "  26,\n",
       "  0.2777777777777778,\n",
       "  346),\n",
       " 'Met_MGH_3': (0.5, 1.0, 8, 0.11111111111111116, 2),\n",
       " 'NMI_MGH_0': (1.0, 0.4285714285714286, 34, 0.33333333333333337, 8),\n",
       " 'NMI_MGH_2': (0.9242424242424242,\n",
       "  0.3613445378151261,\n",
       "  42,\n",
       "  0.3913043478260869,\n",
       "  66),\n",
       " 'NMI_MGH_3': (0.35802469135802467,\n",
       "  0.6113821138211382,\n",
       "  12,\n",
       "  0.4285714285714286,\n",
       "  81),\n",
       " 'NMI_MGH_4': (1.0, 0.6041841004184101, 5, 0.8809523809523809, 76),\n",
       " 'NMI_MGH_5': (0.38, 0.16901408450704225, 9, 0.5, 50),\n",
       " 'NMI_MGH_6': (0.9375, 0.27, 29, 0.2564102564102564, 16)}"
      ]
     },
     "execution_count": 32,
     "metadata": {},
     "output_type": "execute_result"
    }
   ],
   "source": [
    "tumor_stats"
   ]
  },
  {
   "cell_type": "code",
   "execution_count": 33,
   "metadata": {},
   "outputs": [],
   "source": [
    "tumor_clone_statistics = pd.DataFrame.from_dict(tumor_stats, orient='index',\n",
    "                                                columns = ['PercentUnique', 'CutRate', 'NumSaturatedTargets', 'PercentUnsaturatedTargets', 'NumCells'])"
   ]
  },
  {
   "cell_type": "code",
   "execution_count": 34,
   "metadata": {},
   "outputs": [
    {
     "data": {
      "text/html": [
       "<div>\n",
       "<style scoped>\n",
       "    .dataframe tbody tr th:only-of-type {\n",
       "        vertical-align: middle;\n",
       "    }\n",
       "\n",
       "    .dataframe tbody tr th {\n",
       "        vertical-align: top;\n",
       "    }\n",
       "\n",
       "    .dataframe thead th {\n",
       "        text-align: right;\n",
       "    }\n",
       "</style>\n",
       "<table border=\"1\" class=\"dataframe\">\n",
       "  <thead>\n",
       "    <tr style=\"text-align: right;\">\n",
       "      <th></th>\n",
       "      <th>PercentUnique</th>\n",
       "      <th>CutRate</th>\n",
       "      <th>NumSaturatedTargets</th>\n",
       "      <th>PercentUnsaturatedTargets</th>\n",
       "      <th>NumCells</th>\n",
       "    </tr>\n",
       "  </thead>\n",
       "  <tbody>\n",
       "    <tr>\n",
       "      <th>CTR_MGH_0</th>\n",
       "      <td>0.661654</td>\n",
       "      <td>0.421433</td>\n",
       "      <td>20</td>\n",
       "      <td>0.682540</td>\n",
       "      <td>133</td>\n",
       "    </tr>\n",
       "    <tr>\n",
       "      <th>CTR_MGH_1</th>\n",
       "      <td>0.596014</td>\n",
       "      <td>0.715728</td>\n",
       "      <td>7</td>\n",
       "      <td>0.666667</td>\n",
       "      <td>3312</td>\n",
       "    </tr>\n",
       "    <tr>\n",
       "      <th>CTR_MGH_2</th>\n",
       "      <td>0.897181</td>\n",
       "      <td>0.491400</td>\n",
       "      <td>29</td>\n",
       "      <td>0.516667</td>\n",
       "      <td>603</td>\n",
       "    </tr>\n",
       "    <tr>\n",
       "      <th>CTR_MGH_3</th>\n",
       "      <td>0.910000</td>\n",
       "      <td>0.239409</td>\n",
       "      <td>65</td>\n",
       "      <td>0.398148</td>\n",
       "      <td>200</td>\n",
       "    </tr>\n",
       "    <tr>\n",
       "      <th>CTR_MGH_4</th>\n",
       "      <td>0.688095</td>\n",
       "      <td>0.588179</td>\n",
       "      <td>7</td>\n",
       "      <td>0.611111</td>\n",
       "      <td>420</td>\n",
       "    </tr>\n",
       "    <tr>\n",
       "      <th>CTR_MGH_5</th>\n",
       "      <td>0.722689</td>\n",
       "      <td>0.774648</td>\n",
       "      <td>20</td>\n",
       "      <td>0.444444</td>\n",
       "      <td>119</td>\n",
       "    </tr>\n",
       "    <tr>\n",
       "      <th>CTR_MGH_6</th>\n",
       "      <td>0.546763</td>\n",
       "      <td>0.660693</td>\n",
       "      <td>17</td>\n",
       "      <td>0.291667</td>\n",
       "      <td>139</td>\n",
       "    </tr>\n",
       "    <tr>\n",
       "      <th>CTR_MGH_7</th>\n",
       "      <td>1.000000</td>\n",
       "      <td>0.154545</td>\n",
       "      <td>31</td>\n",
       "      <td>0.643678</td>\n",
       "      <td>21</td>\n",
       "    </tr>\n",
       "    <tr>\n",
       "      <th>CTR_MGH_8</th>\n",
       "      <td>0.921053</td>\n",
       "      <td>0.501458</td>\n",
       "      <td>32</td>\n",
       "      <td>0.372549</td>\n",
       "      <td>38</td>\n",
       "    </tr>\n",
       "    <tr>\n",
       "      <th>CTR_MGH_9</th>\n",
       "      <td>0.869565</td>\n",
       "      <td>0.656051</td>\n",
       "      <td>6</td>\n",
       "      <td>0.750000</td>\n",
       "      <td>23</td>\n",
       "    </tr>\n",
       "    <tr>\n",
       "      <th>CTR_RT_0</th>\n",
       "      <td>0.552632</td>\n",
       "      <td>0.332075</td>\n",
       "      <td>9</td>\n",
       "      <td>0.625000</td>\n",
       "      <td>38</td>\n",
       "    </tr>\n",
       "    <tr>\n",
       "      <th>CTR_RT_1</th>\n",
       "      <td>0.209464</td>\n",
       "      <td>0.236101</td>\n",
       "      <td>16</td>\n",
       "      <td>0.407407</td>\n",
       "      <td>2874</td>\n",
       "    </tr>\n",
       "    <tr>\n",
       "      <th>GEM_RT_1</th>\n",
       "      <td>0.146766</td>\n",
       "      <td>0.209009</td>\n",
       "      <td>26</td>\n",
       "      <td>0.277778</td>\n",
       "      <td>402</td>\n",
       "    </tr>\n",
       "    <tr>\n",
       "      <th>GEM_RT_12</th>\n",
       "      <td>0.575758</td>\n",
       "      <td>0.401361</td>\n",
       "      <td>0</td>\n",
       "      <td>1.000000</td>\n",
       "      <td>66</td>\n",
       "    </tr>\n",
       "    <tr>\n",
       "      <th>GEM_RT_13</th>\n",
       "      <td>0.361111</td>\n",
       "      <td>0.593750</td>\n",
       "      <td>2</td>\n",
       "      <td>0.666667</td>\n",
       "      <td>36</td>\n",
       "    </tr>\n",
       "    <tr>\n",
       "      <th>GEM_RT_15</th>\n",
       "      <td>0.333333</td>\n",
       "      <td>0.600000</td>\n",
       "      <td>13</td>\n",
       "      <td>0.133333</td>\n",
       "      <td>15</td>\n",
       "    </tr>\n",
       "    <tr>\n",
       "      <th>GEM_RT_17</th>\n",
       "      <td>0.818182</td>\n",
       "      <td>0.590909</td>\n",
       "      <td>1</td>\n",
       "      <td>0.666667</td>\n",
       "      <td>11</td>\n",
       "    </tr>\n",
       "    <tr>\n",
       "      <th>GEM_RT_18</th>\n",
       "      <td>1.000000</td>\n",
       "      <td>1.000000</td>\n",
       "      <td>2</td>\n",
       "      <td>0.333333</td>\n",
       "      <td>4</td>\n",
       "    </tr>\n",
       "    <tr>\n",
       "      <th>GEM_RT_19</th>\n",
       "      <td>0.360000</td>\n",
       "      <td>0.586957</td>\n",
       "      <td>3</td>\n",
       "      <td>0.500000</td>\n",
       "      <td>25</td>\n",
       "    </tr>\n",
       "    <tr>\n",
       "      <th>GEM_RT_5</th>\n",
       "      <td>1.000000</td>\n",
       "      <td>1.000000</td>\n",
       "      <td>8</td>\n",
       "      <td>0.111111</td>\n",
       "      <td>3</td>\n",
       "    </tr>\n",
       "    <tr>\n",
       "      <th>GEM_RT_6</th>\n",
       "      <td>0.275862</td>\n",
       "      <td>0.250362</td>\n",
       "      <td>0</td>\n",
       "      <td>1.000000</td>\n",
       "      <td>116</td>\n",
       "    </tr>\n",
       "    <tr>\n",
       "      <th>MI_MGH_0</th>\n",
       "      <td>0.594595</td>\n",
       "      <td>0.310273</td>\n",
       "      <td>24</td>\n",
       "      <td>0.384615</td>\n",
       "      <td>37</td>\n",
       "    </tr>\n",
       "    <tr>\n",
       "      <th>MI_MGH_1</th>\n",
       "      <td>0.235754</td>\n",
       "      <td>0.216931</td>\n",
       "      <td>47</td>\n",
       "      <td>0.216667</td>\n",
       "      <td>3071</td>\n",
       "    </tr>\n",
       "    <tr>\n",
       "      <th>MI_MGH_2</th>\n",
       "      <td>0.953947</td>\n",
       "      <td>0.650700</td>\n",
       "      <td>10</td>\n",
       "      <td>0.743590</td>\n",
       "      <td>152</td>\n",
       "    </tr>\n",
       "    <tr>\n",
       "      <th>MI_MGH_3</th>\n",
       "      <td>0.200000</td>\n",
       "      <td>1.000000</td>\n",
       "      <td>8</td>\n",
       "      <td>0.111111</td>\n",
       "      <td>5</td>\n",
       "    </tr>\n",
       "    <tr>\n",
       "      <th>Met_MGH_0</th>\n",
       "      <td>0.863636</td>\n",
       "      <td>0.385621</td>\n",
       "      <td>34</td>\n",
       "      <td>0.484848</td>\n",
       "      <td>22</td>\n",
       "    </tr>\n",
       "    <tr>\n",
       "      <th>Met_MGH_1</th>\n",
       "      <td>1.000000</td>\n",
       "      <td>0.121212</td>\n",
       "      <td>0</td>\n",
       "      <td>1.000000</td>\n",
       "      <td>2</td>\n",
       "    </tr>\n",
       "    <tr>\n",
       "      <th>Met_MGH_2</th>\n",
       "      <td>0.153179</td>\n",
       "      <td>0.260738</td>\n",
       "      <td>26</td>\n",
       "      <td>0.277778</td>\n",
       "      <td>346</td>\n",
       "    </tr>\n",
       "    <tr>\n",
       "      <th>Met_MGH_3</th>\n",
       "      <td>0.500000</td>\n",
       "      <td>1.000000</td>\n",
       "      <td>8</td>\n",
       "      <td>0.111111</td>\n",
       "      <td>2</td>\n",
       "    </tr>\n",
       "    <tr>\n",
       "      <th>NMI_MGH_0</th>\n",
       "      <td>1.000000</td>\n",
       "      <td>0.428571</td>\n",
       "      <td>34</td>\n",
       "      <td>0.333333</td>\n",
       "      <td>8</td>\n",
       "    </tr>\n",
       "    <tr>\n",
       "      <th>NMI_MGH_2</th>\n",
       "      <td>0.924242</td>\n",
       "      <td>0.361345</td>\n",
       "      <td>42</td>\n",
       "      <td>0.391304</td>\n",
       "      <td>66</td>\n",
       "    </tr>\n",
       "    <tr>\n",
       "      <th>NMI_MGH_3</th>\n",
       "      <td>0.358025</td>\n",
       "      <td>0.611382</td>\n",
       "      <td>12</td>\n",
       "      <td>0.428571</td>\n",
       "      <td>81</td>\n",
       "    </tr>\n",
       "    <tr>\n",
       "      <th>NMI_MGH_4</th>\n",
       "      <td>1.000000</td>\n",
       "      <td>0.604184</td>\n",
       "      <td>5</td>\n",
       "      <td>0.880952</td>\n",
       "      <td>76</td>\n",
       "    </tr>\n",
       "    <tr>\n",
       "      <th>NMI_MGH_5</th>\n",
       "      <td>0.380000</td>\n",
       "      <td>0.169014</td>\n",
       "      <td>9</td>\n",
       "      <td>0.500000</td>\n",
       "      <td>50</td>\n",
       "    </tr>\n",
       "    <tr>\n",
       "      <th>NMI_MGH_6</th>\n",
       "      <td>0.937500</td>\n",
       "      <td>0.270000</td>\n",
       "      <td>29</td>\n",
       "      <td>0.256410</td>\n",
       "      <td>16</td>\n",
       "    </tr>\n",
       "  </tbody>\n",
       "</table>\n",
       "</div>"
      ],
      "text/plain": [
       "           PercentUnique   CutRate  NumSaturatedTargets  \\\n",
       "CTR_MGH_0       0.661654  0.421433                   20   \n",
       "CTR_MGH_1       0.596014  0.715728                    7   \n",
       "CTR_MGH_2       0.897181  0.491400                   29   \n",
       "CTR_MGH_3       0.910000  0.239409                   65   \n",
       "CTR_MGH_4       0.688095  0.588179                    7   \n",
       "CTR_MGH_5       0.722689  0.774648                   20   \n",
       "CTR_MGH_6       0.546763  0.660693                   17   \n",
       "CTR_MGH_7       1.000000  0.154545                   31   \n",
       "CTR_MGH_8       0.921053  0.501458                   32   \n",
       "CTR_MGH_9       0.869565  0.656051                    6   \n",
       "CTR_RT_0        0.552632  0.332075                    9   \n",
       "CTR_RT_1        0.209464  0.236101                   16   \n",
       "GEM_RT_1        0.146766  0.209009                   26   \n",
       "GEM_RT_12       0.575758  0.401361                    0   \n",
       "GEM_RT_13       0.361111  0.593750                    2   \n",
       "GEM_RT_15       0.333333  0.600000                   13   \n",
       "GEM_RT_17       0.818182  0.590909                    1   \n",
       "GEM_RT_18       1.000000  1.000000                    2   \n",
       "GEM_RT_19       0.360000  0.586957                    3   \n",
       "GEM_RT_5        1.000000  1.000000                    8   \n",
       "GEM_RT_6        0.275862  0.250362                    0   \n",
       "MI_MGH_0        0.594595  0.310273                   24   \n",
       "MI_MGH_1        0.235754  0.216931                   47   \n",
       "MI_MGH_2        0.953947  0.650700                   10   \n",
       "MI_MGH_3        0.200000  1.000000                    8   \n",
       "Met_MGH_0       0.863636  0.385621                   34   \n",
       "Met_MGH_1       1.000000  0.121212                    0   \n",
       "Met_MGH_2       0.153179  0.260738                   26   \n",
       "Met_MGH_3       0.500000  1.000000                    8   \n",
       "NMI_MGH_0       1.000000  0.428571                   34   \n",
       "NMI_MGH_2       0.924242  0.361345                   42   \n",
       "NMI_MGH_3       0.358025  0.611382                   12   \n",
       "NMI_MGH_4       1.000000  0.604184                    5   \n",
       "NMI_MGH_5       0.380000  0.169014                    9   \n",
       "NMI_MGH_6       0.937500  0.270000                   29   \n",
       "\n",
       "           PercentUnsaturatedTargets  NumCells  \n",
       "CTR_MGH_0                   0.682540       133  \n",
       "CTR_MGH_1                   0.666667      3312  \n",
       "CTR_MGH_2                   0.516667       603  \n",
       "CTR_MGH_3                   0.398148       200  \n",
       "CTR_MGH_4                   0.611111       420  \n",
       "CTR_MGH_5                   0.444444       119  \n",
       "CTR_MGH_6                   0.291667       139  \n",
       "CTR_MGH_7                   0.643678        21  \n",
       "CTR_MGH_8                   0.372549        38  \n",
       "CTR_MGH_9                   0.750000        23  \n",
       "CTR_RT_0                    0.625000        38  \n",
       "CTR_RT_1                    0.407407      2874  \n",
       "GEM_RT_1                    0.277778       402  \n",
       "GEM_RT_12                   1.000000        66  \n",
       "GEM_RT_13                   0.666667        36  \n",
       "GEM_RT_15                   0.133333        15  \n",
       "GEM_RT_17                   0.666667        11  \n",
       "GEM_RT_18                   0.333333         4  \n",
       "GEM_RT_19                   0.500000        25  \n",
       "GEM_RT_5                    0.111111         3  \n",
       "GEM_RT_6                    1.000000       116  \n",
       "MI_MGH_0                    0.384615        37  \n",
       "MI_MGH_1                    0.216667      3071  \n",
       "MI_MGH_2                    0.743590       152  \n",
       "MI_MGH_3                    0.111111         5  \n",
       "Met_MGH_0                   0.484848        22  \n",
       "Met_MGH_1                   1.000000         2  \n",
       "Met_MGH_2                   0.277778       346  \n",
       "Met_MGH_3                   0.111111         2  \n",
       "NMI_MGH_0                   0.333333         8  \n",
       "NMI_MGH_2                   0.391304        66  \n",
       "NMI_MGH_3                   0.428571        81  \n",
       "NMI_MGH_4                   0.880952        76  \n",
       "NMI_MGH_5                   0.500000        50  \n",
       "NMI_MGH_6                   0.256410        16  "
      ]
     },
     "execution_count": 34,
     "metadata": {},
     "output_type": "execute_result"
    }
   ],
   "source": [
    "tumor_clone_statistics"
   ]
  },
  {
   "cell_type": "code",
   "execution_count": 35,
   "metadata": {},
   "outputs": [],
   "source": [
    "tumor_clone_statistics.to_csv(f\"{data_directory}/tumor_statistics.tsv\",sep='\\t',index=True,header=True)"
   ]
  },
  {
   "cell_type": "code",
   "execution_count": 36,
   "metadata": {},
   "outputs": [
    {
     "data": {
      "image/png": "[encoded data removed]",
      "text/plain": [
       "<Figure size 600x600 with 1 Axes>"
      ]
     },
     "metadata": {},
     "output_type": "display_data"
    }
   ],
   "source": [
    "NUM_CELLS_THRESH = 100\n",
    "PERCENT_UNIQUE_THRESH = 0.05\n",
    "PERCENT_UNSATURATED_TARGETS_THRESH = 0.2\n",
    "\n",
    "NT_primary_tumors = tumor_clone_statistics[tumor_clone_statistics.apply(lambda x: 'NT' in x.name and x.name.split(\"_\")[2].startswith(\"T\"), axis=1)].index\n",
    "\n",
    "NT_clone_statistics = tumor_clone_statistics.loc[NT_primary_tumors]\n",
    "\n",
    "low_qc = NT_clone_statistics[(NT_clone_statistics['PercentUnique'] <=PERCENT_UNIQUE_THRESH) |\n",
    "                                 (NT_clone_statistics['PercentUnsaturatedTargets'] <= PERCENT_UNSATURATED_TARGETS_THRESH)].index\n",
    "small = NT_clone_statistics[(NT_clone_statistics['NumCells'] < NUM_CELLS_THRESH)].index\n",
    "\n",
    "unfiltered = np.setdiff1d(NT_primary_tumors, np.union1d(low_qc, small))\n",
    "\n",
    "h = plt.figure(figsize=(6,6))\n",
    "plt.scatter(NT_clone_statistics.loc[unfiltered, 'PercentUnsaturatedTargets'], NT_clone_statistics.loc[unfiltered, 'PercentUnique'], color='black')\n",
    "plt.scatter(NT_clone_statistics.loc[low_qc, 'PercentUnsaturatedTargets'], NT_clone_statistics.loc[low_qc, 'PercentUnique'], color='red')\n",
    "plt.scatter(NT_clone_statistics.loc[small, 'PercentUnsaturatedTargets'], NT_clone_statistics.loc[small, 'PercentUnique'], color='orange')\n",
    "\n",
    "\n",
    "plt.axhline(y = PERCENT_UNIQUE_THRESH, color='red', alpha=0.5)\n",
    "plt.axvline(x = PERCENT_UNSATURATED_TARGETS_THRESH, color='red', alpha=0.5)\n",
    "plt.xlabel(\"Percent Unsaturated\")\n",
    "plt.ylabel(\"Percent Unique\")\n",
    "plt.savefig(script_dir +\"/Figure/Figure1_S1/Unsaturated.png\")"
   ]
  }
 ],
 "metadata": {
  "kernelspec": {
   "display_name": "Python 3.7.16 ('KP')",
   "language": "python",
   "name": "python3"
  },
  "language_info": {
   "codemirror_mode": {
    "name": "ipython",
    "version": 3
   },
   "file_extension": ".py",
   "mimetype": "text/x-python",
   "name": "python",
   "nbconvert_exporter": "python",
   "pygments_lexer": "ipython3",
   "version": "3.7.16"
  },
  "vscode": {
   "interpreter": {
    "hash": "4b49b3307831619600be3c3e013f2eecff95844738e15415adc183a39510ef80"
   }
  }
 },
 "nbformat": 4,
 "nbformat_minor": 4
}
