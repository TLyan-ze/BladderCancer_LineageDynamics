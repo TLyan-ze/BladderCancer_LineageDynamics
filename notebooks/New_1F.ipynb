{
 "cells": [
  {
   "cell_type": "code",
   "execution_count": 1,
   "metadata": {},
   "outputs": [],
   "source": [
    "import os\n",
    "import sys\n",
    "import ete3\n",
    "import networkx as nx\n",
    "import numba\n",
    "import numpy as np\n",
    "import pandas as pd\n",
    "import scanpy as sc\n",
    "from tqdm.auto import tqdm\n",
    "import scanpy as sc\n",
    "import seaborn as sns\n",
    "import colorcet as cc\n",
    "import matplotlib.pyplot as plt\n",
    "import matplotlib as mpl\n",
    "from ete3 import Tree\n",
    "\n",
    "sys.path.append(\"/home/DewangZhou/anaconda3/lib/python3.10/site-packages\")\n",
    "import cassiopeia\n",
    "from cassiopeia.data import utilities as data_utilities\n",
    "from cassiopeia.solver import solver_utilities\n",
    "import cassiopeia.TreeSolver.compute_meta_purity as cmp \n",
    "from cassiopeia.TreeSolver.Node import Node\n",
    "from cassiopeia.data import validate_trees as tree_val\n",
    "\n",
    "sys.path.append(\"/WorkDir3/DewangZhou/Figure 5\")\n",
    "import tree_utilities"
   ]
  },
  {
   "cell_type": "code",
   "execution_count": 2,
   "metadata": {},
   "outputs": [],
   "source": [
    "sns.set_context(\"talk\")\n",
    "sns.set_style(\"whitegrid\")"
   ]
  },
  {
   "cell_type": "code",
   "execution_count": 3,
   "metadata": {},
   "outputs": [],
   "source": [
    "adata = sc.read_h5ad(f'/WorkDir3/DewangZhou/Figure 5/scRNA4_3_11_20_2000.h5ad')\n",
    "#cm = pd.read_csv(\"/WorkDir3/DewangZhou/New_Figure 5/02_tree/NMI_MGH_4_character_matrix.txt\", sep='\\t', index_col = 0)"
   ]
  },
  {
   "cell_type": "code",
   "execution_count": 4,
   "metadata": {},
   "outputs": [],
   "source": [
    "tumor = 'NMI_MGH_4'\n",
    "\n",
    "g = tree_utilities.prepare_tumor_tree(tumor, adata,tree_dir = f'/WorkDir4/yanzeqin/220823_A00403_0863_AHMNGLDSX3/Script/AP-data/allele_0625/02_tree',\n",
    "                                           FILTER_PROP=0.025,\n",
    "                                            column='leiden_sub')"
   ]
  },
  {
   "cell_type": "code",
   "execution_count": 5,
   "metadata": {},
   "outputs": [
    {
     "data": {
      "application/vnd.jupyter.widget-view+json": {
       "model_id": "44917f0e218d4cc6b99c17950002871b",
       "version_major": 2,
       "version_minor": 0
      },
      "text/plain": [
       "Creating pairs to compare:   0%|          | 0/274 [00:00<?, ?it/s]"
      ]
     },
     "metadata": {},
     "output_type": "display_data"
    },
    {
     "name": "stdout",
     "output_type": "stream",
     "text": [
      "Finding LCAs for all pairs...\n",
      "Computing pairwise distances...\n"
     ]
    }
   ],
   "source": [
    "#phylogenetic_distance_matrix, all_pairs, edit_distance_matrix, diam, n_targets = tree_utilities.compute_pairwise_dist_nx(graph)"
   ]
  },
  {
   "cell_type": "code",
   "execution_count": 5,
   "metadata": {},
   "outputs": [],
   "source": [
    "@numba.jit(nopython=True)\n",
    "def get_modified_edit_distance(s1: np.array, s2: np.array, missing_state=-1):\n",
    "\td = 0\n",
    "\tfor i in range(len(s1)):\n",
    "\t\tif s1[i] != s2[i]:\n",
    "\t\t\tif s1[i] == missing_state or s2[i] == missing_state:\n",
    "\t\t\t\td += 1\n",
    "\t\t\t\tif s1[i] == 0 or s2[i] == 0:\n",
    "\t\t\t\t\td += 1\n",
    "\t\t\t\telse:\n",
    "\t\t\t\t\td += 2\n",
    "\n",
    "\t\t\t\t\treturn d"
   ]
  },
  {
   "cell_type": "code",
   "execution_count": 6,
   "metadata": {},
   "outputs": [
    {
     "name": "stderr",
     "output_type": "stream",
     "text": [
      "Creating pairs to compare: 100%|██████████| 274/274 [00:00<00:00, 44059.17it/s]\n"
     ]
    },
    {
     "name": "stdout",
     "output_type": "stream",
     "text": [
      "Finding LCAs for all pairs...\n",
      "Computing pairwise distances...\n"
     ]
    },
    {
     "ename": "AttributeError",
     "evalue": "'str' object has no attribute 'get_modified_edit_distance'",
     "output_type": "error",
     "traceback": [
      "\u001b[0;31m---------------------------------------------------------------------------\u001b[0m",
      "\u001b[0;31mAttributeError\u001b[0m                            Traceback (most recent call last)",
      "Cell \u001b[0;32mIn[6], line 1\u001b[0m\n\u001b[0;32m----> 1\u001b[0m tree_dists, edit_dists, all_pairs, diam, n_targets \u001b[38;5;241m=\u001b[39m \u001b[43mtree_val\u001b[49m\u001b[38;5;241;43m.\u001b[39;49m\u001b[43mcompute_pairwise_dist_nx\u001b[49m\u001b[43m(\u001b[49m\u001b[43mg\u001b[49m\u001b[43m)\u001b[49m\n",
      "File \u001b[0;32m~/anaconda3/lib/python3.10/site-packages/cassiopeia/data/validate_trees.py:332\u001b[0m, in \u001b[0;36mcompute_pairwise_dist_nx\u001b[0;34m(g, compare_method, pair_names, meta_item, subset, verbose)\u001b[0m\n\u001b[1;32m    329\u001b[0m \t\tdC \u001b[38;5;241m=\u001b[39m DIST_TO_ROOT[mrca]\n\u001b[1;32m    331\u001b[0m \t\ttree_dist\u001b[38;5;241m.\u001b[39mappend(dA \u001b[38;5;241m+\u001b[39m dB \u001b[38;5;241m-\u001b[39m \u001b[38;5;241m2\u001b[39m \u001b[38;5;241m*\u001b[39m dC)\n\u001b[0;32m--> 332\u001b[0m \t\tedit_dist\u001b[38;5;241m.\u001b[39mappend(\u001b[43mn_pair\u001b[49m\u001b[43m[\u001b[49m\u001b[38;5;241;43m0\u001b[39;49m\u001b[43m]\u001b[49m\u001b[38;5;241;43m.\u001b[39;49m\u001b[43mget_modified_edit_distance\u001b[49m(n_pair[\u001b[38;5;241m1\u001b[39m]))\n\u001b[1;32m    333\u001b[0m \t\t\u001b[38;5;66;03m#edit_dist.append(get_modified_edit_distance(\u001b[39;00m\n\u001b[1;32m    334\u001b[0m             \u001b[38;5;66;03m#np.array(g.nodes[l1][\"character_states\"]),\u001b[39;00m\n\u001b[1;32m    335\u001b[0m             \u001b[38;5;66;03m#np.array(g.nodes[l2][\"character_states\"])))\u001b[39;00m\n\u001b[0;32m   (...)\u001b[0m\n\u001b[1;32m    338\u001b[0m             \u001b[38;5;66;03m#np.array(g.nodes[l1]),\u001b[39;00m\n\u001b[1;32m    339\u001b[0m             \u001b[38;5;66;03m#np.array(g.nodes[l2]))\u001b[39;00m\n\u001b[1;32m    341\u001b[0m \tdiam \u001b[38;5;241m=\u001b[39m np\u001b[38;5;241m.\u001b[39mmax(tree_dist)\n",
      "\u001b[0;31mAttributeError\u001b[0m: 'str' object has no attribute 'get_modified_edit_distance'"
     ]
    }
   ],
   "source": [
    "tree_dists, edit_dists, all_pairs, diam, n_targets = tree_val.compute_pairwise_dist_nx(g)"
   ]
  },
  {
   "cell_type": "code",
   "execution_count": 11,
   "metadata": {},
   "outputs": [
    {
     "ename": "NameError",
     "evalue": "name 'tree_dists' is not defined",
     "output_type": "error",
     "traceback": [
      "\u001b[0;31m---------------------------------------------------------------------------\u001b[0m",
      "\u001b[0;31mNameError\u001b[0m                                 Traceback (most recent call last)",
      "Cell \u001b[0;32mIn[11], line 1\u001b[0m\n\u001b[0;32m----> 1\u001b[0m tree_val\u001b[38;5;241m.\u001b[39mdist_plotter(\u001b[43mtree_dists\u001b[49m, edit_dists\u001b[38;5;241m/\u001b[39m(\u001b[38;5;241m2\u001b[39m\u001b[38;5;241m*\u001b[39mn_targets), \u001b[38;5;124m'\u001b[39m\u001b[38;5;124m2D-Hist\u001b[39m\u001b[38;5;124m'\u001b[39m, diam\u001b[38;5;241m=\u001b[39mdiam, n_targets \u001b[38;5;241m=\u001b[39m n_targets)\n",
      "\u001b[0;31mNameError\u001b[0m: name 'tree_dists' is not defined"
     ]
    }
   ],
   "source": [
    "tree_val.dist_plotter(tree_dists, edit_dists/(2*n_targets), '2D-Hist', diam=diam, n_targets = n_targets)"
   ]
  }
 ],
 "metadata": {
  "kernelspec": {
   "display_name": "Python 3.10.9 ('base')",
   "language": "python",
   "name": "python3"
  },
  "language_info": {
   "codemirror_mode": {
    "name": "ipython",
    "version": 3
   },
   "file_extension": ".py",
   "mimetype": "text/x-python",
   "name": "python",
   "nbconvert_exporter": "python",
   "pygments_lexer": "ipython3",
   "version": "3.10.13"
  },
  "vscode": {
   "interpreter": {
    "hash": "7cd98d75e08bc1020502b6fdfb8944615ced1dafbf61db6888d89e6b6bff8313"
   }
  }
 },
 "nbformat": 4,
 "nbformat_minor": 2
}
